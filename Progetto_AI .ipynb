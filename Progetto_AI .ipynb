{
  "nbformat": 4,
  "nbformat_minor": 0,
  "metadata": {
    "colab": {
      "provenance": []
    },
    "kernelspec": {
      "name": "python3",
      "display_name": "Python 3"
    },
    "language_info": {
      "name": "python"
    }
  },
  "cells": [
    {
      "cell_type": "markdown",
      "source": [
        "We import all the packages we need for this project"
      ],
      "metadata": {
        "id": "VcQt0uDsY7dm"
      }
    },
    {
      "cell_type": "code",
      "execution_count": null,
      "metadata": {
        "id": "_qMzmyZhPcrH"
      },
      "outputs": [],
      "source": [
        "import random\n",
        "import matplotlib.pyplot as plt\n",
        "import numpy as np \n",
        "import csv \n",
        "import pandas as pd\n",
        "import seaborn as sns\n",
        "import warnings\n",
        "\n",
        "from numpy.core.fromnumeric import mean\n",
        "from sklearn.compose import ColumnTransformer\n",
        "from sklearn.model_selection import train_test_split, cross_val_score\n",
        "from sklearn.preprocessing import PolynomialFeatures\n",
        "from sklearn.linear_model import LinearRegression\n",
        "from sklearn.preprocessing import RobustScaler\n",
        "from sklearn.metrics import mean_squared_error\n",
        "from sklearn.pipeline import make_pipeline\n",
        "from sklearn.model_selection import GridSearchCV\n",
        "from sklearn.svm import SVR\n",
        "\n",
        "# imports for feed-forward neural network\n",
        "import keras\n",
        "from keras.wrappers.scikit_learn import KerasRegressor\n",
        "from keras.models import Sequential\n",
        "from keras.layers import Dense\n",
        "from keras import backend as K\n"
      ]
    },
    {
      "cell_type": "markdown",
      "source": [
        "# Explanatory Data Analysis"
      ],
      "metadata": {
        "id": "0l2-dB8Xlr04"
      }
    },
    {
      "cell_type": "markdown",
      "source": [
        "After reading the file containing the Dataset we analyze rows and columns. Then we create an heatmap that shows us if there are any NULL values(0 in this case).\n",
        "Then we check the type of variables we are dealing with.\n",
        "We isolate a feature called \"tokens_title\" to create a boxplot that shows the behaviour of the outliers. \n",
        "We define then the 1st(0.10) and 3rd(0.90) quantile to remove the outliers and finally split our Dataset."
      ],
      "metadata": {
        "id": "bvmUeMrUZKAK"
      }
    },
    {
      "cell_type": "markdown",
      "source": [
        "## General structure"
      ],
      "metadata": {
        "id": "LJ6RlLkJt1g8"
      }
    },
    {
      "cell_type": "code",
      "source": [
        "# read input CSV\n",
        "df_raw = pd.read_csv('social_media_shares.csv')"
      ],
      "metadata": {
        "id": "o-NmWZdcQkkL"
      },
      "execution_count": null,
      "outputs": []
    },
    {
      "cell_type": "code",
      "source": [
        "# analyze number of (rows, column)\n",
        "df_raw.shape"
      ],
      "metadata": {
        "colab": {
          "base_uri": "https://localhost:8080/"
        },
        "id": "J16GkuEqQpr9",
        "outputId": "632ed92c-4098-4b61-a630-33b18b93c676"
      },
      "execution_count": null,
      "outputs": [
        {
          "output_type": "execute_result",
          "data": {
            "text/plain": [
              "(39644, 59)"
            ]
          },
          "metadata": {},
          "execution_count": 7
        }
      ]
    },
    {
      "cell_type": "code",
      "source": [
        "# analyze names of columns\n",
        "df_raw.columns"
      ],
      "metadata": {
        "colab": {
          "base_uri": "https://localhost:8080/"
        },
        "id": "VwGPCIYRt3Mx",
        "outputId": "c20ec4bb-e8f4-4ba3-d34c-e9dfd89ce82d"
      },
      "execution_count": null,
      "outputs": [
        {
          "output_type": "execute_result",
          "data": {
            "text/plain": [
              "Index(['tokens_title', 'tokens_content', 'unique_tokens', 'non_stop_words',\n",
              "       'non_stop_unique_tokens', 'hrefs', 'self_refs', 'imgs', 'videos',\n",
              "       'token_length', 'keywords', 'lifestyle', 'entertainment', 'bus',\n",
              "       'socmed', 'tech', 'world', 'kw_min_min', 'kw_max_min', 'kw_avg_min',\n",
              "       'kw_min_max', 'kw_max_max', 'kw_avg_max', 'kw_min_avg', 'kw_max_avg',\n",
              "       'kw_avg_avg', 'self_reference_min_shares', 'self_reference_max_shares',\n",
              "       'self_reference_avg_shares', 'monday', 'tuesday', 'wednesday',\n",
              "       'thursday', 'friday', 'saturday', 'sunday', 'is_weekend', 'LDA_00',\n",
              "       'LDA_01', 'LDA_02', 'LDA_03', 'LDA_04', 'subjectivity',\n",
              "       'sentiment_polarity', 'global_rate_positive_words',\n",
              "       'global_rate_negative_words', 'rate_positive_words',\n",
              "       'rate_negative_words', 'avg_positive_polarity', 'min_positive_polarity',\n",
              "       'max_positive_polarity', 'avg_negative_polarity',\n",
              "       'min_negative_polarity', 'max_negative_polarity', 'title_subjectivity',\n",
              "       'title_sentiment_polarity', 'abs_title_subjectivity',\n",
              "       'abs_title_sentiment_polarity', 'shares'],\n",
              "      dtype='object')"
            ]
          },
          "metadata": {},
          "execution_count": 8
        }
      ]
    },
    {
      "cell_type": "markdown",
      "source": [
        "## Presence of null values"
      ],
      "metadata": {
        "id": "V8cFb_3OoHzw"
      }
    },
    {
      "cell_type": "code",
      "source": [
        "# analyze null values with heatmap: null value will be shown as white dots\n",
        "sns.heatmap(df_raw.isnull(), cbar=False) # NOTE: no null values"
      ],
      "metadata": {
        "colab": {
          "base_uri": "https://localhost:8080/",
          "height": 412
        },
        "id": "xjnaiVzyQtF-",
        "outputId": "0d3c4590-c9c4-4fd1-b208-cb586049542d"
      },
      "execution_count": null,
      "outputs": [
        {
          "output_type": "execute_result",
          "data": {
            "text/plain": [
              "<matplotlib.axes._subplots.AxesSubplot at 0x7f3313318550>"
            ]
          },
          "metadata": {},
          "execution_count": 9
        },
        {
          "output_type": "display_data",
          "data": {
            "text/plain": [
              "<Figure size 432x288 with 1 Axes>"
            ],
            "image/png": "[encoded data removed]"
          },
          "metadata": {
            "needs_background": "light"
          }
        }
      ]
    },
    {
      "cell_type": "code",
      "source": [
        "# sum all null values\n",
        "df_raw.isnull().sum().sum()"
      ],
      "metadata": {
        "colab": {
          "base_uri": "https://localhost:8080/"
        },
        "id": "uSBDJMyDQxRp",
        "outputId": "4f5426a1-f4df-403f-ae11-0e61d1ce8839"
      },
      "execution_count": null,
      "outputs": [
        {
          "output_type": "execute_result",
          "data": {
            "text/plain": [
              "0"
            ]
          },
          "metadata": {},
          "execution_count": 10
        }
      ]
    },
    {
      "cell_type": "markdown",
      "source": [
        "\n",
        "## Types of features\n"
      ],
      "metadata": {
        "id": "h69ldOyEoGy7"
      }
    },
    {
      "cell_type": "code",
      "source": [
        "# print types of variables. \n",
        "# As we can see, we do not have categorial variables, and all variables are numerical\n",
        "df_raw.dtypes.astype(str).value_counts()"
      ],
      "metadata": {
        "colab": {
          "base_uri": "https://localhost:8080/"
        },
        "id": "wCeR54Z5onHt",
        "outputId": "4c8b3f4a-98e1-4778-b2d9-c30ce59ed566"
      },
      "execution_count": null,
      "outputs": [
        {
          "output_type": "execute_result",
          "data": {
            "text/plain": [
              "float64    34\n",
              "int64      25\n",
              "dtype: int64"
            ]
          },
          "metadata": {},
          "execution_count": 11
        }
      ]
    },
    {
      "cell_type": "markdown",
      "source": [
        "## Outliers"
      ],
      "metadata": {
        "id": "WuWjnAfYpc9E"
      }
    },
    {
      "cell_type": "code",
      "source": [
        "#BoxPlot\n",
        "def plot_boxplot(df_raw, columns):\n",
        "  df_raw.boxplot(column=columns)\n",
        "  plt.grid(False)\n",
        "  plt.show()"
      ],
      "metadata": {
        "id": "3Phytdo4rFGC"
      },
      "execution_count": null,
      "outputs": []
    },
    {
      "cell_type": "code",
      "source": [
        "plot_boxplot(df_raw, [\"tokens_title\"])"
      ],
      "metadata": {
        "colab": {
          "base_uri": "https://localhost:8080/",
          "height": 266
        },
        "id": "SmIpyUBAt8Qd",
        "outputId": "6ccb3282-dc69-44c9-9977-bfa618408784"
      },
      "execution_count": null,
      "outputs": [
        {
          "output_type": "display_data",
          "data": {
            "text/plain": [
              "<Figure size 432x288 with 1 Axes>"
            ],
            "image/png": "[encoded data removed]"
          },
          "metadata": {
            "needs_background": "light"
          }
        }
      ]
    },
    {
      "cell_type": "markdown",
      "source": [
        "# Pre-Processing"
      ],
      "metadata": {
        "id": "jIyJEyZWmPAf"
      }
    },
    {
      "cell_type": "code",
      "source": [
        "# removing null values\n",
        "df_raw.dropna(inplace = True)"
      ],
      "metadata": {
        "id": "e8XYrmqRRG3e"
      },
      "execution_count": null,
      "outputs": []
    },
    {
      "cell_type": "code",
      "source": [
        "def outliers(df_raw, ft):\n",
        "  Q1 = df_raw[ft].quantile(0.10)\n",
        "  Q3 = df_raw[ft].quantile(0.90)\n",
        "  IQR = Q3 - Q1\n",
        "\n",
        "  lower_bound = Q1 - 1.5 * IQR\n",
        "  upper_bound = Q3 + 1.5 * IQR\n",
        "\n",
        "  ls= df_raw.index[(df_raw[ft] < lower_bound) | (df_raw[ft] > upper_bound) ]\n",
        "  return ls"
      ],
      "metadata": {
        "id": "5PUO9Xj5RuRV"
      },
      "execution_count": null,
      "outputs": []
    },
    {
      "cell_type": "code",
      "source": [
        "# create a list of index to drop because they contain outliers\n",
        "#\n",
        "# NOTE: possible different approach would be to swap the outlier with the mean value of the given column.\n",
        "# Remove all the features with 0 1 values\n",
        "\n",
        "index_list = []\n",
        "skip_features = ['shares','unique_tokens','non_stop_words','non_stop_unique_tokens','lifestyle','entertainment','bus','socmed','tech','world','monday','tuesday','wednesday','thursday','friday','saturday','sunday','is_weekend']\n",
        "for feature in df_raw.columns:\n",
        "  if feature not in skip_features:\n",
        "    index_list.extend(outliers(df_raw, feature))\n",
        "print(index_list)"
      ],
      "metadata": {
        "id": "-XgrdUAwR6qu",
        "colab": {
          "base_uri": "https://localhost:8080/"
        },
        "outputId": "671b0ceb-f3ca-4eb5-8b16-eb8d9785c71e"
      },
      "execution_count": null,
      "outputs": [
        {
          "output_type": "stream",
          "name": "stdout",
          "text": [
            "[39124, 1138, 1344, 1610, 1614, 1658, 1671, 1721, 1757, 1853, 2100, 2181, 2409, 2416, 2796, 2997, 3233, 3269, 3969, 4272, 4781, 5028, 5109, 5209, 5295, 5536, 5767, 5840, 5978, 6297, 7352, 8188, 8268, 8474, 8565, 8881, 8894, 9117, 9179, 9262, 9281, 9761, 9853, 9900, 10713, 11024, 11043, 11049, 11810, 11939, 12037, 12269, 12528, 12642, 12667, 12994, 13334, 13354, 13380, 13388, 13535, 13588, 13770, 13836, 13886, 13887, 13941, 14023, 14024, 14120, 14201, 14279, 14661, 14695, 14792, 14879, 14892, 14924, 14973, 15091, 15101, 15146, 15281, 15323, 15325, 15332, 15392, 15745, 15748, 15759, 15804, 16238, 16435, 16533, 16989, 17060, 17082, 17857, 17891, 17945, 18312, 18443, 18479, 18702, 18704, 18739, 18748, 19194, 19196, 19349, 19464, 19513, 19576, 19677, 19745, 19853, 20064, 20071, 20159, 20657, 20773, 20797, 20877, 20998, 21249, 21283, 21303, 21433, 21458, 21483, 21595, 21616, 21819, 21852, 21946, 21963, 22305, 22375, 22398, 22423, 22514, 22520, 22642, 22697, 22746, 22842, 23013, 23078, 23180, 23181, 23232, 23237, 23255, 23468, 23518, 23765, 23834, 24178, 24440, 24564, 24612, 24705, 24802, 24844, 24911, 24964, 24973, 25203, 25306, 25473, 25784, 25787, 25788, 25878, 25903, 25980, 26010, 26238, 26363, 26400, 26468, 26490, 26506, 26664, 26822, 26833, 26912, 26950, 26984, 27101, 27203, 27290, 27475, 27665, 27936, 28302, 28367, 28570, 28596, 28781, 29107, 29122, 29188, 29233, 29244, 29262, 29335, 29350, 29357, 29476, 29490, 29539, 29794, 30104, 30187, 30903, 31171, 31183, 31282, 31331, 31524, 31901, 31906, 31923, 32056, 32220, 32309, 32414, 32523, 32718, 33337, 33537, 33543, 33560, 33637, 33653, 33683, 33926, 34007, 34180, 34488, 34855, 35079, 35523, 35544, 35706, 35760, 36013, 36257, 36303, 36531, 36902, 37112, 37116, 37558, 37771, 37819, 38311, 38625, 38638, 38691, 38820, 39636, 893, 917, 1062, 1121, 1312, 1336, 1352, 1454, 1485, 1574, 1593, 1653, 1726, 1741, 1743, 1822, 1924, 1985, 2014, 2132, 2254, 2304, 2386, 2562, 2771, 2922, 2933, 3143, 3337, 3704, 3758, 3880, 3914, 4059, 4274, 4344, 4550, 4617, 4709, 4817, 4978, 5131, 5497, 5868, 6019, 6349, 6350, 6556, 6617, 6625, 6720, 6844, 6880, 7004, 7157, 7242, 7417, 7596, 7696, 7742, 7747, 7763, 7876, 7907, 8088, 8153, 8184, 8277, 8371, 8427, 8465, 8824, 9159, 9206, 9491, 9496, 9701, 9867, 10049, 10127, 10229, 10348, 10592, 10602, 10937, 10954, 11224, 11271, 11636, 11645, 11654, 11704, 12001, 12011, 12229, 12282, 12287, 12344, 12357, 12360, 12485, 12576, 12628, 12681, 12942, 12983, 13757, 13811, 14434, 14580, 15166, 15185, 16266, 16340, 16367, 16698, 16782, 16791, 16997, 17152, 17161, 17537, 17816, 17878, 18168, 18293, 18715, 18811, 19061, 19115, 19122, 19137, 19177, 19195, 19259, 19505, 19551, 19572, 19641, 19671, 19729, 19931, 20001, 20068, 20081, 20144, 20151, 20181, 20194, 20198, 20273, 20330, 20350, 20373, 20378, 20380, 20384, 20390, 20412, 20484, 20518, 20620, 20630, 20683, 20695, 20700, 20758, 20777, 20825, 20859, 20868, 20899, 20902, 21027, 21074, 21084, 21091, 21092, 21253, 21330, 21352, 21372, 21411, 21471, 21527, 21538, 21569, 21602, 21633, 21663, 21686, 21706, 21829, 21910, 21918, 21921, 21953, 22006, 22015, 22080, 22146, 22162, 22236, 22246, 22262, 22302, 22413, 22513, 22583, 22591, 22636, 22639, 22684, 22714, 22873, 23012, 23044, 23054, 23101, 23109, 23168, 23202, 23382, 23429, 23430, 23452, 23491, 23529, 23567, 23608, 23629, 23643, 23717, 23749, 23800, 23828, 23836, 23854, 23925, 23969, 23971, 24054, 24067, 24216, 24295, 24331, 24453, 24491, 24506, 24602, 24661, 24681, 24683, 24822, 24885, 24939, 24988, 25051, 25269, 25340, 25513, 25643, 25796, 25898, 26038, 26052, 26124, 26130, 26311, 26326, 26390, 26418, 26448, 26453, 26746, 26905, 26911, 27022, 27036, 27040, 27257, 27308, 27361, 27452, 27462, 27477, 27578, 27726, 27780, 27854, 27855, 27859, 27876, 27997, 28044, 28075, 28111, 28235, 28270, 28284, 28308, 28339, 28553, 28611, 28649, 28664, 28733, 28802, 28818, 28852, 28915, 28999, 29001, 29060, 29101, 29108, 29141, 29159, 29181, 29272, 29279, 29308, 29313, 29323, 29325, 29365, 29414, 29435, 29472, 29477, 29514, 29515, 29521, 29550, 29552, 29561, 29601, 29630, 29632, 29674, 29729, 29773, 29780, 29793, 29820, 29823, 29832, 29852, 29865, 29866, 29879, 29904, 29920, 29924, 29946, 29988, 30164, 30194, 30312, 30340, 30356, 30365, 30374, 30403, 30404, 30442, 30444, 30447, 30456, 30461, 30473, 30489, 30500, 30501, 30503, 30568, 30571, 30581, 30588, 30596, 30615, 30621, 30624, 30638, 30644, 30647, 30650, 30701, 30703, 30707, 30724, 30732, 30743, 30744, 30755, 30756, 30758, 30765, 30826, 30846, 30863, 30894, 30916, 30924, 30955, 30967, 30988, 31004, 31012, 31024, 31027, 31029, 31037, 31039, 31057, 31089, 31098, 31102, 31123, 31133, 31134, 31144, 31150, 31159, 31173, 31191, 31193, 31201, 31204, 31212, 31220, 31233, 31239, 31251, 31269, 31284, 31322, 31346, 31347, 31449, 31470, 31481, 31485, 31489, 31493, 31502, 31519, 31555, 31567, 31569, 31585, 31606, 31624, 31630, 31651, 31680, 31701, 31724, 31751, 31754, 31755, 31798, 31801, 31816, 31927, 31929, 31936, 31951, 31961, 31985, 31996, 32025, 32031, 32033, 32076, 32120, 32129, 32132, 32135, 32143, 32156, 32158, 32178, 32224, 32263, 32264, 32277, 32295, 32305, 32326, 32329, 32376, 32402, 32422, 32427, 32428, 32431, 32444, 32460, 32472, 32491, 32504, 32509, 32530, 32535, 32537, 32545, 32555, 32563, 32564, 32591, 32595, 32601, 32613, 32619, 32641, 32643, 32651, 32665, 32720, 32739, 32745, 32756, 32768, 32769, 32774, 32800, 32812, 32818, 32824, 32833, 32863, 32871, 32882, 32886, 32895, 32913, 32914, 32937, 32946, 32976, 32979, 32980, 33011, 33027, 33030, 33042, 33053, 33055, 33066, 33102, 33120, 33133, 33155, 33180, 33187, 33194, 33229, 33244, 33246, 33252, 33257, 33258, 33265, 33277, 33290, 33318, 33335, 33342, 33346, 33350, 33358, 33361, 33366, 33373, 33384, 33399, 33416, 33417, 33420, 33445, 33455, 33460, 33466, 33472, 33485, 33517, 33546, 33555, 33585, 33588, 33609, 33613, 33619, 33626, 33635, 33661, 33662, 33673, 33680, 33690, 33692, 33695, 33702, 33717, 33719, 33726, 33728, 33753, 33771, 33774, 33777, 33789, 33790, 33791, 33800, 33806, 33816, 33825, 33839, 33849, 33856, 33867, 33874, 33881, 33897, 33903, 33910, 33920, 33937, 33947, 33948, 33962, 33972, 33977, 33981, 33987, 34011, 34013, 34020, 34035, 34036, 34039, 34041, 34042, 34058, 34071, 34079, 34083, 34085, 34087, 34096, 34106, 34114, 34117, 34119, 34120, 34131, 34140, 34145, 34161, 34203, 34236, 34253, 34254, 34256, 34259, 34263, 34265, 34311, 34331, 34346, 34353, 34358, 34360, 34373, 34374, 34397, 34423, 34424, 34465, 34475, 34514, 34528, 34543, 34547, 34551, 34564, 34570, 34602, 34619, 34622, 34624, 34628, 34642, 34646, 34665, 34678, 34686, 34689, 34713, 34716, 34735, 34736, 34738, 34752, 34758, 34766, 34773, 34792, 34794, 34798, 34838, 34860, 34863, 34870, 34895, 34903, 34904, 34917, 34930, 34931, 35006, 35009, 35018, 35027, 35031, 35038, 35045, 35049, 35059, 35069, 35070, 35082, 35087, 35100, 35111, 35112, 35126, 35151, 35153, 35166, 35185, 35195, 35196, 35202, 35205, 35207, 35251, 35268, 35275, 35283, 35294, 35306, 35308, 35310, 35325, 35353, 35367, 35374, 35408, 35411, 35445, 35453, 35456, 35458, 35469, 35474, 35488, 35491, 35495, 35510, 35514, 35515, 35520, 35532, 35555, 35571, 35576, 35577, 35584, 35591, 35606, 35607, 35617, 35620, 35624, 35628, 35640, 35641, 35674, 35682, 35703, 35704, 35711, 35715, 35724, 35739, 35745, 35747, 35761, 35779, 35783, 35793, 35800, 35801, 35828, 35829, 35863, 35865, 35868, 35874, 35899, 35910, 35942, 35954, 36002, 36028, 36042, 36053, 36078, 36080, 36084, 36099, 36107, 36115, 36117, 36120, 36126, 36134, 36137, 36180, 36191, 36193, 36194, 36205, 36214, 36215, 36217, 36225, 36230, 36238, 36244, 36250, 36260, 36272, 36289, 36290, 36293, 36295, 36298, 36318, 36326, 36330, 36331, 36332, 36341, 36345, 36357, 36359, 36368, 36378, 36380, 36390, 36391, 36409, 36415, 36435, 36436, 36441, 36452, 36463, 36481, 36490, 36511, 36521, 36536, 36569, 36608, 36611, 36624, 36643, 36644, 36645, 36650, 36659, 36664, 36665, 36667, 36670, 36687, 36693, 36695, 36696, 36710, 36744, 36752, 36756, 36764, 36788, 36796, 36816, 36822, 36823, 36837, 36849, 36857, 36869, 36871, 36880, 36892, 36984, 36990, 36995, 37002, 37009, 37025, 37028, 37029, 37050, 37051, 37058, 37064, 37065, 37068, 37069, 37075, 37085, 37118, 37136, 37162, 37173, 37187, 37189, 37241, 37243, 37269, 37274, 37281, 37293, 37308, 37310, 37311, 37328, 37331, 37344, 37357, 37362, 37363, 37365, 37368, 37369, 37379, 37396, 37417, 37418, 37454, 37455, 37462, 37477, 37481, 37484, 37485, 37487, 37496, 37519, 37521, 37562, 37565, 37575, 37576, 37577, 37581, 37582, 37590, 37592, 37611, 37632, 37645, 37652, 37655, 37656, 37663, 37688, 37718, 37724, 37729, 37774, 37782, 37796, 37802, 37806, 37809, 37812, 37817, 37830, 37841, 37847, 37873, 37879, 37890, 37893, 37896, 37904, 37908, 37909, 37925, 37933, 37938, 37947, 37988, 37997, 38012, 38020, 38021, 38041, 38044, 38046, 38054, 38090, 38091, 38103, 38111, 38116, 38127, 38130, 38140, 38141, 38147, 38159, 38180, 38189, 38204, 38216, 38221, 38234, 38245, 38252, 38260, 38266, 38281, 38294, 38300, 38319, 38322, 38329, 38333, 38337, 38347, 38364, 38373, 38379, 38396, 38419, 38428, 38437, 38464, 38494, 38517, 38519, 38520, 38525, 38532, 38534, 38543, 38550, 38569, 38581, 38594, 38606, 38617, 38627, 38628, 38637, 38641, 38654, 38671, 38672, 38687, 38688, 38690, 38716, 38735, 38745, 38746, 38755, 38782, 38797, 38801, 38816, 38825, 38829, 38832, 38837, 38839, 38849, 38864, 38882, 38885, 38892, 38903, 38932, 38939, 38941, 38957, 38962, 38969, 38972, 38977, 39000, 39005, 39017, 39038, 39040, 39044, 39046, 39067, 39083, 39086, 39101, 39113, 39120, 39127, 39133, 39153, 39161, 39169, 39221, 39228, 39229, 39239, 39241, 39246, 39248, 39251, 39252, 39264, 39265, 39266, 39268, 39283, 39294, 39301, 39304, 39312, 39316, 39318, 39322, 39328, 39357, 39362, 39372, 39374, 39394, 39401, 39403, 39418, 39422, 39426, 39428, 39434, 39437, 39452, 39474, 39477, 39489, 39495, 39500, 39502, 39504, 39506, 39513, 39515, 39538, 39541, 39569, 39584, 39598, 39601, 39613, 39615, 39616, 638, 740, 893, 917, 1062, 1121, 1140, 1307, 1312, 1336, 1352, 1454, 1485, 1560, 1574, 1593, 1649, 1653, 1722, 1726, 1741, 1743, 1815, 1822, 1924, 1985, 1990, 2002, 2014, 2132, 2219, 2222, 2254, 2281, 2304, 2308, 2341, 2345, 2386, 2399, 2424, 2562, 2636, 2646, 2683, 2765, 2771, 2794, 2835, 2878, 2884, 2922, 2933, 3085, 3110, 3143, 3165, 3211, 3278, 3337, 3500, 3532, 3546, 3551, 3704, 3758, 3775, 3871, 3880, 3914, 3960, 4059, 4274, 4344, 4364, 4465, 4479, 4488, 4550, 4617, 4679, 4709, 4817, 4978, 5006, 5118, 5128, 5131, 5236, 5292, 5303, 5497, 5549, 5669, 5687, 5868, 6019, 6037, 6056, 6349, 6350, 6356, 6556, 6582, 6617, 6625, 6673, 6720, 6844, 6880, 7004, 7087, 7157, 7242, 7417, 7453, 7486, 7514, 7596, 7696, 7727, 7742, 7747, 7763, 7876, 7907, 7983, 8088, 8096, 8153, 8184, 8277, 8371, 8427, 8465, 8824, 9159, 9206, 9491, 9496, 9701, 9867, 10049, 10127, 10229, 10348, 10592, 10602, 10890, 10937, 10954, 11224, 11271, 11300, 11521, 11636, 11645, 11654, 11704, 12001, 12011, 12018, 12229, 12282, 12287, 12344, 12357, 12360, 12485, 12576, 12628, 12681, 12683, 12942, 12983, 13386, 13413, 13757, 13811, 14434, 14580, 14799, 15166, 15185, 16266, 16340, 16367, 16698, 16782, 16791, 16997, 17152, 17161, 17537, 17816, 17878, 18168, 18293, 18686, 18715, 18811, 19061, 19115, 19122, 19137, 19177, 19195, 19259, 19505, 19551, 19572, 19641, 19671, 19729, 19766, 19931, 20001, 20068, 20081, 20144, 20151, 20181, 20194, 20198, 20273, 20330, 20350, 20373, 20378, 20380, 20384, 20390, 20412, 20428, 20484, 20518, 20620, 20630, 20683, 20695, 20700, 20758, 20777, 20825, 20859, 20868, 20899, 20902, 20927, 21027, 21074, 21084, 21091, 21092, 21253, 21330, 21352, 21372, 21411, 21471, 21527, 21538, 21559, 21569, 21602, 21633, 21663, 21686, 21706, 21735, 21829, 21910, 21918, 21921, 21953, 22006, 22015, 22080, 22146, 22162, 22236, 22246, 22262, 22302, 22318, 22413, 22513, 22583, 22591, 22636, 22639, 22684, 22714, 22825, 22873, 23012, 23044, 23054, 23101, 23109, 23168, 23202, 23372, 23382, 23429, 23430, 23452, 23491, 23529, 23557, 23567, 23608, 23629, 23643, 23717, 23749, 23800, 23828, 23836, 23854, 23925, 23969, 23971, 24054, 24067, 24072, 24084, 24155, 24216, 24295, 24331, 24453, 24491, 24506, 24602, 24618, 24619, 24661, 24681, 24683, 24822, 24885, 24939, 24988, 25051, 25121, 25269, 25328, 25340, 25476, 25503, 25513, 25643, 25657, 25746, 25796, 25890, 25898, 25976, 26038, 26052, 26055, 26079, 26124, 26130, 26208, 26311, 26326, 26377, 26390, 26418, 26448, 26453, 26472, 26473, 26616, 26623, 26693, 26746, 26771, 26859, 26887, 26905, 26911, 26928, 27022, 27036, 27040, 27061, 27064, 27154, 27257, 27270, 27308, 27333, 27361, 27430, 27452, 27462, 27477, 27578, 27661, 27726, 27753, 27780, 27786, 27854, 27855, 27859, 27867, 27876, 27997, 28016, 28044, 28048, 28075, 28111, 28145, 28235, 28263, 28270, 28280, 28284, 28308, 28339, 28372, 28446, 28525, 28553, 28608, 28611, 28649, 28664, 28733, 28802, 28818, 28852, 28915, 28999, 29001, 29060, 29061, 29101, 29108, 29141, 29159, 29181, 29221, 29272, 29279, 29308, 29313, 29323, 29325, 29365, 29414, 29435, 29472, 29477, 29514, 29515, 29521, 29550, 29552, 29561, 29601, 29630, 29632, 29674, 29729, 29773, 29780, 29793, 29820, 29823, 29832, 29852, 29865, 29866, 29879, 29904, 29920, 29924, 29946, 29987, 29988, 30164, 30194, 30312, 30340, 30356, 30365, 30374, 30403, 30404, 30442, 30444, 30447, 30456, 30461, 30473, 30489, 30500, 30501, 30503, 30568, 30571, 30581, 30588, 30596, 30615, 30621, 30624, 30638, 30644, 30647, 30650, 30701, 30703, 30706, 30707, 30724, 30732, 30743, 30744, 30755, 30756, 30758, 30765, 30826, 30846, 30863, 30894, 30916, 30924, 30955, 30967, 30988, 31004, 31012, 31024, 31027, 31029, 31037, 31039, 31057, 31089, 31098, 31102, 31123, 31133, 31134, 31144, 31150, 31159, 31173, 31191, 31193, 31201, 31204, 31212, 31220, 31233, 31239, 31251, 31269, 31284, 31322, 31346, 31347, 31449, 31470, 31481, 31485, 31489, 31493, 31502, 31519, 31555, 31567, 31569, 31585, 31606, 31624, 31630, 31651, 31680, 31701, 31724, 31728, 31751, 31754, 31755, 31798, 31801, 31816, 31927, 31929, 31936, 31951, 31961, 31985, 31996, 32025, 32031, 32033, 32076, 32120, 32129, 32132, 32135, 32143, 32156, 32158, 32178, 32224, 32263, 32264, 32277, 32295, 32305, 32326, 32329, 32376, 32402, 32422, 32427, 32428, 32431, 32444, 32460, 32472, 32491, 32504, 32509, 32530, 32535, 32537, 32545, 32555, 32563, 32564, 32591, 32595, 32601, 32613, 32619, 32641, 32643, 32651, 32665, 32720, 32731, 32739, 32745, 32756, 32768, 32769, 32774, 32800, 32812, 32818, 32824, 32833, 32863, 32871, 32882, 32886, 32895, 32913, 32914, 32937, 32946, 32976, 32979, 32980, 33011, 33027, 33030, 33042, 33053, 33055, 33066, 33102, 33120, 33133, 33155, 33180, 33187, 33194, 33229, 33244, 33246, 33252, 33257, 33258, 33265, 33277, 33290, 33291, 33318, 33335, 33342, 33346, 33350, 33358, 33361, 33366, 33373, 33384, 33399, 33416, 33417, 33420, 33445, 33455, 33460, 33466, 33472, 33485, 33517, 33546, 33555, 33585, 33588, 33609, 33613, 33619, 33626, 33635, 33661, 33662, 33673, 33680, 33690, 33692, 33695, 33702, 33717, 33719, 33726, 33728, 33753, 33771, 33774, 33777, 33789, 33790, 33791, 33800, 33806, 33816, 33825, 33839, 33849, 33856, 33867, 33874, 33881, 33897, 33903, 33910, 33920, 33937, 33947, 33948, 33962, 33972, 33977, 33981, 33987, 34011, 34013, 34020, 34035, 34036, 34039, 34041, 34042, 34058, 34071, 34079, 34083, 34085, 34087, 34096, 34106, 34114, 34117, 34119, 34120, 34131, 34140, 34145, 34161, 34203, 34236, 34253, 34254, 34256, 34259, 34263, 34265, 34311, 34331, 34346, 34353, 34358, 34360, 34373, 34374, 34397, 34423, 34424, 34465, 34475, 34514, 34528, 34543, 34547, 34551, 34564, 34570, 34602, 34619, 34622, 34624, 34628, 34642, 34646, 34665, 34678, 34686, 34689, 34713, 34716, 34735, 34736, 34738, 34752, 34758, 34766, 34773, 34792, 34794, 34798, 34838, 34860, 34863, 34870, 34895, 34903, 34904, 34917, 34930, 34931, 35006, 35009, 35018, 35027, 35031, 35038, 35045, 35049, 35059, 35069, 35070, 35082, 35087, 35100, 35111, 35112, 35126, 35151, 35153, 35166, 35185, 35195, 35196, 35202, 35205, 35207, 35251, 35268, 35275, 35283, 35294, 35306, 35308, 35310, 35325, 35353, 35367, 35374, 35376, 35408, 35411, 35445, 35453, 35456, 35458, 35469, 35474, 35488, 35491, 35495, 35510, 35514, 35515, 35520, 35532, 35555, 35571, 35576, 35577, 35584, 35591, 35606, 35607, 35617, 35620, 35624, 35628, 35640, 35641, 35674, 35682, 35703, 35704, 35711, 35715, 35724, 35739, 35745, 35747, 35761, 35779, 35783, 35793, 35800, 35801, 35828, 35829, 35863, 35865, 35868, 35874, 35899, 35910, 35942, 35954, 36002, 36028, 36042, 36053, 36078, 36080, 36084, 36099, 36107, 36115, 36117, 36120, 36126, 36134, 36137, 36180, 36191, 36193, 36194, 36202, 36205, 36214, 36215, 36217, 36225, 36230, 36238, 36244, 36250, 36260, 36272, 36289, 36290, 36293, 36295, 36298, 36318, 36326, 36330, 36331, 36332, 36341, 36345, 36357, 36359, 36368, 36372, 36378, 36380, 36390, 36391, 36409, 36415, 36435, 36436, 36441, 36452, 36463, 36481, 36490, 36511, 36521, 36536, 36569, 36608, 36611, 36624, 36643, 36644, 36645, 36650, 36659, 36664, 36665, 36667, 36670, 36687, 36693, 36695, 36696, 36710, 36744, 36752, 36756, 36764, 36788, 36796, 36816, 36822, 36823, 36837, 36849, 36857, 36869, 36871, 36880, 36892, 36984, 36990, 36995, 37002, 37009, 37025, 37028, 37029, 37050, 37051, 37058, 37064, 37065, 37068, 37069, 37075, 37085, 37118, 37136, 37162, 37173, 37187, 37189, 37241, 37243, 37269, 37274, 37281, 37293, 37308, 37310, 37311, 37328, 37331, 37344, 37357, 37362, 37363, 37365, 37368, 37369, 37379, 37396, 37417, 37418, 37454, 37455, 37462, 37477, 37481, 37484, 37485, 37487, 37496, 37519, 37521, 37559, 37562, 37565, 37575, 37576, 37577, 37581, 37582, 37590, 37592, 37611, 37632, 37645, 37652, 37655, 37656, 37663, 37688, 37718, 37724, 37729, 37774, 37782, 37796, 37802, 37806, 37809, 37812, 37817, 37830, 37841, 37847, 37873, 37879, 37890, 37893, 37896, 37904, 37908, 37909, 37925, 37933, 37938, 37947, 37988, 37997, 38012, 38020, 38021, 38041, 38044, 38046, 38054, 38090, 38091, 38103, 38111, 38116, 38127, 38130, 38140, 38141, 38147, 38159, 38180, 38189, 38204, 38216, 38221, 38234, 38245, 38252, 38260, 38266, 38281, 38289, 38294, 38300, 38319, 38322, 38329, 38333, 38337, 38347, 38364, 38373, 38379, 38396, 38419, 38428, 38437, 38464, 38494, 38517, 38519, 38520, 38525, 38532, 38534, 38543, 38550, 38569, 38581, 38594, 38606, 38617, 38627, 38628, 38637, 38641, 38654, 38671, 38672, 38687, 38688, 38690, 38716, 38735, 38745, 38746, 38755, 38782, 38797, 38801, 38816, 38825, 38829, 38832, 38837, 38839, 38849, 38864, 38867, 38882, 38885, 38892, 38903, 38932, 38939, 38941, 38957, 38962, 38969, 38972, 38977, 39000, 39005, 39017, 39038, 39040, 39044, 39046, 39067, 39083, 39086, 39101, 39113, 39120, 39127, 39133, 39153, 39161, 39169, 39221, 39228, 39229, 39239, 39241, 39246, 39248, 39251, 39252, 39264, 39265, 39266, 39268, 39283, 39294, 39301, 39304, 39312, 39316, 39318, 39322, 39328, 39357, 39362, 39372, 39374, 39394, 39401, 39403, 39418, 39422, 39426, 39428, 39434, 39437, 39452, 39474, 39477, 39489, 39495, 39500, 39502, 39504, 39506, 39513, 39515, 39538, 39541, 39569, 39584, 39598, 39601, 39613, 39615, 39616, 893, 917, 1062, 1121, 1312, 1336, 1352, 1454, 1485, 1574, 1593, 1653, 1726, 1741, 1743, 1822, 1924, 1985, 2014, 2132, 2254, 2304, 2386, 2562, 2771, 2922, 2933, 3143, 3337, 3704, 3758, 3880, 3914, 4059, 4274, 4344, 4550, 4617, 4674, 4709, 4817, 4978, 5003, 5131, 5143, 5272, 5497, 5847, 5868, 5915, 6019, 6349, 6350, 6556, 6617, 6625, 6720, 6844, 6880, 7004, 7157, 7242, 7417, 7461, 7596, 7696, 7742, 7747, 7763, 7876, 7907, 7967, 8088, 8153, 8184, 8277, 8371, 8427, 8465, 8824, 9159, 9206, 9445, 9491, 9496, 9701, 9867, 10049, 10127, 10229, 10348, 10592, 10602, 10937, 10954, 11224, 11271, 11636, 11645, 11654, 11704, 12001, 12011, 12229, 12282, 12287, 12344, 12357, 12360, 12485, 12576, 12628, 12681, 12942, 12983, 13757, 13811, 14434, 14580, 15166, 15185, 16266, 16340, 16367, 16698, 16782, 16791, 16997, 17152, 17161, 17537, 17816, 17878, 18168, 18293, 18706, 18715, 18722, 18811, 19061, 19115, 19122, 19137, 19177, 19195, 19259, 19505, 19551, 19572, 19641, 19671, 19729, 19931, 20001, 20068, 20071, 20081, 20144, 20151, 20181, 20194, 20198, 20273, 20330, 20350, 20373, 20378, 20380, 20384, 20390, 20412, 20484, 20518, 20620, 20630, 20683, 20695, 20700, 20758, 20777, 20825, 20859, 20868, 20899, 20902, 21027, 21074, 21084, 21091, 21092, 21253, 21330, 21352, 21372, 21411, 21471, 21527, 21538, 21569, 21602, 21633, 21663, 21686, 21706, 21829, 21910, 21918, 21921, 21953, 22006, 22015, 22080, 22146, 22162, 22236, 22246, 22262, 22302, 22413, 22513, 22583, 22591, 22636, 22639, 22684, 22714, 22873, 23012, 23044, 23054, 23101, 23109, 23168, 23202, 23382, 23429, 23430, 23452, 23491, 23529, 23567, 23608, 23629, 23643, 23717, 23749, 23800, 23828, 23836, 23854, 23925, 23969, 23971, 24054, 24067, 24216, 24295, 24331, 24453, 24491, 24506, 24602, 24661, 24681, 24683, 24822, 24885, 24939, 24988, 25051, 25269, 25340, 25513, 25643, 25796, 25898, 26038, 26052, 26124, 26130, 26311, 26326, 26390, 26418, 26448, 26453, 26746, 26905, 26911, 27022, 27036, 27040, 27257, 27308, 27361, 27452, 27462, 27477, 27578, 27726, 27780, 27854, 27855, 27859, 27876, 27997, 28044, 28075, 28111, 28235, 28270, 28284, 28308, 28339, 28553, 28611, 28649, 28664, 28733, 28802, 28818, 28852, 28915, 28999, 29001, 29060, 29101, 29108, 29141, 29159, 29181, 29272, 29279, 29308, 29313, 29323, 29325, 29365, 29414, 29435, 29472, 29477, 29514, 29515, 29521, 29550, 29552, 29561, 29601, 29630, 29632, 29674, 29729, 29773, 29780, 29793, 29820, 29823, 29832, 29852, 29865, 29866, 29879, 29904, 29920, 29924, 29946, 29988, 30164, 30194, 30312, 30340, 30356, 30365, 30374, 30403, 30404, 30442, 30444, 30447, 30456, 30461, 30473, 30489, 30500, 30501, 30503, 30568, 30571, 30581, 30588, 30596, 30615, 30621, 30624, 30638, 30644, 30647, 30650, 30701, 30703, 30707, 30724, 30732, 30743, 30744, 30755, 30756, 30758, 30765, 30826, 30846, 30863, 30894, 30916, 30924, 30955, 30967, 30988, 31004, 31012, 31024, 31027, 31029, 31037, 31039, 31057, 31089, 31098, 31102, 31123, 31133, 31134, 31144, 31150, 31159, 31173, 31191, 31193, 31201, 31204, 31212, 31220, 31233, 31239, 31251, 31269, 31284, 31322, 31346, 31347, 31449, 31470, 31481, 31485, 31489, 31493, 31502, 31519, 31555, 31567, 31569, 31585, 31606, 31624, 31630, 31651, 31680, 31701, 31724, 31751, 31754, 31755, 31798, 31801, 31816, 31927, 31929, 31936, 31951, 31961, 31985, 31996, 32025, 32031, 32033, 32076, 32120, 32129, 32132, 32135, 32143, 32156, 32158, 32178, 32224, 32263, 32264, 32277, 32295, 32305, 32326, 32329, 32376, 32402, 32422, 32427, 32428, 32431, 32444, 32460, 32472, 32491, 32504, 32509, 32530, 32535, 32537, 32545, 32555, 32563, 32564, 32591, 32595, 32601, 32613, 32619, 32641, 32643, 32651, 32665, 32720, 32739, 32745, 32756, 32768, 32769, 32774, 32800, 32812, 32818, 32824, 32833, 32863, 32871, 32882, 32886, 32895, 32913, 32914, 32937, 32946, 32976, 32979, 32980, 33011, 33027, 33030, 33042, 33053, 33055, 33066, 33102, 33120, 33133, 33155, 33180, 33187, 33194, 33229, 33244, 33246, 33252, 33257, 33258, 33265, 33277, 33290, 33318, 33335, 33342, 33346, 33350, 33358, 33361, 33366, 33373, 33384, 33399, 33416, 33417, 33420, 33445, 33455, 33460, 33466, 33472, 33485, 33517, 33546, 33555, 33585, 33588, 33609, 33613, 33619, 33626, 33635, 33661, 33662, 33673, 33680, 33690, 33692, 33695, 33702, 33717, 33719, 33726, 33728, 33753, 33771, 33774, 33777, 33789, 33790, 33791, 33800, 33806, 33816, 33825, 33839, 33849, 33856, 33867, 33874, 33881, 33897, 33903, 33910, 33920, 33937, 33947, 33948, 33962, 33972, 33977, 33981, 33987, 34011, 34013, 34020, 34035, 34036, 34039, 34041, 34042, 34058, 34071, 34079, 34083, 34085, 34087, 34096, 34106, 34114, 34117, 34119, 34120, 34131, 34140, 34145, 34161, 34203, 34236, 34253, 34254, 34256, 34259, 34263, 34265, 34311, 34331, 34346, 34353, 34358, 34360, 34373, 34374, 34397, 34418, 34423, 34424, 34465, 34475, 34514, 34528, 34543, 34547, 34551, 34564, 34570, 34602, 34619, 34622, 34624, 34628, 34642, 34646, 34665, 34678, 34686, 34689, 34713, 34716, 34735, 34736, 34738, 34752, 34758, 34766, 34773, 34792, 34794, 34798, 34838, 34860, 34863, 34870, 34895, 34903, 34904, 34917, 34930, 34931, 35006, 35009, 35018, 35027, 35031, 35038, 35045, 35049, 35059, 35069, 35070, 35082, 35087, 35100, 35111, 35112, 35126, 35151, 35153, 35166, 35185, 35195, 35196, 35202, 35205, 35207, 35251, 35268, 35275, 35283, 35294, 35306, 35308, 35310, 35325, 35353, 35367, 35374, 35408, 35411, 35445, 35453, 35456, 35458, 35469, 35474, 35488, 35491, 35495, 35510, 35514, 35515, 35520, 35532, 35555, 35571, 35576, 35577, 35584, 35591, 35606, 35607, 35617, 35620, 35624, 35628, 35640, 35641, 35674, 35682, 35703, 35704, 35711, 35715, 35724, 35739, 35745, 35747, 35761, 35779, 35783, 35793, 35800, 35801, 35828, 35829, 35863, 35865, 35868, 35874, 35899, 35910, 35942, 35954, 36002, 36028, 36042, 36053, 36078, 36080, 36084, 36099, 36107, 36115, 36117, 36120, 36126, 36134, 36137, 36180, 36191, 36193, 36194, 36205, 36214, 36215, 36217, 36225, 36230, 36238, 36244, 36250, 36260, 36272, 36289, 36290, 36293, 36295, 36298, 36318, 36326, 36330, 36331, 36332, 36341, 36345, 36357, 36359, 36368, 36378, 36380, 36390, 36391, 36409, 36415, 36435, 36436, 36441, 36452, 36463, 36481, 36490, 36511, 36521, 36536, 36569, 36608, 36611, 36624, 36643, 36644, 36645, 36650, 36659, 36664, 36665, 36667, 36670, 36687, 36693, 36695, 36696, 36710, 36744, 36752, 36756, 36764, 36788, 36796, 36816, 36822, 36823, 36837, 36849, 36857, 36869, 36871, 36880, 36892, 36984, 36990, 36995, 37002, 37009, 37025, 37028, 37029, 37050, 37051, 37058, 37064, 37065, 37068, 37069, 37075, 37085, 37118, 37136, 37162, 37173, 37187, 37189, 37241, 37243, 37269, 37274, 37281, 37293, 37308, 37310, 37311, 37328, 37331, 37344, 37357, 37362, 37363, 37365, 37368, 37369, 37379, 37396, 37417, 37418, 37454, 37455, 37462, 37477, 37481, 37484, 37485, 37487, 37496, 37519, 37521, 37562, 37565, 37575, 37576, 37577, 37581, 37582, 37590, 37592, 37611, 37632, 37645, 37652, 37655, 37656, 37663, 37688, 37718, 37724, 37729, 37774, 37782, 37796, 37802, 37806, 37809, 37812, 37817, 37830, 37841, 37847, 37873, 37879, 37890, 37893, 37896, 37904, 37908, 37909, 37925, 37933, 37938, 37947, 37988, 37997, 38012, 38020, 38021, 38041, 38044, 38046, 38054, 38090, 38091, 38103, 38111, 38116, 38127, 38130, 38140, 38141, 38147, 38159, 38180, 38189, 38204, 38216, 38221, 38234, 38245, 38252, 38260, 38266, 38281, 38294, 38300, 38319, 38322, 38329, 38333, 38337, 38347, 38364, 38373, 38379, 38396, 38419, 38428, 38437, 38464, 38494, 38517, 38519, 38520, 38525, 38532, 38534, 38543, 38550, 38569, 38581, 38594, 38606, 38617, 38627, 38628, 38637, 38641, 38654, 38671, 38672, 38687, 38688, 38690, 38716, 38735, 38745, 38746, 38755, 38782, 38797, 38801, 38816, 38825, 38829, 38832, 38837, 38839, 38849, 38864, 38882, 38885, 38892, 38903, 38932, 38939, 38941, 38957, 38962, 38969, 38972, 38977, 39000, 39005, 39017, 39038, 39040, 39044, 39046, 39067, 39083, 39086, 39101, 39113, 39120, 39127, 39133, 39153, 39161, 39169, 39221, 39228, 39229, 39239, 39241, 39246, 39248, 39251, 39252, 39264, 39265, 39266, 39268, 39283, 39294, 39301, 39304, 39312, 39316, 39318, 39322, 39328, 39357, 39362, 39372, 39374, 39394, 39401, 39403, 39418, 39422, 39426, 39428, 39434, 39437, 39452, 39474, 39477, 39489, 39495, 39500, 39502, 39504, 39506, 39513, 39515, 39538, 39541, 39569, 39584, 39598, 39601, 39613, 39615, 39616, 316, 415, 717, 1546, 1617, 1958, 2385, 2409, 2416, 2629, 2731, 3133, 3268, 3269, 3438, 3509, 3525, 3569, 3859, 3903, 3916, 3929, 4020, 4264, 4342, 4533, 4606, 4615, 4657, 4781, 4970, 5109, 5120, 5209, 5232, 5295, 5315, 5546, 5586, 5628, 5668, 5688, 5823, 5882, 5923, 5941, 5978, 6023, 6091, 6223, 6284, 6297, 6348, 6530, 6693, 6694, 6957, 7219, 7341, 8062, 8188, 8411, 8546, 8786, 8881, 8932, 9031, 9103, 9262, 9429, 9458, 9560, 9583, 9590, 9602, 9714, 9736, 9761, 9778, 9797, 9819, 9938, 10010, 10133, 10243, 10259, 10325, 10375, 10507, 10713, 10730, 10847, 11043, 11140, 11144, 11289, 11353, 11390, 11483, 11505, 11578, 11611, 11810, 11899, 12093, 12148, 12276, 12292, 12451, 12545, 12569, 12589, 12741, 12901, 12911, 12994, 13008, 13046, 13123, 13230, 13252, 13354, 13535, 13673, 13712, 13768, 13836, 13840, 13884, 13979, 14112, 14120, 14201, 14207, 14310, 14332, 14573, 14731, 14743, 14924, 14973, 15090, 15101, 15146, 15242, 15320, 15332, 15336, 15392, 15472, 15486, 15616, 15664, 15955, 15993, 16212, 16218, 16229, 16237, 16241, 16296, 16457, 16460, 16532, 16533, 16583, 16679, 16751, 16809, 16829, 16957, 16963, 16989, 17130, 17136, 17147, 17193, 17253, 17335, 17339, 17393, 17454, 17468, 17509, 17541, 17709, 17753, 17761, 17787, 17895, 17982, 17997, 18015, 18048, 18101, 18106, 18112, 18114, 18126, 18130, 18174, 18188, 18196, 18225, 18226, 18264, 18303, 18312, 18318, 18447, 18612, 18656, 18733, 19004, 19124, 19348, 19539, 19706, 19764, 19775, 19797, 19822, 20096, 20159, 20492, 20688, 20826, 20985, 21094, 21185, 21297, 21319, 21433, 21476, 21634, 21715, 22074, 22335, 22440, 22497, 22606, 22697, 22719, 22751, 22784, 22893, 23089, 23176, 23222, 23245, 23434, 23441, 23472, 23473, 23510, 23525, 23616, 23864, 24042, 24238, 24587, 24609, 24682, 24718, 24792, 24829, 24907, 24910, 25069, 25143, 25165, 25219, 25237, 25239, 25473, 25667, 25719, 25826, 25888, 25957, 26595, 26648, 26651, 26712, 26728, 26745, 26752, 26822, 26903, 26907, 26912, 26939, 26983, 26984, 27101, 27103, 27105, 27111, 27227, 27239, 27282, 27350, 27358, 27445, 27474, 27530, 27621, 27667, 27685, 27721, 27815, 27831, 27902, 27927, 28074, 28102, 28116, 28119, 28171, 28184, 28421, 28491, 28508, 28692, 28787, 28789, 28837, 28862, 29107, 29244, 29424, 29433, 29661, 29683, 29902, 29919, 29980, 30161, 30168, 30178, 30493, 30507, 30564, 30691, 30965, 31274, 31800, 31850, 31862, 31906, 32060, 32157, 32304, 32338, 32523, 32662, 33072, 33492, 33620, 33653, 33725, 33896, 33943, 33975, 34025, 34418, 34472, 34644, 34688, 34750, 34795, 34998, 35247, 35543, 36305, 36369, 36691, 36729, 36769, 36861, 36931, 36997, 37071, 37170, 37557, 37566, 37593, 37717, 37725, 37743, 37744, 37761, 37770, 38027, 38034, 38055, 38068, 38085, 38105, 38109, 38162, 38173, 38174, 38210, 38242, 38276, 38286, 38324, 38380, 38406, 38456, 38485, 38489, 38535, 38665, 38728, 39008, 39159, 39166, 39333, 39338, 39512, 4, 6, 7, 16, 19, 20, 22, 27, 36, 40, 42, 43, 44, 46, 48, 49, 51, 52, 54, 60, 62, 64, 74, 85, 89, 90, 97, 101, 102, 103, 109, 114, 131, 132, 134, 157, 162, 163, 167, 171, 177, 192, 193, 207, 224, 226, 246, 247, 268, 290, 291, 297, 299, 316, 321, 323, 325, 329, 330, 336, 350, 394, 426, 494, 620, 697, 710, 804, 988, 1118, 1120, 1161, 1269, 1384, 1408, 1484, 1546, 1597, 1601, 1658, 1713, 1716, 1859, 1950, 1958, 1981, 1998, 2385, 2417, 2446, 2731, 2745, 2770, 2779, 2913, 2945, 2949, 2955, 2997, 3133, 3155, 3269, 3342, 3471, 3509, 3538, 3562, 3569, 3916, 3924, 3932, 3942, 3950, 3973, 4010, 4264, 4273, 4293, 4298, 4533, 4606, 4622, 4638, 4646, 4783, 4876, 4970, 4983, 4984, 5007, 5109, 5209, 5232, 5315, 5326, 5330, 5407, 5496, 5520, 5554, 5586, 5656, 5660, 5668, 5674, 5698, 5755, 5788, 5803, 5823, 5941, 6023, 6034, 6039, 6223, 6370, 6371, 6399, 6530, 6694, 6695, 6725, 6737, 6754, 6806, 6841, 6901, 6992, 7069, 7076, 7094, 7341, 7415, 7419, 7431, 7440, 7765, 7766, 8013, 8048, 8062, 8083, 8085, 8102, 8120, 8122, 8457, 8460, 8471, 8489, 8502, 8786, 8809, 8817, 8838, 8878, 8932, 8939, 9103, 9117, 9154, 9156, 9194, 9262, 9371, 9429, 9458, 9461, 9478, 9479, 9545, 9583, 9602, 9646, 9657, 9658, 9714, 9723, 9736, 9766, 9778, 9782, 9797, 9808, 9865, 9891, 9904, 9989, 10010, 10028, 10032, 10098, 10133, 10181, 10220, 10234, 10243, 10247, 10325, 10362, 10375, 10402, 10415, 10507, 10583, 10617, 10671, 10713, 10730, 10807, 10847, 10930, 10946, 11043, 11140, 11144, 11267, 11275, 11334, 11390, 11431, 11578, 11642, 11770, 11810, 11899, 11981, 12006, 12048, 12102, 12148, 12260, 12276, 12363, 12365, 12451, 12589, 12661, 12663, 12671, 12697, 12741, 12747, 12827, 12898, 12911, 13006, 13058, 13123, 13198, 13230, 13252, 13354, 13404, 13408, 13535, 13645, 13659, 13673, 13712, 13762, 13771, 13836, 13886, 13891, 13979, 14107, 14122, 14201, 14243, 14332, 14458, 14501, 14573, 14731, 14743, 14779, 14845, 14856, 14896, 14951, 14973, 15078, 15090, 15182, 15183, 15242, 15281, 15332, 15411, 15553, 15811, 15841, 15870, 15898, 16207, 16227, 16553, 16815, 16858, 17022, 17101, 17187, 17193, 17235, 17275, 17339, 17362, 17466, 17468, 17561, 17618, 17636, 17683, 17694, 17713, 17749, 17808, 17833, 17905, 17914, 17960, 17985, 18021, 18022, 18046, 18049, 18077, 18101, 18145, 18167, 18174, 18188, 18192, 18196, 18225, 18257, 18303, 18305, 18312, 18333, 18342, 18345, 18353, 18357, 18359, 18360, 18362, 18366, 18371, 18374, 18375, 18376, 18377, 18378, 18379, 18380, 18381, 18385, 18388, 18389, 18392, 18393, 18398, 18405, 18407, 18415, 18416, 18417, 18418, 18419, 18421, 18428, 18447, 18450, 18460, 18461, 18463, 18467, 18476, 18477, 18489, 18492, 18494, 18498, 18499, 18500, 18501, 18502, 18508, 18509, 18519, 18544, 18554, 18562, 18564, 18574, 18584, 18612, 18629, 18655, 18695, 18699, 18720, 18870, 18924, 18932, 19005, 19124, 19246, 19576, 19858, 19884, 19886, 19908, 20053, 20259, 20397, 20579, 20636, 20675, 20709, 20733, 20763, 20817, 20853, 20885, 20886, 20887, 20907, 20924, 20930, 20931, 20932, 20936, 20939, 20940, 20948, 20950, 20951, 20952, 20953, 20954, 20959, 20960, 20961, 20962, 20968, 20969, 20970, 20976, 20978, 20984, 20988, 21016, 21038, 21054, 21094, 21116, 21126, 21225, 21273, 21387, 21422, 21616, 21803, 21819, 22238, 22305, 22428, 22440, 22497, 22526, 22746, 22784, 22859, 23534, 23556, 23610, 23648, 23948, 24042, 24577, 24612, 25219, 25401, 25441, 25617, 26165, 26240, 26400, 26423, 26595, 26664, 26901, 26903, 27117, 27227, 27265, 27350, 27608, 27708, 27721, 28272, 28570, 28839, 28862, 28890, 28898, 29332, 29858, 29991, 31444, 32182, 32225, 32249, 32374, 32615, 32956, 33725, 34022, 34170, 34247, 34418, 34696, 34827, 35346, 35661, 35836, 36073, 36197, 36292, 36303, 36392, 36931, 37038, 37130, 37237, 37283, 37304, 37382, 37424, 37551, 37702, 37790, 37814, 37819, 37846, 37903, 37951, 38034, 38059, 38173, 38261, 38265, 38268, 38282, 38324, 38377, 38412, 38456, 38495, 38536, 38604, 38615, 38765, 38771, 38779, 38919, 39155, 39159, 39309, 39445, 39470, 19, 42, 421, 1553, 3051, 3247, 3417, 3491, 3788, 4451, 4570, 4635, 4665, 4674, 4684, 4691, 4736, 4786, 4830, 4900, 4988, 5003, 5109, 5143, 5154, 5169, 5251, 5272, 5586, 5798, 5823, 5847, 5915, 5919, 5951, 6205, 6223, 6271, 6321, 6366, 6697, 7061, 7341, 7461, 7763, 7784, 7785, 7967, 8057, 8104, 8124, 8145, 8232, 8307, 8389, 8812, 8932, 9189, 9262, 9275, 9283, 9309, 9312, 9317, 9381, 9445, 9583, 9617, 9680, 9960, 10010, 10259, 10308, 10375, 10713, 10813, 10872, 11043, 11108, 11289, 11390, 11810, 12093, 12099, 12148, 12385, 12451, 12545, 12609, 12673, 12741, 12994, 13008, 13123, 13189, 13255, 13380, 13387, 13389, 13419, 13443, 13479, 13535, 13619, 13836, 14201, 14207, 14470, 14540, 14573, 14652, 14797, 14924, 14973, 15052, 15101, 15146, 15332, 15563, 15642, 15664, 15976, 15993, 16212, 16218, 16229, 16237, 16296, 16460, 16679, 16711, 16809, 16957, 16963, 17001, 17383, 17593, 17722, 17761, 17816, 17846, 17857, 17891, 17899, 17981, 18015, 18106, 18229, 18244, 18253, 18262, 18264, 18279, 18318, 18351, 18369, 18374, 18377, 18389, 18428, 18517, 18519, 18554, 18578, 18622, 18673, 18699, 18702, 18704, 18705, 18706, 18715, 18722, 18734, 18739, 18745, 18748, 18762, 18781, 18792, 18889, 18936, 19000, 19133, 19283, 19369, 19381, 19389, 19400, 19428, 19438, 19470, 19576, 19585, 19748, 19840, 20039, 20058, 20059, 20069, 20071, 20077, 20080, 20088, 20114, 20344, 20350, 20484, 20518, 20548, 20630, 20695, 20777, 20825, 20872, 20880, 20886, 21096, 21119, 21179, 21186, 21190, 21242, 21259, 21260, 21261, 21293, 21303, 21344, 21423, 21477, 21532, 21543, 21563, 21595, 21602, 21657, 21675, 21806, 21845, 21961, 21963, 22010, 22084, 22335, 22396, 22427, 22440, 22497, 22514, 22518, 22520, 22585, 22589, 22642, 22720, 22736, 22784, 22996, 23176, 23245, 23255, 23380, 23392, 23523, 23564, 23614, 23626, 23690, 23724, 23804, 23864, 24060, 24210, 24221, 24321, 24408, 24420, 24445, 24477, 24564, 24612, 24682, 24715, 24718, 24773, 24802, 24937, 24948, 24964, 24973, 24998, 25148, 25207, 25278, 25554, 25556, 25708, 25714, 25719, 25734, 25805, 25957, 25980, 26034, 26317, 26400, 26487, 26595, 26692, 26745, 26822, 26903, 26906, 26984, 27020, 27041, 27111, 27196, 27227, 27282, 27350, 27445, 27667, 27721, 27790, 27824, 27832, 28031, 28074, 28110, 28716, 28717, 28718, 28789, 28794, 28862, 29709, 29710, 29980, 30101, 30104, 30143, 30144, 30168, 30178, 30193, 30206, 30239, 30307, 30384, 30390, 30393, 30483, 30486, 30493, 30691, 30964, 30984, 31037, 31059, 31069, 31136, 31137, 31193, 31273, 31275, 31374, 31451, 31478, 31537, 31556, 31572, 31581, 31664, 31690, 31777, 31779, 31791, 31850, 31901, 31923, 31930, 32102, 32186, 32229, 32302, 32304, 32351, 32374, 32414, 32846, 32855, 32869, 32987, 33002, 33024, 33038, 33085, 33096, 33331, 33392, 33393, 33492, 33757, 33837, 34025, 34324, 34395, 34399, 34402, 34403, 34421, 34439, 34459, 34464, 34480, 34486, 34499, 34589, 34688, 34750, 34779, 34780, 34782, 34783, 34785, 34787, 34826, 34831, 34854, 34855, 35046, 35134, 35325, 35437, 35473, 35612, 35798, 35893, 36758, 37381, 13, 47, 99, 126, 181, 190, 206, 232, 238, 253, 261, 264, 284, 292, 304, 310, 342, 400, 409, 428, 437, 487, 497, 527, 528, 580, 653, 682, 717, 724, 756, 791, 811, 841, 849, 886, 887, 909, 911, 979, 997, 1041, 1047, 1075, 1084, 1095, 1102, 1104, 1124, 1125, 1137, 1170, 1217, 1221, 1224, 1227, 1239, 1245, 1250, 1252, 1259, 1264, 1270, 1286, 1409, 1411, 1432, 1443, 1453, 1460, 1461, 1465, 1494, 1502, 1510, 1514, 1526, 1533, 1535, 1557, 1562, 1563, 1574, 1584, 1590, 1591, 1595, 1603, 1608, 1610, 1614, 1615, 1633, 1634, 1651, 1658, 1663, 1666, 1682, 1687, 1703, 1704, 1757, 1774, 1786, 1796, 1802, 1823, 1853, 1854, 1859, 1862, 1876, 1880, 1896, 1910, 1916, 1927, 1961, 2000, 2015, 2037, 2066, 2074, 2100, 2102, 2123, 2131, 2155, 2187, 2191, 2192, 2198, 2232, 2252, 2260, 2285, 2286, 2294, 2326, 2346, 2349, 2402, 2407, 2414, 2429, 2443, 2446, 2452, 2455, 2467, 2478, 2480, 2491, 2503, 2504, 2525, 2530, 2543, 2556, 2564, 2569, 2577, 2582, 2602, 2603, 2607, 2609, 2617, 2639, 2645, 2651, 2653, 2657, 2677, 2679, 2690, 2738, 2741, 2800, 2802, 2836, 2846, 2854, 2866, 2879, 2889, 2901, 2920, 2945, 2961, 2971, 2996, 3011, 3032, 3040, 3048, 3070, 3082, 3097, 3108, 3119, 3120, 3127, 3177, 3178, 3218, 3238, 3249, 3258, 3260, 3274, 3277, 3284, 3293, 3303, 3323, 3334, 3339, 3354, 3365, 3384, 3402, 3411, 3424, 3446, 3451, 3452, 3455, 3466, 3467, 3471, 3475, 3488, 3570, 3579, 3587, 3593, 3604, 3606, 3611, 3641, 3648, 3651, 3667, 3671, 3676, 3680, 3682, 3731, 3752, 3755, 3767, 3785, 3792, 3796, 3820, 3823, 3825, 3826, 3838, 3839, 3865, 3873, 3874, 3883, 3901, 3910, 3927, 3937, 3944, 3988, 3998, 4008, 4010, 4014, 4030, 4034, 4104, 4109, 4120, 4128, 4172, 4195, 4232, 4242, 4254, 4292, 4297, 4305, 4310, 4323, 4354, 4362, 4373, 4417, 4431, 4460, 4474, 4490, 4526, 4532, 4563, 4564, 4565, 4574, 4579, 4582, 4618, 4657, 4661, 4662, 4676, 4696, 4697, 4712, 4713, 4749, 4776, 4784, 4804, 4808, 4895, 4896, 4924, 4933, 4971, 4998, 5009, 5030, 5036, 5042, 5069, 5078, 5084, 5092, 5137, 5139, 5142, 5146, 5164, 5166, 5176, 5206, 5209, 5217, 5226, 5227, 5239, 5246, 5255, 5262, 5267, 5268, 5282, 5288, 5291, 5343, 5347, 5353, 5370, 5405, 5412, 5422, 5434, 5454, 5468, 5496, 5507, 5508, 5515, 5526, 5537, 5554, 5567, 5580, 5590, 5599, 5627, 5645, 5717, 5720, 5736, 5741, 5742, 5743, 5748, 5751, 5777, 5808, 5812, 5814, 5833, 5837, 5839, 5890, 5902, 5920, 5938, 5949, 5960, 5965, 5976, 6032, 6052, 6079, 6088, 6097, 6100, 6113, 6120, 6129, 6148, 6167, 6185, 6186, 6226, 6251, 6264, 6273, 6292, 6316, 6345, 6382, 6389, 6394, 6400, 6414, 6435, 6473, 6485, 6511, 6551, 6557, 6558, 6583, 6587, 6589, 6595, 6638, 6651, 6655, 6665, 6676, 6700, 6703, 6745, 6762, 6773, 6794, 6810, 6858, 6891, 6938, 6944, 7031, 7070, 7080, 7099, 7147, 7170, 7179, 7212, 7213, 7311, 7312, 7313, 7337, 7346, 7376, 7403, 7413, 7415, 7430, 7448, 7478, 7480, 7484, 7493, 7494, 7495, 7516, 7518, 7652, 7712, 7726, 7740, 7815, 7824, 7839, 7883, 7884, 7885, 7888, 7897, 7950, 7978, 8019, 8033, 8055, 8056, 8069, 8101, 8116, 8178, 8198, 8217, 8219, 8240, 8255, 8301, 8309, 8311, 8320, 8335, 8338, 8352, 8371, 8396, 8415, 8431, 8475, 8477, 8490, 8510, 8542, 8567, 8578, 8580, 8598, 8602, 8668, 8687, 8737, 8821, 8836, 8877, 8885, 8886, 8901, 8903, 8909, 8924, 8931, 8948, 8952, 8996, 9055, 9065, 9067, 9090, 9110, 9127, 9144, 9162, 9196, 9228, 9261, 9269, 9270, 9272, 9280, 9281, 9318, 9328, 9331, 9338, 9349, 9350, 9368, 9386, 9401, 9403, 9452, 9462, 9476, 9488, 9497, 9505, 9527, 9536, 9574, 9575, 9581, 9582, 9591, 9600, 9612, 9616, 9630, 9669, 9672, 9689, 9690, 9697, 9699, 9702, 9703, 9708, 9712, 9730, 9734, 9736, 9743, 9765, 9786, 9791, 9792, 9805, 9820, 9860, 9861, 9877, 9892, 9915, 9922, 9924, 9925, 9943, 9983, 9999, 10006, 10016, 10022, 10031, 10032, 10037, 10076, 10081, 10085, 10089, 10119, 10130, 10161, 10172, 10177, 10184, 10305, 10311, 10314, 10354, 10370, 10371, 10420, 10421, 10429, 10469, 10516, 10522, 10548, 10574, 10582, 10587, 10599, 10600, 10625, 10669, 10670, 10683, 10695, 10706, 10776, 10780, 10790, 10792, 10802, 10815, 10848, 10850, 10882, 10885, 10901, 10902, 10908, 10919, 10933, 10940, 10944, 10962, 10965, 10988, 10998, 11008, 11032, 11038, 11089, 11125, 11130, 11144, 11174, 11187, 11204, 11206, 11212, 11213, 11231, 11237, 11238, 11249, 11263, 11331, 11350, 11351, 11353, 11358, 11371, 11380, 11391, 11408, 11420, 11425, 11428, 11439, 11463, 11472, 11478, 11505, 11563, 11603, 11610, 11669, 11691, 11713, 11722, 11725, 11735, 11750, 11770, 11803, 11809, 11822, 11824, 11831, 11843, 11848, 11859, 11864, 11869, 11878, 11882, 11904, 11922, 11923, 11926, 11960, 11973, 11976, 11990, 12030, 12080, 12082, 12139, 12204, 12225, 12227, 12236, 12284, 12295, 12335, 12360, 12382, 12383, 12445, 12473, 12518, 12525, 12530, 12537, 12541, 12566, 12584, 12596, 12610, 12623, 12626, 12632, 12633, 12642, 12646, 12652, 12667, 12677, 12724, 12729, 12732, 12761, 12778, 12802, 12832, 12841, 12870, 12883, 12900, 12913, 12914, 12915, 12987, 13007, 13046, 13079, 13095, 13102, 13116, 13129, 13148, 13171, 13173, 13180, 13181, 13236, 13248, 13310, 13319, 13321, 13372, 13420, 13426, 13462, 13487, 13513, 13516, 13523, 13543, 13606, 13622, 13635, 13645, 13650, 13671, 13721, 13738, 13740, 13758, 13785, 13793, 13828, 13835, 13841, 13864, 13877, 13898, 13899, 13900, 13903, 13928, 13951, 13969, 13972, 14026, 14031, 14040, 14043, 14045, 14049, 14078, 14086, 14096, 14103, 14135, 14181, 14204, 14228, 14235, 14250, 14258, 14261, 14280, 14286, 14292, 14324, 14338, 14339, 14345, 14401, 14462, 14482, 14519, 14562, 14563, 14575, 14587, 14591, 14614, 14653, 14686, 14693, 14703, 14722, 14723, 14739, 14748, 14756, 14757, 14775, 14782, 14788, 14793, 14795, 14822, 14823, 14835, 14846, 14850, 14863, 14867, 14878, 14886, 14894, 14927, 14938, 14944, 14962, 14990, 14991, 15005, 15018, 15019, 15025, 15035, 15045, 15096, 15097, 15117, 15135, 15157, 15162, 15173, 15202, 15205, 15206, 15212, 15221, 15241, 15244, 15245, 15254, 15260, 15267, 15269, 15276, 15296, 15301, 15305, 15319, 15331, 15338, 15365, 15424, 15450, 15468, 15487, 15522, 15526, 15528, 15529, 15537, 15548, 15557, 15574, 15576, 15577, 15587, 15589, 15623, 15627, 15636, 15646, 15663, 15666, 15711, 15738, 15743, 15752, 15758, 15818, 15831, 15847, 15848, 15888, 15919, 15926, 15929, 15966, 15987, 15988, 16016, 16022, 16050, 16085, 16088, 16089, 16093, 16097, 16100, 16144, 16192, 16205, 16255, 16285, 16287, 16305, 16309, 16328, 16337, 16384, 16423, 16448, 16487, 16527, 16554, 16566, 16604, 16628, 16630, 16682, 16721, 16729, 16749, 16757, 16800, 16801, 16819, 16856, 16884, 16891, 16897, 16914, 16929, 16938, 16974, 16980, 17007, 17035, 17057, 17069, 17116, 17135, 17147, 17161, 17168, 17208, 17237, 17253, 17266, 17268, 17274, 17289, 17335, 17341, 17348, 17359, 17370, 17374, 17375, 17388, 17398, 17400, 17405, 17408, 17461, 17472, 17479, 17480, 17543, 17580, 17588, 17598, 17616, 17620, 17644, 17663, 17696, 17703, 17714, 17719, 17759, 17777, 17787, 17791, 17901, 17930, 17935, 17955, 17969, 17972, 17995, 17997, 18009, 18022, 18070, 18101, 18113, 18114, 18116, 18137, 18147, 18172, 18174, 18188, 18196, 18197, 18207, 18223, 18267, 18302, 18303, 18306, 18427, 18456, 18469, 18470, 18527, 18532, 18640, 18652, 18690, 18702, 18767, 18790, 18793, 18799, 18806, 18877, 18892, 18896, 18908, 18919, 18941, 18986, 19003, 19012, 19029, 19030, 19049, 19053, 19097, 19109, 19110, 19129, 19160, 19162, 19166, 19186, 19187, 19222, 19235, 19272, 19276, 19280, 19288, 19313, 19324, 19325, 19340, 19345, 19348, 19361, 19377, 19380, 19385, 19400, 19411, 19421, 19442, 19474, 19475, 19489, 19492, 19495, 19512, 19518, 19529, 19533, 19557, 19581, 19589, 19599, 19608, 19627, 19640, 19643, 19653, 19654, 19669, 19670, 19706, 19728, 19735, 19738, 19751, 19759, 19764, 19767, 19768, 19770, 19772, 19781, 19797, 19809, 19816, 19820, 19822, 19825, 19831, 19832, 19912, 19921, 19956, 19980, 19982, 20106, 20118, 20162, 20211, 20234, 20293, 20306, 20325, 20363, 20365, 20402, 20414, 20435, 20532, 20537, 20621, 20628, 20658, 20662, 20680, 20681, 20694, 20717, 20739, 20742, 20774, 20810, 20857, 20881, 20890, 20912, 20922, 20956, 20963, 20974, 20989, 21009, 21011, 21025, 21041, 21055, 21075, 21093, 21094, 21110, 21120, 21132, 21172, 21176, 21206, 21214, 21222, 21252, 21280, 21322, 21333, 21339, 21343, 21370, 21376, 21382, 21441, 21464, 21498, 21508, 21528, 21555, 21582, 21601, 21634, 21647, 21709, 21715, 21717, 21744, 21758, 21763, 21792, 21802, 21811, 21834, 21874, 21889, 21930, 21979, 22062, 22140, 22155, 22172, 22208, 22254, 22261, 22278, 22284, 22312, 22313, 22316, 22326, 22343, 22369, 22371, 22405, 22406, 22420, 22436, 22440, 22444, 22453, 22454, 22484, 22497, 22506, 22507, 22522, 22545, 22561, 22566, 22584, 22593, 22665, 22672, 22681, 22694, 22719, 22745, 22758, 22784, 22786, 22846, 22868, 22888, 22893, 22895, 22896, 22918, 22960, 22964, 23004, 23051, 23059, 23069, 23072, 23098, 23153, 23186, 23225, 23248, 23262, 23291, 23312, 23325, 23337, 23428, 23435, 23436, 23464, 23506, 23521, 23531, 23550, 23555, 23561, 23617, 23647, 23653, 23689, 23699, 23700, 23769, 23770, 23775, 23809, 23860, 23877, 23880, 23904, 23911, 23915, 23935, 23957, 23970, 23975, 23982, 23995, 24017, 24036, 24039, 24096, 24107, 24120, 24126, 24151, 24157, 24159, 24188, 24199, 24201, 24235, 24240, 24244, 24271, 24302, 24308, 24319, 24353, 24359, 24365, 24366, 24367, 24375, 24417, 24436, 24478, 24558, 24559, 24572, 24583, 24600, 24605, 24635, 24647, 24648, 24652, 24711, 24727, 24734, 24742, 24744, 24767, 24778, 24780, 24785, 24792, 24793, 24808, 24836, 24838, 24876, 24883, 24934, 24979, 24996, 25004, 25052, 25097, 25106, 25173, 25195, 25204, 25279, 25281, 25302, 25315, 25320, 25327, 25411, 25498, 25501, 25550, 25614, 25621, 25629, 25646, 25658, 25660, 25662, 25680, 25724, 25785, 25786, 25787, 25788, 25789, 25852, 25864, 25881, 25920, 25940, 25949, 25968, 25994, 26006, 26015, 26107, 26113, 26131, 26133, 26195, 26232, 26233, 26242, 26288, 26301, 26349, 26363, 26394, 26414, 26439, 26443, 26461, 26471, 26513, 26524, 26555, 26579, 26589, 26595, 26596, 26639, 26640, 26645, 26651, 26660, 26664, 26690, 26695, 26707, 26712, 26713, 26728, 26742, 26750, 26752, 26767, 26773, 26774, 26781, 26816, 26843, 26845, 26850, 26856, 26929, 26963, 26964, 27073, 27077, 27083, 27121, 27124, 27129, 27167, 27216, 27222, 27223, 27227, 27228, 27237, 27243, 27248, 27258, 27350, 27360, 27369, 27400, 27423, 27438, 27563, 27678, 27690, 27721, 27745, 27814, 27822, 27823, 27843, 27863, 27882, 27895, 27944, 27960, 27983, 28144, 28200, 28209, 28212, 28229, 28241, 28242, 28250, 28270, 28272, 28293, 28313, 28323, 28363, 28409, 28411, 28416, 28458, 28477, 28518, 28546, 28698, 28711, 28719, 28734, 28759, 28782, 28807, 28862, 28866, 28887, 28898, 28947, 28955, 28963, 28973, 28981, 28986, 29056, 29076, 29107, 29118, 29119, 29129, 29139, 29143, 29168, 29171, 29192, 29193, 29202, 29245, 29298, 29309, 29332, 29350, 29359, 29384, 29504, 29507, 29556, 29629, 29639, 29691, 29736, 29754, 29794, 29807, 29837, 29895, 29908, 29946, 29956, 29999, 30017, 30031, 30038, 30054, 30056, 30075, 30084, 30096, 30143, 30177, 30193, 30256, 30264, 30272, 30289, 30307, 30335, 30343, 30390, 30399, 30481, 30499, 30502, 30536, 30552, 30575, 30591, 30632, 30646, 30670, 30672, 30685, 30700, 30704, 30792, 30828, 30854, 30965, 30987, 30999, 31032, 31070, 31082, 31100, 31129, 31222, 31225, 31234, 31252, 31274, 31275, 31276, 31277, 31282, 31304, 31309, 31315, 31326, 31331, 31340, 31361, 31363, 31382, 31412, 31421, 31441, 31457, 31466, 31491, 31516, 31548, 31564, 31636, 31644, 31693, 31714, 31753, 31765, 31768, 31770, 31774, 31776, 31785, 31855, 31871, 31896, 31906, 31920, 31945, 31979, 31984, 31989, 32052, 32067, 32069, 32103, 32115, 32124, 32136, 32172, 32220, 32237, 32245, 32391, 32429, 32439, 32461, 32462, 32534, 32543, 32550, 32554, 32560, 32561, 32567, 32574, 32577, 32585, 32631, 32677, 32684, 32707, 32713, 32718, 32730, 32733, 32736, 32763, 32770, 32772, 32773, 32794, 32814, 32817, 32825, 32834, 32838, 32862, 32922, 32956, 32978, 32997, 33092, 33165, 33174, 33177, 33190, 33212, 33233, 33260, 33324, 33325, 33391, 33401, 33419, 33437, 33469, 33470, 33501, 33515, 33528, 33529, 33539, 33560, 33737, 33766, 33819, 33870, 33901, 33964, 34018, 34022, 34037, 34097, 34151, 34185, 34206, 34223, 34246, 34277, 34300, 34312, 34347, 34388, 34416, 34433, 34455, 34498, 34539, 34586, 34614, 34621, 34656, 34668, 34687, 34788, 34841, 34845, 34884, 34916, 35025, 35071, 35073, 35099, 35104, 35160, 35172, 35304, 35341, 35382, 35397, 35419, 35428, 35430, 35440, 35448, 35464, 35500, 35522, 35523, 35528, 35544, 35565, 35582, 35621, 35651, 35660, 35669, 35734, 35752, 35785, 35823, 35931, 36022, 36024, 36065, 36069, 36071, 36090, 36092, 36093, 36105, 36111, 36155, 36174, 36200, 36222, 36257, 36275, 36281, 36381, 36399, 36432, 36458, 36533, 36543, 36549, 36581, 36596, 36597, 36604, 36694, 36705, 36726, 36743, 36751, 36836, 36863, 36981, 37012, 37015, 37072, 37094, 37113, 37130, 37154, 37194, 37197, 37208, 37237, 37238, 37250, 37279, 37284, 37296, 37304, 37351, 37424, 37427, 37442, 37472, 37551, 37552, 37647, 37708, 37745, 37766, 37768, 37856, 37876, 37881, 37949, 37959, 37960, 37969, 37991, 38019, 38022, 38034, 38047, 38048, 38094, 38113, 38123, 38157, 38173, 38181, 38193, 38210, 38240, 38242, 38249, 38262, 38265, 38268, 38324, 38378, 38415, 38417, 38441, 38442, 38443, 38449, 38456, 38457, 38491, 38513, 38527, 38536, 38539, 38557, 38560, 38604, 38646, 38676, 38691, 38772, 38779, 38805, 38838, 38883, 38908, 38934, 38937, 38973, 38991, 39015, 39107, 39157, 39238, 39375, 39389, 39445, 39491, 39529, 39556, 39575, 39600, 39640, 893, 917, 1062, 1121, 1312, 1336, 1352, 1454, 1485, 1574, 1593, 1653, 1726, 1741, 1743, 1822, 1924, 1985, 2014, 2132, 2175, 2254, 2304, 2386, 2562, 2771, 2922, 2933, 3143, 3337, 3704, 3758, 3880, 3914, 4059, 4274, 4344, 4550, 4617, 4709, 4817, 4978, 5131, 5497, 5868, 6019, 6349, 6350, 6556, 6617, 6625, 6720, 6844, 6880, 7004, 7157, 7242, 7417, 7596, 7696, 7742, 7747, 7763, 7876, 7907, 8088, 8153, 8184, 8277, 8371, 8427, 8465, 8824, 9159, 9206, 9491, 9496, 9701, 9867, 10049, 10127, 10229, 10348, 10592, 10602, 10937, 10954, 11224, 11271, 11636, 11645, 11654, 11704, 12001, 12011, 12229, 12282, 12287, 12344, 12357, 12360, 12485, 12576, 12628, 12681, 12942, 12983, 13757, 13811, 14434, 14580, 15166, 15185, 15336, 16138, 16266, 16340, 16367, 16698, 16782, 16791, 16997, 17152, 17161, 17537, 17816, 17878, 18168, 18293, 18715, 18811, 19061, 19115, 19122, 19137, 19177, 19195, 19259, 19505, 19551, 19561, 19572, 19641, 19671, 19729, 19931, 20001, 20068, 20081, 20144, 20151, 20181, 20194, 20198, 20273, 20330, 20350, 20360, 20373, 20378, 20380, 20384, 20390, 20412, 20484, 20518, 20620, 20630, 20683, 20695, 20700, 20758, 20777, 20814, 20825, 20826, 20859, 20868, 20899, 20902, 21027, 21074, 21084, 21091, 21092, 21253, 21330, 21352, 21372, 21411, 21471, 21527, 21538, 21569, 21602, 21633, 21663, 21686, 21706, 21829, 21910, 21918, 21921, 21953, 22006, 22015, 22080, 22146, 22162, 22236, 22246, 22262, 22302, 22413, 22513, 22583, 22591, 22636, 22639, 22684, 22714, 22873, 23012, 23034, 23044, 23054, 23101, 23109, 23168, 23202, 23222, 23382, 23429, 23430, 23452, 23491, 23529, 23567, 23608, 23629, 23643, 23717, 23749, 23800, 23828, 23836, 23854, 23925, 23969, 23971, 24050, 24054, 24067, 24216, 24295, 24331, 24453, 24491, 24506, 24602, 24661, 24681, 24683, 24822, 24885, 24939, 24948, 24988, 25051, 25269, 25340, 25513, 25643, 25719, 25796, 25898, 26038, 26052, 26124, 26130, 26311, 26326, 26390, 26418, 26448, 26453, 26746, 26905, 26911, 27022, 27036, 27040, 27041, 27257, 27308, 27361, 27452, 27462, 27477, 27578, 27726, 27780, 27854, 27855, 27859, 27876, 27997, 28044, 28075, 28111, 28235, 28270, 28284, 28308, 28339, 28484, 28553, 28611, 28649, 28664, 28733, 28802, 28818, 28852, 28915, 28999, 29001, 29060, 29101, 29108, 29141, 29159, 29181, 29272, 29279, 29308, 29313, 29323, 29325, 29365, 29414, 29435, 29472, 29477, 29514, 29515, 29521, 29550, 29552, 29561, 29601, 29630, 29632, 29674, 29729, 29773, 29780, 29793, 29820, 29823, 29832, 29852, 29865, 29866, 29879, 29904, 29920, 29924, 29946, 29988, 30164, 30194, 30312, 30340, 30356, 30365, 30374, 30403, 30404, 30442, 30444, 30447, 30456, 30461, 30473, 30489, 30500, 30501, 30503, 30507, 30568, 30571, 30581, 30588, 30596, 30615, 30621, 30624, 30638, 30644, 30647, 30650, 30701, 30703, 30707, 30724, 30732, 30743, 30744, 30755, 30756, 30758, 30765, 30826, 30846, 30863, 30894, 30916, 30924, 30955, 30967, 30988, 31000, 31004, 31012, 31024, 31027, 31029, 31039, 31057, 31089, 31098, 31102, 31123, 31133, 31134, 31144, 31150, 31159, 31173, 31191, 31193, 31201, 31204, 31212, 31220, 31233, 31239, 31251, 31269, 31284, 31322, 31346, 31347, 31449, 31470, 31481, 31485, 31489, 31493, 31502, 31519, 31555, 31567, 31569, 31585, 31606, 31624, 31630, 31651, 31680, 31701, 31724, 31751, 31754, 31755, 31798, 31801, 31816, 31927, 31929, 31936, 31951, 31961, 31985, 31996, 32025, 32031, 32033, 32076, 32120, 32129, 32132, 32135, 32143, 32156, 32158, 32178, 32224, 32263, 32264, 32277, 32295, 32305, 32326, 32329, 32376, 32402, 32422, 32427, 32428, 32431, 32444, 32460, 32472, 32491, 32504, 32509, 32530, 32535, 32537, 32545, 32555, 32563, 32564, 32591, 32595, 32601, 32609, 32613, 32619, 32641, 32643, 32651, 32665, 32720, 32739, 32745, 32756, 32768, 32769, 32774, 32800, 32812, 32818, 32824, 32833, 32863, 32871, 32882, 32886, 32895, 32913, 32914, 32937, 32946, 32976, 32979, 32980, 33011, 33027, 33030, 33042, 33053, 33055, 33066, 33102, 33120, 33133, 33155, 33180, 33187, 33194, 33229, 33244, 33246, 33252, 33257, 33258, 33265, 33277, 33290, 33318, 33335, 33342, 33346, 33350, 33358, 33361, 33366, 33373, 33384, 33399, 33416, 33417, 33420, 33445, 33455, 33460, 33466, 33472, 33485, 33517, 33546, 33555, 33585, 33588, 33609, 33613, 33619, 33626, 33635, 33661, 33662, 33673, 33680, 33690, 33692, 33695, 33702, 33703, 33717, 33719, 33726, 33728, 33753, 33771, 33774, 33777, 33789, 33790, 33791, 33800, 33806, 33816, 33825, 33839, 33849, 33856, 33867, 33874, 33881, 33897, 33903, 33910, 33920, 33937, 33947, 33948, 33962, 33972, 33977, 33981, 33987, 34011, 34013, 34020, 34035, 34036, 34039, 34041, 34042, 34058, 34071, 34079, 34083, 34085, 34087, 34096, 34106, 34114, 34117, 34119, 34120, 34131, 34140, 34145, 34161, 34203, 34236, 34253, 34254, 34256, 34259, 34263, 34265, 34311, 34331, 34346, 34353, 34358, 34360, 34373, 34374, 34397, 34402, 34423, 34424, 34465, 34475, 34514, 34528, 34543, 34547, 34551, 34564, 34570, 34589, 34602, 34619, 34622, 34624, 34628, 34642, 34646, 34665, 34678, 34686, 34689, 34713, 34716, 34735, 34736, 34738, 34752, 34758, 34766, 34773, 34792, 34794, 34798, 34838, 34860, 34863, 34870, 34895, 34903, 34904, 34917, 34930, 34931, 35003, 35006, 35009, 35018, 35027, 35031, 35038, 35045, 35049, 35059, 35069, 35070, 35082, 35087, 35100, 35111, 35112, 35126, 35151, 35153, 35166, 35185, 35195, 35196, 35202, 35205, 35207, 35251, 35268, 35275, 35283, 35294, 35306, 35308, 35310, 35325, 35353, 35367, 35374, 35408, 35411, 35437, 35445, 35453, 35456, 35458, 35469, 35474, 35488, 35491, 35495, 35510, 35514, 35515, 35520, 35532, 35555, 35571, 35576, 35577, 35584, 35591, 35606, 35607, 35617, 35620, 35624, 35628, 35640, 35641, 35674, 35682, 35703, 35704, 35711, 35715, 35724, 35739, 35745, 35747, 35761, 35779, 35783, 35793, 35800, 35801, 35828, 35829, 35863, 35865, 35868, 35874, 35899, 35910, 35942, 35954, 36002, 36028, 36042, 36053, 36078, 36080, 36084, 36099, 36107, 36115, 36117, 36120, 36126, 36134, 36137, 36180, 36191, 36193, 36194, 36205, 36214, 36215, 36217, 36225, 36230, 36238, 36244, 36250, 36260, 36272, 36289, 36290, 36293, 36295, 36298, 36318, 36326, 36330, 36331, 36332, 36341, 36345, 36357, 36359, 36368, 36378, 36380, 36390, 36391, 36409, 36415, 36435, 36436, 36441, 36452, 36463, 36481, 36490, 36511, 36521, 36536, 36569, 36608, 36611, 36624, 36643, 36644, 36645, 36650, 36659, 36664, 36665, 36667, 36670, 36687, 36693, 36695, 36696, 36710, 36744, 36752, 36756, 36764, 36788, 36796, 36816, 36822, 36823, 36837, 36849, 36857, 36869, 36871, 36880, 36892, 36984, 36990, 36995, 37002, 37009, 37025, 37028, 37029, 37050, 37051, 37058, 37064, 37065, 37068, 37069, 37075, 37085, 37118, 37136, 37162, 37173, 37187, 37189, 37241, 37243, 37269, 37274, 37281, 37293, 37308, 37310, 37311, 37328, 37331, 37344, 37357, 37362, 37363, 37365, 37368, 37369, 37379, 37396, 37417, 37418, 37454, 37455, 37462, 37477, 37481, 37484, 37485, 37487, 37496, 37519, 37521, 37562, 37565, 37575, 37576, 37577, 37581, 37582, 37590, 37592, 37611, 37632, 37645, 37652, 37655, 37656, 37663, 37688, 37718, 37724, 37729, 37774, 37782, 37796, 37802, 37806, 37809, 37812, 37817, 37830, 37841, 37847, 37873, 37879, 37890, 37893, 37896, 37904, 37908, 37909, 37925, 37933, 37938, 37947, 37988, 37997, 38012, 38020, 38021, 38041, 38044, 38046, 38054, 38090, 38091, 38103, 38111, 38116, 38127, 38130, 38140, 38141, 38147, 38159, 38180, 38189, 38204, 38216, 38221, 38234, 38245, 38252, 38260, 38266, 38281, 38294, 38300, 38319, 38322, 38329, 38333, 38337, 38347, 38364, 38373, 38379, 38396, 38419, 38428, 38437, 38464, 38494, 38517, 38519, 38520, 38525, 38532, 38534, 38543, 38550, 38569, 38581, 38594, 38606, 38617, 38627, 38628, 38637, 38641, 38654, 38671, 38672, 38687, 38688, 38690, 38716, 38735, 38745, 38746, 38755, 38782, 38797, 38801, 38816, 38825, 38829, 38832, 38837, 38839, 38849, 38864, 38882, 38885, 38892, 38903, 38932, 38939, 38941, 38957, 38962, 38969, 38972, 38977, 39000, 39005, 39017, 39038, 39040, 39044, 39046, 39067, 39083, 39086, 39101, 39113, 39120, 39127, 39133, 39153, 39161, 39169, 39221, 39228, 39229, 39239, 39241, 39246, 39248, 39251, 39252, 39264, 39265, 39266, 39268, 39283, 39294, 39301, 39304, 39312, 39316, 39318, 39322, 39328, 39338, 39357, 39362, 39372, 39374, 39394, 39401, 39403, 39418, 39422, 39426, 39428, 39434, 39437, 39452, 39474, 39477, 39489, 39495, 39500, 39502, 39504, 39506, 39513, 39515, 39538, 39541, 39569, 39584, 39598, 39601, 39613, 39615, 39616, 6, 11, 18, 28, 34, 35, 46, 75, 83, 107, 109, 114, 118, 128, 130, 150, 167, 169, 171, 177, 178, 187, 189, 202, 207, 208, 216, 223, 224, 237, 254, 267, 276, 282, 289, 296, 325, 335, 336, 344, 349, 362, 363, 371, 390, 394, 402, 416, 432, 436, 440, 450, 455, 474, 479, 484, 490, 503, 516, 517, 525, 529, 530, 560, 561, 575, 578, 586, 592, 619, 630, 633, 634, 648, 661, 690, 704, 705, 707, 730, 734, 739, 754, 761, 768, 811, 820, 827, 833, 864, 870, 882, 889, 892, 897, 905, 907, 917, 935, 940, 983, 987, 1001, 1007, 1059, 1105, 1110, 1111, 1112, 1139, 1145, 1153, 1156, 1175, 1226, 1231, 1234, 1244, 1260, 1280, 1288, 1316, 1331, 1359, 1360, 1366, 1368, 1369, 1383, 1386, 1392, 1393, 1423, 1455, 1492, 1498, 1503, 1505, 1516, 1538, 1539, 1549, 1565, 1605, 1619, 1621, 1627, 1660, 1662, 1667, 1669, 1678, 1693, 1696, 1726, 1739, 1743, 1753, 1765, 1770, 1777, 1811, 1831, 1836, 1844, 1845, 1903, 1904, 1905, 1918, 1921, 1929, 1931, 1933, 1934, 1937, 1940, 1964, 1969, 1970, 1971, 1980, 1993, 2000, 2008, 2080, 2088, 2126, 2146, 2160, 2178, 2184, 2190, 2206, 2209, 2220, 2227, 2230, 2238, 2249, 2257, 2274, 2288, 2291, 2299, 2304, 2305, 2306, 2307, 2315, 2318, 2319, 2324, 2327, 2354, 2355, 2366, 2368, 2376, 2384, 2391, 2396, 2415, 2435, 2437, 2464, 2531, 2544, 2547, 2552, 2557, 2558, 2644, 2667, 2689, 2711, 2712, 2730, 2780, 2809, 2814, 2855, 2858, 2887, 2898, 2902, 2909, 2910, 2915, 2930, 2931, 2936, 2938, 2941, 2946, 2959, 2978, 2984, 3004, 3016, 3044, 3061, 3069, 3090, 3101, 3111, 3122, 3140, 3142, 3154, 3156, 3195, 3203, 3209, 3217, 3223, 3243, 3262, 3271, 3282, 3286, 3294, 3316, 3331, 3336, 3353, 3376, 3405, 3410, 3416, 3421, 3439, 3456, 3460, 3464, 3465, 3497, 3501, 3520, 3526, 3529, 3545, 3625, 3626, 3629, 3659, 3660, 3666, 3698, 3705, 3708, 3717, 3722, 3743, 3753, 3768, 3794, 3810, 3818, 3837, 3845, 3851, 3860, 3863, 3887, 3890, 3908, 3910, 3912, 3931, 3946, 3952, 3965, 3971, 3989, 4018, 4026, 4033, 4039, 4042, 4048, 4052, 4061, 4082, 4085, 4094, 4116, 4136, 4163, 4185, 4189, 4199, 4209, 4215, 4257, 4278, 4289, 4294, 4299, 4308, 4313, 4322, 4378, 4379, 4407, 4419, 4436, 4447, 4458, 4472, 4476, 4492, 4516, 4527, 4559, 4560, 4564, 4573, 4575, 4578, 4581, 4601, 4631, 4642, 4647, 4667, 4668, 4706, 4716, 4723, 4730, 4733, 4751, 4800, 4815, 4827, 4883, 4885, 4902, 4909, 4912, 4921, 4929, 4932, 4938, 4939, 4942, 4946, 4954, 4990, 4994, 5004, 5027, 5032, 5040, 5061, 5066, 5076, 5093, 5098, 5107, 5110, 5116, 5136, 5149, 5150, 5183, 5195, 5202, 5211, 5213, 5240, 5245, 5264, 5265, 5266, 5273, 5278, 5286, 5293, 5348, 5367, 5368, 5373, 5382, 5405, 5411, 5440, 5446, 5451, 5467, 5468, 5494, 5498, 5505, 5530, 5536, 5542, 5610, 5612, 5620, 5648, 5658, 5662, 5681, 5685, 5692, 5715, 5721, 5732, 5735, 5737, 5740, 5752, 5764, 5778, 5783, 5802, 5809, 5810, 5816, 5837, 5852, 5870, 5877, 5882, 5926, 5957, 5972, 5988, 6002, 6013, 6029, 6031, 6049, 6067, 6068, 6075, 6095, 6108, 6109, 6113, 6119, 6130, 6158, 6170, 6171, 6177, 6194, 6220, 6229, 6236, 6240, 6255, 6265, 6276, 6289, 6291, 6294, 6298, 6301, 6305, 6315, 6323, 6330, 6344, 6368, 6384, 6416, 6453, 6469, 6493, 6494, 6497, 6501, 6523, 6527, 6540, 6553, 6584, 6600, 6640, 6657, 6666, 6677, 6681, 6686, 6717, 6721, 6723, 6724, 6750, 6786, 6800, 6830, 6884, 6929, 6956, 6989, 6990, 6994, 6999, 7028, 7034, 7037, 7160, 7167, 7188, 7190, 7196, 7235, 7281, 7338, 7365, 7375, 7408, 7416, 7447, 7463, 7521, 7567, 7569, 7597, 7601, 7614, 7635, 7637, 7688, 7710, 7732, 7752, 7787, 7849, 7867, 7874, 7912, 7925, 7929, 7973, 7993, 7998, 8023, 8024, 8035, 8063, 8068, 8069, 8076, 8097, 8147, 8179, 8220, 8226, 8249, 8265, 8267, 8268, 8305, 8335, 8344, 8346, 8376, 8378, 8379, 8381, 8385, 8397, 8405, 8406, 8423, 8444, 8467, 8477, 8478, 8496, 8526, 8528, 8579, 8590, 8646, 8680, 8689, 8691, 8695, 8696, 8697, 8727, 8738, 8782, 8804, 8812, 8828, 8835, 8843, 8851, 8859, 8861, 8872, 8909, 8910, 8920, 8935, 8943, 8944, 8988, 8998, 9019, 9035, 9046, 9092, 9099, 9102, 9104, 9108, 9147, 9153, 9158, 9162, 9177, 9181, 9214, 9215, 9224, 9249, 9270, 9288, 9289, 9334, 9362, 9372, 9383, 9420, 9473, 9484, 9488, 9575, 9598, 9604, 9635, 9674, 9679, 9682, 9688, 9727, 9729, 9731, 9744, 9788, 9795, 9803, 9806, 9834, 9836, 9842, 9848, 9881, 9885, 9901, 9908, 9914, 9916, 9918, 9935, 9952, 9953, 9981, 10020, 10048, 10064, 10083, 10099, 10100, 10103, 10104, 10189, 10233, 10252, 10254, 10280, 10282, 10294, 10365, 10395, 10398, 10412, 10471, 10489, 10491, 10492, 10493, 10515, 10526, 10547, 10560, 10561, 10579, 10620, 10629, 10638, 10639, 10698, 10702, 10721, 10735, 10740, 10755, 10756, 10773, 10797, 10809, 10866, 10877, 10880, 10883, 10884, 10895, 10900, 10918, 10928, 10936, 10960, 10981, 11009, 11019, 11020, 11026, 11027, 11030, 11039, 11047, 11075, 11078, 11093, 11119, 11120, 11123, 11141, 11153, 11173, 11233, 11234, 11240, 11245, 11276, 11311, 11335, 11355, 11356, 11372, 11408, 11423, 11477, 11525, 11544, 11558, 11569, 11577, 11595, 11611, 11663, 11693, 11721, 11726, 11732, 11744, 11755, 11789, 11860, 11862, 11867, 11871, 11890, 11892, 11901, 11920, 11966, 11980, 11988, 11992, 12003, 12020, 12032, 12035, 12046, 12057, 12066, 12077, 12112, 12140, 12173, 12179, 12194, 12218, 12243, 12250, 12256, 12269, 12270, 12273, 12285, 12319, 12328, 12347, 12348, 12353, 12359, 12362, 12366, 12398, 12417, 12418, 12424, 12462, 12489, 12496, 12499, 12517, 12522, 12548, 12559, 12585, 12622, 12627, 12634, 12643, 12664, 12674, 12678, 12756, 12820, 12822, 12831, 12886, 12896, 12923, 12949, 12962, 12964, 12973, 13000, 13005, 13029, 13039, 13041, 13047, 13055, 13062, 13075, 13104, 13110, 13115, 13122, 13144, 13150, 13155, 13189, 13262, 13316, 13379, 13382, 13442, 13517, 13548, 13574, 13593, 13598, 13625, 13645, 13646, 13661, 13675, 13680, 13683, 13688, 13730, 13776, 13784, 13808, 13824, 13854, 13855, 13876, 13916, 13930, 13935, 13975, 13982, 13995, 14003, 14050, 14058, 14131, 14145, 14148, 14149, 14153, 14175, 14202, 14217, 14233, 14257, 14291, 14296, 14341, 14351, 14370, 14384, 14405, 14477, 14509, 14517, 14554, 14555, 14594, 14632, 14725, 14729, 14730, 14740, 14784, 14893, 14903, 14963, 14964, 14967, 14972, 15019, 15074, 15121, 15128, 15150, 15181, 15204, 15225, 15226, 15236, 15249, 15256, 15262, 15349, 15350, 15378, 15392, 15428, 15459, 15486, 15487, 15530, 15535, 15539, 15558, 15567, 15583, 15591, 15599, 15604, 15635, 15673, 15674, 15680, 15698, 15728, 15739, 15766, 15799, 15835, 15864, 15865, 15873, 15891, 15922, 15958, 15970, 16037, 16054, 16072, 16082, 16091, 16136, 16158, 16195, 16197, 16207, 16231, 16256, 16319, 16356, 16377, 16391, 16417, 16420, 16441, 16451, 16455, 16462, 16482, 16505, 16509, 16538, 16539, 16549, 16552, 16568, 16577, 16578, 16579, 16581, 16593, 16596, 16597, 16603, 16612, 16627, 16633, 16637, 16639, 16640, 16642, 16664, 16687, 16719, 16730, 16733, 16742, 16744, 16745, 16767, 16772, 16776, 16781, 16786, 16787, 16792, 16793, 16794, 16820, 16834, 16839, 16840, 16842, 16843, 16853, 16862, 16868, 16872, 16887, 16922, 16925, 16933, 16935, 16940, 16948, 16969, 16978, 17001, 17010, 17122, 17143, 17145, 17149, 17169, 17176, 17182, 17186, 17188, 17190, 17205, 17227, 17249, 17308, 17325, 17330, 17346, 17350, 17371, 17392, 17417, 17420, 17457, 17486, 17509, 17536, 17549, 17564, 17568, 17573, 17581, 17598, 17614, 17629, 17637, 17692, 17710, 17712, 17721, 17728, 17732, 17737, 17821, 17826, 17877, 17885, 17894, 17896, 17913, 17925, 17930, 17932, 17943, 17963, 17975, 18002, 18013, 18014, 18031, 18057, 18062, 18064, 18065, 18091, 18092, 18094, 18120, 18121, 18127, 18148, 18171, 18173, 18183, 18185, 18189, 18205, 18219, 18230, 18237, 18249, 18278, 18287, 18302, 18310, 18355, 18378, 18453, 18488, 18539, 18548, 18557, 18565, 18630, 18672, 18678, 18685, 18694, 18697, 18699, 18754, 18761, 18807, 18824, 18828, 18863, 18881, 18888, 18893, 18929, 18945, 18971, 18993, 19008, 19039, 19077, 19150, 19201, 19208, 19225, 19331, 19360, 19401, 19460, 19521, 19610, 19636, 19674, 19678, 19691, 19742, 19796, 19860, 19894, 19904, 19941, 19942, 19946, 20048, 20063, 20085, 20136, 20146, 20189, 20200, 20277, 20320, 20328, 20356, 20357, 20469, 20479, 20489, 20490, 20494, 20523, 20537, 20540, 20545, 20557, 20582, 20598, 20627, 20638, 20673, 20696, 20776, 20793, 20841, 20974, 20977, 20999, 21003, 21056, 21065, 21069, 21078, 21158, 21164, 21191, 21207, 21212, 21216, 21275, 21286, 21289, 21342, 21446, 21463, 21473, 21474, 21475, 21490, 21510, 21548, 21550, 21592, 21658, 21662, 21664, 21741, 21767, 21822, 21831, 21903, 21908, 21913, 21914, 21919, 21932, 21964, 21967, 21976, 22022, 22045, 22048, 22055, 22087, 22125, 22150, 22201, 22385, 22393, 22423, 22490, 22493, 22530, 22539, 22596, 22638, 22682, 22727, 22729, 22755, 22803, 22812, 22832, 22852, 22877, 22932, 22936, 22961, 22965, 22985, 23000, 23025, 23027, 23050, 23060, 23062, 23064, 23075, 23077, 23106, 23162, 23231, 23256, 23257, 23282, 23286, 23287, 23302, 23346, 23383, 23391, 23406, 23417, 23454, 23456, 23457, 23460, 23461, 23507, 23552, 23572, 23576, 23631, 23645, 23673, 23692, 23706, 23708, 23766, 23783, 23796, 23807, 23812, 23817, 23850, 23862, 23981, 23987, 24007, 24029, 24046, 24047, 24059, 24093, 24104, 24127, 24129, 24134, 24148, 24185, 24186, 24189, 24195, 24200, 24201, 24260, 24275, 24333, 24339, 24427, 24434, 24450, 24465, 24484, 24485, 24523, 24543, 24549, 24551, 24553, 24564, 24579, 24595, 24605, 24606, 24612, 24651, 24695, 24701, 24707, 24737, 24739, 24771, 24802, 24826, 24834, 24856, 24907, 24945, 24964, 24968, 24973, 24978, 24981, 24983, 24984, 24991, 25057, 25065, 25081, 25085, 25111, 25169, 25177, 25181, 25224, 25267, 25275, 25277, 25306, 25348, 25370, 25379, 25387, 25389, 25394, 25418, 25446, 25453, 25465, 25473, 25502, 25538, 25546, 25590, 25606, 25616, 25627, 25706, 25718, 25762, 25766, 25778, 25802, 25819, 25826, 25882, 25929, 25930, 25937, 25981, 25998, 26003, 26036, 26087, 26109, 26116, 26120, 26121, 26132, 26138, 26160, 26162, 26164, 26166, 26186, 26188, 26222, 26251, 26268, 26284, 26306, 26307, 26326, 26378, 26383, 26385, 26397, 26459, 26518, 26534, 26539, 26559, 26565, 26569, 26576, 26594, 26604, 26658, 26661, 26699, 26747, 26804, 26819, 26823, 26831, 26836, 26898, 26918, 26973, 26991, 26999, 27012, 27013, 27020, 27025, 27026, 27029, 27163, 27192, 27198, 27278, 27290, 27303, 27348, 27361, 27374, 27381, 27391, 27414, 27431, 27455, 27459, 27466, 27481, 27487, 27509, 27512, 27532, 27569, 27581, 27631, 27679, 27688, 27707, 27716, 27719, 27728, 27730, 27763, 27785, 27809, 27810, 27821, 27824, 27860, 27919, 27940, 27953, 27957, 28063, 28074, 28099, 28108, 28124, 28146, 28147, 28171, 28175, 28178, 28214, 28268, 28278, 28281, 28284, 28290, 28297, 28302, 28310, 28316, 28321, 28329, 28334, 28373, 28388, 28495, 28512, 28530, 28533, 28557, 28576, 28579, 28604, 28664, 28669, 28670, 28673, 28681, 28715, 28746, 28756, 28786, 28802, 28813, 28821, 28907, 28961, 29013, 29016, 29033, 29034, 29052, 29066, 29070, 29211, 29223, 29229, 29250, 29251, 29256, 29268, 29291, 29295, 29320, 29364, 29368, 29375, 29392, 29397, 29411, 29520, 29532, 29540, 29580, 29590, 29614, 29659, 29660, 29662, 29666, 29687, 29690, 29691, 29695, 29701, 29712, 29717, 29732, 29743, 29768, 29776, 29781, 29811, 29871, 29894, 29900, 29926, 29937, 29960, 29968, 30024, 30033, 30110, 30116, 30117, 30123, 30124, 30132, 30133, 30138, 30142, 30160, 30183, 30184, 30187, 30205, 30221, 30225, 30228, 30250, 30254, 30261, 30286, 30302, 30308, 30314, 30337, 30350, 30380, 30381, 30433, 30440, 30445, 30537, 30538, 30539, 30546, 30550, 30560, 30561, 30563, 30564, 30572, 30614, 30622, 30626, 30644, 30645, 30660, 30671, 30720, 30736, 30762, 30789, 30803, 30812, 30833, 30890, 30918, 30939, 30941, 30942, 30949, 30953, 30954, 30966, 31062, 31067, 31107, 31172, 31177, 31180, 31193, 31194, 31196, 31243, 31247, 31298, 31300, 31301, 31304, 31305, 31307, 31320, 31323, 31326, 31349, 31357, 31372, 31401, 31456, 31479, 31513, 31536, 31543, 31547, 31551, 31587, 31595, 31637, 31665, 31741, 31747, 31767, 31789, 31792, 31796, 31800, 31819, 31825, 31836, 31879, 31907, 31917, 31919, 31942, 31946, 31988, 31993, 32002, 32025, 32043, 32044, 32095, 32123, 32130, 32164, 32175, 32226, 32308, 32417, 32533, 32534, 32536, 32539, 32549, 32639, 32665, 32667, 32694, 32713, 32749, 32757, 32789, 32865, 32874, 32891, 32898, 33000, 33127, 33187, 33204, 33260, 33266, 33302, 33337, 33407, 33511, 33521, 33535, 33564, 33615, 33639, 33640, 33668, 33688, 33722, 33834, 33880, 33896, 33975, 33992, 34004, 34032, 34086, 34158, 34178, 34184, 34205, 34207, 34245, 34356, 34411, 34455, 34469, 34472, 34482, 34491, 34509, 34511, 34660, 34679, 34702, 34721, 34742, 34747, 34763, 34825, 34880, 34896, 34911, 34942, 34952, 34971, 34984, 35001, 35007, 35175, 35222, 35233, 35234, 35266, 35281, 35327, 35334, 35338, 35352, 35362, 35394, 35405, 35423, 35442, 35472, 35498, 35510, 35526, 35541, 35558, 35578, 35648, 35736, 35769, 35787, 35886, 35933, 35941, 35951, 35987, 36036, 36038, 36125, 36132, 36142, 36181, 36208, 36225, 36232, 36310, 36363, 36422, 36431, 36444, 36471, 36494, 36498, 36550, 36575, 36619, 36645, 36647, 36735, 36746, 36753, 36796, 36868, 36901, 36933, 36943, 36969, 36986, 36987, 37011, 37020, 37021, 37028, 37095, 37101, 37120, 37169, 37170, 37228, 37236, 37251, 37253, 37262, 37311, 37346, 37378, 37380, 37397, 37400, 37406, 37419, 37440, 37457, 37469, 37470, 37532, 37550, 37619, 37628, 37650, 37667, 37692, 37705, 37709, 37710, 37749, 37757, 37767, 37785, 37812, 37821, 37823, 37835, 37861, 37914, 37920, 38102, 38128, 38200, 38237, 38241, 38271, 38272, 38326, 38368, 38398, 38468, 38472, 38488, 38521, 38542, 38566, 38573, 38612, 38616, 38625, 38643, 38696, 38703, 38733, 38737, 38739, 38742, 38748, 38753, 38769, 38781, 38792, 38819, 38906, 38925, 38964, 38967, 38988, 39006, 39073, 39123, 39152, 39160, 39187, 39208, 39218, 39258, 39272, 39274, 39287, 39302, 39324, 39326, 39356, 39358, 39366, 39368, 39370, 39399, 39416, 39446, 39466, 39480, 39496, 39513, 39525, 39552, 39557, 39596, 39599, 39608, 39636, 37, 73, 77, 78, 96, 125, 141, 239, 273, 280, 303, 317, 348, 382, 395, 426, 427, 430, 431, 456, 458, 461, 462, 468, 472, 485, 494, 533, 534, 536, 554, 564, 568, 600, 601, 620, 625, 646, 655, 666, 667, 672, 676, 710, 720, 726, 737, 757, 770, 782, 784, 785, 802, 804, 806, 813, 829, 837, 838, 880, 887, 915, 953, 966, 967, 968, 993, 1006, 1028, 1030, 1035, 1038, 1039, 1040, 1063, 1065, 1067, 1068, 1069, 1076, 1083, 1091, 1118, 1119, 1122, 1130, 1131, 1136, 1144, 1146, 1147, 1148, 1157, 1161, 1162, 1179, 1184, 1186, 1187, 1188, 1189, 1210, 1212, 1215, 1240, 1242, 1261, 1269, 1272, 1306, 1319, 1320, 1323, 1325, 1363, 1365, 1372, 1394, 1425, 1427, 1428, 1478, 1479, 1507, 1509, 1527, 1537, 1541, 1546, 1554, 1568, 1601, 1617, 1622, 1652, 1655, 1658, 1689, 1698, 1711, 1712, 1745, 1746, 1748, 1769, 1784, 1788, 1792, 1808, 1814, 1818, 1839, 1840, 1841, 1873, 1884, 1888, 1926, 1941, 1948, 1958, 1973, 1974, 1987, 1998, 2001, 2006, 2021, 2024, 2025, 2027, 2056, 2082, 2094, 2107, 2127, 2155, 2180, 2181, 2182, 2188, 2192, 2194, 2199, 2213, 2228, 2244, 2253, 2254, 2266, 2289, 2302, 2313, 2314, 2335, 2337, 2367, 2385, 2386, 2411, 2416, 2428, 2446, 2453, 2469, 2479, 2485, 2495, 2499, 2513, 2529, 2554, 2582, 2584, 2587, 2588, 2622, 2629, 2632, 2650, 2659, 2665, 2670, 2693, 2714, 2718, 2725, 2731, 2732, 2742, 2775, 2779, 2843, 2854, 2888, 2892, 2924, 2929, 2953, 2957, 2958, 2995, 2997, 3029, 3037, 3042, 3068, 3074, 3087, 3089, 3091, 3130, 3133, 3144, 3146, 3159, 3167, 3179, 3197, 3199, 3226, 3227, 3251, 3256, 3263, 3317, 3329, 3333, 3341, 3343, 3350, 3354, 3362, 3364, 3365, 3380, 3388, 3391, 3392, 3394, 3400, 3403, 3404, 3407, 3412, 3413, 3418, 3462, 3474, 3478, 3489, 3492, 3493, 3494, 3503, 3509, 3514, 3524, 3525, 3539, 3552, 3555, 3557, 3558, 3559, 3562, 3577, 3588, 3610, 3619, 3623, 3624, 3647, 3665, 3684, 3687, 3688, 3691, 3714, 3716, 3751, 3766, 3770, 3827, 3833, 3859, 3881, 3902, 3903, 3914, 3916, 3917, 3933, 3938, 3942, 3974, 3999, 4004, 4045, 4067, 4074, 4097, 4098, 4111, 4123, 4124, 4162, 4169, 4197, 4198, 4203, 4217, 4218, 4244, 4264, 4273, 4295, 4296, 4306, 4315, 4317, 4342, 4348, 4358, 4367, 4370, 4376, 4418, 4443, 4452, 4507, 4533, 4588, 4606, 4614, 4615, 4621, 4628, 4636, 4641, 4651, 4652, 4660, 4662, 4671, 4678, 4692, 4694, 4710, 4711, 4713, 4724, 4734, 4742, 4774, 4778, 4779, 4811, 4828, 4833, 4849, 4865, 4868, 4871, 4872, 4875, 4876, 4877, 4884, 4899, 4906, 4907, 4914, 4915, 4924, 4928, 4963, 4970, 4984, 5044, 5046, 5054, 5067, 5073, 5074, 5084, 5087, 5109, 5118, 5123, 5129, 5177, 5188, 5190, 5210, 5214, 5232, 5234, 5236, 5243, 5250, 5269, 5299, 5305, 5312, 5315, 5327, 5355, 5377, 5406, 5417, 5424, 5425, 5465, 5475, 5476, 5478, 5483, 5488, 5489, 5490, 5532, 5534, 5535, 5546, 5568, 5573, 5586, 5592, 5600, 5602, 5617, 5621, 5635, 5652, 5660, 5668, 5674, 5675, 5677, 5706, 5714, 5731, 5746, 5758, 5771, 5781, 5806, 5823, 5826, 5875, 5883, 5887, 5888, 5906, 5909, 5941, 5944, 5948, 5998, 6003, 6015, 6023, 6027, 6034, 6064, 6117, 6133, 6162, 6174, 6189, 6193, 6199, 6207, 6211, 6214, 6223, 6230, 6241, 6258, 6262, 6273, 6282, 6290, 6320, 6325, 6352, 6369, 6371, 6380, 6382, 6383, 6385, 6395, 6396, 6412, 6456, 6466, 6524, 6573, 6575, 6603, 6605, 6609, 6633, 6635, 6637, 6667, 6670, 6672, 6694, 6701, 6705, 6709, 6736, 6743, 6754, 6757, 6762, 6774, 6780, 6781, 6789, 6842, 6894, 6911, 6912, 6913, 6960, 6992, 7005, 7006, 7016, 7026, 7036, 7052, 7054, 7069, 7097, 7123, 7171, 7174, 7191, 7203, 7205, 7212, 7246, 7282, 7287, 7289, 7292, 7316, 7318, 7319, 7333, 7341, 7358, 7367, 7377, 7384, 7419, 7420, 7446, 7454, 7457, 7472, 7493, 7505, 7517, 7541, 7542, 7559, 7561, 7568, 7604, 7671, 7674, 7690, 7691, 7703, 7707, 7723, 7724, 7734, 7754, 7765, 7811, 7812, 7813, 7824, 7851, 7871, 7872, 7876, 7883, 7939, 7940, 8027, 8036, 8050, 8056, 8062, 8067, 8083, 8084, 8085, 8116, 8176, 8187, 8251, 8252, 8262, 8263, 8264, 8269, 8275, 8291, 8293, 8298, 8301, 8329, 8336, 8348, 8357, 8362, 8395, 8396, 8398, 8418, 8441, 8449, 8454, 8471, 8480, 8484, 8505, 8533, 8580, 8585, 8600, 8622, 8626, 8638, 8662, 8679, 8699, 8700, 8701, 8702, 8709, 8712, 8713, 8714, 8715, 8716, 8720, 8732, 8736, 8737, 8742, 8743, 8747, 8761, 8771, 8786, 8791, 8794, 8817, 8841, 8903, 8915, 8928, 8932, 8992, 9026, 9036, 9053, 9054, 9057, 9063, 9069, 9077, 9078, 9097, 9103, 9114, 9119, 9124, 9127, 9142, 9156, 9168, 9175, 9189, 9236, 9237, 9239, 9262, 9281, 9312, 9314, 9318, 9356, 9357, 9381, 9393, 9414, 9416, 9421, 9425, 9427, 9444, 9458, 9459, 9466, 9478, 9479, 9481, 9487, 9503, 9528, 9542, 9572, 9583, 9605, 9606, 9608, 9633, 9641, 9658, 9671, 9703, 9707, 9742, 9750, 9751, 9771, 9778, 9785, 9792, 9832, 9860, 9872, 9879, 9883, 9948, 10001, 10010, 10022, 10117, 10133, 10141, 10144, 10154, 10158, 10211, 10212, 10215, 10238, 10247, 10249, 10293, 10317, 10323, 10358, 10375, 10393, 10446, 10451, 10459, 10460, 10465, 10469, 10477, 10478, 10496, 10506, 10507, 10527, 10528, 10546, 10559, 10581, 10584, 10596, 10597, 10619, 10671, 10676, 10713, 10760, 10762, 10799, 10801, 10802, 10811, 10831, 10832, 10847, 10859, 10873, 10934, 10945, 10946, 10947, 10955, 10967, 10976, 11006, 11024, 11037, 11043, 11057, 11074, 11091, 11095, 11097, 11134, 11136, 11139, 11140, 11161, 11194, 11206, 11213, 11224, 11236, 11261, 11266, 11268, 11275, 11279, 11294, 11297, 11302, 11314, 11339, 11344, 11374, 11378, 11380, 11385, 11390, 11433, 11438, 11444, 11449, 11450, 11472, 11483, 11489, 11502, 11510, 11550, 11556, 11574, 11578, 11582, 11583, 11635, 11638, 11641, 11662, 11677, 11698, 11718, 11736, 11761, 11764, 11773, 11774, 11777, 11784, 11810, 11834, 11836, 11849, 11899, 11915, 11926, 11941, 11967, 11993, 12006, 12007, 12008, 12025, 12069, 12107, 12118, 12126, 12131, 12132, 12148, 12182, 12232, 12234, 12244, 12245, 12251, 12276, 12284, 12293, 12295, 12329, 12336, 12342, 12363, 12376, 12377, 12399, 12416, 12451, 12459, 12506, 12519, 12524, 12539, 12540, 12566, 12572, 12589, 12605, 12610, 12619, 12661, 12672, 12673, 12677, 12699, 12737, 12741, 12766, 12772, 12785, 12799, 12803, 12821, 12844, 12858, 12873, 12881, 12888, 12911, 12914, 12917, 12921, 12931, 12979, 12991, 12996, 13015, 13044, 13045, 13076, 13123, 13125, 13139, 13141, 13157, 13198, 13202, 13219, 13232, 13252, 13253, 13280, 13283, 13295, 13301, 13350, 13354, 13370, 13376, 13448, 13450, 13456, 13472, 13493, 13501, 13528, 13535, 13537, 13552, 13554, 13557, 13575, 13586, 13603, 13612, 13615, 13620, 13639, 13641, 13673, 13692, 13721, 13735, 13744, 13750, 13777, 13798, 13799, 13807, 13809, 13828, 13836, 13850, 13868, 13873, 13932, 13979, 13988, 13990, 14016, 14017, 14024, 14025, 14026, 14067, 14074, 14080, 14098, 14104, 14106, 14147, 14171, 14178, 14179, 14180, 14201, 14243, 14272, 14309, 14311, 14328, 14332, 14374, 14375, 14412, 14413, 14426, 14427, 14430, 14448, 14449, 14450, 14474, 14485, 14494, 14508, 14534, 14544, 14573, 14609, 14611, 14649, 14675, 14678, 14731, 14741, 14795, 14803, 14826, 14845, 14850, 14860, 14900, 14932, 14933, 14934, 14946, 14957, 14973, 14988, 15023, 15050, 15054, 15056, 15090, 15108, 15111, 15130, 15144, 15145, 15152, 15160, 15165, 15175, 15183, 15206, 15207, 15229, 15242, 15292, 15293, 15297, 15300, 15302, 15304, 15321, 15327, 15332, 15339, 15341, 15342, 15343, 15363, 15372, 15472, 15482, 15484, 15515, 15529, 15537, 15543, 15545, 15546, 15561, 15573, 15577, 15602, 15645, 15651, 15664, 15687, 15700, 15702, 15715, 15721, 15731, 15741, 15754, 15769, 15805, 15811, 15814, 15818, 15819, 15839, 15853, 15855, 15857, 15863, 15877, 15895, 15896, 15919, 15955, 15967, 15980, 15981, 15997, 15998, 16003, 16019, 16039, 16041, 16057, 16059, 16073, 16081, 16124, 16133, 16142, 16157, 16168, 16173, 16187, 16188, 16192, 16217, 16244, 16245, 16280, 16291, 16292, 16297, 16303, 16317, 16332, 16333, 16350, 16351, 16359, 16360, 16361, 16362, 16376, 16410, 16418, 16426, 16428, 16473, 16474, 16516, 16532, 16537, 16544, 16566, 16600, 16644, 16647, 16679, 16686, 16691, 16692, 16693, 16706, 16712, 16736, 16757, 16796, 16803, 16826, 16829, 16856, 16880, 16881, 16883, 16898, 16910, 16934, 16936, 16957, 16958, 17013, 17019, 17042, 17073, 17082, 17084, 17112, 17113, 17115, 17118, 17119, 17130, 17134, 17137, 17180, 17200, 17203, 17216, 17218, 17241, 17259, 17261, 17275, 17291, 17292, 17298, 17302, 17320, 17332, 17362, 17382, 17400, 17403, 17406, 17409, 17425, 17434, 17437, 17438, 17454, 17455, 17464, 17468, 17469, 17470, 17473, 17478, 17485, 17496, 17505, 17506, 17527, 17530, 17541, 17543, 17547, 17554, 17580, 17604, 17605, 17631, 17650, 17659, 17666, 17695, 17697, 17701, 17703, 17704, 17718, 17723, 17733, 17734, 17761, 17770, 17798, 17827, 17831, 17834, 17835, 17836, 17841, 17855, 17862, 17895, 17928, 17929, 17957, 17959, 17960, 17970, 17973, 17983, 17990, 18011, 18021, 18030, 18043, 18078, 18079, 18093, 18106, 18126, 18231, 18238, 18258, 18259, 18263, 18264, 18290, 18300, 18301, 18311, 18314, 18315, 18318, 18437, 18443, 18480, 18502, 18575, 18596, 18600, 18642, 18648, 18689, 18692, 18707, 18778, 18779, 18782, 18803, 18834, 18836, 18837, 18861, 18877, 18879, 18887, 18896, 18908, 18909, 18916, 18940, 18953, 18965, 18973, 19021, 19040, 19041, 19082, 19091, 19116, 19136, 19139, 19209, 19222, 19240, 19268, 19269, 19274, 19277, 19288, 19289, 19304, 19334, 19338, 19339, 19340, 19346, 19361, 19362, 19375, 19398, 19415, 19476, 19541, 19545, 19554, 19562, 19573, 19583, 19612, 19613, 19614, 19616, 19617, 19618, 19656, 19676, 19677, 19685, 19725, 19734, 19740, 19746, 19747, 19770, 19787, 19790, 19807, 19820, 19821, 19851, 19852, 19855, 19856, 19857, 19868, 19869, 19893, 19897, 19911, 19914, 19959, 19974, 19975, 19990, 20005, 20022, 20025, 20041, 20088, 20097, 20105, 20153, 20156, 20182, 20196, 20201, 20202, 20204, 20209, 20219, 20235, 20238, 20251, 20252, 20257, 20261, 20265, 20274, 20275, 20301, 20354, 20363, 20369, 20382, 20384, 20419, 20430, 20435, 20437, 20458, 20461, 20481, 20485, 20509, 20513, 20514, 20527, 20590, 20635, 20646, 20648, 20668, 20672, 20674, 20705, 20727, 20739, 20785, 20795, 20796, 20808, 20827, 20855, 20872, 20890, 20898, 20916, 20917, 20923, 20926, 20930, 20934, 20957, 20975, 20995, 21019, 21054, 21082, 21112, 21137, 21141, 21173, 21201, 21205, 21217, 21355, 21377, 21406, 21445, 21456, 21457, 21460, 21476, 21479, 21489, 21529, 21531, 21538, 21551, 21557, 21565, 21576, 21605, 21615, 21624, 21635, 21638, 21644, 21651, 21691, 21705, 21708, 21757, 21774, 21790, 21803, 21840, 21841, 21842, 21867, 21893, 21897, 21922, 21945, 21950, 21973, 21983, 21984, 21988, 22030, 22036, 22039, 22051, 22057, 22069, 22155, 22164, 22184, 22191, 22205, 22208, 22210, 22237, 22241, 22270, 22345, 22350, 22378, 22380, 22381, 22390, 22409, 22410, 22432, 22437, 22458, 22470, 22474, 22477, 22529, 22531, 22544, 22554, 22563, 22564, 22583, 22644, 22664, 22672, 22718, 22738, 22752, 22771, 22776, 22781, 22810, 22828, 22854, 22855, 22859, 22897, 22909, 22938, 22939, 22941, 22946, 22947, 22956, 22957, 22959, 22966, 22999, 23007, 23008, 23010, 23022, 23059, 23067, 23071, 23074, 23088, 23118, 23148, 23165, 23188, 23189, 23190, 23203, 23228, 23259, 23271, 23295, 23296, 23310, 23317, 23342, 23423, 23510, 23511, 23512, 23523, 23528, 23599, 23625, 23675, 23744, 23745, 23762, 23789, 23798, 23823, 23832, 23876, 23895, 23914, 23917, 23919, 23928, 23936, 23961, 23993, 23999, 24006, 24055, 24056, 24076, 24083, 24090, 24117, 24135, 24163, 24164, 24168, 24181, 24194, 24217, 24246, 24256, 24307, 24325, 24326, 24334, 24355, 24374, 24396, 24399, 24400, 24402, 24406, 24425, 24446, 24457, 24479, 24511, 24526, 24533, 24538, 24542, 24558, 24584, 24658, 24708, 24713, 24714, 24725, 24741, 24749, 24754, 24758, 24766, 24796, 24833, 24855, 24884, 24889, 24890, 24906, 24926, 24932, 24953, 24958, 25021, 25046, 25075, 25095, 25121, 25125, 25152, 25184, 25202, 25225, 25230, 25264, 25279, 25284, 25292, 25300, 25319, 25328, 25374, 25423, 25450, 25468, 25469, 25472, 25476, 25483, 25486, 25494, 25528, 25548, 25563, 25565, 25566, 25573, 25583, 25602, 25657, 25661, 25722, 25746, 25810, 25812, 25830, 25851, 25887, 25890, 25924, 25935, 25964, 25971, 25976, 26013, 26046, 26055, 26079, 26085, 26112, 26146, 26153, 26196, 26208, 26210, 26215, 26226, 26231, 26299, 26346, 26359, 26373, 26377, 26395, 26419, 26426, 26427, 26472, 26489, 26493, 26546, 26615, 26616, 26622, 26625, 26647, 26682, 26683, 26691, 26693, 26696, 26711, 26714, 26745, 26757, 26761, 26771, 26788, 26811, 26865, 26887, 26897, 26912, 26914, 26928, 26995, 26997, 27047, 27061, 27072, 27140, 27154, 27160, 27175, 27191, 27234, 27265, 27270, 27273, 27313, 27314, 27333, 27364, 27369, 27422, 27430, 27440, 27490, 27496, 27503, 27526, 27531, 27565, 27574, 27597, 27600, 27601, 27609, 27643, 27647, 27648, 27649, 27657, 27658, 27661, 27668, 27676, 27722, 27753, 27786, 27805, 27806, 27835, 27863, 27867, 27876, 27884, 27885, 27912, 27929, 27931, 27933, 27944, 27947, 27964, 27967, 27980, 27986, 28000, 28016, 28020, 28030, 28048, 28049, 28052, 28082, 28097, 28114, 28122, 28139, 28141, 28145, 28153, 28156, 28191, 28192, 28221, 28223, 28257, 28263, 28265, 28273, 28280, 28366, 28372, 28376, 28377, 28378, 28408, 28446, 28465, 28514, 28525, 28548, 28564, 28572, 28586, 28587, 28593, 28599, 28602, 28608, 28620, 28667, 28706, 28721, 28736, 28744, 28748, 28781, 28858, 28872, 28892, 28917, 28926, 28939, 28964, 28969, 28973, 28975, 28987, 28997, 29017, 29053, 29057, 29090, 29123, 29138, 29243, 29254, 29271, 29285, 29288, 29299, 29300, 29332, 29348, 29370, 29394, 29404, 29412, 29417, 29442, 29489, 29499, 29537, 29568, 29579, 29599, 29629, 29692, 29737, 29810, 29822, 29828, 29837, 29847, 29848, 29886, 29929, 29994, 30013, 30097, 30114, 30125, 30172, 30217, 30253, 30298, 30300, 30301, 30324, 30326, 30331, 30349, 30367, 30386, 30407, 30408, 30434, 30450, 30458, 30475, 30484, 30488, 30514, 30551, 30556, 30595, 30637, 30640, 30649, 30668, 30670, 30678, 30682, 30714, 30717, 30742, 30779, 30851, 30852, 30861, 30905, 30910, 30946, 30958, 30965, 31019, 31021, 31160, 31161, 31166, 31210, 31234, 31240, 31250, 31265, 31291, 31294, 31306, 31392, 31428, 31522, 31600, 31693, 31714, 31781, 31862, 31869, 31886, 31908, 31926, 31960, 31967, 31969, 31974, 32015, 32101, 32159, 32160, 32203, 32259, 32266, 32279, 32314, 32325, 32337, 32522, 32589, 32631, 32633, 32641, 32683, 32732, 32736, 32822, 32868, 32920, 32970, 33018, 33047, 33080, 33113, 33142, 33143, 33207, 33212, 33240, 33305, 33307, 33369, 33408, 33410, 33467, 33468, 33590, 33591, 33619, 33767, 33786, 33819, 33824, 33860, 33891, 33939, 34009, 34113, 34127, 34180, 34185, 34223, 34277, 34278, 34301, 34363, 34386, 34451, 34468, 34549, 34596, 34621, 34661, 34668, 34782, 34795, 34796, 34808, 34877, 34898, 34953, 34977, 34989, 35045, 35144, 35159, 35172, 35249, 35288, 35295, 35335, 35370, 35438, 35490, 35553, 35651, 35768, 35777, 35785, 35824, 35850, 35856, 35867, 35918, 36029, 36037, 36105, 36122, 36188, 36222, 36223, 36233, 36269, 36270, 36339, 36514, 36542, 36558, 36597, 36678, 36721, 36724, 36767, 36790, 36802, 36807, 36862, 36952, 37078, 37079, 37208, 37213, 37238, 37306, 37351, 37403, 37488, 37503, 37514, 37586, 37647, 37658, 37670, 37680, 37685, 37686, 37691, 37693, 37721, 37746, 37828, 37851, 37959, 37969, 37974, 37989, 38005, 38016, 38059, 38076, 38166, 38172, 38317, 38332, 38408, 38409, 38441, 38454, 38462, 38466, 38467, 38469, 38544, 38579, 38601, 38633, 38692, 38697, 38710, 38721, 38752, 38768, 38775, 38900, 38923, 38937, 38956, 38963, 39041, 39095, 39100, 39107, 39115, 39145, 39230, 39236, 39238, 39367, 39476, 39491, 39493, 39503, 39561, 39575, 39640, 87, 113, 126, 137, 145, 176, 204, 239, 330, 356, 357, 359, 365, 425, 478, 488, 524, 540, 560, 620, 642, 659, 752, 760, 783, 785, 793, 800, 804, 858, 862, 944, 992, 1051, 1067, 1072, 1073, 1134, 1157, 1174, 1196, 1321, 1356, 1359, 1366, 1382, 1383, 1424, 1433, 1459, 1464, 1558, 1608, 1656, 1660, 1663, 1678, 1689, 1696, 1748, 1901, 1918, 1920, 1927, 1937, 1945, 1962, 1972, 1990, 2068, 2080, 2120, 2126, 2144, 2231, 2242, 2249, 2251, 2256, 2284, 2316, 2324, 2353, 2394, 2403, 2492, 2536, 2580, 2585, 2586, 2591, 2592, 2596, 2598, 2600, 2635, 2672, 2673, 2718, 2745, 2830, 2861, 2874, 2896, 2919, 2937, 2938, 3013, 3093, 3106, 3121, 3170, 3176, 3179, 3188, 3192, 3220, 3241, 3249, 3260, 3327, 3335, 3345, 3367, 3405, 3418, 3486, 3540, 3613, 3630, 3653, 3694, 3729, 3733, 3752, 3759, 3793, 3799, 3805, 3806, 3807, 3811, 3823, 3849, 3878, 3906, 3922, 3976, 4064, 4071, 4078, 4085, 4088, 4106, 4110, 4115, 4116, 4122, 4156, 4181, 4186, 4210, 4216, 4217, 4276, 4307, 4318, 4353, 4366, 4421, 4438, 4474, 4482, 4493, 4502, 4515, 4550, 4551, 4621, 4645, 4656, 4657, 4658, 4664, 4665, 4669, 4677, 4680, 4684, 4691, 4701, 4706, 4708, 4712, 4714, 4786, 4826, 4888, 4986, 4995, 5002, 5004, 5066, 5076, 5102, 5137, 5146, 5164, 5206, 5215, 5287, 5301, 5354, 5370, 5395, 5396, 5438, 5467, 5504, 5509, 5658, 5674, 5695, 5716, 5747, 5816, 5846, 5854, 5866, 5891, 5909, 5926, 5928, 5993, 6002, 6026, 6028, 6081, 6125, 6128, 6159, 6178, 6216, 6276, 6345, 6355, 6407, 6446, 6460, 6494, 6513, 6531, 6540, 6582, 6588, 6597, 6598, 6611, 6613, 6614, 6638, 6646, 6652, 6675, 6778, 6823, 6850, 6855, 6876, 6918, 6942, 6988, 7008, 7067, 7104, 7113, 7115, 7133, 7144, 7149, 7203, 7225, 7247, 7252, 7282, 7305, 7316, 7331, 7332, 7333, 7336, 7353, 7371, 7373, 7381, 7392, 7397, 7415, 7450, 7479, 7492, 7493, 7529, 7554, 7597, 7631, 7639, 7659, 7667, 7669, 7688, 7691, 7703, 7740, 7793, 7876, 7887, 7903, 7909, 7943, 7981, 8162, 8204, 8213, 8224, 8232, 8242, 8246, 8249, 8267, 8282, 8314, 8336, 8438, 8490, 8502, 8509, 8524, 8563, 8565, 8577, 8597, 8617, 8621, 8634, 8637, 8639, 8653, 8675, 8680, 8694, 8756, 8812, 8831, 8837, 8894, 8899, 8901, 8950, 9042, 9101, 9106, 9107, 9127, 9178, 9231, 9234, 9278, 9292, 9293, 9305, 9423, 9436, 9440, 9549, 9588, 9633, 9647, 9663, 9709, 9711, 9748, 9752, 9782, 9932, 9983, 10055, 10070, 10080, 10102, 10138, 10144, 10148, 10164, 10192, 10219, 10225, 10235, 10237, 10254, 10335, 10340, 10349, 10361, 10414, 10430, 10449, 10511, 10526, 10570, 10572, 10579, 10594, 10596, 10612, 10619, 10635, 10639, 10652, 10653, 10656, 10657, 10737, 10769, 10799, 10809, 10814, 10832, 10884, 10916, 10938, 10960, 10988, 11004, 11011, 11027, 11032, 11037, 11042, 11062, 11106, 11133, 11165, 11187, 11198, 11202, 11252, 11287, 11310, 11319, 11329, 11333, 11334, 11340, 11345, 11408, 11465, 11511, 11512, 11538, 11577, 11580, 11606, 11658, 11720, 11802, 11835, 11869, 11887, 11978, 12032, 12052, 12077, 12099, 12101, 12102, 12107, 12136, 12173, 12196, 12201, 12266, 12275, 12280, 12300, 12366, 12406, 12417, 12491, 12497, 12525, 12530, 12547, 12703, 12763, 12869, 12894, 12904, 12914, 12926, 12931, 12949, 13024, 13087, 13122, 13152, 13175, 13206, 13222, 13233, 13255, 13298, 13316, 13385, 13442, 13487, 13533, 13547, 13549, 13593, 13600, 13627, 13631, 13654, 13661, 13669, 13675, 13725, 13732, 13739, 13752, 13785, 13797, 13827, 13871, 13873, 13899, 13906, 13913, 13916, 13917, 13928, 13942, 13992, 14027, 14028, 14032, 14049, 14073, 14104, 14133, 14243, 14274, 14326, 14355, 14356, 14390, 14405, 14450, 14479, 14489, 14501, 14535, 14567, 14591, 14652, 14672, 14684, 14703, 14728, 14736, 14844, 14862, 14870, 14890, 14900, 14935, 14965, 14980, 15043, 15049, 15083, 15086, 15096, 15127, 15136, 15143, 15150, 15183, 15262, 15300, 15305, 15312, 15326, 15329, 15426, 15429, 15458, 15460, 15465, 15473, 15519, 15535, 15627, 15642, 15663, 15665, 15666, 15674, 15676, 15703, 15723, 15725, 15746, 15752, 15784, 15790, 15803, 15822, 15841, 15876, 15918, 15989, 16000, 16024, 16033, 16072, 16111, 16187, 16239, 16245, 16250, 16251, 16268, 16281, 16294, 16305, 16307, 16319, 16336, 16341, 16345, 16366, 16376, 16384, 16447, 16448, 16477, 16482, 16483, 16497, 16531, 16557, 16580, 16609, 16641, 16654, 16731, 16740, 16771, 16793, 16805, 16814, 16820, 16907, 16915, 16941, 16961, 16980, 16995, 17030, 17063, 17079, 17101, 17137, 17141, 17145, 17147, 17150, 17227, 17248, 17263, 17274, 17312, 17339, 17351, 17385, 17439, 17485, 17510, 17513, 17522, 17525, 17551, 17570, 17580, 17597, 17598, 17616, 17704, 17707, 17712, 17746, 17752, 17790, 17955, 17981, 18018, 18026, 18030, 18037, 18040, 18043, 18046, 18113, 18130, 18138, 18179, 18181, 18194, 18249, 18273, 18395, 18516, 18523, 18596, 18614, 18631, 18711, 18729, 18763, 18780, 18831, 18845, 18865, 18880, 18948, 18955, 18974, 19167, 19179, 19202, 19206, 19207, 19270, 19291, 19292, 19526, 19537, 19547, 19570, 19572, 19584, 19588, 19599, 19609, 19630, 19676, 19725, 19771, 19812, 19839, 19850, 19900, 19906, 19907, 19910, 19944, 19975, 20006, 20103, 20124, 20125, 20199, 20216, 20217, 20258, 20281, 20320, 20338, 20378, 20396, 20416, 20615, 20642, 20660, 20705, 20775, 20777, 20802, 20813, 20870, 20872, 20919, 20978, 21012, 21034, 21038, 21071, 21180, 21324, 21335, 21340, 21374, 21389, 21401, 21481, 21494, 21556, 21566, 21669, 21688, 21748, 21767, 21778, 21783, 21788, 21844, 21847, 21861, 21862, 21874, 21900, 21912, 21949, 21964, 21984, 22046, 22057, 22081, 22089, 22107, 22131, 22165, 22202, 22206, 22208, 22295, 22311, 22410, 22430, 22469, 22494, 22501, 22503, 22573, 22645, 22652, 22668, 22669, 22670, 22687, 22715, 22821, 22847, 22873, 22875, 22979, 22999, 23022, 23028, 23033, 23035, 23062, 23103, 23140, 23204, 23225, 23278, 23286, 23294, 23323, 23325, 23342, 23351, 23400, 23454, 23469, 23486, 23493, 23501, 23540, 23552, 23580, 23581, 23598, 23618, 23622, 23702, 23778, 23806, 23862, 23978, 23986, 24013, 24064, 24070, 24076, 24146, 24217, 24223, 24224, 24250, 24284, 24302, 24344, 24416, 24434, 24438, 24525, 24557, 24569, 24581, 24594, 24608, 24611, 24633, 24673, 24688, 24717, 24758, 24763, 24780, 24834, 24851, 24901, 24986, 24996, 24997, 25120, 25137, 25193, 25203, 25310, 25356, 25397, 25412, 25418, 25453, 25473, 25480, 25522, 25546, 25568, 25596, 25706, 25714, 25718, 25855, 25902, 25915, 25928, 25954, 26105, 26124, 26177, 26284, 26285, 26315, 26316, 26326, 26331, 26357, 26391, 26392, 26416, 26427, 26437, 26534, 26559, 26566, 26607, 26645, 26673, 26676, 26698, 26706, 26736, 26755, 26779, 26782, 26825, 26922, 26926, 26933, 26945, 27043, 27055, 27106, 27119, 27305, 27306, 27364, 27366, 27389, 27467, 27480, 27502, 27504, 27508, 27565, 27569, 27581, 27614, 27620, 27648, 27678, 27683, 27821, 27922, 27948, 27968, 28006, 28074, 28090, 28124, 28163, 28195, 28197, 28201, 28238, 28325, 28340, 28373, 28379, 28395, 28478, 28498, 28499, 28567, 28581, 28609, 28654, 28675, 28690, 28700, 28727, 28757, 28760, 28795, 28868, 28897, 28950, 28989, 29049, 29073, 29087, 29102, 29125, 29202, 29205, 29207, 29238, 29271, 29330, 29338, 29378, 29429, 29490, 29566, 29568, 29574, 29645, 29691, 29804, 29808, 29842, 29849, 29862, 29877, 29966, 30088, 30094, 30149, 30187, 30196, 30221, 30249, 30269, 30320, 30321, 30391, 30425, 30428, 30440, 30455, 30481, 30574, 30588, 30592, 30752, 30783, 30793, 30801, 30809, 30812, 30823, 30849, 30860, 30958, 30965, 30970, 30996, 31019, 31062, 31086, 31102, 31123, 31128, 31129, 31134, 31403, 31525, 31588, 31607, 31775, 31797, 31872, 31892, 31996, 32074, 32192, 32260, 32275, 32276, 32291, 32306, 32310, 32354, 32418, 32479, 32511, 32577, 32609, 32633, 32665, 32704, 32756, 32766, 32771, 32851, 32854, 32941, 32966, 32979, 33023, 33330, 33334, 33377, 33384, 33409, 33422, 33435, 33494, 33509, 33592, 33603, 33604, 33647, 33698, 33781, 33801, 33822, 33908, 33955, 33972, 34069, 34098, 34116, 34174, 34194, 34244, 34371, 34403, 34429, 34465, 34477, 34527, 34603, 34673, 34713, 34725, 34729, 34753, 34803, 34809, 34842, 34860, 34977, 34982, 34986, 35035, 35070, 35098, 35100, 35120, 35128, 35366, 35374, 35435, 35453, 35458, 35459, 35536, 35772, 35867, 35881, 35967, 35978, 36041, 36042, 36078, 36163, 36217, 36220, 36385, 36393, 36455, 36643, 36709, 36751, 36805, 36880, 36900, 36934, 36940, 37063, 37118, 37167, 37176, 37178, 37186, 37237, 37248, 37269, 37331, 37342, 37453, 37482, 37508, 37512, 37585, 37734, 37740, 37777, 37866, 37884, 37971, 38009, 38019, 38025, 38033, 38113, 38183, 38207, 38272, 38329, 38377, 38384, 38397, 38465, 38620, 38801, 38802, 38816, 38818, 38874, 38961, 39025, 39040, 39113, 39148, 39162, 39167, 39204, 39206, 39248, 39285, 39309, 39321, 39335, 39337, 39472, 39500, 39517, 39518, 39520, 39531, 39587, 104, 113, 126, 137, 145, 176, 178, 204, 239, 343, 356, 359, 365, 425, 524, 540, 560, 620, 642, 659, 752, 760, 783, 785, 793, 800, 804, 862, 919, 992, 1051, 1067, 1073, 1157, 1196, 1277, 1321, 1356, 1382, 1424, 1433, 1558, 1656, 1660, 1663, 1678, 1682, 1696, 1748, 1901, 1918, 1937, 1962, 1972, 2080, 2126, 2144, 2231, 2247, 2249, 2251, 2284, 2300, 2324, 2353, 2492, 2536, 2580, 2591, 2596, 2598, 2600, 2672, 2830, 2861, 2896, 2919, 2937, 3013, 3093, 3106, 3121, 3176, 3179, 3192, 3220, 3241, 3249, 3260, 3327, 3335, 3345, 3418, 3426, 3559, 3613, 3653, 3694, 3729, 3752, 3759, 3793, 3799, 3805, 3806, 3807, 3811, 3823, 3849, 3869, 3878, 3881, 3976, 4064, 4078, 4085, 4088, 4115, 4181, 4186, 4216, 4217, 4307, 4318, 4409, 4438, 4474, 4502, 4515, 4550, 4621, 4623, 4657, 4658, 4665, 4669, 4684, 4701, 4708, 4712, 4714, 4786, 4826, 4897, 4986, 5004, 5066, 5076, 5102, 5137, 5146, 5287, 5354, 5370, 5396, 5438, 5467, 5504, 5509, 5674, 5695, 5747, 5816, 5846, 5854, 5866, 5928, 5993, 6002, 6026, 6028, 6101, 6117, 6125, 6128, 6159, 6178, 6194, 6216, 6345, 6407, 6494, 6513, 6540, 6588, 6597, 6598, 6611, 6613, 6638, 6646, 6652, 6675, 6778, 6855, 6942, 6988, 7008, 7113, 7115, 7144, 7149, 7203, 7225, 7247, 7282, 7305, 7333, 7336, 7353, 7373, 7381, 7392, 7397, 7415, 7450, 7493, 7554, 7639, 7659, 7667, 7669, 7688, 7691, 7703, 7740, 7876, 7903, 7909, 7981, 8224, 8249, 8267, 8282, 8336, 8490, 8509, 8577, 8597, 8634, 8637, 8680, 8694, 8831, 8894, 8899, 8950, 9042, 9107, 9127, 9178, 9231, 9278, 9293, 9423, 9440, 9549, 9588, 9633, 9647, 9663, 9709, 9782, 9932, 10055, 10080, 10102, 10144, 10148, 10219, 10225, 10254, 10335, 10340, 10414, 10430, 10449, 10511, 10526, 10570, 10579, 10596, 10612, 10619, 10639, 10652, 10653, 10656, 10657, 10799, 10809, 10884, 10916, 10960, 10988, 11004, 11027, 11032, 11042, 11106, 11165, 11168, 11198, 11202, 11252, 11287, 11310, 11319, 11329, 11345, 11408, 11465, 11511, 11512, 11538, 11745, 11835, 11887, 12032, 12099, 12101, 12102, 12136, 12173, 12201, 12275, 12280, 12300, 12417, 12530, 12547, 12869, 12904, 12926, 12931, 13024, 13175, 13222, 13255, 13316, 13487, 13547, 13549, 13600, 13661, 13669, 13871, 13873, 13899, 13928, 13942, 13992, 14027, 14133, 14326, 14356, 14489, 14652, 14684, 14703, 14862, 14870, 14900, 15043, 15083, 15096, 15127, 15262, 15326, 15429, 15458, 15460, 15465, 15473, 15666, 15723, 15752, 15790, 15803, 15841, 16033, 16072, 16239, 16250, 16251, 16281, 16294, 16305, 16307, 16319, 16341, 16447, 16448, 16477, 16482, 16531, 16557, 16580, 16609, 16654, 16731, 16740, 16771, 16805, 17030, 17079, 17101, 17137, 17147, 17227, 17248, 17263, 17339, 17485, 17522, 17525, 17580, 17597, 17598, 17704, 17712, 17790, 17955, 17981, 18037, 18138, 18249, 18273, 18318, 18395, 18516, 18614, 18631, 18711, 18955, 19206, 19526, 19570, 19584, 19588, 19850, 19900, 19910, 19944, 19975, 20006, 20103, 20125, 20199, 20216, 20217, 20281, 20320, 20338, 20642, 20705, 20777, 20813, 20872, 20919, 20978, 21012, 21071, 21324, 21340, 21389, 21401, 21481, 21494, 21566, 21669, 21688, 21767, 21847, 21874, 21912, 21964, 21984, 22057, 22089, 22107, 22131, 22208, 22295, 22430, 22494, 22503, 22652, 22668, 22669, 22670, 22687, 22715, 22873, 23062, 23140, 23278, 23325, 23351, 23400, 23454, 23486, 23501, 23552, 23580, 23581, 23598, 23622, 23778, 23806, 23862, 23978, 23986, 24013, 24059, 24070, 24146, 24217, 24223, 24250, 24284, 24344, 24434, 24525, 24557, 24581, 24608, 24688, 24717, 24758, 24763, 24780, 24851, 24901, 24986, 24996, 24997, 25120, 25356, 25397, 25418, 25473, 25546, 25915, 25954, 26105, 26285, 26326, 26357, 26391, 26416, 26534, 26559, 26607, 26645, 26676, 26779, 26825, 26926, 27043, 27055, 27119, 27305, 27306, 27364, 27366, 27467, 27480, 27504, 27508, 27565, 27581, 27614, 27620, 27648, 27678, 27821, 27922, 28006, 28074, 28090, 28124, 28163, 28195, 28325, 28375, 28379, 28478, 28498, 28499, 28567, 28675, 28690, 28727, 28757, 28868, 29049, 29087, 29102, 29125, 29205, 29207, 29271, 29330, 29429, 29490, 29566, 29691, 29804, 29808, 29842, 29849, 29862, 29877, 29966, 30088, 30094, 30196, 30221, 30249, 30269, 30391, 30425, 30428, 30455, 30481, 30574, 30588, 30793, 30801, 30809, 30812, 30860, 30996, 31086, 31525, 31775, 32074, 32192, 32260, 32291, 32306, 32314, 32354, 32609, 32633, 32665, 32704, 32756, 32766, 32851, 32854, 32941, 32966, 33023, 33330, 33422, 33494, 33604, 33647, 33801, 33955, 33972, 34069, 34098, 34116, 34429, 34477, 34527, 34673, 34713, 34725, 34803, 34860, 34977, 34982, 34986, 35035, 35070, 35100, 35120, 35374, 35435, 35453, 35458, 35459, 35536, 35772, 35881, 35967, 35978, 36041, 36217, 36220, 36385, 36393, 36455, 36643, 36900, 37063, 37118, 37167, 37176, 37178, 37186, 37248, 37269, 37342, 37453, 37482, 37508, 37512, 37585, 37734, 37971, 38009, 38025, 38033, 38113, 38183, 38384, 38397, 38465, 38620, 38801, 38816, 38961, 39025, 39040, 39148, 39206, 39248, 39285, 39335, 39500, 39517, 39518, 39520, 39531, 1507, 1568, 2199, 2383, 2804, 3159, 3274, 3481, 3808, 3963, 4138, 4173, 4306, 4415, 4582, 4629, 4630, 4651, 4855, 4868, 4913, 4979, 4999, 5015, 5053, 5077, 5108, 5117, 5217, 5234, 5281, 5323, 5478, 5593, 5617, 5771, 5772, 5782, 5832, 5849, 5884, 5912, 5950, 6192, 6215, 6320, 6337, 6395, 6471, 6476, 6577, 6645, 6711, 6771, 6780, 6885, 6912, 7082, 7092, 7147, 7302, 7421, 7553, 7620, 7741, 7756, 7800, 7841, 7888, 7911, 7919, 8108, 8297, 8309, 8311, 8454, 8466, 8475, 8546, 8582, 8734, 9113, 9252, 9268, 9330, 9412, 9416, 9495, 9671, 9707, 9771, 9872, 9938, 9956, 9991, 10024, 10033, 10071, 10099, 10112, 10130, 10149, 10350, 10358, 10396, 10404, 10411, 10549, 10582, 10648, 10706, 10861, 10882, 10889, 10923, 10934, 10964, 11087, 11236, 11269, 11272, 11274, 11293, 11322, 11532, 11603, 11643, 11655, 11735, 11770, 11791, 11825, 11831, 11937, 11962, 12177, 12230, 12320, 12382, 12407, 12617, 12639, 12643, 12665, 12670, 12802, 12807, 12972, 13169, 13236, 13271, 13314, 13440, 13584, 13620, 13622, 13835, 13852, 13882, 13903, 13969, 13987, 14003, 14111, 14135, 14176, 14198, 14254, 14268, 14270, 14272, 14273, 14282, 14303, 14320, 14387, 14547, 14638, 14651, 14684, 14692, 14774, 14801, 14833, 14993, 15044, 15155, 15198, 15218, 15241, 15478, 15523, 15548, 15585, 15666, 15707, 15711, 15743, 15770, 15848, 15871, 15910, 16043, 16050, 16059, 16084, 16089, 16093, 16206, 16235, 16246, 16263, 16276, 16293, 16298, 16309, 16432, 16486, 16487, 16515, 16525, 16554, 16555, 16608, 16690, 16695, 16711, 16846, 16928, 16931, 16951, 17051, 17331, 17344, 17349, 17354, 17359, 17405, 17408, 17441, 17461, 17500, 17506, 17632, 17643, 17655, 17660, 17663, 17696, 17712, 17777, 17783, 17798, 17869, 17893, 17915, 17924, 17947, 17949, 17987, 18011, 18066, 18174, 18199, 18200, 18209, 18219, 18241, 18269, 18287, 18302, 18304, 18307, 18308, 18313, 18326, 18334, 18337, 18347, 18356, 18386, 18426, 18430, 18437, 18479, 18515, 18535, 18546, 18558, 18569, 18572, 18575, 18582, 18585, 18600, 18607, 18644, 18667, 18672, 18698, 18761, 18781, 18790, 18792, 18813, 18824, 18840, 18875, 18882, 18890, 18939, 18957, 18965, 18982, 19018, 19066, 19107, 19132, 19133, 19149, 19158, 19162, 19180, 19189, 19192, 19209, 19228, 19279, 19280, 19320, 19365, 19380, 19388, 19415, 19434, 19476, 19514, 19515, 19541, 19544, 19548, 19589, 19598, 19607, 19626, 19699, 19708, 19722, 19730, 19738, 19747, 19759, 19763, 19796, 19805, 19811, 19816, 19820, 19824, 19828, 19855, 19858, 19913, 19914, 19956, 19973, 19992, 20012, 20039, 20041, 20046, 20064, 20094, 20097, 20101, 20119, 20228, 20240, 20267, 20268, 20271, 20299, 20307, 20312, 20316, 20341, 20342, 20344, 20358, 20359, 20363, 20391, 20409, 20413, 20421, 20423, 20433, 20437, 20445, 20475, 20478, 20493, 20497, 20501, 20516, 20517, 20520, 20533, 20600, 20602, 20616, 20625, 20634, 20668, 20674, 20687, 20688, 20707, 20714, 20719, 20724, 20728, 20748, 20766, 20783, 20790, 20799, 20820, 20838, 20857, 20864, 20866, 20871, 20883, 20916, 20918, 20965, 21105, 21141, 21166, 21213, 21304, 21343, 21361, 21370, 21388, 21479, 21505, 21524, 21533, 21581, 21609, 21625, 21632, 21635, 21715, 21773, 21774, 21777, 21786, 21791, 21792, 21810, 21816, 21854, 21893, 21931, 22030, 22071, 22100, 22122, 22156, 22210, 22251, 22268, 22298, 22303, 22365, 22369, 22378, 22390, 22480, 22546, 22553, 22597, 22632, 22680, 22737, 22797, 22915, 22923, 22960, 23004, 23029, 23039, 23061, 23066, 23080, 23138, 23151, 23158, 23212, 23229, 23253, 23301, 23308, 23345, 23359, 23372, 23392, 23397, 23443, 23455, 23466, 23532, 23533, 23550, 23577, 23635, 23647, 23664, 23667, 23714, 23719, 23729, 23732, 23760, 23912, 23913, 23933, 23936, 23950, 23952, 24000, 24003, 24024, 24060, 24073, 24083, 24100, 24114, 24131, 24237, 24245, 24259, 24298, 24299, 24318, 24322, 24352, 24376, 24378, 24405, 24406, 24455, 24458, 24517, 24519, 24618, 24636, 24668, 24727, 24729, 24733, 24734, 24748, 24823, 24843, 24879, 24883, 24921, 24956, 24972, 25009, 25108, 25114, 25121, 25125, 25185, 25196, 25209, 25235, 25281, 25282, 25287, 25292, 25298, 25345, 25346, 25369, 25380, 25417, 25429, 25439, 25461, 25486, 25489, 25577, 25579, 25651, 25657, 25682, 25716, 25722, 25733, 25767, 25772, 25783, 25816, 25820, 25830, 25847, 25859, 25874, 25897, 25907, 25926, 25976, 26010, 26066, 26079, 26112, 26121, 26208, 26211, 26223, 26252, 26255, 26256, 26259, 26266, 26270, 26276, 26299, 26318, 26321, 26322, 26336, 26348, 26353, 26370, 26421, 26462, 26526, 26568, 26592, 26607, 26616, 26620, 26624, 26626, 26638, 26650, 26653, 26666, 26683, 26708, 26713, 26737, 26742, 26750, 26756, 26767, 26799, 26810, 26834, 26856, 26858, 26887, 26891, 26892, 26893, 26935, 26967, 26989, 26997, 26998, 27030, 27032, 27041, 27042, 27046, 27049, 27052, 27053, 27057, 27061, 27069, 27098, 27114, 27123, 27162, 27172, 27178, 27182, 27264, 27270, 27286, 27314, 27333, 27337, 27351, 27377, 27392, 27393, 27419, 27430, 27447, 27448, 27449, 27484, 27491, 27497, 27522, 27530, 27552, 27559, 27585, 27596, 27604, 27625, 27632, 27650, 27661, 27676, 27686, 27712, 27725, 27729, 27753, 27762, 27777, 27779, 27800, 27834, 27846, 27875, 27876, 27885, 27895, 27921, 27939, 27964, 27973, 27974, 27983, 28015, 28019, 28021, 28024, 28079, 28106, 28120, 28124, 28140, 28144, 28158, 28160, 28169, 28183, 28257, 28259, 28294, 28300, 28303, 28307, 28369, 28406, 28413, 28429, 28525, 28539, 28541, 28544, 28553, 28571, 28586, 28597, 28602, 28620, 28622, 28624, 28628, 28638, 28640, 28668, 28671, 28677, 28687, 28708, 28710, 28741, 28749, 28752, 28759, 28762, 28766, 28790, 28807, 28808, 28856, 28864, 28873, 28890, 28893, 28894, 28927, 28928, 28937, 28954, 28956, 28973, 28977, 28987, 29007, 29052, 29068, 29076, 29082, 29092, 29142, 29168, 29176, 29243, 29306, 29321, 29348, 29372, 29388, 29406, 29408, 29414, 29420, 29431, 29435, 29439, 29513, 29514, 29549, 29578, 29581, 29594, 29596, 29603, 29604, 29611, 29614, 29618, 29678, 29683, 29714, 29729, 29754, 29769, 29775, 29782, 29834, 29866, 29893, 29914, 29930, 29946, 29947, 29963, 29967, 29973, 29986, 29993, 30025, 30028, 30032, 30034, 30069, 30074, 30080, 30083, 30096, 30101, 30106, 30111, 30116, 30117, 30127, 30141, 30146, 30168, 30174, 30192, 30241, 30280, 30298, 30313, 30325, 30341, 30365, 30369, 30375, 30388, 30396, 30403, 30426, 30438, 30447, 30450, 30460, 30469, 30483, 30489, 30503, 30535, 30551, 30570, 30577, 30579, 30586, 30660, 30669, 30682, 30705, 30741, 30742, 30758, 30759, 30765, 30777, 30804, 30852, 30898, 30940, 30966, 30978, 30985, 30991, 30999, 31051, 31059, 31071, 31082, 31092, 31137, 31151, 31196, 31197, 31233, 31251, 31273, 31284, 31297, 31299, 31327, 31398, 31417, 31470, 31486, 31507, 31510, 31541, 31547, 31556, 31611, 31625, 31634, 31644, 31668, 31711, 31721, 31730, 31744, 31749, 31754, 31768, 31769, 31780, 31786, 31794, 31815, 31825, 31832, 31841, 31901, 31932, 31936, 31950, 31954, 31960, 31965, 31974, 32011, 32042, 32050, 32058, 32101, 32103, 32113, 32121, 32128, 32137, 32159, 32179, 32187, 32196, 32203, 32209, 32213, 32219, 32224, 32227, 32234, 32263, 32272, 32279, 32318, 32325, 32326, 32345, 32461, 32472, 32489, 32532, 32540, 32543, 32571, 32572, 32585, 32591, 32592, 32601, 32606, 32673, 32675, 32679, 32680, 32706, 32720, 32755, 32764, 32790, 32796, 32800, 32817, 32818, 32821, 32822, 32828, 32863, 32868, 32871, 32912, 32917, 32919, 32923, 32937, 32942, 32969, 32970, 32990, 33017, 33027, 33046, 33062, 33067, 33092, 33094, 33098, 33117, 33144, 33208, 33214, 33233, 33305, 33329, 33374, 33404, 33430, 33432, 33445, 33453, 33454, 33455, 33456, 33472, 33505, 33528, 33536, 33559, 33610, 33642, 33680, 33682, 33703, 33735, 33739, 33745, 33753, 33758, 33759, 33767, 33791, 33815, 33848, 33854, 33883, 33884, 33906, 33930, 33936, 33939, 33976, 34010, 34017, 34036, 34057, 34068, 34077, 34081, 34085, 34094, 34106, 34118, 34125, 34128, 34135, 34156, 34158, 34163, 34165, 34187, 34219, 34237, 34240, 34254, 34266, 34278, 34283, 34286, 34297, 34300, 34325, 34327, 34342, 34352, 34355, 34371, 34375, 34414, 34426, 34457, 34508, 34514, 34517, 34534, 34613, 34629, 34675, 34738, 34741, 34752, 34754, 34771, 34814, 34815, 34819, 34846, 34858, 34884, 34892, 34907, 34933, 34947, 34967, 34979, 35038, 35064, 35126, 35140, 35185, 35229, 35259, 35274, 35291, 35303, 35361, 35372, 35378, 35411, 35420, 35428, 35433, 35454, 35455, 35493, 35514, 35520, 35564, 35604, 35606, 35629, 35633, 35688, 35704, 35725, 35727, 35729, 35741, 35756, 35762, 35776, 35777, 35780, 35791, 35796, 35800, 35803, 35838, 35852, 35874, 35887, 35893, 35903, 35930, 35935, 35958, 35962, 35976, 36001, 36007, 36076, 36077, 36084, 36112, 36115, 36162, 36233, 36268, 36270, 36319, 36325, 36326, 36344, 36355, 36371, 36376, 36378, 36406, 36412, 36416, 36419, 36421, 36432, 36441, 36451, 36518, 36542, 36545, 36560, 36611, 36612, 36621, 36627, 36652, 36659, 36682, 36692, 36693, 36721, 36731, 36732, 36752, 36764, 36769, 36836, 36845, 36848, 36876, 36888, 36897, 36927, 36932, 36953, 36973, 36993, 36994, 37015, 37050, 37051, 37088, 37142, 37147, 37180, 37219, 37231, 37239, 37242, 37256, 37271, 37273, 37306, 37324, 37325, 37328, 37330, 37331, 37347, 37361, 37362, 37374, 37391, 37393, 37399, 37439, 37456, 37457, 37466, 37481, 37494, 37507, 37546, 37572, 37573, 37575, 37578, 37581, 37590, 37609, 37616, 37644, 37645, 37670, 37678, 37681, 37688, 37693, 37724, 37738, 37758, 37768, 37822, 37831, 37843, 37851, 37856, 37881, 37893, 37909, 37915, 37946, 37965, 37985, 37987, 37990, 38007, 38020, 38039, 38081, 38108, 38117, 38124, 38177, 38180, 38204, 38234, 38244, 38245, 38247, 38253, 38258, 38294, 38299, 38327, 38364, 38392, 38396, 38419, 38441, 38443, 38493, 38494, 38499, 38500, 38537, 38544, 38575, 38579, 38583, 38584, 38591, 38599, 38601, 38614, 38637, 38710, 38730, 38745, 38750, 38752, 38766, 38774, 38777, 38829, 38837, 38838, 38853, 38869, 38878, 38890, 38903, 38919, 38927, 38929, 38991, 39009, 39018, 39029, 39064, 39106, 39153, 39171, 39195, 39221, 39228, 39237, 39251, 39256, 39278, 39312, 39318, 39363, 39374, 39383, 39391, 39392, 39401, 39426, 39428, 39429, 39433, 39438, 39503, 39506, 39512, 39515, 39525, 39526, 39539, 39556, 39560, 39600, 39601, 39643, 0, 1, 2, 3, 4, 5, 6, 7, 8, 9, 10, 11, 12, 13, 14, 15, 16, 17, 18, 19, 20, 21, 22, 23, 24, 25, 26, 27, 28, 29, 30, 31, 32, 33, 34, 35, 36, 37, 38, 39, 40, 41, 42, 43, 44, 45, 46, 47, 48, 49, 50, 51, 52, 53, 54, 55, 56, 57, 58, 59, 60, 61, 62, 63, 64, 65, 66, 67, 68, 69, 70, 71, 72, 73, 74, 75, 76, 77, 78, 79, 80, 81, 82, 83, 84, 85, 86, 87, 88, 89, 90, 91, 92, 93, 94, 95, 96, 97, 98, 99, 100, 101, 102, 103, 104, 105, 106, 107, 108, 109, 110, 111, 112, 113, 114, 115, 116, 117, 118, 119, 120, 121, 122, 123, 124, 125, 126, 127, 128, 129, 130, 131, 132, 133, 134, 135, 136, 137, 138, 139, 140, 141, 142, 143, 144, 145, 146, 147, 148, 149, 150, 151, 152, 153, 154, 155, 156, 157, 158, 159, 160, 161, 162, 163, 164, 165, 166, 167, 168, 169, 170, 171, 172, 173, 174, 175, 176, 177, 178, 179, 180, 181, 182, 183, 184, 185, 186, 187, 188, 189, 190, 191, 192, 193, 194, 195, 196, 197, 198, 199, 200, 201, 202, 203, 204, 205, 206, 207, 208, 209, 210, 211, 212, 213, 214, 215, 216, 217, 218, 219, 220, 221, 222, 223, 224, 225, 226, 227, 228, 229, 230, 231, 232, 233, 234, 235, 236, 237, 238, 239, 240, 241, 242, 243, 244, 245, 246, 247, 248, 249, 250, 251, 252, 253, 254, 255, 256, 257, 258, 259, 260, 261, 262, 263, 264, 265, 266, 267, 268, 269, 270, 271, 272, 273, 274, 275, 276, 277, 278, 279, 280, 281, 282, 283, 284, 285, 286, 287, 288, 289, 290, 291, 292, 293, 294, 295, 296, 297, 298, 299, 300, 301, 302, 303, 304, 305, 306, 307, 308, 309, 310, 311, 312, 313, 314, 315, 316, 317, 318, 319, 320, 321, 322, 323, 324, 325, 326, 327, 328, 329, 330, 331, 332, 333, 334, 335, 336, 337, 338, 339, 340, 341, 342, 343, 344, 345, 346, 347, 348, 349, 350, 351, 352, 353, 354, 355, 356, 357, 358, 359, 360, 361, 362, 363, 364, 365, 366, 367, 368, 369, 370, 371, 372, 373, 374, 375, 376, 377, 378, 379, 380, 381, 382, 383, 384, 385, 386, 387, 388, 389, 390, 391, 392, 393, 394, 395, 396, 397, 398, 399, 400, 401, 402, 403, 404, 405, 406, 407, 408, 409, 410, 411, 412, 413, 414, 415, 416, 417, 418, 419, 420, 421, 422, 423, 424, 425, 426, 427, 428, 429, 430, 431, 432, 433, 434, 435, 436, 437, 438, 439, 440, 441, 442, 443, 444, 445, 446, 447, 448, 449, 450, 451, 452, 453, 454, 455, 456, 457, 458, 459, 460, 461, 462, 463, 464, 465, 466, 467, 468, 469, 470, 471, 472, 473, 474, 475, 476, 477, 478, 479, 480, 481, 482, 483, 484, 485, 486, 487, 488, 489, 490, 491, 492, 493, 494, 495, 496, 497, 498, 499, 500, 501, 502, 503, 504, 505, 506, 507, 508, 509, 510, 511, 512, 513, 514, 515, 516, 517, 518, 519, 520, 521, 522, 523, 524, 525, 526, 527, 528, 529, 530, 531, 532, 533, 534, 535, 536, 537, 538, 539, 540, 541, 542, 543, 544, 545, 546, 547, 548, 549, 550, 551, 552, 553, 554, 555, 556, 557, 558, 559, 560, 561, 562, 563, 564, 565, 566, 567, 568, 569, 570, 571, 572, 573, 574, 575, 576, 577, 578, 579, 580, 581, 582, 583, 584, 585, 586, 587, 588, 589, 590, 591, 592, 593, 594, 595, 596, 597, 598, 599, 600, 601, 602, 603, 604, 605, 606, 607, 608, 609, 610, 611, 612, 613, 614, 615, 616, 617, 618, 619, 620, 621, 622, 623, 624, 625, 626, 627, 628, 629, 630, 631, 632, 633, 634, 635, 636, 637, 638, 639, 640, 641, 642, 643, 644, 645, 646, 647, 648, 649, 650, 651, 652, 653, 654, 655, 656, 657, 658, 659, 660, 661, 662, 663, 664, 665, 666, 667, 668, 669, 670, 671, 672, 673, 674, 675, 676, 677, 678, 679, 680, 681, 682, 683, 684, 685, 686, 687, 688, 689, 690, 691, 692, 693, 694, 695, 696, 697, 698, 699, 700, 701, 702, 703, 704, 705, 706, 707, 708, 709, 710, 711, 712, 713, 714, 715, 716, 717, 718, 719, 720, 721, 722, 723, 724, 725, 726, 727, 728, 729, 730, 731, 732, 733, 734, 735, 736, 737, 738, 739, 740, 741, 742, 743, 744, 745, 746, 747, 748, 749, 750, 751, 752, 753, 754, 755, 756, 757, 758, 759, 760, 761, 762, 763, 764, 765, 766, 767, 768, 769, 770, 771, 772, 773, 774, 775, 776, 777, 778, 779, 780, 781, 782, 783, 784, 785, 786, 787, 788, 789, 790, 791, 792, 793, 794, 795, 796, 797, 798, 799, 800, 801, 802, 803, 804, 805, 806, 807, 808, 809, 810, 811, 812, 813, 814, 815, 816, 817, 818, 819, 820, 821, 822, 823, 824, 825, 826, 827, 828, 829, 830, 831, 832, 833, 834, 835, 836, 837, 838, 839, 840, 841, 842, 843, 844, 845, 846, 847, 848, 849, 850, 851, 852, 853, 854, 855, 856, 857, 858, 859, 860, 861, 862, 863, 864, 865, 866, 867, 868, 869, 870, 871, 872, 873, 874, 875, 876, 877, 878, 879, 880, 881, 882, 883, 884, 885, 886, 887, 888, 889, 890, 891, 892, 893, 894, 895, 896, 897, 898, 899, 900, 901, 902, 903, 904, 905, 906, 907, 908, 909, 910, 911, 912, 913, 914, 915, 916, 917, 918, 919, 920, 921, 922, 923, 924, 925, 926, 927, 928, 929, 930, 931, 932, 933, 934, 935, 936, 937, 938, 939, 940, 941, 942, 943, 944, 945, 946, 947, 948, 949, 950, 951, 952, 953, 954, 955, 956, 957, 958, 959, 960, 961, 962, 963, 964, 965, 966, 967, 968, 969, 970, 971, 972, 973, 974, 975, 976, 977, 978, 979, 980, 981, 982, 983, 984, 985, 986, 987, 988, 989, 990, 991, 992, 993, 994, 995, 996, 997, 998, 999, 1000, 1001, 1002, 1003, 1004, 1005, 1006, 1007, 1008, 1009, 1010, 1011, 1012, 1013, 1014, 1015, 1016, 1017, 1018, 1019, 1020, 1021, 1022, 1023, 1024, 1025, 1026, 1027, 1028, 1029, 1030, 1031, 1032, 1033, 1034, 1035, 1036, 1037, 1038, 1039, 1040, 1041, 1042, 1043, 1044, 1045, 1046, 1047, 1048, 1049, 1050, 1051, 1052, 1053, 1054, 1055, 1056, 1057, 1058, 1059, 1060, 1061, 1062, 1063, 1064, 1065, 1066, 1067, 1068, 1069, 1070, 1071, 1072, 1073, 1074, 1075, 1076, 1077, 1078, 1079, 1080, 1081, 1082, 1083, 1084, 1085, 1086, 1087, 1088, 1089, 1090, 1091, 1092, 1093, 1094, 1095, 1096, 1097, 1098, 1099, 1100, 1101, 1102, 1103, 1104, 1105, 1106, 1107, 1108, 1109, 1110, 1111, 1112, 1113, 1114, 1115, 1116, 1117, 1118, 1119, 1120, 1121, 1122, 1123, 1124, 1125, 1126, 1127, 1128, 1129, 1130, 1131, 1132, 1133, 1134, 1135, 1136, 1137, 1138, 1139, 1140, 1141, 1142, 1143, 1144, 1145, 1146, 1147, 1148, 1149, 1150, 1151, 1152, 1153, 1154, 1155, 1156, 1157, 1158, 1159, 1160, 1161, 1162, 1163, 1164, 1165, 1166, 1167, 1168, 1169, 1170, 1171, 1172, 1173, 1174, 1175, 1176, 1177, 1178, 1179, 1180, 1181, 1182, 1183, 1184, 1185, 1186, 1187, 1188, 1189, 1190, 1191, 1192, 1193, 1194, 1195, 1196, 1197, 1198, 1199, 1200, 1201, 1202, 1203, 1204, 1205, 1206, 1207, 1208, 1209, 1210, 1211, 1212, 1213, 1214, 1215, 1216, 1217, 1218, 1219, 1220, 1221, 1222, 1223, 1224, 1225, 1226, 1227, 1228, 1229, 1230, 1231, 1232, 1233, 1234, 1235, 1236, 1237, 1238, 1239, 1240, 1241, 1242, 1243, 1244, 1245, 1246, 1247, 1248, 1249, 1250, 1251, 1252, 1253, 1254, 1255, 1256, 1257, 1258, 1259, 1260, 1261, 1262, 1263, 1264, 1265, 1266, 1267, 1268, 1269, 1270, 1271, 1272, 1273, 1274, 1275, 1276, 1277, 1278, 1279, 1280, 1281, 1282, 1283, 1284, 1285, 1286, 1287, 1288, 1289, 1290, 1291, 1292, 1293, 1294, 1295, 1296, 1297, 1298, 1299, 1300, 1301, 1302, 1303, 1304, 1305, 1306, 1307, 1308, 1309, 1310, 1311, 1312, 1313, 1314, 1315, 1316, 1317, 1318, 1319, 1320, 1321, 1322, 1323, 1324, 1325, 1326, 1327, 1328, 1329, 1330, 1331, 1332, 1333, 1334, 1335, 1336, 1337, 1338, 1339, 1340, 1341, 1342, 1343, 1344, 1345, 1346, 1347, 1348, 1349, 1350, 1351, 1352, 1353, 1354, 1355, 1356, 1357, 1358, 1359, 1360, 1361, 1362, 1363, 1364, 1365, 1366, 1367, 1368, 1369, 1370, 1371, 1372, 1373, 1374, 1375, 1376, 1377, 1378, 1379, 1380, 1381, 1382, 1383, 1384, 1385, 1386, 1387, 1388, 1389, 1390, 1391, 1392, 1393, 1394, 1395, 1396, 1397, 1398, 1399, 1400, 1401, 1402, 1403, 1404, 1405, 1406, 1407, 1408, 1409, 1410, 1411, 1412, 1413, 1414, 1415, 1416, 1417, 1418, 1419, 1420, 1421, 1422, 1423, 1424, 1425, 1426, 1427, 1428, 1429, 1430, 1431, 1432, 1433, 1434, 1435, 1436, 1437, 1438, 1439, 1440, 1441, 1442, 1443, 1444, 1445, 1446, 1447, 1448, 1449, 1450, 1451, 1452, 1453, 1454, 1455, 1456, 1457, 1458, 1459, 1460, 1461, 1462, 1463, 1464, 1465, 1466, 1467, 1468, 1469, 1470, 1471, 1472, 1473, 1474, 1475, 1476, 1477, 1478, 1479, 1480, 1481, 1482, 1483, 1484, 1485, 1486, 1487, 1488, 1489, 1490, 1491, 1492, 1493, 1494, 1495, 1496, 1497, 1498, 1499, 1500, 1501, 1502, 1503, 1504, 1505, 1506, 1507, 1508, 1509, 1510, 1511, 1512, 1513, 1514, 1515, 1516, 1517, 1518, 1519, 1520, 1521, 1522, 1523, 1524, 1525, 1526, 1527, 1528, 1529, 1530, 1531, 1532, 1533, 1534, 1535, 1536, 1537, 1538, 1539, 1540, 1541, 1542, 1543, 1544, 1545, 1546, 1547, 1548, 1549, 1550, 1551, 1552, 1553, 1554, 1555, 1556, 1557, 1558, 1559, 1560, 1561, 1562, 1563, 1564, 1565, 1566, 1567, 1568, 1569, 1570, 1571, 1572, 1573, 1574, 1575, 1576, 1577, 1578, 1579, 1580, 1581, 1582, 1583, 1584, 1585, 1586, 1587, 1588, 1589, 1590, 1591, 1592, 1593, 1594, 1595, 1596, 1597, 1598, 1599, 1600, 1601, 1602, 1603, 1604, 1605, 1606, 1607, 1608, 1609, 1610, 1611, 1612, 1613, 1614, 1615, 1616, 1617, 1618, 1619, 1620, 1621, 1622, 1623, 1624, 1625, 1626, 1627, 1628, 1629, 1630, 1631, 1632, 1633, 1634, 1635, 1636, 1637, 1638, 1639, 1640, 1641, 1642, 1643, 1644, 1645, 1646, 1647, 1648, 1649, 1650, 1651, 1652, 1653, 1654, 1655, 1656, 1657, 1658, 1659, 1660, 1661, 1662, 1663, 1664, 1665, 1666, 1667, 1668, 1669, 1670, 1671, 1672, 1673, 1674, 1675, 1676, 1677, 1678, 1679, 1680, 1681, 1682, 1683, 1684, 1685, 1686, 1687, 1688, 1689, 1690, 1691, 1692, 1693, 1694, 1695, 1696, 1697, 1698, 1699, 1700, 1701, 1702, 1703, 1704, 1705, 1706, 1707, 1708, 1709, 1710, 1711, 1712, 1713, 1714, 1715, 1716, 1717, 1718, 1719, 1720, 1721, 1722, 1723, 1724, 1725, 1726, 1727, 1728, 1729, 1730, 1731, 1732, 1733, 1734, 1735, 1736, 1737, 1738, 1739, 1740, 1741, 1742, 1743, 1744, 1745, 1746, 1747, 1748, 1749, 1750, 1751, 1752, 1753, 1754, 1755, 1756, 1757, 1758, 1759, 1760, 1761, 1762, 1763, 1764, 1765, 1766, 1767, 1768, 1769, 1770, 1771, 1772, 1773, 1774, 1775, 1776, 1777, 1778, 1779, 1780, 1781, 1782, 1783, 1784, 1785, 1786, 1787, 1788, 1789, 1790, 1791, 1792, 1793, 1794, 1795, 1796, 1797, 1798, 1799, 1800, 1801, 1802, 1803, 1804, 1805, 1806, 1807, 1808, 1809, 1810, 1811, 1812, 1813, 1814, 1815, 1816, 1817, 1818, 1819, 1820, 1821, 1822, 1823, 1824, 1825, 1826, 1827, 1828, 1829, 1830, 1831, 1832, 1833, 1834, 1835, 1836, 1837, 1838, 1839, 1840, 1841, 1842, 1843, 1844, 1845, 1846, 1847, 1848, 1849, 1850, 1851, 1852, 1853, 1854, 1855, 1856, 1857, 1858, 1859, 1860, 1861, 1862, 1863, 1864, 1865, 1866, 1867, 1868, 1869, 1870, 1871, 1872, 1873, 1874, 1875, 1876, 1877, 1878, 1879, 1880, 1881, 1882, 1883, 1884, 1885, 1886, 1887, 1888, 1889, 1890, 1891, 1892, 1893, 1894, 1895, 1896, 1897, 1898, 1899, 1900, 1901, 1902, 1903, 1904, 1905, 1906, 1907, 1908, 1909, 1910, 1911, 1912, 1913, 1914, 1915, 1916, 1917, 1918, 1919, 1920, 1921, 1922, 1923, 1924, 1925, 1926, 1927, 1928, 1929, 1930, 1931, 1932, 1933, 1934, 1935, 1936, 1937, 1938, 1939, 1940, 1941, 1942, 1943, 1944, 1945, 1946, 1947, 1948, 1949, 1950, 1951, 1952, 1953, 1954, 1955, 1956, 1957, 1958, 1959, 1960, 1961, 1962, 1963, 1964, 1965, 1966, 1967, 1968, 1969, 1970, 1971, 1972, 1973, 1974, 1975, 1976, 1977, 1978, 1979, 1980, 1981, 1982, 1983, 1984, 1985, 1986, 1987, 1988, 1989, 1990, 1991, 1992, 1993, 1994, 1995, 1996, 1997, 1998, 1999, 2000, 2001, 2002, 2003, 2004, 2005, 2006, 2007, 2008, 2009, 2010, 2011, 2012, 2013, 2014, 2015, 2016, 2017, 2018, 2019, 2020, 2021, 2022, 2023, 2024, 2025, 2026, 2027, 2028, 2029, 2030, 2031, 2032, 2033, 2034, 2035, 2036, 2037, 2038, 2039, 2040, 2041, 2042, 2043, 2044, 2045, 2046, 2047, 2048, 2049, 2050, 2051, 2052, 2053, 2054, 2055, 2056, 2057, 2058, 2059, 2060, 2061, 2062, 2063, 2064, 2065, 2066, 2067, 2068, 2069, 2070, 2071, 2072, 2073, 2074, 2075, 2076, 2077, 2078, 2079, 2080, 2081, 2082, 2083, 2084, 2085, 2086, 2087, 2088, 2089, 2090, 2091, 2092, 2093, 2094, 2095, 2096, 2097, 2098, 2099, 2100, 2101, 2102, 2103, 2104, 2105, 2106, 2107, 2108, 2109, 2110, 2111, 2112, 2113, 2114, 2115, 2116, 2117, 2118, 2119, 2120, 2121, 2122, 2123, 2124, 2125, 2126, 2127, 2128, 2129, 2130, 2131, 2132, 2133, 2134, 2135, 2136, 2137, 2138, 2139, 2140, 2141, 2142, 2143, 2144, 2145, 2146, 2147, 2148, 2149, 2150, 2151, 2152, 2153, 2154, 2155, 2156, 2157, 2158, 2159, 2160, 2161, 2162, 2163, 2164, 2165, 2166, 2167, 2168, 2169, 2170, 2171, 2172, 2173, 2174, 2175, 2176, 2177, 2178, 2179, 2180, 2181, 2182, 2183, 2184, 2185, 2186, 2187, 2188, 2189, 2190, 2191, 2192, 2193, 2194, 2195, 2196, 2197, 2198, 2199, 2200, 2201, 2202, 2203, 2204, 2205, 2206, 2207, 2208, 2209, 2210, 2211, 2212, 2213, 2214, 2215, 2216, 2217, 2218, 2219, 2220, 2221, 2222, 2223, 2224, 2225, 2226, 2227, 2228, 2229, 2230, 2231, 2232, 2233, 2234, 2235, 2236, 2237, 2238, 2239, 2240, 2241, 2242, 2243, 2244, 2245, 2246, 2247, 2248, 2249, 2250, 2251, 2252, 2253, 2254, 2255, 2256, 2257, 2258, 2259, 2260, 2261, 2262, 2263, 2264, 2265, 2266, 2267, 2268, 2269, 2270, 2271, 2272, 2273, 2274, 2275, 2276, 2277, 2278, 2279, 2280, 2281, 2282, 2283, 2284, 2285, 2286, 2287, 2288, 2289, 2290, 2291, 2292, 2293, 2294, 2295, 2296, 2297, 2298, 2299, 2300, 2301, 2302, 2303, 2304, 2305, 2306, 2307, 2308, 2309, 2310, 2311, 2312, 2313, 2314, 2315, 2316, 2317, 2318, 2319, 2320, 2321, 2322, 2323, 2324, 2325, 2326, 2327, 2328, 2329, 2330, 2331, 2332, 2333, 2334, 2335, 2336, 2337, 2338, 2339, 2340, 2341, 2342, 2343, 2344, 2345, 2346, 2347, 2348, 2349, 2350, 2351, 2352, 2353, 2354, 2355, 2356, 2357, 2358, 2359, 2360, 2361, 2362, 2363, 2364, 2365, 2366, 2367, 2368, 2369, 2370, 2371, 2372, 2373, 2374, 2375, 2376, 2377, 2378, 2379, 2380, 2381, 2382, 2383, 2384, 2385, 2386, 2387, 2388, 2389, 2390, 2391, 2392, 2393, 2394, 2395, 2396, 2397, 2398, 2399, 2400, 2401, 2402, 2403, 2404, 2405, 2406, 2407, 2408, 2409, 2410, 2411, 2412, 2413, 2414, 2415, 2416, 2417, 2418, 2419, 2420, 2421, 2422, 2423, 2424, 2425, 2426, 2427, 2428, 2429, 2430, 2431, 2432, 2433, 2434, 2435, 2436, 2437, 2438, 2439, 2440, 2441, 2442, 2443, 2444, 2445, 2446, 2447, 2448, 2449, 2450, 2451, 2452, 2453, 2454, 2455, 2456, 2457, 2458, 2459, 2460, 2461, 2462, 2463, 2464, 2465, 2466, 2467, 2468, 2469, 2470, 2471, 2472, 2473, 2474, 2475, 2476, 2477, 2478, 2479, 2480, 2481, 2482, 2483, 2484, 2485, 2486, 2487, 2488, 2489, 2490, 2491, 2492, 2493, 2494, 2495, 2496, 2497, 2498, 2499, 2500, 2501, 2502, 2503, 2504, 2505, 2506, 2507, 2508, 2509, 2510, 2511, 2512, 2513, 2514, 2515, 2516, 2517, 2518, 2519, 2520, 2521, 2522, 2523, 2524, 2525, 2526, 2527, 2528, 2529, 2530, 2531, 2532, 2533, 2534, 2535, 2536, 2537, 2538, 2539, 2540, 2541, 2542, 2543, 2544, 2545, 2546, 2547, 2548, 2549, 2550, 2551, 2552, 2553, 2554, 2555, 2556, 2557, 2558, 2559, 2560, 2561, 2562, 2563, 2564, 2565, 2566, 2567, 2568, 2569, 2570, 2571, 2572, 2573, 2574, 2575, 2576, 2577, 2578, 2579, 2580, 2581, 2582, 2583, 2584, 2585, 2586, 2587, 2588, 2589, 2590, 2591, 2592, 2593, 2594, 2595, 2596, 2597, 2598, 2599, 2600, 2601, 2602, 2603, 2604, 2605, 2606, 2607, 2608, 2609, 2610, 2611, 2612, 2613, 2614, 2615, 2616, 2617, 2618, 2619, 2620, 2621, 2622, 2623, 2624, 2625, 2626, 2627, 2628, 2629, 2630, 2631, 2632, 2633, 2634, 2635, 2636, 2637, 2638, 2639, 2640, 2641, 2642, 2643, 2644, 2645, 2646, 2647, 2648, 2649, 2650, 2651, 2652, 2653, 2654, 2655, 2656, 2657, 2658, 2659, 2660, 2661, 2662, 2663, 2664, 2665, 2666, 2667, 2668, 2669, 2670, 2671, 2672, 2673, 2674, 2675, 2676, 2677, 2678, 2679, 2680, 2681, 2682, 2683, 2684, 2685, 2686, 2687, 2688, 2689, 2690, 2691, 2692, 2693, 2694, 2695, 2696, 2697, 2698, 2699, 2700, 2701, 2702, 2703, 2704, 2705, 2706, 2707, 2708, 2709, 2710, 2711, 2712, 2713, 2714, 2715, 2716, 2717, 2718, 2719, 2720, 2721, 2722, 2723, 2724, 2725, 2726, 2727, 2728, 2729, 2730, 2731, 2732, 2733, 2734, 2735, 2736, 2737, 2738, 2739, 2740, 2741, 2742, 2743, 2744, 2745, 2746, 2747, 2748, 2749, 2750, 2751, 2752, 2753, 2754, 2755, 2756, 2757, 2758, 2759, 2760, 2761, 2762, 2763, 2764, 2765, 2766, 2767, 2768, 2769, 2770, 2771, 2772, 2773, 2774, 2775, 2776, 2777, 2778, 2779, 2780, 2781, 2782, 2783, 2784, 2785, 2786, 2787, 2788, 2789, 2790, 2791, 2792, 2793, 2794, 2795, 2796, 2797, 2798, 2799, 2800, 2801, 2802, 2803, 2804, 2805, 2806, 2807, 2808, 2809, 2810, 2811, 2812, 2813, 2814, 2815, 2816, 2817, 2818, 2819, 2820, 2821, 2822, 2823, 2824, 2825, 2826, 2827, 2828, 2829, 2830, 2831, 2832, 2833, 2834, 2835, 2836, 2837, 2838, 2839, 2840, 2841, 2842, 2843, 2844, 2845, 2846, 2847, 2848, 2849, 2850, 2851, 2852, 2853, 2854, 2855, 2856, 2857, 2858, 2859, 2860, 2861, 2862, 2863, 2864, 2865, 2866, 2867, 2868, 2869, 2870, 2871, 2872, 2873, 2874, 2875, 2876, 2877, 2878, 2879, 2880, 2881, 2882, 2883, 2884, 2885, 2886, 2887, 2888, 2889, 2890, 2891, 2892, 2893, 2894, 2895, 2896, 2897, 2898, 2899, 2900, 2901, 2902, 2903, 2904, 2905, 2906, 2907, 2908, 2909, 2910, 2911, 2912, 2913, 2914, 2915, 2916, 2917, 2918, 2919, 2920, 2921, 2922, 2923, 2924, 2925, 2926, 2927, 2928, 2929, 2930, 2931, 2932, 2933, 2934, 2935, 2936, 2937, 2938, 2939, 2940, 2941, 2942, 2943, 2944, 2945, 2946, 2947, 2948, 2949, 2950, 2951, 2952, 2953, 2954, 2955, 2956, 2957, 2958, 2959, 2960, 2961, 2962, 2963, 2964, 2965, 2966, 2967, 2968, 2969, 2970, 2971, 2972, 2973, 2974, 2975, 2976, 2977, 2978, 2979, 2980, 2981, 2982, 2983, 2984, 2985, 2986, 2987, 2988, 2989, 2990, 2991, 2992, 2993, 2994, 2995, 2996, 2997, 2998, 2999, 3000, 3001, 3002, 3003, 3004, 3005, 3006, 3007, 3008, 3009, 3010, 3011, 3012, 3013, 3014, 3015, 3016, 3017, 3018, 3019, 3020, 3021, 3022, 3023, 3024, 3025, 3026, 3027, 3028, 3029, 3030, 3031, 3032, 3033, 3034, 3035, 3036, 3037, 3038, 3039, 3040, 3041, 3042, 3043, 3044, 3045, 3046, 3047, 3048, 3049, 3050, 3051, 3052, 3053, 3054, 3055, 3056, 3057, 3058, 3059, 3060, 3061, 3062, 3063, 3064, 3065, 3066, 3067, 3068, 3069, 3070, 3071, 3072, 3073, 3074, 3075, 3076, 3077, 3078, 3079, 3080, 3081, 3082, 3083, 3084, 3085, 3086, 3087, 3088, 3089, 3090, 3091, 3092, 3093, 3094, 3095, 3096, 3097, 3098, 3099, 3100, 3101, 3102, 3103, 3104, 3105, 3106, 3107, 3108, 3109, 3110, 3111, 3112, 3113, 3114, 3115, 3116, 3117, 3118, 3119, 3120, 3121, 3122, 3123, 3124, 3125, 3126, 3127, 3128, 3129, 3130, 3131, 3132, 3133, 3134, 3135, 3136, 3137, 3138, 3139, 3140, 3141, 3142, 3143, 3144, 3145, 3146, 5167, 5904, 7637, 7813, 8102, 8816, 8828, 11210, 11230, 11588, 12020, 12598, 13707, 13739, 13787, 13831, 16032, 18447, 19905, 20819, 21128, 21507, 21827, 23088, 23325, 25587, 28359, 35865, 1051, 1073, 1285, 1437, 1937, 2231, 2355, 2492, 2645, 2652, 2672, 2861, 3027, 3093, 3179, 3188, 3335, 3565, 3826, 3878, 3976, 4041, 4088, 4115, 4332, 4404, 4421, 4438, 4489, 4496, 4515, 4548, 4549, 4550, 4621, 4693, 4695, 4712, 4786, 4986, 5095, 5206, 5365, 5381, 5396, 5438, 5589, 5674, 5709, 5816, 5846, 5867, 5949, 5978, 6128, 6131, 6277, 6345, 6454, 6458, 6597, 6598, 6638, 6828, 7109, 7115, 7203, 7247, 7336, 7392, 7394, 7397, 7515, 7740, 8102, 8224, 8249, 8282, 8312, 8314, 8334, 8490, 8509, 8577, 8694, 8931, 8948, 8950, 8963, 9003, 9075, 9112, 9251, 9268, 9439, 9491, 9514, 9535, 9588, 9590, 9619, 9628, 9630, 9647, 9663, 9709, 9744, 9782, 9885, 9923, 9932, 9967, 10080, 10148, 10168, 10254, 10335, 10491, 10526, 10612, 10619, 10653, 10809, 10884, 10912, 10939, 10960, 11007, 11025, 11067, 11130, 11165, 11202, 11221, 11237, 11319, 11330, 11335, 11344, 11465, 11511, 11512, 11525, 11538, 11540, 11693, 11802, 11843, 11862, 11863, 11887, 11955, 12020, 12066, 12099, 12101, 12102, 12137, 12194, 12201, 12275, 12285, 12300, 12320, 12386, 12417, 12534, 12579, 12580, 12682, 12802, 12831, 12869, 12954, 13175, 13195, 13222, 13255, 13378, 13470, 13479, 13487, 13547, 13585, 13613, 13693, 13797, 13825, 13829, 13833, 13871, 13928, 13930, 13942, 13986, 13992, 14104, 14218, 14264, 14290, 14436, 14489, 14517, 14520, 14543, 14608, 14676, 14684, 14703, 14803, 14811, 15096, 15127, 15150, 15198, 15235, 15255, 15262, 15340, 15353, 15458, 15460, 15473, 15524, 15556, 15666, 15667, 15727, 15752, 15803, 15900, 15953, 15955, 16026, 16281, 16294, 16305, 16319, 16348, 16381, 16384, 16407, 16447, 16448, 16461, 16477, 16482, 16531, 16609, 16654, 16679, 16777, 16808, 16814, 16858, 16872, 16889, 16908, 17061, 17114, 17137, 17230, 17270, 17300, 17318, 17319, 17339, 17361, 17412, 17451, 17458, 17487, 17495, 17500, 17510, 17525, 17575, 17580, 17587, 17597, 17598, 17640, 17654, 17685, 17712, 17716, 17722, 17735, 17784, 17863, 17901, 17964, 17981, 18024, 18037, 18040, 18043, 18046, 18053, 18055, 18186, 18192, 18248, 18260, 18264, 18273, 18309, 18316, 18326, 18329, 18334, 18356, 18474, 18488, 18515, 18555, 18567, 18571, 18592, 18622, 18627, 18646, 18685, 18781, 18788, 18799, 18851, 18869, 18880, 18915, 18935, 18936, 18939, 18955, 18981, 18986, 19064, 19304, 19394, 19471, 19495, 19588, 19744, 19749, 19771, 19777, 19850, 19854, 19910, 19944, 19955, 19963, 19970, 19975, 20045, 20047, 20199, 20216, 20217, 20218, 20234, 20255, 20281, 20378, 20389, 20420, 20451, 20500, 20642, 20673, 20681, 20777, 20794, 20804, 20813, 20860, 20919, 21002, 21113, 21120, 21165, 21221, 21233, 21355, 21401, 21470, 21536, 21552, 21566, 21612, 21669, 21688, 21716, 21767, 21797, 21836, 21854, 21874, 21881, 21953, 21964, 22018, 22027, 22044, 22049, 22071, 22131, 22295, 22399, 22408, 22522, 22583, 22598, 22610, 22652, 22657, 22668, 22669, 22670, 22687, 22715, 22733, 22757, 22806, 22910, 23033, 23062, 23129, 23140, 23154, 23207, 23226, 23285, 23286, 23293, 23325, 23399, 23400, 23415, 23420, 23427, 23428, 23430, 23449, 23454, 23455, 23493, 23497, 23531, 23566, 23580, 23581, 23610, 23622, 23631, 23645, 23712, 23714, 23778, 23806, 23817, 23838, 23856, 23862, 23902, 23945, 23986, 23987, 24064, 24120, 24154, 24248, 24250, 24284, 24344, 24381, 24426, 24434, 24558, 24587, 24613, 24617, 24648, 24688, 24706, 24711, 24716, 24725, 24763, 24780, 24789, 24792, 24981, 24984, 24991, 24996, 25038, 25083, 25087, 25111, 25195, 25233, 25271, 25306, 25356, 25364, 25385, 25397, 25411, 25489, 25531, 25541, 25542, 25550, 25556, 25714, 25733, 25741, 25750, 25763, 25797, 25804, 25865, 25915, 25944, 25947, 26012, 26063, 26076, 26105, 26137, 26138, 26153, 26232, 26259, 26285, 26299, 26326, 26329, 26357, 26371, 26445, 26524, 26534, 26569, 26579, 26607, 26624, 26629, 26645, 26676, 26677, 26706, 26753, 26825, 26857, 26868, 26907, 26925, 26926, 26990, 27055, 27119, 27198, 27271, 27280, 27306, 27324, 27364, 27366, 27396, 27418, 27494, 27508, 27566, 27632, 27678, 27756, 27782, 27809, 27821, 27922, 27951, 28074, 28090, 28109, 28124, 28163, 28169, 28173, 28195, 28339, 28369, 28407, 28413, 28450, 28498, 28544, 28545, 28561, 28609, 28636, 28642, 28711, 28718, 28786, 28840, 28853, 29102, 29143, 29374, 29433, 29461, 29549, 29566, 29602, 29609, 29632, 29782, 29804, 29815, 29849, 29862, 29924, 29963, 29966, 29984, 30025, 30088, 30153, 30187, 30196, 30247, 30339, 30341, 30428, 30444, 30456, 30481, 30621, 30724, 30765, 30793, 30809, 30814, 30860, 30901, 30957, 30978, 31290, 31416, 31497, 31557, 31561, 31575, 31586, 31607, 31627, 31634, 31635, 31699, 31717, 31736, 31767, 31800, 31816, 31819, 31844, 31874, 31940, 31971, 32063, 32076, 32099, 32291, 32383, 32436, 32439, 32481, 32633, 32634, 32665, 32806, 32871, 32966, 33072, 33138, 33208, 33286, 33310, 33330, 33334, 33370, 33429, 33523, 33589, 33604, 33769, 33774, 33838, 33853, 33906, 33931, 33961, 33972, 33989, 34017, 34039, 34079, 34118, 34342, 34351, 34371, 34429, 34458, 34476, 34477, 34521, 34527, 34537, 34636, 34702, 34713, 34719, 34724, 34758, 34774, 34814, 34860, 34870, 34977, 34982, 35100, 35120, 35372, 35374, 35435, 35514, 35536, 35586, 35715, 35772, 35786, 35800, 35837, 35844, 35865, 35870, 35975, 35978, 36003, 36041, 36067, 36217, 36220, 36393, 36484, 36576, 36643, 36661, 36735, 36750, 36761, 36771, 36880, 36897, 36900, 36905, 36932, 37005, 37022, 37063, 37093, 37118, 37146, 37147, 37176, 37195, 37235, 37239, 37269, 37279, 37280, 37292, 37331, 37347, 37407, 37473, 37482, 37494, 37576, 37585, 37682, 37734, 37910, 37971, 37990, 38025, 38035, 38059, 38226, 38245, 38265, 38308, 38309, 38397, 38681, 38741, 38932, 39021, 39025, 39077, 39099, 39248, 39379, 39500, 39537, 39586, 3335, 3878, 4115, 4438, 4515, 4550, 5674, 6131, 6345, 6597, 6598, 6638, 7109, 8312, 8334, 8490, 9268, 9535, 9590, 9744, 9885, 10148, 10491, 10526, 10619, 11025, 11067, 11319, 11344, 11525, 11802, 11862, 11955, 12300, 12831, 12954, 13175, 13470, 13585, 13693, 13797, 13928, 13930, 13986, 14684, 15096, 15127, 15198, 15666, 15752, 16281, 16294, 16348, 16384, 16407, 16482, 16654, 16872, 17137, 17270, 17300, 17319, 17500, 17525, 17712, 17784, 17863, 17964, 18024, 18037, 18309, 18851, 19064, 19304, 19495, 19771, 19777, 19850, 19944, 19963, 19970, 20234, 20281, 20500, 20642, 20919, 21120, 21165, 21355, 21470, 21612, 21669, 21767, 21854, 21964, 22669, 22687, 22733, 22757, 23033, 23062, 23140, 23226, 23286, 23293, 23449, 23493, 23497, 23622, 23712, 23806, 23856, 23862, 23945, 24154, 24344, 24648, 24711, 24763, 24780, 24792, 24984, 24996, 25038, 25195, 25233, 25356, 25531, 25550, 25797, 25804, 25865, 25915, 26138, 26285, 26534, 26607, 26629, 26645, 26677, 26753, 26857, 26907, 26926, 26990, 27055, 27198, 27271, 27396, 27494, 27632, 27756, 28074, 28124, 28163, 28169, 28173, 28339, 28369, 28413, 28609, 28642, 29102, 29602, 29782, 29924, 29963, 29984, 30088, 30187, 30481, 30814, 31497, 31819, 31874, 31940, 32633, 32634, 32806, 32871, 33138, 33769, 34371, 34476, 34477, 34713, 34860, 34977, 35586, 36220, 36484, 36643, 36661, 36750, 36897, 36932, 37005, 37093, 37176, 37292, 37347, 37971, 38035, 38245, 38265, 39025, 39077, 39379, 39500, 88, 117, 170, 199, 204, 348, 419, 477, 553, 571, 573, 625, 704, 912, 953, 1047, 1125, 1129, 1386, 1427, 1520, 1524, 1561, 1634, 1719, 1754, 1774, 1808, 1834, 1880, 1938, 2106, 2127, 2149, 2154, 2196, 2243, 2349, 2431, 2613, 2627, 2788, 2891, 3027, 3117, 3163, 3168, 3209, 3274, 3284, 3319, 3347, 3444, 3555, 3579, 3584, 3590, 3606, 3625, 3697, 3783, 3827, 3851, 3874, 3901, 3952, 3988, 4041, 4218, 4221, 4254, 4269, 4282, 4283, 4297, 4300, 4326, 4350, 4362, 4389, 4391, 4438, 4452, 4458, 4460, 4532, 4577, 4582, 4594, 4609, 4611, 4614, 4664, 4712, 4751, 4757, 4826, 5019, 5025, 5044, 5089, 5166, 5214, 5217, 5246, 5254, 5265, 5275, 5504, 5545, 5585, 5594, 5598, 5683, 5726, 5775, 5814, 5870, 5881, 5946, 5981, 6021, 6113, 6131, 6133, 6229, 6342, 6383, 6438, 6458, 6538, 6558, 6562, 6652, 6711, 6746, 6757, 6800, 6819, 6885, 6907, 6922, 7000, 7066, 7090, 7099, 7101, 7109, 7202, 7243, 7480, 7504, 7514, 7520, 7526, 7528, 7532, 7553, 7633, 7703, 7714, 7721, 7726, 7774, 7841, 7857, 7869, 7879, 7885, 7908, 7925, 7966, 7968, 8037, 8072, 8091, 8176, 8183, 8213, 8268, 8271, 8290, 8291, 8298, 8321, 8375, 8381, 8416, 8485, 8510, 8517, 8533, 8537, 8538, 8545, 8547, 8633, 8657, 8684, 8687, 8692, 8694, 8720, 8728, 8734, 8781, 8789, 8808, 8821, 8871, 8875, 8918, 8923, 8952, 8959, 8966, 8984, 9009, 9029, 9042, 9049, 9052, 9053, 9084, 9099, 9110, 9111, 9144, 9152, 9187, 9228, 9236, 9238, 9282, 9306, 9317, 9331, 9338, 9341, 9400, 9427, 9430, 9455, 9473, 9485, 9494, 9495, 9520, 9522, 9562, 9585, 9599, 9602, 9607, 9645, 9651, 9682, 9713, 9797, 9811, 9820, 9862, 9864, 9868, 9869, 9899, 9934, 9936, 9955, 9994, 10025, 10055, 10080, 10112, 10170, 10240, 10261, 10302, 10338, 10385, 10388, 10437, 10440, 10466, 10516, 10528, 10582, 10591, 10604, 10608, 10625, 10630, 10632, 10639, 10667, 10677, 10706, 10730, 10745, 10761, 10765, 10766, 10767, 10771, 10772, 10798, 10826, 10870, 10940, 10955, 10980, 10994, 10996, 11004, 11025, 11030, 11064, 11065, 11068, 11075, 11117, 11121, 11122, 11130, 11139, 11142, 11216, 11286, 11312, 11337, 11399, 11407, 11444, 11462, 11486, 11487, 11500, 11525, 11568, 11582, 11620, 11695, 11718, 11762, 11823, 11834, 11843, 11890, 11891, 11897, 11907, 11916, 11927, 11929, 11955, 12029, 12057, 12064, 12069, 12119, 12121, 12152, 12168, 12210, 12230, 12236, 12238, 12300, 12348, 12358, 12367, 12400, 12422, 12437, 12438, 12489, 12496, 12524, 12534, 12575, 12594, 12600, 12604, 12716, 12807, 12809, 12826, 12854, 12863, 12869, 12873, 12890, 12935, 12947, 12954, 12970, 13034, 13041, 13094, 13161, 13178, 13181, 13199, 13205, 13231, 13272, 13356, 13360, 13385, 13441, 13496, 13501, 13547, 13600, 13648, 13650, 13664, 13706, 13720, 13724, 13737, 13755, 13852, 13874, 13904, 13910, 13933, 13966, 14002, 14016, 14030, 14038, 14051, 14063, 14068, 14135, 14179, 14200, 14205, 14216, 14218, 14220, 14233, 14234, 14240, 14250, 14262, 14339, 14346, 14352, 14366, 14416, 14426, 14436, 14474, 14485, 14489, 14520, 14543, 14564, 14570, 14592, 14598, 14609, 14615, 14625, 14626, 14629, 14667, 14676, 14684, 14709, 14733, 14808, 14839, 14860, 14861, 14886, 14902, 14926, 14961, 14964, 14977, 15000, 15021, 15025, 15027, 15030, 15050, 15054, 15076, 15096, 15115, 15116, 15119, 15136, 15164, 15165, 15198, 15205, 15217, 15224, 15230, 15285, 15292, 15340, 15353, 15363, 15366, 15368, 15378, 15385, 15453, 15489, 15534, 15546, 15566, 15570, 15583, 15585, 15597, 15600, 15645, 15689, 15693, 15708, 15728, 15752, 15758, 15767, 15769, 15771, 15779, 15828, 15830, 15842, 15846, 15853, 15865, 15892, 15902, 15927, 15932, 16017, 16087, 16091, 16096, 16149, 16151, 16164, 16185, 16250, 16264, 16268, 16280, 16319, 16320, 16323, 16334, 16344, 16363, 16381, 16428, 16458, 16465, 16467, 16509, 16517, 16540, 16640, 16663, 16749, 16764, 16767, 16803, 16810, 16864, 16868, 16881, 16910, 16934, 16966, 17003, 17020, 17125, 17174, 17201, 17202, 17222, 17268, 17300, 17319, 17346, 17422, 17445, 17452, 17470, 17485, 17519, 17530, 17608, 17628, 17640, 17643, 17659, 17670, 17712, 17718, 17759, 17781, 17795, 17811, 17821, 17842, 17852, 17869, 17877, 17891, 17897, 17932, 17971, 18041, 18105, 18120, 18143, 18171, 18198, 18220, 18242, 18266, 18284, 18285, 18315, 18325, 18361, 18453, 18507, 18565, 18577, 18585, 18589, 18596, 18604, 18631, 18668, 18727, 18728, 18735, 18777, 18794, 18805, 18806, 18848, 18868, 18882, 18907, 18922, 18923, 18939, 18953, 18961, 19001, 19032, 19052, 19071, 19083, 19138, 19146, 19153, 19167, 19169, 19170, 19228, 19241, 19252, 19340, 19355, 19375, 19456, 19492, 19493, 19504, 19506, 19562, 19564, 19585, 19591, 19642, 19645, 19652, 19678, 19691, 19722, 19758, 19786, 19797, 19846, 19878, 19909, 19924, 19930, 19952, 19988, 20042, 20056, 20176, 20235, 20284, 20311, 20401, 20414, 20472, 20481, 20504, 20560, 20576, 20622, 20623, 20657, 20686, 20791, 20799, 20877, 20919, 20995, 21029, 21039, 21056, 21072, 21109, 21133, 21139, 21142, 21153, 21166, 21201, 21215, 21288, 21389, 21404, 21431, 21458, 21475, 21482, 21523, 21528, 21536, 21622, 21631, 21665, 21669, 21683, 21715, 21720, 21737, 21754, 21808, 21841, 21964, 21987, 22002, 22023, 22049, 22068, 22077, 22124, 22134, 22148, 22186, 22190, 22215, 22290, 22299, 22312, 22393, 22406, 22417, 22419, 22448, 22474, 22500, 22505, 22575, 22577, 22607, 22626, 22657, 22662, 22664, 22669, 22670, 22707, 22750, 22776, 22781, 22812, 22860, 22884, 22886, 22915, 22952, 22965, 22967, 23046, 23056, 23062, 23091, 23105, 23106, 23111, 23122, 23133, 23140, 23142, 23161, 23166, 23207, 23211, 23227, 23252, 23345, 23355, 23366, 23394, 23439, 23453, 23458, 23545, 23546, 23551, 23566, 23585, 23684, 23711, 23714, 23787, 23799, 23856, 23857, 23868, 23886, 23902, 23928, 23952, 23984, 24061, 24119, 24140, 24184, 24206, 24213, 24245, 24248, 24274, 24280, 24284, 24302, 24351, 24393, 24400, 24414, 24429, 24431, 24434, 24486, 24532, 24555, 24559, 24589, 24615, 24625, 24628, 24646, 24657, 24669, 24677, 24706, 24718, 24720, 24725, 24726, 24744, 24765, 24775, 24835, 24859, 24868, 24926, 24948, 25027, 25033, 25112, 25118, 25129, 25139, 25177, 25206, 25209, 25281, 25319, 25347, 25353, 25387, 25397, 25419, 25423, 25432, 25483, 25494, 25535, 25562, 25587, 25604, 25640, 25659, 25661, 25667, 25696, 25702, 25733, 25750, 25753, 25759, 25783, 25784, 25811, 25812, 25816, 25819, 25842, 25847, 25882, 25883, 25912, 25925, 25950, 25959, 25981, 25991, 26101, 26120, 26187, 26192, 26252, 26259, 26268, 26335, 26348, 26420, 26435, 26443, 26477, 26483, 26497, 26534, 26547, 26565, 26568, 26578, 26637, 26647, 26682, 26706, 26722, 26761, 26770, 26779, 26813, 26816, 26823, 26832, 26838, 26839, 26875, 26961, 26986, 27010, 27013, 27046, 27079, 27096, 27106, 27119, 27130, 27163, 27172, 27178, 27185, 27217, 27271, 27289, 27298, 27309, 27313, 27335, 27381, 27443, 27448, 27465, 27472, 27481, 27485, 27512, 27526, 27531, 27537, 27543, 27592, 27622, 27625, 27627, 27652, 27686, 27693, 27695, 27712, 27727, 27762, 27763, 27778, 27800, 27827, 27830, 27871, 27914, 27916, 27922, 27935, 27965, 27968, 27991, 28009, 28029, 28042, 28059, 28066, 28077, 28087, 28100, 28124, 28126, 28171, 28220, 28238, 28244, 28369, 28401, 28426, 28451, 28470, 28495, 28510, 28531, 28534, 28537, 28562, 28634, 28641, 28702, 28706, 28743, 28766, 28774, 28789, 28803, 28806, 28813, 28876, 28888, 28914, 28927, 28943, 28946, 28957, 28971, 29012, 29021, 29033, 29105, 29113, 29150, 29167, 29177, 29196, 29197, 29206, 29219, 29223, 29252, 29269, 29276, 29284, 29326, 29344, 29345, 29363, 29386, 29451, 29500, 29519, 29557, 29559, 29560, 29565, 29591, 29594, 29600, 29602, 29617, 29620, 29628, 29661, 29666, 29676, 29693, 29743, 29777, 29826, 29846, 29851, 29869, 29926, 29938, 29943, 29949, 29952, 29975, 30060, 30076, 30116, 30121, 30125, 30150, 30187, 30199, 30200, 30215, 30242, 30266, 30287, 30325, 30363, 30367, 30450, 30469, 30520, 30559, 30599, 30632, 30633, 30634, 30640, 30643, 30737, 30829, 30834, 30856, 30868, 30885, 30913, 30941, 30985, 30989, 31013, 31077, 31081, 31113, 31151, 31255, 31266, 31287, 31290, 31312, 31383, 31423, 31446, 31463, 31512, 31563, 31582, 31613, 31637, 31658, 31704, 31736, 31746, 31775, 31834, 31879, 31899, 31945, 32125, 32147, 32161, 32185, 32268, 32388, 32392, 32429, 32435, 32481, 32518, 32534, 32549, 32565, 32612, 32686, 32701, 32734, 32811, 32839, 32879, 32915, 32930, 32951, 33008, 33033, 33041, 33052, 33067, 33069, 33081, 33085, 33101, 33112, 33179, 33184, 33189, 33203, 33208, 33260, 33286, 33287, 33406, 33442, 33464, 33471, 33495, 33589, 33629, 33689, 33703, 33722, 33732, 33757, 33787, 33798, 33810, 33869, 33916, 33929, 33989, 34110, 34219, 34237, 34249, 34258, 34272, 34314, 34348, 34396, 34458, 34508, 34541, 34690, 34791, 34801, 34814, 34926, 34958, 34977, 35001, 35040, 35060, 35093, 35118, 35147, 35158, 35182, 35215, 35231, 35233, 35246, 35255, 35281, 35288, 35311, 35384, 35397, 35401, 35414, 35486, 35503, 35557, 35570, 35583, 35586, 35658, 35665, 35690, 35713, 35742, 35805, 35866, 35886, 35887, 35888, 35898, 35931, 36003, 36035, 36041, 36064, 36082, 36113, 36124, 36131, 36173, 36178, 36315, 36324, 36377, 36403, 36406, 36424, 36456, 36462, 36466, 36529, 36547, 36559, 36612, 36639, 36679, 36685, 36753, 36754, 36873, 36900, 36935, 36941, 36942, 37003, 37020, 37042, 37060, 37081, 37128, 37133, 37142, 37161, 37181, 37190, 37235, 37253, 37267, 37297, 37315, 37323, 37350, 37358, 37366, 37401, 37409, 37420, 37456, 37494, 37556, 37560, 37564, 37580, 37596, 37654, 37697, 37700, 37736, 37746, 37776, 37821, 37900, 37910, 37915, 37922, 37991, 38035, 38050, 38092, 38133, 38156, 38200, 38305, 38306, 38317, 38382, 38413, 38492, 38562, 38564, 38616, 38695, 38711, 38776, 38807, 38810, 38850, 38862, 38898, 39021, 39035, 39135, 39227, 39237, 39284, 39288, 39306, 39433, 39621, 199, 539, 625, 1047, 1269, 1427, 1428, 1430, 1524, 1546, 1608, 1658, 1719, 1734, 1808, 1834, 2106, 2149, 2192, 2196, 2244, 2290, 2349, 2375, 2637, 2692, 2773, 2788, 2818, 2967, 3087, 3130, 3133, 3167, 3168, 3317, 3319, 3444, 3555, 3562, 3648, 3710, 3712, 3783, 3952, 4041, 4066, 4213, 4218, 4219, 4221, 4269, 4290, 4389, 4391, 4438, 4452, 4458, 4494, 4515, 4533, 4534, 4545, 4549, 4567, 4593, 4606, 4608, 4630, 4643, 4784, 4805, 4882, 5041, 5044, 5089, 5109, 5142, 5166, 5232, 5246, 5413, 5417, 5504, 5518, 5554, 5568, 5586, 5598, 5660, 5668, 5674, 5736, 5766, 5775, 5790, 5814, 5823, 5870, 5938, 5941, 5946, 5981, 6108, 6113, 6131, 6133, 6190, 6223, 6229, 6334, 6345, 6383, 6438, 6453, 6458, 6557, 6560, 6562, 6598, 6651, 6694, 6711, 6769, 6771, 6944, 6960, 7066, 7109, 7213, 7274, 7281, 7316, 7337, 7341, 7537, 7553, 7626, 7633, 7640, 7692, 7714, 7734, 7735, 7857, 7879, 7885, 7941, 8033, 8037, 8176, 8227, 8268, 8278, 8290, 8291, 8293, 8349, 8356, 8359, 8365, 8417, 8439, 8460, 8471, 8545, 8559, 8562, 8633, 8663, 8683, 8684, 8703, 8717, 8728, 8730, 8734, 8762, 8765, 8786, 8821, 8851, 8918, 8932, 8961, 9049, 9052, 9053, 9084, 9103, 9152, 9187, 9218, 9228, 9236, 9262, 9268, 9328, 9341, 9379, 9427, 9456, 9458, 9473, 9479, 9494, 9520, 9541, 9583, 9585, 9597, 9708, 9713, 9763, 9778, 9797, 9833, 9864, 9865, 9878, 9899, 9923, 9934, 9956, 10010, 10080, 10133, 10169, 10189, 10247, 10261, 10297, 10336, 10375, 10388, 10430, 10438, 10507, 10528, 10540, 10609, 10620, 10632, 10671, 10707, 10713, 10761, 10762, 10765, 10766, 10767, 10798, 10831, 10847, 10854, 10870, 10876, 10883, 10955, 10964, 10977, 10980, 10994, 11004, 11043, 11051, 11064, 11086, 11087, 11103, 11117, 11140, 11216, 11248, 11314, 11322, 11337, 11338, 11344, 11371, 11390, 11444, 11500, 11525, 11578, 11606, 11623, 11635, 11642, 11656, 11662, 11788, 11810, 11834, 11836, 11837, 11843, 11890, 11899, 11907, 11955, 11970, 12005, 12020, 12064, 12069, 12077, 12121, 12148, 12187, 12209, 12230, 12236, 12244, 12276, 12300, 12317, 12320, 12358, 12363, 12403, 12421, 12436, 12437, 12451, 12496, 12575, 12579, 12589, 12604, 12719, 12741, 12826, 12873, 12887, 12890, 12911, 12935, 13056, 13071, 13123, 13142, 13159, 13195, 13252, 13274, 13325, 13366, 13392, 13492, 13509, 13535, 13579, 13584, 13590, 13600, 13613, 13639, 13650, 13673, 13692, 13707, 13711, 13720, 13762, 13799, 13836, 13852, 13868, 13874, 13882, 13923, 13935, 13968, 13979, 14038, 14051, 14068, 14097, 14138, 14200, 14201, 14205, 14218, 14220, 14234, 14243, 14262, 14268, 14304, 14332, 14346, 14363, 14412, 14436, 14474, 14485, 14497, 14503, 14509, 14520, 14530, 14543, 14570, 14573, 14592, 14598, 14615, 14626, 14651, 14663, 14668, 14672, 14676, 14709, 14731, 14733, 14765, 14793, 14860, 14926, 14935, 14973, 14977, 14999, 15000, 15003, 15030, 15038, 15050, 15090, 15096, 15103, 15113, 15119, 15136, 15151, 15164, 15165, 15182, 15198, 15205, 15243, 15292, 15297, 15299, 15304, 15332, 15340, 15353, 15363, 15366, 15370, 15375, 15376, 15413, 15415, 15444, 15472, 15493, 15495, 15511, 15530, 15534, 15549, 15562, 15583, 15585, 15615, 15645, 15664, 15674, 15678, 15702, 15708, 15752, 15767, 15779, 15789, 15791, 15821, 15846, 15853, 15863, 15865, 15870, 15920, 15932, 15948, 15955, 15959, 15965, 16143, 16150, 16151, 16152, 16153, 16162, 16172, 16193, 16230, 16251, 16263, 16268, 16280, 16294, 16323, 16334, 16341, 16348, 16363, 16381, 16384, 16430, 16465, 16467, 16502, 16503, 16517, 16532, 16540, 16553, 16573, 16617, 16640, 16663, 16669, 16679, 16736, 16801, 16803, 16829, 16863, 16864, 16865, 16866, 16867, 16878, 16879, 16881, 16901, 16949, 16957, 16993, 17020, 17040, 17079, 17097, 17117, 17125, 17130, 17153, 17184, 17187, 17222, 17245, 17251, 17258, 17275, 17282, 17292, 17297, 17300, 17319, 17362, 17375, 17388, 17401, 17426, 17445, 17459, 17461, 17464, 17500, 17519, 17534, 17538, 17541, 17543, 17562, 17598, 17617, 17627, 17628, 17636, 17640, 17657, 17659, 17670, 17694, 17711, 17713, 17759, 17761, 17781, 17783, 17784, 17790, 17837, 17842, 17852, 17855, 17863, 17877, 17895, 17904, 17917, 17926, 18021, 18037, 18041, 18077, 18101, 18105, 18106, 18114, 18126, 18131, 18174, 18188, 18192, 18196, 18220, 18223, 18253, 18266, 18284, 18303, 18316, 18318, 18334, 18361, 18413, 18440, 18447, 18481, 18499, 18500, 18501, 18507, 18509, 18530, 18535, 18537, 18555, 18556, 18564, 18577, 18589, 18596, 18602, 18622, 18631, 18669, 18695, 18746, 18753, 18777, 18786, 18794, 18803, 18805, 18806, 18851, 18868, 18881, 18882, 18907, 18911, 18916, 18922, 18925, 18939, 18941, 18953, 18966, 19064, 19069, 19083, 19094, 19098, 19105, 19125, 19129, 19138, 19146, 19170, 19183, 19186, 19187, 19192, 19204, 19241, 19273, 19303, 19304, 19309, 19324, 19325, 19339, 19340, 19341, 19348, 19357, 19380, 19415, 19420, 19442, 19470, 19474, 19476, 19492, 19493, 19526, 19529, 19535, 19570, 19581, 19585, 19587, 19599, 19616, 19627, 19643, 19644, 19652, 19669, 19670, 19680, 19714, 19722, 19735, 19771, 19777, 19788, 19807, 19825, 19896, 19930, 19952, 19955, 20047, 20085, 20162, 20197, 20211, 20234, 20255, 20277, 20325, 20404, 20446, 20458, 20481, 20500, 20531, 20532, 20559, 20560, 20576, 20623, 20680, 20686, 20694, 20702, 20704, 20705, 20725, 20737, 20750, 20760, 20761, 20774, 20886, 20887, 20901, 20912, 20919, 20951, 20956, 20958, 20972, 20976, 20995, 21009, 21011, 21013, 21016, 21038, 21041, 21094, 21109, 21117, 21120, 21133, 21139, 21153, 21159, 21185, 21213, 21214, 21215, 21278, 21288, 21309, 21316, 21327, 21337, 21339, 21370, 21398, 21404, 21415, 21431, 21464, 21475, 21501, 21528, 21544, 21552, 21567, 21582, 21592, 21617, 21623, 21631, 21665, 21669, 21717, 21720, 21721, 21724, 21739, 21786, 21791, 21792, 21808, 22002, 22025, 22027, 22037, 22049, 22068, 22074, 22077, 22148, 22184, 22186, 22215, 22261, 22290, 22303, 22309, 22312, 22316, 22366, 22370, 22404, 22406, 22417, 22436, 22448, 22497, 22503, 22505, 22508, 22510, 22545, 22621, 22656, 22657, 22662, 22663, 22694, 22726, 22733, 22757, 22766, 22772, 22776, 22777, 22781, 22784, 22805, 22812, 22835, 22859, 22868, 22884, 22915, 22918, 22952, 23056, 23062, 23072, 23081, 23105, 23115, 23151, 23161, 23166, 23186, 23207, 23226, 23238, 23239, 23240, 23259, 23260, 23267, 23269, 23309, 23310, 23344, 23345, 23357, 23362, 23366, 23372, 23379, 23385, 23394, 23404, 23440, 23441, 23447, 23458, 23472, 23473, 23479, 23480, 23481, 23493, 23497, 23521, 23525, 23544, 23545, 23546, 23551, 23566, 23575, 23595, 23616, 23617, 23620, 23647, 23684, 23714, 23744, 23761, 23785, 23799, 23857, 23886, 23903, 23904, 23911, 23974, 23975, 23982, 23984, 24000, 24061, 24075, 24096, 24231, 24248, 24255, 24271, 24284, 24329, 24344, 24359, 24365, 24391, 24400, 24418, 24460, 24474, 24486, 24510, 24548, 24555, 24559, 24589, 24626, 24646, 24669, 24706, 24714, 24782, 24792, 24918, 24926, 25033, 25037, 25041, 25077, 25083, 25112, 25114, 25117, 25118, 25144, 25177, 25317, 25319, 25384, 25387, 25397, 25401, 25420, 25423, 25480, 25493, 25494, 25498, 25499, 25530, 25538, 25559, 25637, 25646, 25667, 25696, 25698, 25724, 25733, 25738, 25753, 25759, 25767, 25811, 25816, 25819, 25842, 25847, 25857, 25882, 25941, 25991, 26007, 26034, 26036, 26074, 26075, 26096, 26117, 26120, 26192, 26252, 26259, 26270, 26273, 26321, 26335, 26348, 26374, 26393, 26415, 26435, 26443, 26461, 26464, 26468, 26470, 26477, 26493, 26499, 26565, 26568, 26607, 26610, 26636, 26637, 26647, 26668, 26682, 26690, 26695, 26706, 26722, 26732, 26739, 26747, 26759, 26761, 26770, 26784, 26813, 26837, 26838, 26839, 26843, 26866, 26883, 26910, 26995, 27010, 27028, 27096, 27106, 27117, 27130, 27178, 27217, 27249, 27271, 27289, 27313, 27335, 27336, 27392, 27396, 27433, 27465, 27526, 27543, 27544, 27575, 27594, 27599, 27609, 27613, 27626, 27641, 27649, 27678, 27682, 27739, 27756, 27778, 27805, 27827, 27885, 27918, 27935, 27968, 27983, 27998, 28027, 28087, 28094, 28100, 28124, 28144, 28153, 28173, 28238, 28328, 28347, 28349, 28369, 28377, 28394, 28404, 28426, 28518, 28520, 28529, 28531, 28548, 28562, 28588, 28598, 28620, 28627, 28634, 28641, 28683, 28698, 28702, 28706, 28734, 28814, 28866, 28876, 28927, 28943, 29021, 29030, 29040, 29117, 29192, 29196, 29202, 29269, 29276, 29284, 29326, 29370, 29386, 29403, 29412, 29440, 29442, 29449, 29451, 29559, 29567, 29591, 29594, 29612, 29661, 29731, 29761, 29777, 29812, 29890, 29938, 29952, 30012, 30053, 30056, 30060, 30062, 30076, 30095, 30114, 30125, 30150, 30185, 30222, 30242, 30268, 30324, 30363, 30367, 30407, 30415, 30440, 30450, 30469, 30491, 30520, 30536, 30551, 30591, 30634, 30637, 30734, 30737, 30823, 30829, 30854, 30858, 30885, 30913, 30977, 31113, 31258, 31266, 31274, 31312, 31383, 31385, 31392, 31396, 31410, 31421, 31478, 31497, 31500, 31522, 31559, 31561, 31635, 31638, 31646, 31704, 31711, 31712, 31728, 31736, 31763, 31809, 31899, 31903, 31910, 31960, 32009, 32018, 32032, 32070, 32089, 32194, 32388, 32429, 32435, 32442, 32481, 32534, 32540, 32593, 32634, 32701, 32705, 32709, 32732, 32754, 32755, 32779, 32822, 32844, 32880, 32930, 32954, 33067, 33081, 33085, 33099, 33140, 33151, 33158, 33167, 33179, 33264, 33330, 33338, 33406, 33448, 33506, 33572, 33589, 33810, 33857, 34017, 34127, 34142, 34219, 34241, 34272, 34314, 34366, 34384, 34458, 34549, 34590, 34695, 34699, 34704, 34746, 34791, 34814, 34824, 35032, 35060, 35118, 35148, 35211, 35246, 35281, 35288, 35289, 35311, 35397, 35570, 35593, 35594, 35665, 35762, 35870, 35886, 35906, 35918, 35953, 36003, 36004, 36059, 36077, 36082, 36113, 36169, 36247, 36303, 36339, 36428, 36462, 36544, 36547, 36551, 36583, 36593, 36612, 36685, 36836, 36931, 36940, 36941, 37005, 37013, 37042, 37059, 37078, 37079, 37130, 37280, 37292, 37304, 37427, 37442, 37486, 37494, 37551, 37573, 37657, 37746, 37749, 37910, 37922, 37991, 38034, 38039, 38050, 38156, 38257, 38268, 38305, 38317, 38324, 38382, 38413, 38456, 38492, 38495, 38497, 38579, 38604, 38701, 38738, 38776, 38779, 38807, 38810, 38836, 38898, 39213, 39237, 39284, 39320, 39470, 39524, 199, 348, 477, 539, 625, 704, 1047, 1386, 1427, 1428, 1524, 1719, 1808, 1834, 1938, 2106, 2127, 2149, 2192, 2196, 2243, 2244, 2290, 2349, 2375, 2613, 2637, 2692, 2788, 2813, 2967, 3087, 3168, 3209, 3319, 3444, 3555, 3562, 3625, 3648, 3712, 3783, 3952, 4041, 4218, 4219, 4221, 4269, 4290, 4350, 4389, 4391, 4438, 4452, 4458, 4494, 4534, 4545, 4609, 4614, 4643, 4664, 4751, 4757, 4784, 4805, 4882, 5044, 5089, 5166, 5246, 5265, 5275, 5413, 5417, 5504, 5554, 5598, 5674, 5726, 5736, 5766, 5775, 5814, 5870, 5938, 5946, 5981, 6108, 6113, 6131, 6133, 6190, 6229, 6342, 6345, 6383, 6438, 6453, 6458, 6557, 6560, 6562, 6598, 6651, 6652, 6711, 6746, 6800, 6819, 6944, 7066, 7109, 7202, 7213, 7274, 7281, 7316, 7553, 7633, 7692, 7714, 7735, 7857, 7879, 7885, 8033, 8037, 8176, 8268, 8278, 8290, 8291, 8349, 8356, 8359, 8365, 8416, 8517, 8533, 8545, 8547, 8559, 8562, 8633, 8683, 8684, 8720, 8728, 8734, 8821, 8851, 8875, 8918, 8966, 9029, 9042, 9049, 9052, 9053, 9084, 9152, 9187, 9228, 9236, 9268, 9328, 9341, 9379, 9427, 9455, 9473, 9494, 9495, 9520, 9522, 9541, 9585, 9597, 9599, 9602, 9645, 9651, 9713, 9797, 9833, 9864, 9869, 9899, 9923, 9934, 9936, 9994, 10025, 10055, 10080, 10170, 10189, 10240, 10261, 10297, 10336, 10385, 10388, 10440, 10528, 10540, 10608, 10632, 10639, 10667, 10707, 10761, 10762, 10765, 10766, 10767, 10798, 10826, 10831, 10854, 10870, 10955, 10980, 10994, 10996, 11004, 11025, 11030, 11064, 11117, 11121, 11139, 11216, 11248, 11286, 11322, 11337, 11338, 11344, 11444, 11487, 11500, 11525, 11635, 11656, 11788, 11834, 11836, 11837, 11843, 11890, 11907, 11955, 11970, 12005, 12057, 12064, 12069, 12121, 12152, 12168, 12210, 12230, 12236, 12300, 12320, 12358, 12363, 12421, 12437, 12496, 12575, 12579, 12604, 12826, 12854, 12873, 12890, 12935, 12947, 13041, 13056, 13161, 13195, 13274, 13360, 13366, 13392, 13501, 13584, 13600, 13613, 13639, 13648, 13650, 13664, 13707, 13711, 13720, 13737, 13755, 13852, 13868, 13874, 13923, 13966, 14038, 14051, 14068, 14097, 14135, 14200, 14205, 14218, 14220, 14234, 14262, 14268, 14346, 14366, 14412, 14416, 14426, 14436, 14474, 14485, 14489, 14497, 14520, 14530, 14543, 14564, 14570, 14592, 14598, 14615, 14626, 14629, 14651, 14663, 14667, 14668, 14672, 14676, 14684, 14709, 14733, 14793, 14808, 14860, 14902, 14926, 14935, 14961, 14964, 14977, 15000, 15003, 15021, 15030, 15038, 15050, 15096, 15103, 15113, 15119, 15136, 15151, 15164, 15165, 15198, 15205, 15243, 15292, 15297, 15299, 15304, 15340, 15353, 15363, 15366, 15368, 15370, 15375, 15376, 15385, 15444, 15493, 15495, 15534, 15549, 15562, 15583, 15585, 15597, 15600, 15645, 15674, 15708, 15728, 15752, 15767, 15779, 15789, 15791, 15821, 15830, 15842, 15846, 15853, 15865, 15902, 15920, 15932, 15948, 15965, 15975, 16091, 16096, 16149, 16150, 16151, 16152, 16153, 16172, 16193, 16251, 16263, 16268, 16280, 16294, 16319, 16323, 16334, 16348, 16363, 16381, 16384, 16430, 16458, 16465, 16467, 16502, 16503, 16509, 16517, 16532, 16540, 16553, 16573, 16617, 16640, 16663, 16679, 16736, 16767, 16801, 16803, 16863, 16864, 16865, 16878, 16879, 16881, 16901, 16910, 17020, 17040, 17079, 17097, 17117, 17125, 17201, 17222, 17251, 17282, 17292, 17297, 17300, 17319, 17346, 17375, 17381, 17388, 17426, 17445, 17452, 17459, 17461, 17464, 17485, 17500, 17519, 17562, 17598, 17617, 17628, 17640, 17643, 17657, 17659, 17670, 17680, 17711, 17718, 17759, 17781, 17783, 17784, 17790, 17821, 17837, 17842, 17852, 17855, 17863, 17877, 18041, 18101, 18105, 18114, 18120, 18131, 18143, 18188, 18220, 18266, 18284, 18303, 18316, 18325, 18361, 18481, 18507, 18535, 18537, 18555, 18556, 18565, 18577, 18589, 18596, 18604, 18631, 18668, 18669, 18777, 18786, 18794, 18803, 18805, 18806, 18848, 18868, 18881, 18882, 18907, 18911, 18916, 18922, 18923, 18939, 18953, 18961, 18966, 19052, 19064, 19069, 19071, 19083, 19094, 19098, 19129, 19138, 19146, 19153, 19170, 19183, 19192, 19241, 19304, 19340, 19341, 19348, 19355, 19357, 19375, 19415, 19492, 19493, 19529, 19535, 19562, 19570, 19585, 19599, 19627, 19643, 19652, 19669, 19670, 19678, 19714, 19722, 19771, 19777, 19807, 19825, 19930, 19952, 19955, 19988, 20047, 20197, 20235, 20255, 20284, 20401, 20404, 20414, 20481, 20500, 20504, 20531, 20532, 20559, 20560, 20576, 20623, 20686, 20704, 20705, 20725, 20729, 20737, 20760, 20901, 20919, 20958, 20995, 21013, 21029, 21039, 21109, 21117, 21120, 21133, 21139, 21153, 21166, 21201, 21213, 21215, 21278, 21288, 21316, 21327, 21404, 21415, 21431, 21458, 21464, 21475, 21523, 21528, 21536, 21544, 21592, 21631, 21665, 21669, 21720, 21721, 21737, 21739, 21786, 21808, 22002, 22025, 22027, 22037, 22049, 22068, 22077, 22124, 22134, 22148, 22186, 22215, 22290, 22303, 22309, 22312, 22366, 22393, 22406, 22417, 22419, 22448, 22474, 22505, 22510, 22575, 22621, 22657, 22662, 22663, 22707, 22726, 22733, 22757, 22766, 22772, 22776, 22777, 22781, 22812, 22835, 22859, 22884, 22915, 22952, 22967, 23056, 23062, 23105, 23111, 23115, 23133, 23161, 23166, 23207, 23226, 23227, 23238, 23239, 23240, 23260, 23267, 23309, 23310, 23344, 23345, 23357, 23362, 23366, 23372, 23379, 23385, 23394, 23404, 23439, 23440, 23441, 23447, 23458, 23472, 23473, 23479, 23480, 23481, 23493, 23497, 23521, 23525, 23545, 23546, 23551, 23566, 23585, 23595, 23616, 23620, 23684, 23714, 23744, 23761, 23799, 23857, 23886, 23911, 23928, 23952, 23974, 23984, 24000, 24061, 24075, 24213, 24231, 24248, 24255, 24284, 24329, 24400, 24418, 24434, 24460, 24474, 24486, 24548, 24555, 24559, 24589, 24615, 24626, 24646, 24669, 24706, 24726, 24744, 24775, 24782, 24792, 24918, 24926, 24948, 25033, 25037, 25083, 25112, 25118, 25177, 25317, 25319, 25384, 25387, 25397, 25420, 25423, 25483, 25494, 25498, 25499, 25538, 25559, 25562, 25587, 25637, 25640, 25667, 25696, 25733, 25753, 25759, 25767, 25783, 25811, 25812, 25816, 25819, 25842, 25847, 25882, 25912, 25941, 25991, 26074, 26096, 26120, 26192, 26252, 26259, 26268, 26270, 26321, 26335, 26348, 26374, 26415, 26435, 26443, 26461, 26477, 26483, 26493, 26565, 26568, 26607, 26610, 26636, 26637, 26647, 26668, 26682, 26690, 26706, 26722, 26732, 26759, 26761, 26770, 26779, 26813, 26816, 26823, 26837, 26838, 26839, 26843, 26875, 26883, 26910, 26961, 26986, 27010, 27028, 27046, 27096, 27106, 27130, 27163, 27178, 27217, 27271, 27289, 27309, 27313, 27335, 27392, 27396, 27433, 27465, 27472, 27485, 27526, 27537, 27543, 27544, 27575, 27609, 27625, 27626, 27627, 27641, 27678, 27682, 27686, 27712, 27727, 27756, 27763, 27778, 27827, 27871, 27885, 27918, 27935, 27965, 27968, 27998, 28027, 28029, 28077, 28087, 28094, 28100, 28124, 28126, 28171, 28173, 28220, 28238, 28244, 28347, 28349, 28369, 28377, 28394, 28404, 28426, 28470, 28510, 28529, 28531, 28562, 28588, 28598, 28620, 28634, 28641, 28698, 28702, 28706, 28743, 28766, 28774, 28876, 28914, 28927, 28943, 29012, 29021, 29030, 29033, 29105, 29113, 29150, 29167, 29196, 29197, 29206, 29269, 29276, 29284, 29326, 29344, 29345, 29363, 29370, 29386, 29403, 29440, 29442, 29451, 29557, 29559, 29565, 29567, 29591, 29594, 29612, 29620, 29661, 29676, 29777, 29869, 29890, 29926, 29938, 29952, 30012, 30060, 30062, 30076, 30095, 30114, 30116, 30121, 30125, 30150, 30185, 30187, 30222, 30242, 30266, 30287, 30324, 30325, 30363, 30367, 30407, 30415, 30440, 30450, 30469, 30520, 30551, 30591, 30599, 30634, 30637, 30734, 30737, 30823, 30829, 30885, 30913, 30977, 31113, 31151, 31255, 31266, 31312, 31383, 31392, 31396, 31497, 31512, 31522, 31559, 31561, 31563, 31582, 31638, 31646, 31704, 31736, 31763, 31809, 31879, 31899, 31903, 31945, 31960, 32018, 32032, 32070, 32089, 32147, 32161, 32268, 32388, 32429, 32435, 32481, 32518, 32534, 32565, 32634, 32701, 32705, 32709, 32732, 32811, 32822, 32844, 32878, 32880, 32930, 32951, 33041, 33067, 33069, 33081, 33085, 33101, 33112, 33140, 33151, 33158, 33179, 33184, 33189, 33203, 33208, 33338, 33406, 33448, 33471, 33495, 33572, 33589, 33629, 33722, 33810, 33929, 34017, 34142, 34219, 34237, 34241, 34258, 34272, 34314, 34348, 34396, 34458, 34508, 34541, 34549, 34699, 34704, 34791, 34801, 34814, 35001, 35060, 35093, 35118, 35158, 35182, 35215, 35231, 35233, 35246, 35255, 35281, 35288, 35311, 35397, 35414, 35503, 35570, 35586, 35594, 35665, 35690, 35762, 35805, 35866, 35870, 35886, 35906, 35918, 35953, 36003, 36004, 36035, 36059, 36082, 36113, 36178, 36315, 36324, 36339, 36403, 36406, 36424, 36428, 36462, 36466, 36547, 36551, 36583, 36593, 36612, 36639, 36685, 36753, 36836, 36900, 36935, 36941, 37005, 37042, 37078, 37253, 37280, 37292, 37304, 37350, 37420, 37427, 37442, 37456, 37494, 37573, 37596, 37654, 37697, 37700, 37746, 37749, 37910, 37922, 37991, 38050, 38133, 38156, 38257, 38305, 38317, 38382, 38413, 38492, 38497, 38579, 38738, 38776, 38807, 38810, 38862, 38898, 39227, 39237, 39284, 39288, 39306, 39320, 39639, 311, 312, 313, 314, 315, 316, 317, 318, 319, 320, 321, 322, 323, 324, 325, 326, 327, 328, 329, 330, 706, 707, 708, 709, 710, 711, 712, 713, 714, 715, 716, 717, 718, 719, 720, 721, 722, 1114, 1115, 1116, 1117, 1118, 1119, 1120, 1121, 1122, 1123, 1124, 1125, 1126, 1127, 1128, 1129, 1130, 1131, 1132, 1133, 1134, 1135, 1136, 1137, 1543, 1544, 1545, 1546, 1547, 1548, 1549, 1550, 1551, 1552, 1553, 1554, 1555, 1556, 1557, 1558, 1559, 1952, 1953, 1954, 1955, 1956, 1957, 1958, 1959, 1960, 1961, 1962, 1963, 1964, 1965, 1966, 1967, 1968, 1969, 1970, 1971, 1972, 1973, 1974, 2379, 2380, 2381, 2382, 2383, 2384, 2385, 2386, 2387, 2388, 2389, 2390, 2391, 2392, 2393, 2394, 2395, 2396, 2728, 2729, 2730, 2731, 2732, 2733, 2734, 2735, 2736, 2737, 2738, 2739, 2740, 2741, 2742, 2743, 2744, 2745, 3128, 3129, 3130, 3131, 3132, 3133, 3134, 3135, 3136, 3137, 3138, 3139, 3140, 3141, 3142, 3143, 3144, 3145, 3146, 3504, 3505, 3506, 3507, 3508, 3509, 3510, 3511, 3512, 3513, 3514, 3515, 3516, 3517, 3518, 3519, 3520, 3521, 3522, 3523, 3524, 3525, 3526, 3527, 3528, 3529, 3530, 3531, 3532, 3533, 3911, 3912, 3913, 3914, 3915, 3916, 3917, 3918, 3919, 3920, 3921, 3922, 3923, 3924, 3925, 3926, 3927, 3928, 3929, 3930, 3931, 3932, 3933, 4260, 4261, 4262, 4263, 4264, 4265, 4266, 4267, 4268, 4269, 4270, 4271, 4272, 4273, 4274, 4602, 4603, 4604, 4605, 4606, 4607, 4608, 4609, 4610, 4611, 4612, 4613, 4614, 4615, 4616, 4617, 4618, 4619, 4620, 4621, 4622, 4623, 4624, 4625, 4966, 4967, 4968, 4969, 4970, 4971, 4972, 4973, 4974, 4975, 4976, 4977, 4978, 4979, 4980, 4981, 4982, 4983, 4984, 4985, 5313, 5314, 5315, 5316, 5317, 5318, 5319, 5320, 5321, 5322, 5323, 5324, 5325, 5326, 5327, 5328, 5650, 5651, 5652, 5653, 5654, 5655, 5656, 5657, 5658, 5659, 5660, 5661, 5662, 5663, 5664, 5665, 5666, 5667, 5668, 5669, 5670, 5671, 5672, 5673, 5674, 5675, 5676, 5677, 5678, 6017, 6018, 6019, 6020, 6021, 6022, 6023, 6024, 6025, 6026, 6027, 6028, 6029, 6030, 6031, 6032, 6033, 6034, 6035, 6347, 6348, 6349, 6350, 6351, 6352, 6353, 6354, 6355, 6356, 6357, 6358, 6359, 6360, 6361, 6362, 6363, 6364, 6365, 6366, 6367, 6368, 6369, 6370, 6371, 6372, 6373, 6374, 6375, 6706, 6707, 6708, 6709, 6710, 6711, 6712, 6713, 6714, 6715, 6716, 6717, 6718, 6719, 6720, 6721, 6722, 6723, 6724, 6725, 6726, 6727, 6728, 6729, 7049, 7050, 7051, 7052, 7053, 7054, 7055, 7056, 7057, 7058, 7059, 7060, 7061, 7062, 7063, 7064, 7065, 7066, 7067, 7068, 7069, 7414, 7415, 7416, 7417, 7418, 7419, 7420, 7421, 7422, 7423, 7424, 7425, 7426, 7427, 7428, 7429, 7430, 7431, 7432, 7433, 7434, 7435, 7729, 7730, 7731, 7732, 7733, 7734, 7735, 7736, 7737, 7738, 7739, 7740, 7741, 7742, 7743, 7744, 7745, 7746, 7747, 7748, 7749, 8074, 8075, 8076, 8077, 8078, 8079, 8080, 8081, 8082, 8083, 8084, 8085, 8086, 8087, 8088, 8089, 8090, 8091, 8092, 8093, 8094, 8095, 8453, 8454, 8455, 8456, 8457, 8458, 8459, 8460, 8461, 8462, 8463, 8464, 8465, 8466, 8467, 8468, 8469, 8470, 8471, 8472, 8809, 8810, 8811, 8812, 8813, 8814, 8815, 8816, 8817, 8818, 8819, 8820, 8821, 8822, 8823, 8824, 8825, 8826, 8827, 8828, 8829, 8830, 8831, 8832, 9154, 9155, 9156, 9157, 9158, 9159, 9160, 9161, 9162, 9163, 9164, 9165, 9166, 9167, 9168, 9169, 9170, 9171, 9172, 9173, 9174, 9175, 9176, 9475, 9476, 9477, 9478, 9479, 9480, 9481, 9482, 9483, 9484, 9485, 9486, 9487, 9488, 9489, 9490, 9491, 9492, 9493, 9494, 9495, 9496, 9497, 9864, 9865, 9866, 9867, 9868, 9869, 9870, 9871, 9872, 9873, 9874, 9875, 9876, 9877, 9878, 9879, 9880, 9881, 9882, 9883, 9884, 9885, 9886, 9887, 10220, 10221, 10222, 10223, 10224, 10225, 10226, 10227, 10228, 10229, 10230, 10231, 10232, 10233, 10234, 10235, 10236, 10237, 10238, 10239, 10240, 10241, 10242, 10243, 10244, 10245, 10246, 10247, 10248, 10249, 10250, 10583, 10584, 10585, 10586, 10587, 10588, 10589, 10590, 10591, 10592, 10593, 10594, 10595, 10596, 10597, 10598, 10599, 10600, 10601, 10602, 10603, 10604, 10923, 10924, 10925, 10926, 10927, 10928, 10929, 10930, 10931, 10932, 10933, 10934, 10935, 10936, 10937, 10938, 10939, 10940, 10941, 10942, 10943, 10944, 10945, 10946, 10947, 10948, 10949, 10950, 11267, 11268, 11269, 11270, 11271, 11272, 11273, 11274, 11275, 11276, 11277, 11278, 11279, 11280, 11281, 11282, 11283, 11284, 11285, 11286, 11287, 11288, 11289, 11290, 11291, 11292, 11293, 11294, 11295, 11642, 11643, 11644, 11645, 11646, 11647, 11648, 11649, 11650, 11651, 11652, 11653, 11654, 11655, 11656, 11657, 11658, 11659, 11660, 11661, 11662, 11663, 11664, 11665, 12000, 12001, 12002, 12003, 12004, 12005, 12006, 12007, 12008, 12009, 12010, 12011, 12012, 12013, 12014, 12015, 12016, 12017, 12018, 12019, 12020, 12021, 12022, 12023, 12024, 12025, 12026, 12345, 12346, 12347, 12348, 12349, 12350, 12351, 12352, 12353, 12354, 12355, 12356, 12357, 12358, 12359, 12360, 12361, 12362, 12363, 12638, 12639, 12640, 12641, 12642, 12643, 12644, 12645, 12646, 12647, 12648, 12649, 12650, 12651, 12652, 12653, 12654, 12655, 12656, 12657, 12658, 12659, 12660, 12661, 12982, 12983, 12984, 12985, 12986, 12987, 12988, 12989, 12990, 12991, 12992, 12993, 12994, 12995, 12996, 12997, 12998, 12999, 13000, 13359, 13360, 13361, 13362, 13363, 13364, 13365, 13366, 13367, 13368, 13369, 13370, 13371, 13372, 13373, 13374, 13375, 13376, 13377, 13378, 13379, 13739, 13740, 13741, 13742, 13743, 13744, 13745, 13746, 13747, 13748, 13749, 13750, 13751, 13752, 13753, 13754, 13755, 13756, 13757, 13758, 13759, 13760, 14082, 14083, 14084, 14085, 14086, 14087, 14088, 14089, 14090, 14091, 14092, 14093, 14094, 14095, 14096, 14097, 14098, 14099, 14100, 14101, 14102, 14103, 14104, 14430, 14431, 14432, 14433, 14434, 14435, 14436, 14437, 14438, 14439, 14440, 14441, 14442, 14443, 14444, 14445, 14446, 14447, 14448, 14449, 14450, 14451, 14452, 14453, 14796, 14797, 14798, 14799, 14800, 14801, 14802, 14803, 14804, 14805, 14806, 14807, 14808, 14809, 14810, 14811, 14812, 14813, 14814, 14815, 14816, 14817, 15154, 15155, 15156, 15157, 15158, 15159, 15160, 15161, 15162, 15163, 15164, 15165, 15166, 15167, 15168, 15169, 15170, 15171, 15172, 15173, 15174, 15175, 15176, 15532, 15533, 15534, 15535, 15536, 15537, 15538, 15539, 15540, 15541, 15542, 15543, 15544, 15545, 15546, 15547, 15548, 15549, 15550, 15864, 15865, 15866, 15867, 15868, 15869, 15870, 15871, 15872, 15873, 15874, 15875, 15876, 15877, 15878, 15879, 15880, 15881, 15882, 15883, 15884, 15885, 16196, 16197, 16198, 16199, 16200, 16201, 16202, 16203, 16204, 16205, 16206, 16207, 16208, 16209, 16210, 16211, 16212, 16213, 16214, 16215, 16216, 16217, 16218, 16219, 16551, 16552, 16553, 16554, 16555, 16556, 16557, 16558, 16559, 16560, 16561, 16562, 16563, 16564, 16565, 16566, 16567, 16568, 16569, 16570, 16571, 16572, 16573, 16815, 16816, 16817, 16818, 16819, 16820, 16821, 16822, 16823, 16824, 16825, 16826, 16827, 16828, 16829, 16830, 16831, 16832, 17155, 17156, 17157, 17158, 17159, 17160, 17161, 17162, 17163, 17164, 17165, 17166, 17167, 17168, 17169, 17170, 17171, 17172, 17173, 17174, 17175, 17176, 17177, 17178, 17179, 17180, 17181, 17533, 17534, 17535, 17536, 17537, 17538, 17539, 17540, 17541, 17542, 17543, 17544, 17545, 17546, 17547, 17548, 17549, 17550, 17551, 17552, 17553, 17554, 17555, 17556, 17890, 17891, 17892, 17893, 17894, 17895, 17896, 17897, 17898, 17899, 17900, 17901, 17902, 17903, 17904, 17905, 17906, 17907, 17908, 18102, 18103, 18104, 18105, 18106, 18107, 18108, 18109, 18110, 18111, 18112, 18113, 18114, 18115, 18116, 18307, 18308, 18309, 18310, 18311, 18312, 18313, 18314, 18315, 18316, 18317, 18318, 18319, 18320, 18321, 18322, 18323, 18672, 18673, 18674, 18675, 18676, 18677, 18678, 18679, 18680, 18681, 18682, 18683, 18684, 18685, 18686, 18687, 18688, 18689, 18690, 18691, 19012, 19013, 19014, 19015, 19016, 19017, 19018, 19019, 19020, 19021, 19022, 19023, 19024, 19025, 19026, 19027, 19028, 19029, 19030, 19031, 19032, 19033, 19034, 19343, 19344, 19345, 19346, 19347, 19348, 19349, 19350, 19351, 19352, 19353, 19354, 19355, 19356, 19357, 19358, 19359, 19360, 19361, 19362, 19363, 19364, 19721, 19722, 19723, 19724, 19725, 19726, 19727, 19728, 19729, 19730, 19731, 19732, 19733, 19734, 19735, 19736, 19737, 19738, 19739, 19740, 19741, 20085, 20086, 20087, 20088, 20089, 20090, 20091, 20092, 20093, 20094, 20095, 20096, 20097, 20098, 20099, 20100, 20101, 20102, 20103, 20104, 20105, 20106, 20107, 20108, 20109, 20110, 20111, 20112, 20113, 20114, 20494, 20495, 20496, 20497, 20498, 20499, 20500, 20501, 20502, 20503, 20504, 20505, 20506, 20507, 20508, 20509, 20510, 20511, 20512, 20513, 20514, 20515, 20516, 20517, 20518, 20519, 20520, 20841, 20842, 20843, 20844, 20845, 20846, 20847, 20848, 20849, 20850, 20851, 20852, 20853, 20854, 20855, 20856, 20857, 20858, 20859, 20860, 20861, 20862, 20863, 20864, 20865, 20866, 20867, 20868, 20869, 20870, 20871, 21211, 21212, 21213, 21214, 21215, 21216, 21217, 21218, 21219, 21220, 21221, 21222, 21223, 21224, 21225, 21226, 21227, 21228, 21229, 21230, 21231, 21547, 21548, 21549, 21550, 21551, 21552, 21553, 21554, 21555, 21556, 21557, 21558, 21559, 21560, 21561, 21562, 21563, 21564, 21565, 21566, 21567, 21568, 21569, 21570, 21890, 21891, 21892, 21893, 21894, 21895, 21896, 21897, 21898, 21899, 21900, 21901, 21902, 21903, 21904, 21905, 21906, 21907, 22247, 22248, 22249, 22250, 22251, 22252, 22253, 22254, 22255, 22256, 22257, 22258, 22259, 22260, 22261, 22262, 22263, 22264, 22265, 22266, 22267, 22268, 22269, 22595, 22596, 22597, 22598, 22599, 22600, 22601, 22602, 22603, 22604, 22605, 22606, 22607, 22608, 22609, 22610, 22611, 22612, 22613, 22614, 22615, 22616, 22617, 23011, 23012, 23013, 23014, 23015, 23016, 23017, 23018, 23019, 23020, 23021, 23022, 23023, 23024, 23025, 23026, 23027, 23028, 23029, 23030, 23031, 23402, 23403, 23404, 23405, 23406, 23407, 23408, 23409, 23410, 23411, 23412, 23413, 23414, 23415, 23416, 23417, 23418, 23419, 23420, 23421, 23422, 23423, 23424, 23425, 23426, 23427, 23793, 23794, 23795, 23796, 23797, 23798, 23799, 23800, 23801, 23802, 23803, 23804, 23805, 23806, 23807, 23808, 23809, 23810, 23811, 24184, 24185, 24186, 24187, 24188, 24189, 24190, 24191, 24192, 24193, 24194, 24195, 24196, 24197, 24198, 24199, 24200, 24201, 24202, 24203, 24204, 24205, 24206, 24590, 24591, 24592, 24593, 24594, 24595, 24596, 24597, 24598, 24599, 24600, 24601, 24602, 24603, 24604, 24605, 24606, 24607, 24608, 24609, 24610, 24964, 24965, 24966, 24967, 24968, 24969, 24970, 24971, 24972, 24973, 24974, 24975, 24976, 24977, 24978, 24979, 24980, 24981, 24982, 25359, 25360, 25361, 25362, 25363, 25364, 25365, 25366, 25367, 25368, 25369, 25370, 25371, 25372, 25373, 25374, 25375, 25376, 25377, 25378, 25755, 25756, 25757, 25758, 25759, 25760, 25761, 25762, 25763, 25764, 25765, 25766, 25767, 25768, 25769, 25770, 25771, 25772, 25773, 25774, 25775, 25776, 25777, 25778, 25779, 26119, 26120, 26121, 26122, 26123, 26124, 26125, 26126, 26127, 26128, 26129, 26130, 26131, 26132, 26133, 26134, 26135, 26136, 26137, 26138, 26139, 26535, 26536, 26537, 26538, 26539, 26540, 26541, 26542, 26543, 26544, 26545, 26546, 26547, 26548, 26549, 26550, 26551, 26552, 26553, 26554, 26555, 26556, 26557, 26972, 26973, 26974, 26975, 26976, 26977, 26978, 26979, 26980, 26981, 26982, 26983, 26984, 26985, 26986, 26987, 26988, 26989, 26990, 26991, 26992, 26993, 26994, 26995, 26996, 26997, 26998, 26999, 27000, 27001, 27002, 27003, 27451, 27452, 27453, 27454, 27455, 27456, 27457, 27458, 27459, 27460, 27461, 27462, 27463, 27464, 27465, 27466, 27467, 27468, 27469, 27470, 27471, 27472, 27473, 27474, 27904, 27905, 27906, 27907, 27908, 27909, 27910, 27911, 27912, 27913, 27914, 27915, 27916, 27917, 27918, 27919, 27920, 27921, 27922, 27923, 27924, 27925, 27926, 27927, 27928, 28307, 28308, 28309, 28310, 28311, 28312, 28313, 28314, 28315, 28316, 28317, 28318, 28319, 28320, 28321, 28322, 28323, 28324, 28325, 28326, 28327, 28328, 28754, 28755, 28756, 28757, 28758, 28759, 28760, 28761, 28762, 28763, 28764, 28765, 28766, 28767, 28768, 28769, 28770, 28771, 28772, 28773, 28774, 28775, 28776, 28777, 29218, 29219, 29220, 29221, 29222, 29223, 29224, 29225, 29226, 29227, 29228, 29229, 29230, 29231, 29232, 29233, 29234, 29235, 29236, 29237, 29238, 29239, 29240, 29241, 29242, 29243, 29244, 29245, 29653, 29654, 29655, 29656, 29657, 29658, 29659, 29660, 29661, 29662, 29663, 29664, 29665, 29666, 29667, 29668, 29669, 29670, 29671, 29672, 29673, 29674, 29675, 29676, 29677, 29678, 29679, 29680, 29681, 29682, 30105, 30106, 30107, 30108, 30109, 30110, 30111, 30112, 30113, 30114, 30115, 30116, 30117, 30118, 30119, 30120, 30121, 30122, 30123, 30124, 30125, 30126, 30127, 30532, 30533, 30534, 30535, 30536, 30537, 30538, 30539, 30540, 30541, 30542, 30543, 30544, 30545, 30546, 30547, 30548, 30549, 30550, 30551, 30552, 30553, 30554, 30555, 30556, 30557, 30921, 30922, 30923, 30924, 30925, 30926, 30927, 30928, 30929, 30930, 30931, 30932, 30933, 30934, 30935, 30936, 30937, 30938, 30939, 31299, 31300, 31301, 31302, 31303, 31304, 31305, 31306, 31307, 31308, 31309, 31310, 31311, 31312, 31313, 31314, 31315, 31316, 31317, 31318, 31319, 31320, 31321, 31322, 31323, 31324, 31325, 31326, 31760, 31761, 31762, 31763, 31764, 31765, 31766, 31767, 31768, 31769, 31770, 31771, 31772, 31773, 31774, 31775, 31776, 31777, 31778, 31779, 31780, 31781, 31782, 31783, 31784, 31785, 31786, 31787, 31788, 31789, 31790, 31791, 31792, 31793, 32180, 32181, 32182, 32183, 32184, 32185, 32186, 32187, 32188, 32189, 32190, 32191, 32192, 32193, 32194, 32195, 32196, 32197, 32198, 32199, 32200, 32201, 32202, 32203, 32204, 32205, 32206, 32207, 32208, 32209, 32210, 32211, 32660, 32661, 32662, 32663, 32664, 32665, 32666, 32667, 32668, 32669, 32670, 32671, 32672, 32673, 32674, 32675, 32676, 32677, 32678, 32679, 32680, 32681, 32682, 32683, 32684, 32685, 32686, 32687, 32688, 32689, 33093, 33094, 33095, 33096, 33097, 33098, 33099, 33100, 33101, 33102, 33103, 33104, 33105, 33106, 33107, 33108, 33109, 33110, 33111, 33112, 33113, 33114, 33115, 33116, 33117, 33118, 33119, 33120, 33511, 33512, 33513, 33514, 33515, 33516, 33517, 33518, 33519, 33520, 33521, 33522, 33523, 33524, 33525, 33526, 33527, 33528, 33529, 33530, 33531, 33532, 33533, 33534, 33535, 33536, 33537, 33538, 33539, 33540, 33541, 33969, 33970, 33971, 33972, 33973, 33974, 33975, 33976, 33977, 33978, 33979, 33980, 33981, 33982, 33983, 33984, 33985, 33986, 33987, 33988, 33989, 33990, 33991, 33992, 33993, 34460, 34461, 34462, 34463, 34464, 34465, 34466, 34467, 34468, 34469, 34470, 34471, 34472, 34473, 34474, 34475, 34476, 34477, 34478, 34479, 34480, 34481, 34482, 34483, 34484, 34485, 34486, 34487, 34488, 34489, 34490, 34491, 34492, 34493, 34940, 34941, 34942, 34943, 34944, 34945, 34946, 34947, 34948, 34949, 34950, 34951, 34952, 34953, 34954, 34955, 34956, 34957, 34958, 34959, 34960, 34961, 34962, 34963, 34964, 35415, 35416, 35417, 35418, 35419, 35420, 35421, 35422, 35423, 35424, 35425, 35426, 35427, 35428, 35429, 35430, 35431, 35432, 35433, 35434, 35435, 35436, 35437, 35438, 35439, 35440, 35919, 35920, 35921, 35922, 35923, 35924, 35925, 35926, 35927, 35928, 35929, 35930, 35931, 35932, 35933, 35934, 35935, 35936, 35937, 35938, 35939, 35940, 35941, 35942, 35943, 35944, 35945, 36403, 36404, 36405, 36406, 36407, 36408, 36409, 36410, 36411, 36412, 36413, 36414, 36415, 36416, 36417, 36418, 36419, 36420, 36421, 36422, 36423, 36424, 36425, 36426, 36427, 36428, 36429, 36430, 36431, 36432, 36433, 36895, 36896, 36897, 36898, 36899, 36900, 36901, 36902, 36903, 36904, 36905, 36906, 36907, 36908, 36909, 36910, 36911, 36912, 36913, 36914, 36915, 36916, 36917, 36918, 36919, 36920, 36921, 36922, 36923, 36924, 36925, 36926, 36927, 37389, 37390, 37391, 37392, 37393, 37394, 37395, 37396, 37397, 37398, 37399, 37400, 37401, 37402, 37403, 37404, 37405, 37406, 37407, 37408, 37409, 37410, 37411, 37412, 37413, 37414, 37415, 37416, 37417, 37418, 37419, 37420, 37421, 37422, 37423, 37424, 37770, 37771, 37772, 37773, 37774, 37775, 37776, 37777, 37778, 37779, 37780, 37781, 37782, 37783, 37784, 37785, 37786, 37787, 37788, 37789, 37790, 37791, 37792, 37793, 38233, 38234, 38235, 38236, 38237, 38238, 38239, 38240, 38241, 38242, 38243, 38244, 38245, 38246, 38247, 38248, 38249, 38250, 38251, 38252, 38253, 38254, 38255, 38256, 38257, 38258, 38259, 38260, 38261, 38262, 38711, 38712, 38713, 38714, 38715, 38716, 38717, 38718, 38719, 38720, 38721, 38722, 38723, 38724, 38725, 38726, 38727, 38728, 38729, 38730, 38731, 38732, 38733, 38734, 38735, 38736, 38737, 39155, 39156, 39157, 39158, 39159, 39160, 39161, 39162, 39163, 39164, 39165, 39166, 39167, 39168, 39169, 39170, 39171, 39172, 39173, 39174, 39175, 39176, 39177, 39178, 39179, 39180, 39181, 39472, 39473, 39474, 39475, 39476, 39477, 39478, 39479, 39480, 39481, 39482, 39483, 39484, 39485, 39486, 39487, 39488, 39489, 39490, 39491, 331, 332, 333, 334, 335, 336, 337, 338, 339, 340, 341, 342, 343, 344, 345, 346, 347, 348, 349, 350, 351, 352, 353, 354, 723, 724, 725, 726, 727, 728, 729, 730, 731, 732, 733, 734, 735, 736, 737, 738, 739, 740, 741, 742, 743, 744, 745, 1138, 1139, 1140, 1141, 1142, 1143, 1144, 1145, 1146, 1147, 1148, 1149, 1150, 1151, 1152, 1153, 1154, 1155, 1156, 1157, 1158, 1159, 1160, 1161, 1162, 1163, 1560, 1561, 1562, 1563, 1564, 1565, 1566, 1567, 1568, 1569, 1570, 1571, 1572, 1573, 1574, 1575, 1576, 1577, 1578, 1579, 1580, 1581, 1582, 1583, 1584, 1585, 1586, 1587, 1588, 1589, 1590, 1591, 1592, 1593, 1594, 1595, 1596, 1597, 1598, 1599, 1600, 1601, 1602, 1975, 1976, 1977, 1978, 1979, 1980, 1981, 1982, 1983, 1984, 1985, 1986, 1987, 1988, 1989, 1990, 1991, 1992, 1993, 1994, 1995, 1996, 1997, 1998, 1999, 2000, 2001, 2002, 2397, 2398, 2399, 2400, 2401, 2402, 2403, 2404, 2405, 2406, 2407, 2408, 2409, 2410, 2411, 2412, 2413, 2414, 2415, 2416, 2417, 2418, 2419, 2420, 2746, 2747, 2748, 2749, 2750, 2751, 2752, 2753, 2754, 2755, 2756, 2757, 2758, 2759, 2760, 2761, 2762, 2763, 2764, 2765, 2766, 2767, 2768, 2769, 2770, 2771, 2772, 2773, 2774, 2775, 2776, 2777, 2778, 2779, 2780, 2781, 2782, 2783, 2784, 2785, 3147, 3148, 3149, 3150, 3151, 3152, 3153, 3154, 3155, 3156, 3157, 3158, 3159, 3160, 3161, 3162, 3163, 3164, 3165, 3166, 3167, 3168, 3169, 3170, 3534, 3535, 3536, 3537, 3538, 3539, 3540, 3541, 3542, 3543, 3544, 3545, 3546, 3547, 3548, 3549, 3550, 3551, 3552, 3553, 3554, 3555, 3556, 3557, 3558, 3559, 3560, 3561, 3562, 3563, 3934, 3935, 3936, 3937, 3938, 3939, 3940, 3941, 3942, 3943, 3944, 3945, 3946, 3947, 3948, 3949, 3950, 3951, 3952, 3953, 3954, 3955, 3956, 3957, 3958, 3959, 3960, 4275, 4276, 4277, 4278, 4279, 4280, 4281, 4282, 4283, 4284, 4285, 4286, 4287, 4288, 4289, 4290, 4291, 4292, 4293, 4294, 4295, 4296, 4297, 4298, 4299, 4300, 4301, 4626, 4627, 4628, 4629, 4630, 4631, 4632, 4633, 4634, 4635, 4636, 4637, 4638, 4639, 4640, 4641, 4642, 4643, 4644, 4645, 4646, 4647, 4648, 4649, 4650, 4651, 4652, 4653, 4986, 4987, 4988, 4989, 4990, 4991, 4992, 4993, 4994, 4995, 4996, 4997, 4998, 4999, 5000, 5001, 5002, 5003, 5004, 5005, 5006, 5007, 5008, 5009, 5010, 5329, 5330, 5331, 5332, 5333, 5334, 5335, 5336, 5337, 5338, 5339, 5340, 5341, 5342, 5343, 5344, 5345, 5346, 5347, 5348, 5349, 5350, 5351, 5352, 5353, 5679, 5680, 5681, 5682, 5683, 5684, 5685, 5686, 5687, 5688, 5689, 5690, 5691, 5692, 5693, 5694, 5695, 5696, 5697, 5698, 5699, 5700, 5701, 6036, 6037, 6038, 6039, 6040, 6041, 6042, 6043, 6044, 6045, 6046, 6047, 6048, 6049, 6050, 6051, 6052, 6053, 6054, 6055, 6056, 6057, 6376, 6377, 6378, 6379, 6380, 6381, 6382, 6383, 6384, 6385, 6386, 6387, 6388, 6389, 6390, 6391, 6392, 6393, 6394, 6395, 6396, 6397, 6398, 6399, 6400, 6401, 6730, 6731, 6732, 6733, 6734, 6735, 6736, 6737, 6738, 6739, 6740, 6741, 6742, 6743, 6744, 6745, 6746, 6747, 6748, 6749, 6750, 6751, 6752, 6753, 7070, 7071, 7072, 7073, 7074, 7075, 7076, 7077, 7078, 7079, 7080, 7081, 7082, 7083, 7084, 7085, 7086, 7087, 7088, 7089, 7090, 7091, 7092, 7093, 7094, 7095, 7096, 7097, 7098, 7099, 7436, 7437, 7438, 7439, 7440, 7441, 7442, 7443, 7444, 7445, 7446, 7447, 7448, 7449, 7450, 7451, 7452, 7453, 7454, 7455, 7456, 7457, 7750, 7751, 7752, 7753, 7754, 7755, 7756, 7757, 7758, 7759, 7760, 7761, 7762, 7763, 7764, 7765, 7766, 7767, 8096, 8097, 8098, 8099, 8100, 8101, 8102, 8103, 8104, 8105, 8106, 8107, 8108, 8109, 8110, 8111, 8112, 8113, 8114, 8115, 8116, 8117, 8118, 8119, 8120, 8121, 8122, 8123, 8473, 8474, 8475, 8476, 8477, 8478, 8479, 8480, 8481, 8482, 8483, 8484, 8485, 8486, 8487, 8488, 8489, 8833, 8834, 8835, 8836, 8837, 8838, 8839, 8840, 8841, 8842, 8843, 8844, 8845, 8846, 8847, 8848, 8849, 8850, 8851, 8852, 8853, 9177, 9178, 9179, 9180, 9181, 9182, 9183, 9184, 9185, 9186, 9187, 9188, 9189, 9190, 9191, 9192, 9193, 9194, 9195, 9498, 9499, 9500, 9501, 9502, 9503, 9504, 9505, 9506, 9507, 9508, 9509, 9510, 9511, 9512, 9513, 9514, 9515, 9516, 9517, 9518, 9519, 9520, 9888, 9889, 9890, 9891, 9892, 9893, 9894, 9895, 9896, 9897, 9898, 9899, 9900, 9901, 9902, 9903, 9904, 9905, 9906, 10251, 10252, 10253, 10254, 10255, 10256, 10257, 10258, 10259, 10260, 10261, 10262, 10263, 10264, 10265, 10266, 10267, 10268, 10269, 10270, 10271, 10272, 10273, 10274, 10605, 10606, 10607, 10608, 10609, 10610, 10611, 10612, 10613, 10614, 10615, 10616, 10617, 10618, 10619, 10620, 10621, 10622, 10623, 10624, 10951, 10952, 10953, 10954, 10955, 10956, 10957, 10958, 10959, 10960, 10961, 10962, 10963, 10964, 10965, 10966, 10967, 10968, 10969, 11296, 11297, 11298, 11299, 11300, 11301, 11302, 11303, 11304, 11305, 11306, 11307, 11308, 11309, 11310, 11311, 11312, 11313, 11314, 11315, 11316, 11317, 11666, 11667, 11668, 11669, 11670, 11671, 11672, 11673, 11674, 11675, 11676, 11677, 11678, 11679, 11680, 11681, 11682, 11683, 12027, 12028, 12029, 12030, 12031, 12032, 12033, 12034, 12035, 12036, 12037, 12038, 12039, 12040, 12041, 12042, 12043, 12044, 12045, 12046, 12047, 12048, 12049, 12050, 12051, 12052, 12053, 12054, 12055, 12364, 12365, 12366, 12367, 12368, 12369, 12370, 12371, 12372, 12373, 12374, 12375, 12376, 12377, 12378, 12379, 12380, 12381, 12662, 12663, 12664, 12665, 12666, 12667, 12668, 12669, 12670, 12671, 12672, 12673, 12674, 12675, 12676, 12677, 12678, 12679, 12680, 12681, 12682, 12683, 12684, 13001, 13002, 13003, 13004, 13005, 13006, 13007, 13008, 13009, 13010, 13011, 13012, 13013, 13014, 13015, 13016, 13017, 13018, 13019, 13020, 13021, 13022, 13380, 13381, 13382, 13383, 13384, 13385, 13386, 13387, 13388, 13389, 13390, 13391, 13392, 13393, 13394, 13395, 13396, 13397, 13398, 13399, 13400, 13401, 13402, 13403, 13404, 13405, 13406, 13407, 13408, 13409, 13410, 13411, 13412, 13413, 13414, 13415, 13416, 13417, 13418, 13419, 13420, 13761, 13762, 13763, 13764, 13765, 13766, 13767, 13768, 13769, 13770, 13771, 13772, 13773, 13774, 13775, 13776, 13777, 13778, 13779, 13780, 13781, 13782, 13783, 13784, 14105, 14106, 14107, 14108, 14109, 14110, 14111, 14112, 14113, 14114, 14115, 14116, 14117, 14118, 14119, 14120, 14121, 14122, 14123, 14124, 14125, 14126, 14127, 14454, 14455, 14456, 14457, 14458, 14459, 14460, 14461, 14462, 14463, 14464, 14465, 14466, 14467, 14468, 14469, 14470, 14471, 14472, 14473, 14474, 14475, 14476, 14477, 14478, 14479, 14480, 14818, 14819, 14820, 14821, 14822, 14823, 14824, 14825, 14826, 14827, 14828, 14829, 14830, 14831, 14832, 14833, 14834, 14835, 14836, 14837, 14838, 14839, 14840, 14841, 14842, 15177, 15178, 15179, 15180, 15181, 15182, 15183, 15184, 15185, 15186, 15187, 15188, 15189, 15190, 15191, 15192, 15193, 15194, 15195, 15196, 15197, 15198, 15199, 15200, 15201, 15202, 15203, 15204, 15205, 15206, 15207, 15208, 15551, 15552, 15553, 15554, 15555, 15556, 15557, 15558, 15559, 15560, 15561, 15562, 15563, 15564, 15565, 15566, 15567, 15568, 15569, 15570, 15571, 15572, 15573, 15574, 15575, 15576, 15577, 15886, 15887, 15888, 15889, 15890, 15891, 15892, 15893, 15894, 15895, 15896, 15897, 15898, 15899, 15900, 15901, 15902, 15903, 15904, 15905, 16220, 16221, 16222, 16223, 16224, 16225, 16226, 16227, 16228, 16229, 16230, 16231, 16232, 16233, 16234, 16235, 16236, 16237, 16238, 16239, 16240, 16241, 16242, 16243, 16244, 16245, 16574, 16575, 16576, 16577, 16578, 16579, 16580, 16581, 16582, 16583, 16584, 16585, 16586, 16587, 16588, 16589, 16590, 16591, 16592, 16593, 16594, 16595, 16596, 16597, 16598, 16599, 16600, 16601, 16833, 16834, 16835, 16836, 16837, 16838, 16839, 16840, 16841, 16842, 16843, 16844, 16845, 16846, 16847, 16848, 16849, 16850, 16851, 16852, 16853, 16854, 16855, 16856, 17182, 17183, 17184, 17185, 17186, 17187, 17188, 17189, 17190, 17191, 17192, 17193, 17194, 17195, 17196, 17197, 17198, 17199, 17200, 17201, 17202, 17203, 17204, 17205, 17557, 17558, 17559, 17560, 17561, 17562, 17563, 17564, 17565, 17566, 17567, 17568, 17569, 17570, 17571, 17572, 17573, 17574, 17575, 17576, 17577, 17578, 17579, 17580, 17581, 17582, 17583, 17909, 17910, 17911, 17912, 17913, 17914, 17915, 17916, 17917, 17918, 17919, 17920, 17921, 17922, 17923, 17924, 17925, 17926, 17927, 17928, 17929, 17930, 17931, 17932, 18117, 18118, 18119, 18120, 18121, 18122, 18123, 18124, 18125, 18126, 18127, 18128, 18129, 18130, 18131, 18324, 18325, 18326, 18327, 18328, 18329, 18330, 18331, 18332, 18333, 18334, 18335, 18336, 18337, 18338, 18339, 18340, 18341, 18342, 18343, 18344, 18345, 18346, 18347, 18348, 18349, 18350, 18692, 18693, 18694, 18695, 18696, 18697, 18698, 18699, 18700, 18701, 18702, 18703, 18704, 18705, 18706, 18707, 18708, 18709, 18710, 18711, 18712, 18713, 18714, 18715, 18716, 18717, 18718, 18719, 18720, 18721, 18722, 18723, 18724, 19035, 19036, 19037, 19038, 19039, 19040, 19041, 19042, 19043, 19044, 19045, 19046, 19047, 19048, 19049, 19050, 19051, 19052, 19053, 19054, 19055, 19365, 19366, 19367, 19368, 19369, 19370, 19371, 19372, 19373, 19374, 19375, 19376, 19377, 19378, 19379, 19380, 19381, 19382, 19383, 19384, 19385, 19386, 19387, 19388, 19389, 19390, 19391, 19392, 19393, 19394, 19395, 19396, 19397, 19398, 19399, 19742, 19743, 19744, 19745, 19746, 19747, 19748, 19749, 19750, 19751, 19752, 19753, 19754, 19755, 19756, 19757, 19758, 19759, 19760, 19761, 19762, 19763, 19764, 19765, 19766, 19767, 19768, 19769, 19770, 19771, 19772, 19773, 19774, 20115, 20116, 20117, 20118, 20119, 20120, 20121, 20122, 20123, 20124, 20125, 20126, 20127, 20128, 20129, 20130, 20131, 20132, 20133, 20134, 20135, 20136, 20137, 20138, 20139, 20140, 20141, 20142, 20143, 20144, 20145, 20521, 20522, 20523, 20524, 20525, 20526, 20527, 20528, 20529, 20530, 20531, 20532, 20533, 20534, 20535, 20536, 20537, 20538, 20539, 20540, 20541, 20542, 20543, 20544, 20545, 20546, 20547, 20548, 20549, 20550, 20551, 20552, 20872, 20873, 20874, 20875, 20876, 20877, 20878, 20879, 20880, 20881, 20882, 20883, 20884, 20885, 20886, 20887, 20888, 20889, 20890, 20891, 20892, 20893, 20894, 20895, 20896, 20897, 20898, 20899, 20900, 20901, 20902, 20903, 20904, 20905, 20906, 20907, 21232, 21233, 21234, 21235, 21236, 21237, 21238, 21239, 21240, 21241, 21242, 21243, 21244, 21245, 21246, 21247, 21248, 21249, 21250, 21251, 21252, 21253, 21254, 21255, 21256, 21257, 21258, 21259, 21260, 21261, 21262, 21263, 21264, 21265, 21266, 21267, 21268, 21571, 21572, 21573, 21574, 21575, 21576, 21577, 21578, 21579, 21580, 21581, 21582, 21583, 21584, 21585, 21586, 21587, 21588, 21589, 21590, 21591, 21592, 21593, 21594, 21595, 21596, 21597, 21598, 21599, 21600, 21908, 21909, 21910, 21911, 21912, 21913, 21914, 21915, 21916, 21917, 21918, 21919, 21920, 21921, 21922, 21923, 21924, 21925, 21926, 21927, 21928, 21929, 21930, 22270, 22271, 22272, 22273, 22274, 22275, 22276, 22277, 22278, 22279, 22280, 22281, 22282, 22283, 22284, 22285, 22618, 22619, 22620, 22621, 22622, 22623, 22624, 22625, 22626, 22627, 22628, 22629, 22630, 22631, 22632, 22633, 22634, 22635, 22636, 22637, 22638, 22639, 22640, 22641, 22642, 23032, 23033, 23034, 23035, 23036, 23037, 23038, 23039, 23040, 23041, 23042, 23043, 23044, 23045, 23046, 23047, 23048, 23049, 23050, 23051, 23052, 23053, 23054, 23055, 23056, 23057, 23058, 23059, 23060, 23061, 23428, 23429, 23430, 23431, 23432, 23433, 23434, 23435, 23436, 23437, 23438, 23439, 23440, 23441, 23442, 23443, 23444, 23445, 23446, 23447, 23448, 23449, 23450, 23451, 23452, 23453, 23454, 23455, 23456, 23812, 23813, 23814, 23815, 23816, 23817, 23818, 23819, 23820, 23821, 23822, 23823, 23824, 23825, 23826, 23827, 23828, 23829, 23830, 23831, 23832, 23833, 23834, 24207, 24208, 24209, 24210, 24211, 24212, 24213, 24214, 24215, 24216, 24217, 24218, 24219, 24220, 24221, 24222, 24223, 24224, 24225, 24611, 24612, 24613, 24614, 24615, 24616, 24617, 24618, 24619, 24620, 24621, 24622, 24623, 24624, 24625, 24626, 24627, 24628, 24629, 24630, 24631, 24632, 24633, 24634, 24983, 24984, 24985, 24986, 24987, 24988, 24989, 24990, 24991, 24992, 24993, 24994, 24995, 24996, 24997, 24998, 24999, 25000, 25001, 25002, 25003, 25004, 25005, 25006, 25007, 25379, 25380, 25381, 25382, 25383, 25384, 25385, 25386, 25387, 25388, 25389, 25390, 25391, 25392, 25393, 25394, 25395, 25396, 25397, 25398, 25399, 25400, 25401, 25402, 25403, 25780, 25781, 25782, 25783, 25784, 25785, 25786, 25787, 25788, 25789, 25790, 25791, 25792, 25793, 25794, 25795, 25796, 25797, 25798, 25799, 25800, 25801, 25802, 25803, 25804, 25805, 26140, 26141, 26142, 26143, 26144, 26145, 26146, 26147, 26148, 26149, 26150, 26151, 26152, 26153, 26154, 26155, 26156, 26157, 26158, 26159, 26160, 26161, 26162, 26163, 26164, 26165, 26558, 26559, 26560, 26561, 26562, 26563, 26564, 26565, 26566, 26567, 26568, 26569, 26570, 26571, 26572, 26573, 26574, 26575, 26576, 26577, 26578, 26579, 26580, 26581, 26582, 27004, 27005, 27006, 27007, 27008, 27009, 27010, 27011, 27012, 27013, 27014, 27015, 27016, 27017, 27018, 27019, 27020, 27021, 27022, 27023, 27024, 27025, 27026, 27027, 27028, 27029, 27030, 27031, 27475, 27476, 27477, 27478, 27479, 27480, 27481, 27482, 27483, 27484, 27485, 27486, 27487, 27488, 27489, 27490, 27491, 27492, 27493, 27494, 27495, 27496, 27497, 27498, 27499, 27500, 27501, 27502, 27503, 27504, 27505, 27929, 27930, 27931, 27932, 27933, 27934, 27935, 27936, 27937, 27938, 27939, 27940, 27941, 27942, 27943, 27944, 27945, 27946, 27947, 27948, 27949, 27950, 28329, 28330, 28331, 28332, 28333, 28334, 28335, 28336, 28337, 28338, 28339, 28340, 28341, 28342, 28343, 28344, 28345, 28346, 28347, 28348, 28349, 28350, 28778, 28779, 28780, 28781, 28782, 28783, 28784, 28785, 28786, 28787, 28788, 28789, 28790, 28791, 28792, 28793, 28794, 28795, 28796, 28797, 28798, 28799, 28800, 28801, 28802, 28803, 28804, 28805, 28806, 28807, 28808, 28809, 28810, 29246, 29247, 29248, 29249, 29250, 29251, 29252, 29253, 29254, 29255, 29256, 29257, 29258, 29259, 29260, 29261, 29262, 29263, 29264, 29265, 29266, 29267, 29268, 29269, 29270, 29271, 29272, 29273, 29683, 29684, 29685, 29686, 29687, 29688, 29689, 29690, 29691, 29692, 29693, 29694, 29695, 29696, 29697, 29698, 29699, 29700, 29701, 29702, 29703, 29704, 29705, 29706, 29707, 29708, 29709, 29710, 29711, 30128, 30129, 30130, 30131, 30132, 30133, 30134, 30135, 30136, 30137, 30138, 30139, 30140, 30141, 30142, 30143, 30144, 30145, 30146, 30147, 30148, 30149, 30150, 30151, 30152, 30153, 30154, 30558, 30559, 30560, 30561, 30562, 30563, 30564, 30565, 30566, 30567, 30568, 30569, 30570, 30571, 30572, 30573, 30574, 30575, 30576, 30577, 30578, 30579, 30580, 30940, 30941, 30942, 30943, 30944, 30945, 30946, 30947, 30948, 30949, 30950, 30951, 30952, 30953, 30954, 30955, 30956, 30957, 30958, 30959, 31327, 31328, 31329, 31330, 31331, 31332, 31333, 31334, 31335, 31336, 31337, 31338, 31339, 31340, 31341, 31342, 31343, 31344, 31345, 31346, 31347, 31348, 31349, 31350, 31351, 31352, 31353, 31354, 31355, 31356, 31357, 31358, 31359, 31360, 31361, 31362, 31363, 31794, 31795, 31796, 31797, 31798, 31799, 31800, 31801, 31802, 31803, 31804, 31805, 31806, 31807, 31808, 31809, 31810, 31811, 31812, 31813, 31814, 31815, 31816, 31817, 31818, 31819, 32212, 32213, 32214, 32215, 32216, 32217, 32218, 32219, 32220, 32221, 32222, 32223, 32224, 32225, 32226, 32227, 32228, 32229, 32230, 32231, 32232, 32233, 32234, 32235, 32236, 32237, 32238, 32239, 32240, 32241, 32242, 32243, 32690, 32691, 32692, 32693, 32694, 32695, 32696, 32697, 32698, 32699, 32700, 32701, 32702, 32703, 32704, 32705, 32706, 32707, 32708, 32709, 32710, 32711, 32712, 32713, 32714, 32715, 32716, 32717, 32718, 32719, 33121, 33122, 33123, 33124, 33125, 33126, 33127, 33128, 33129, 33130, 33131, 33132, 33133, 33134, 33135, 33136, 33137, 33138, 33139, 33140, 33141, 33142, 33143, 33144, 33145, 33146, 33147, 33542, 33543, 33544, 33545, 33546, 33547, 33548, 33549, 33550, 33551, 33552, 33553, 33554, 33555, 33556, 33557, 33558, 33559, 33560, 33561, 33562, 33563, 33564, 33565, 33566, 33567, 33568, 33569, 33570, 33571, 33994, 33995, 33996, 33997, 33998, 33999, 34000, 34001, 34002, 34003, 34004, 34005, 34006, 34007, 34008, 34009, 34010, 34011, 34012, 34013, 34014, 34015, 34016, 34017, 34018, 34019, 34020, 34021, 34022, 34023, 34024, 34025, 34494, 34495, 34496, 34497, 34498, 34499, 34500, 34501, 34502, 34503, 34504, 34505, 34506, 34507, 34508, 34509, 34510, 34511, 34512, 34513, 34514, 34515, 34516, 34517, 34518, 34519, 34520, 34521, 34965, 34966, 34967, 34968, 34969, 34970, 34971, 34972, 34973, 34974, 34975, 34976, 34977, 34978, 34979, 34980, 34981, 34982, 34983, 34984, 34985, 34986, 34987, 34988, 34989, 34990, 35441, 35442, 35443, 35444, 35445, 35446, 35447, 35448, 35449, 35450, 35451, 35452, 35453, 35454, 35455, 35456, 35457, 35458, 35459, 35460, 35461, 35462, 35463, 35464, 35465, 35466, 35467, 35468, 35469, 35470, 35471, 35472, 35473, 35946, 35947, 35948, 35949, 35950, 35951, 35952, 35953, 35954, 35955, 35956, 35957, 35958, 35959, 35960, 35961, 35962, 35963, 35964, 35965, 35966, 35967, 35968, 35969, 35970, 35971, 35972, 35973, 35974, 35975, 35976, 35977, 35978, 36434, 36435, 36436, 36437, 36438, 36439, 36440, 36441, 36442, 36443, 36444, 36445, 36446, 36447, 36448, 36449, 36450, 36451, 36452, 36453, 36454, 36455, 36456, 36457, 36458, 36459, 36460, 36461, 36462, 36463, 36464, 36465, 36466, 36467, 36928, 36929, 36930, 36931, 36932, 36933, 36934, 36935, 36936, 36937, 36938, 36939, 36940, 36941, 36942, 36943, 36944, 36945, 36946, 36947, 36948, 36949, 36950, 36951, 36952, 36953, 36954, 36955, 36956, 36957, 36958, 37425, 37426, 37427, 37428, 37429, 37430, 37431, 37432, 37433, 37434, 37435, 37436, 37437, 37438, 37439, 37440, 37441, 37442, 37443, 37444, 37445, 37446, 37447, 37448, 37449, 37450, 37451, 37452, 37453, 37454, 37455, 37456, 37457, 37458, 37459, 37460, 37461, 37462, 37463, 37794, 37795, 37796, 37797, 37798, 37799, 37800, 37801, 37802, 37803, 37804, 37805, 37806, 37807, 37808, 37809, 37810, 37811, 37812, 37813, 37814, 37815, 37816, 37817, 37818, 37819, 37820, 37821, 38263, 38264, 38265, 38266, 38267, 38268, 38269, 38270, 38271, 38272, 38273, 38274, 38275, 38276, 38277, 38278, 38279, 38280, 38281, 38282, 38283, 38284, 38285, 38286, 38287, 38288, 38289, 38290, 38291, 38292, 38293, 38738, 38739, 38740, 38741, 38742, 38743, 38744, 38745, 38746, 38747, 38748, 38749, 38750, 38751, 38752, 38753, 38754, 38755, 38756, 38757, 38758, 38759, 38760, 38761, 38762, 38763, 38764, 38765, 39182, 39183, 39184, 39185, 39186, 39187, 39188, 39189, 39190, 39191, 39192, 39193, 39194, 39195, 39196, 39197, 39198, 39199, 39200, 39201, 39202, 39203, 39204, 39205, 39206, 39492, 39493, 39494, 39495, 39496, 39497, 39498, 39499, 39500, 39501, 39502, 39503, 39504, 39505, 39506, 39507, 39508, 39509, 39510, 39511, 39512, 39513, 39514, 39515, 39516, 1220, 11475, 13035, 19570, 20420, 21235, 24155, 25657, 30706, 180, 364, 1599, 2758, 5003, 5275, 7967, 9406, 11617, 13751, 14700, 17371, 17901, 20527, 21593, 27270, 27354, 33642, 34442, 35522, 37969, 38575, 180, 351, 1140, 1636, 2646, 2755, 3165, 4225, 4616, 6683, 8996, 12038, 24018, 28525, 28608, 30631, 31714, 31732, 32994, 38937, 1719, 2672, 3211, 4115, 4218, 4303, 4451, 4570, 4614, 4635, 4665, 4674, 4684, 4691, 4736, 4786, 4900, 4917, 5003, 5143, 5154, 5169, 5272, 5551, 5643, 5798, 5847, 5915, 6249, 6253, 6656, 7461, 7784, 7785, 7803, 7967, 8057, 8104, 8232, 9163, 9319, 9415, 9445, 9680, 11025, 11617, 11779, 11969, 12295, 12609, 14551, 14881, 15772, 16819, 16930, 17232, 18317, 18530, 18556, 19254, 21201, 22903, 22967, 24005, 24072, 24930, 24971, 25836, 26813, 27393, 27839, 28389, 28525, 29739, 29860, 29979, 30150, 31398, 32701, 34801, 35376, 36782, 37420, 145, 878, 2242, 2617, 2703, 2820, 3945, 6322, 9200, 15143, 17991, 18906, 19322, 19361, 20045, 20179, 20527, 21255, 22650, 24398, 24429, 24749, 27354, 27910, 27989, 29241, 30082, 30086, 30729, 31540, 34595, 35060, 35441, 35557, 36040, 8, 145, 150, 168, 243, 327, 371, 404, 477, 564, 645, 648, 663, 743, 878, 909, 954, 993, 1079, 1141, 1176, 1248, 1311, 1416, 1649, 1683, 1748, 1779, 1815, 1834, 1923, 1940, 2222, 2234, 2239, 2242, 2292, 2338, 2345, 2393, 2510, 2585, 2617, 2638, 2652, 2693, 2703, 2794, 2820, 2858, 3018, 3085, 3102, 3103, 3110, 3117, 3211, 3265, 3522, 3726, 3780, 3902, 3934, 3945, 4048, 4061, 4231, 4351, 4488, 4522, 4536, 4561, 4644, 4679, 4755, 5010, 5098, 5103, 5118, 5275, 5308, 5328, 5381, 5549, 5585, 5629, 5888, 5900, 5907, 5929, 5991, 6005, 6037, 6056, 6146, 6284, 6322, 6582, 6638, 6657, 6742, 6804, 6873, 6898, 7000, 7067, 7097, 7106, 7174, 7178, 7432, 7455, 7522, 7540, 7581, 7598, 7680, 7727, 7859, 7957, 7968, 7992, 8000, 8009, 8259, 8280, 8335, 8342, 8450, 8458, 8473, 8596, 8690, 8709, 8768, 8784, 8882, 8895, 8904, 8956, 9064, 9253, 9303, 9398, 9485, 9579, 9643, 9688, 9716, 9774, 9824, 9827, 9971, 10167, 10191, 10195, 10424, 10425, 10488, 10686, 10849, 10958, 10988, 11029, 11102, 11119, 11211, 11215, 11261, 11346, 11367, 11381, 11422, 11430, 11466, 11472, 11475, 11486, 11492, 11630, 11830, 11847, 11864, 11898, 11925, 11958, 12018, 12046, 12075, 12097, 12116, 12129, 12190, 12215, 12272, 12295, 12299, 12307, 12418, 12563, 12566, 12649, 12752, 12872, 12914, 12935, 13022, 13035, 13101, 13140, 13155, 13188, 13242, 13269, 13340, 13368, 13382, 13417, 13442, 13524, 13540, 13627, 13710, 13751, 13838, 13901, 13963, 13999, 14002, 14069, 14096, 14116, 14290, 14343, 14382, 14487, 14489, 14515, 14520, 14567, 14676, 14715, 14747, 14756, 14770, 14839, 14864, 15001, 15021, 15038, 15130, 15143, 15162, 15279, 15290, 15370, 15428, 15459, 15566, 15609, 15822, 15931, 16018, 16188, 16339, 16349, 16393, 16440, 16467, 16618, 16670, 16691, 16694, 16730, 16787, 16804, 16868, 16936, 16966, 17117, 17131, 17213, 17261, 17263, 17302, 17429, 17476, 17505, 17580, 17665, 17717, 17726, 17775, 17881, 17885, 17901, 17991, 18068, 18260, 18310, 18354, 18506, 18541, 18559, 18603, 18686, 18827, 18999, 19007, 19041, 19068, 19088, 19268, 19322, 19361, 19363, 19404, 19472, 19547, 19559, 19570, 19571, 19668, 19900, 20045, 20095, 20127, 20179, 20252, 20286, 20311, 20355, 20360, 20379, 20391, 20430, 20438, 20453, 20466, 20527, 20640, 20764, 20834, 21018, 21139, 21255, 21256, 21348, 21398, 21540, 21610, 21614, 21664, 21833, 21851, 21954, 21996, 22008, 22300, 22303, 22318, 22367, 22442, 22616, 22625, 22650, 22678, 22718, 22740, 22863, 22938, 22953, 23179, 23250, 23444, 23583, 23628, 23719, 23721, 23776, 23923, 23980, 24071, 24072, 24119, 24155, 24156, 24398, 24429, 24543, 24712, 24788, 24823, 24867, 24909, 24930, 24985, 25090, 25530, 25657, 25756, 25800, 25827, 25890, 26055, 26066, 26116, 26276, 26320, 26324, 26381, 26436, 26519, 26526, 26587, 26616, 26708, 26754, 26771, 26841, 26868, 26926, 26948, 27033, 27076, 27118, 27195, 27216, 27244, 27354, 27393, 27776, 27826, 27830, 27899, 27910, 27989, 28067, 28132, 28183, 28228, 28280, 28303, 28351, 28498, 28533, 28592, 28600, 28662, 28888, 28909, 29119, 29241, 29428, 29441, 29458, 29485, 29509, 29525, 29591, 29598, 29628, 29714, 29795, 29987, 30082, 30086, 30095, 30135, 30195, 30230, 30265, 30409, 30511, 30729, 30777, 30908, 31091, 31118, 31279, 31341, 31362, 31374, 31398, 31410, 31434, 31539, 31540, 31563, 31592, 31594, 31636, 31658, 31887, 32042, 32125, 32172, 32248, 32279, 32280, 32287, 32330, 32390, 32405, 32470, 32538, 32717, 32750, 32842, 32923, 33205, 33362, 33382, 33429, 33794, 33829, 33832, 33860, 33906, 33912, 33916, 33929, 33940, 33975, 34000, 34171, 34289, 34406, 34453, 34595, 34626, 34761, 34897, 34948, 35060, 35085, 35095, 35182, 35252, 35259, 35302, 35359, 35441, 35455, 35485, 35559, 35697, 35707, 35967, 36040, 36163, 36229, 36247, 36288, 36302, 36456, 36520, 36599, 36602, 36604, 36627, 36658, 36666, 37239, 37339, 37349, 37423, 37438, 37835, 38072, 38095, 38113, 38263, 38279, 38289, 38339, 38344, 38483, 38487, 38938, 38945, 39036, 39211, 39235, 39245, 39395, 39412, 39591, 39611, 720, 942, 1230, 2687, 2775, 3697, 4905, 4950, 5053, 5231, 5236, 5504, 6099, 6729, 7617, 9042, 9983, 10273, 10865, 11146, 11833, 12516, 13161, 14068, 14426, 15157, 15235, 15410, 16185, 16687, 16799, 17053, 17614, 17632, 17681, 17975, 18503, 18897, 19430, 19842, 20309, 23585, 26754, 26850, 27270, 27486, 27833, 28623, 28748, 28759, 29287, 31135, 31483, 31713, 33396, 33482, 33892, 34472, 34823, 35404, 35734, 35960, 36627, 36843, 37403, 37405, 38195, 38542, 38759, 38906, 34, 50, 57, 152, 354, 377, 436, 483, 556, 713, 720, 727, 732, 740, 741, 743, 782, 789, 818, 842, 846, 885, 888, 898, 930, 942, 943, 955, 959, 1029, 1057, 1085, 1150, 1165, 1176, 1222, 1230, 1231, 1237, 1243, 1258, 1270, 1324, 1371, 1394, 1410, 1412, 1500, 1560, 1571, 1576, 1587, 1636, 1672, 1688, 1697, 1701, 1728, 1733, 1739, 1758, 1760, 1763, 1864, 1870, 1881, 1976, 2026, 2028, 2061, 2086, 2101, 2120, 2124, 2156, 2263, 2330, 2372, 2391, 2406, 2430, 2439, 2465, 2496, 2527, 2571, 2686, 2687, 2730, 2763, 2775, 2820, 2827, 2838, 2851, 2907, 2928, 2954, 3000, 3017, 3038, 3056, 3060, 3066, 3077, 3078, 3081, 3096, 3104, 3210, 3251, 3252, 3278, 3354, 3359, 3362, 3479, 3493, 3494, 3532, 3540, 3549, 3571, 3573, 3613, 3670, 3697, 3720, 3734, 3740, 3795, 3800, 3801, 3871, 3877, 3878, 3888, 3906, 3919, 3978, 4045, 4070, 4073, 4084, 4122, 4158, 4165, 4209, 4238, 4256, 4319, 4333, 4346, 4365, 4402, 4413, 4441, 4488, 4494, 4562, 4586, 4634, 4644, 4672, 4684, 4687, 4696, 4711, 4719, 4739, 4750, 4807, 4841, 4905, 4913, 4916, 4933, 4935, 4950, 4954, 4959, 4968, 5006, 5053, 5085, 5100, 5111, 5143, 5157, 5231, 5236, 5276, 5287, 5291, 5308, 5368, 5431, 5458, 5504, 5572, 5618, 5663, 5669, 5678, 5687, 5712, 5791, 5835, 5948, 5958, 6049, 6099, 6109, 6155, 6170, 6210, 6212, 6239, 6247, 6308, 6324, 6424, 6446, 6571, 6581, 6619, 6635, 6652, 6660, 6729, 6734, 6740, 6771, 6791, 6802, 6821, 6827, 6855, 6868, 6955, 6969, 6972, 7040, 7052, 7059, 7097, 7194, 7208, 7270, 7332, 7334, 7348, 7424, 7446, 7470, 7502, 7524, 7586, 7591, 7617, 7641, 7680, 7751, 7786, 7822, 7859, 7908, 7965, 8074, 8093, 8096, 8115, 8146, 8189, 8240, 8264, 8279, 8364, 8383, 8408, 8480, 8494, 8501, 8506, 8543, 8579, 8580, 8611, 8615, 8673, 8717, 8744, 8768, 8783, 8792, 8798, 8887, 9004, 9007, 9011, 9020, 9042, 9049, 9112, 9113, 9164, 9211, 9219, 9232, 9235, 9252, 9259, 9288, 9316, 9357, 9398, 9428, 9445, 9470, 9490, 9573, 9585, 9610, 9633, 9634, 9690, 9691, 9693, 9696, 9703, 9721, 9733, 9781, 9842, 9851, 9860, 9881, 9919, 9973, 9980, 9983, 10022, 10060, 10062, 10066, 10124, 10128, 10158, 10186, 10195, 10268, 10273, 10301, 10319, 10350, 10394, 10411, 10444, 10449, 10457, 10466, 10471, 10482, 10524, 10542, 10547, 10556, 10571, 10573, 10578, 10580, 10623, 10628, 10645, 10657, 10695, 10699, 10865, 10871, 10970, 10973, 11017, 11028, 11029, 11146, 11150, 11158, 11176, 11178, 11193, 11230, 11242, 11250, 11261, 11336, 11347, 11369, 11410, 11445, 11455, 11572, 11598, 11635, 11649, 11681, 11739, 11744, 11800, 11819, 11833, 11834, 11850, 11883, 11891, 11907, 11909, 11916, 11932, 11943, 11947, 11987, 11997, 12088, 12096, 12130, 12170, 12172, 12180, 12200, 12266, 12310, 12315, 12327, 12355, 12374, 12398, 12478, 12516, 12531, 12551, 12559, 12566, 12633, 12692, 12759, 12782, 12806, 12889, 12972, 13033, 13073, 13081, 13094, 13107, 13113, 13149, 13161, 13178, 13187, 13201, 13217, 13364, 13387, 13395, 13418, 13481, 13497, 13531, 13551, 13571, 13585, 13613, 13627, 13687, 13705, 13751, 13766, 13772, 13817, 13833, 13843, 13844, 13852, 13896, 13907, 13946, 13980, 14068, 14161, 14179, 14208, 14211, 14222, 14236, 14254, 14265, 14273, 14323, 14426, 14515, 14651, 14656, 14676, 14690, 14711, 14714, 14715, 14770, 14771, 14785, 14791, 14863, 14872, 14900, 14968, 14971, 15015, 15021, 15023, 15038, 15055, 15122, 15157, 15203, 15208, 15235, 15290, 15291, 15311, 15316, 15326, 15344, 15410, 15423, 15450, 15466, 15482, 15503, 15527, 15569, 15642, 15647, 15657, 15796, 15798, 15824, 15896, 15921, 16010, 16044, 16153, 16184, 16185, 16261, 16268, 16282, 16305, 16380, 16414, 16422, 16456, 16474, 16492, 16496, 16512, 16534, 16540, 16543, 16544, 16598, 16605, 16687, 16717, 16743, 16747, 16799, 16806, 16872, 16884, 16891, 16892, 16925, 16951, 17053, 17079, 17121, 17173, 17179, 17186, 17190, 17218, 17224, 17250, 17263, 17288, 17290, 17302, 17319, 17346, 17450, 17476, 17493, 17511, 17533, 17544, 17611, 17614, 17621, 17626, 17632, 17655, 17657, 17681, 17687, 17734, 17782, 17821, 17824, 17843, 17855, 17893, 17917, 17959, 17975, 17992, 18005, 18019, 18036, 18041, 18069, 18071, 18075, 18076, 18085, 18228, 18272, 18297, 18319, 18324, 18394, 18424, 18478, 18485, 18503, 18506, 18521, 18524, 18533, 18605, 18637, 18657, 18662, 18690, 18710, 18721, 18722, 18820, 18838, 18860, 18881, 18884, 18893, 18897, 18927, 18973, 18981, 19096, 19130, 19210, 19272, 19319, 19344, 19368, 19430, 19489, 19522, 19561, 19594, 19637, 19652, 19760, 19763, 19766, 19790, 19796, 19814, 19842, 19847, 19968, 19988, 20045, 20160, 20169, 20286, 20303, 20309, 20365, 20372, 20386, 20394, 20420, 20423, 20443, 20453, 20466, 20471, 20473, 20536, 20559, 20590, 20651, 20713, 20784, 20818, 20821, 20874, 20892, 20919, 20964, 21031, 21169, 21274, 21349, 21353, 21379, 21415, 21474, 21524, 21539, 21650, 21674, 21708, 21839, 21972, 21989, 22044, 22083, 22114, 22195, 22232, 22241, 22253, 22254, 22295, 22357, 22361, 22388, 22439, 22445, 22456, 22463, 22533, 22572, 22573, 22690, 22779, 22953, 22954, 23016, 23046, 23116, 23135, 23141, 23156, 23174, 23275, 23276, 23299, 23330, 23341, 23344, 23364, 23372, 23427, 23433, 23443, 23464, 23528, 23550, 23585, 23596, 23635, 23757, 23776, 23855, 24024, 24077, 24124, 24129, 24155, 24204, 24234, 24256, 24272, 24282, 24336, 24389, 24457, 24463, 24501, 24508, 24538, 24613, 24614, 24657, 24716, 24727, 24818, 24827, 24828, 24886, 24997, 25044, 25106, 25121, 25137, 25168, 25196, 25228, 25252, 25283, 25292, 25316, 25336, 25360, 25365, 25390, 25421, 25442, 25490, 25540, 25561, 25581, 25599, 25838, 25842, 25874, 25890, 25935, 25939, 26016, 26068, 26088, 26159, 26197, 26203, 26268, 26274, 26299, 26327, 26401, 26417, 26420, 26475, 26575, 26726, 26732, 26754, 26816, 26834, 26846, 26850, 26868, 26887, 26925, 26959, 26963, 27014, 27033, 27043, 27046, 27061, 27062, 27091, 27104, 27204, 27215, 27263, 27270, 27310, 27353, 27427, 27447, 27484, 27486, 27604, 27686, 27727, 27773, 27833, 27866, 27868, 27871, 27875, 28002, 28029, 28102, 28167, 28214, 28223, 28254, 28257, 28283, 28298, 28314, 28369, 28398, 28608, 28609, 28623, 28748, 28759, 28810, 28860, 28877, 28914, 28972, 29029, 29077, 29176, 29220, 29221, 29231, 29283, 29287, 29293, 29317, 29360, 29367, 29461, 29584, 29594, 29598, 29600, 29611, 29651, 29734, 29811, 29874, 29962, 29984, 30068, 30089, 30154, 30174, 30242, 30277, 30324, 30328, 30357, 30440, 30610, 30620, 30643, 30702, 30710, 30711, 30734, 30838, 30855, 30883, 30899, 30957, 30974, 30980, 31097, 31135, 31185, 31334, 31335, 31361, 31440, 31483, 31577, 31655, 31698, 31713, 31721, 31778, 31841, 31976, 32109, 32209, 32219, 32290, 32291, 32346, 32518, 32608, 32642, 32680, 32701, 32750, 32807, 32842, 32851, 32868, 32878, 32889, 32975, 32985, 33064, 33082, 33101, 33128, 33143, 33161, 33273, 33387, 33396, 33421, 33482, 33545, 33842, 33877, 33892, 33922, 33923, 33983, 33988, 34015, 34029, 34109, 34238, 34239, 34255, 34257, 34337, 34392, 34472, 34739, 34775, 34808, 34823, 34826, 34839, 34847, 34891, 34915, 34933, 35073, 35074, 35128, 35158, 35162, 35176, 35191, 35192, 35201, 35238, 35255, 35256, 35262, 35270, 35351, 35361, 35375, 35390, 35404, 35455, 35565, 35608, 35629, 35635, 35664, 35672, 35681, 35721, 35734, 35755, 35805, 35940, 35960, 35972, 36059, 36066, 36216, 36242, 36259, 36343, 36354, 36386, 36422, 36528, 36566, 36591, 36627, 36662, 36827, 36842, 36843, 36872, 36937, 36968, 37036, 37066, 37083, 37129, 37138, 37146, 37168, 37359, 37371, 37403, 37405, 37465, 37490, 37536, 37559, 37568, 37623, 37679, 37699, 37793, 37870, 37945, 38069, 38095, 38156, 38181, 38195, 38284, 38288, 38290, 38291, 38374, 38443, 38542, 38564, 38675, 38722, 38759, 38834, 38854, 38858, 38868, 38891, 38894, 38904, 38906, 38999, 39021, 39129, 39203, 39211, 39349, 39354, 39384, 39420, 39488, 39508, 39564]\n"
          ]
        }
      ]
    },
    {
      "cell_type": "code",
      "source": [
        "def remove(df_raw, ls):\n",
        "  ls = sorted(set(ls))\n",
        "  df_raw = df_raw.drop(ls)\n",
        "  return df_raw"
      ],
      "metadata": {
        "id": "fXERiQ0FSMA1"
      },
      "execution_count": null,
      "outputs": []
    },
    {
      "cell_type": "code",
      "source": [
        "df_cleaned = remove(df_raw, index_list)"
      ],
      "metadata": {
        "id": "lPGQI9pISWLe"
      },
      "execution_count": null,
      "outputs": []
    },
    {
      "cell_type": "code",
      "source": [
        "df_cleaned.shape"
      ],
      "metadata": {
        "colab": {
          "base_uri": "https://localhost:8080/"
        },
        "id": "ioC52X4bSbqA",
        "outputId": "ad725f10-53f1-43d4-bb9c-1eeccabd3a5a"
      },
      "execution_count": null,
      "outputs": [
        {
          "output_type": "execute_result",
          "data": {
            "text/plain": [
              "(20875, 59)"
            ]
          },
          "metadata": {},
          "execution_count": 19
        }
      ]
    },
    {
      "cell_type": "markdown",
      "source": [
        "# Generating Dataset (Test+Train)"
      ],
      "metadata": {
        "id": "9Q61e6kemYSp"
      }
    },
    {
      "cell_type": "markdown",
      "source": [
        "We generate a Train/Test Dataset allocating to the test part 25% of the Datase. we apply, then, a RobustScaler to fit and transform our train and test set."
      ],
      "metadata": {
        "id": "A8-4zfM9bW10"
      }
    },
    {
      "cell_type": "code",
      "source": [
        "# creation of train/test split\n",
        "\n",
        "X = df_cleaned.iloc[:, :-1]  # all columns exept last\n",
        "# selecting the column to use as output\n",
        "y = df_cleaned.iloc[:, -1]  # last column\n",
        "\n",
        "X_train, X_test, y_train, y_test = train_test_split(X, y, test_size=0.25)\n",
        "print(\"X_train:\", X_train.shape)\n",
        "print(\"X_test:\", X_test.shape)\n",
        "print(\"y_train:\", y_train.shape)\n",
        "print(\"y_test:\", y_test.shape)"
      ],
      "metadata": {
        "colab": {
          "base_uri": "https://localhost:8080/"
        },
        "id": "ePJpul7mVqQL",
        "outputId": "7ba82930-ac49-4281-c96d-2c941b7fbc80"
      },
      "execution_count": null,
      "outputs": [
        {
          "output_type": "stream",
          "name": "stdout",
          "text": [
            "X_train: (15656, 58)\n",
            "X_test: (5219, 58)\n",
            "y_train: (15656,)\n",
            "y_test: (5219,)\n"
          ]
        }
      ]
    },
    {
      "cell_type": "code",
      "source": [
        "scaler = RobustScaler()\n",
        "scaler.fit(X_train)\n",
        "X_train = scaler.transform(X_train)\n",
        "X_test = scaler.transform(X_test)"
      ],
      "metadata": {
        "id": "yXZctWwmAG2D"
      },
      "execution_count": null,
      "outputs": []
    },
    {
      "cell_type": "markdown",
      "source": [
        "## Model Selection"
      ],
      "metadata": {
        "id": "rQOUgoW8vxgA"
      }
    },
    {
      "cell_type": "markdown",
      "source": [],
      "metadata": {
        "id": "klysXVCfcEp-"
      }
    },
    {
      "cell_type": "code",
      "source": [
        "# to ignore warnings during hyper-parameter tuning\n",
        "warnings.filterwarnings(\"ignore\", category=DeprecationWarning)\n",
        "\n",
        "def get_best_hyperparameters(model, parameters, metrics, X_train, y_train):\n",
        "  # Create the cross-validation grid with k=10\n",
        "  grid = GridSearchCV(model, parameters, cv=10, scoring=metrics)\n",
        "\n",
        "  # Search the grid using your training data\n",
        "  grid.fit(X_train, y_train)\n",
        "\n",
        "  # Return the best hyperparameters\n",
        "  return grid.best_params_\n",
        "\n",
        "# as a scoring measure we use 'neg_mean_squared_error', which means that the error is computed\n",
        "# by taking the average of the squares between the predicted value and the expected value\n",
        "# \n",
        "# Error = (sum (y_predicted - y_expected)^2) / n\n",
        "# \n",
        "def evaluate_model(model, X_train, y_train, scoring=\"neg_mean_squared_error\"):\n",
        "  results = cross_val_score(model, X_train, y_train, scoring=scoring)\n",
        "  return -results.mean()"
      ],
      "metadata": {
        "id": "rRDDQL5SBndF"
      },
      "execution_count": null,
      "outputs": []
    },
    {
      "cell_type": "markdown",
      "source": [
        "We create a Validation Train/Test split on the previous Train/Test Dataset to apply our models with the default Hyperparameters.\n",
        "Then we apply the Linear Regression, the Polynomial Regression and the Feed-Forward regression models with different hyperparameters each.\n",
        "We choose there parameters based on tests we did with other hyperparameters and simply adding the ones that gave us the best results.\n",
        "After that we do a final Train/Test regression for each models that gives as an output the MSE."
      ],
      "metadata": {
        "id": "cuzC9LmacJjm"
      }
    },
    {
      "cell_type": "code",
      "source": [
        "# manual validation split\n",
        "X_validation_train, X_validation, y_validation_train, y_validation = train_test_split(X_train, y_train, test_size=0.25)\n",
        "print(\"X_validation_train:\", X_validation_train.shape)\n",
        "print(\"X_validation:\", X_validation.shape)\n",
        "print(\"y_validation_train:\", y_validation_train.shape)\n",
        "print(\"y_validation:\", y_validation.shape)"
      ],
      "metadata": {
        "colab": {
          "base_uri": "https://localhost:8080/"
        },
        "id": "zaaOlYbabUUK",
        "outputId": "1c4b016e-eca3-4f00-d2bc-0b7387680487"
      },
      "execution_count": null,
      "outputs": [
        {
          "output_type": "stream",
          "name": "stdout",
          "text": [
            "X_validation_train: (11742, 58)\n",
            "X_validation: (3914, 58)\n",
            "y_validation_train: (11742,)\n",
            "y_validation: (3914,)\n"
          ]
        }
      ]
    },
    {
      "cell_type": "code",
      "source": [
        "# linear regression with default hyperparameters and manual validation split\n",
        "linear_regressor = LinearRegression()\n",
        "linear_regressor.fit(X_validation_train, y_validation_train)\n",
        "y_validation_pred = linear_regressor.predict(X_validation)\n",
        "\n",
        "results = evaluate_model(linear_regressor, X_validation, y_validation)\n",
        "print(results)"
      ],
      "metadata": {
        "colab": {
          "base_uri": "https://localhost:8080/"
        },
        "id": "gsqFsO-rx2Q2",
        "outputId": "56e6f392-6c3b-4581-8010-329951bbd3d9"
      },
      "execution_count": null,
      "outputs": [
        {
          "output_type": "stream",
          "name": "stdout",
          "text": [
            "241969460.85625488\n"
          ]
        }
      ]
    },
    {
      "cell_type": "code",
      "source": [
        "# linear regression with kfold=10\n",
        "linear_regressor = LinearRegression()\n",
        "# fit_intercept: if False, intercept is set to 0, otherwise is computed\n",
        "# positive: If True, coefficients are forced to be all positive \n",
        "hyper_parameters = {'fit_intercept':[True, False],'positive':[True, False]}\n",
        "metrics = 'neg_mean_squared_error'\n",
        "params = get_best_hyperparameters(linear_regressor, hyper_parameters, metrics, X_train, y_train)"
      ],
      "metadata": {
        "id": "vEx8tIHwXuQT"
      },
      "execution_count": null,
      "outputs": []
    },
    {
      "cell_type": "code",
      "source": [
        "# final linear regression on train/test\n",
        "linear_regressor = LinearRegression(fit_intercept=params['fit_intercept'], positive=params['positive'])\n",
        "linear_regressor.fit(X_train, y_train)\n",
        "results = evaluate_model(linear_regressor, X_test, y_test)\n",
        "print(f\"Linear regression MSE: {results}\")"
      ],
      "metadata": {
        "colab": {
          "base_uri": "https://localhost:8080/"
        },
        "id": "tQyQkoLullTR",
        "outputId": "a609291c-f00e-4f16-f663-59f54ba40ba3"
      },
      "execution_count": null,
      "outputs": [
        {
          "output_type": "stream",
          "name": "stdout",
          "text": [
            "Linear regression MSE: 52184659.45909838\n"
          ]
        }
      ]
    },
    {
      "cell_type": "code",
      "source": [
        "# polynomial regression with default hyperparameters and manual validation split\n",
        "polyreg=make_pipeline(PolynomialFeatures(),LinearRegression())\n",
        "polyreg.fit(X_validation_train, y_validation_train)\n",
        "results = evaluate_model(polyreg, X_validation, y_validation)\n",
        "print(results)"
      ],
      "metadata": {
        "colab": {
          "base_uri": "https://localhost:8080/"
        },
        "id": "Ec2ykCxwUGSP",
        "outputId": "8f28c970-e8b2-40b6-b49c-0b50cead2ad4"
      },
      "execution_count": null,
      "outputs": [
        {
          "output_type": "stream",
          "name": "stdout",
          "text": [
            "225144302.56420732\n"
          ]
        }
      ]
    },
    {
      "cell_type": "code",
      "source": [
        "# polynomial regression with kfold = 10 and hyperparameter search\n",
        "polyreg=make_pipeline(PolynomialFeatures(),LinearRegression())\n",
        "polyreg.get_params().keys()\n",
        "\n",
        "# polynomialfeatures__interaction_only: only interaction features are produced\n",
        "# polynomialfeatures__include_bias: include a bias column, the feature in which all polynomial powers are zero\n",
        "hyper_parameters = {'polynomialfeatures__interaction_only': [False, True], 'polynomialfeatures__include_bias': [False, True]}\n",
        "metrics = 'neg_mean_squared_error'\n",
        "get_best_hyperparameters(polyreg, hyper_parameters, metrics, X_train, y_train)"
      ],
      "metadata": {
        "colab": {
          "base_uri": "https://localhost:8080/"
        },
        "id": "dqPd1RVLdW7k",
        "outputId": "a1487f10-7831-4416-9628-94b9b7852447"
      },
      "execution_count": null,
      "outputs": [
        {
          "output_type": "execute_result",
          "data": {
            "text/plain": [
              "{'polynomialfeatures__include_bias': False,\n",
              " 'polynomialfeatures__interaction_only': False}"
            ]
          },
          "metadata": {},
          "execution_count": 24
        }
      ]
    },
    {
      "cell_type": "code",
      "source": [
        "# final polynimal regression on train/test\n",
        "polyreg=make_pipeline(PolynomialFeatures(interaction_only='False', include_bias='False'),LinearRegression())\n",
        "polyreg.fit(X_train, y_train)\n",
        "results = evaluate_model(polyreg, X_test, y_test)\n",
        "print(f\"Polynomial regression MSE: {results}\")"
      ],
      "metadata": {
        "colab": {
          "base_uri": "https://localhost:8080/"
        },
        "id": "nhIqpozVmpo8",
        "outputId": "83944293-ee17-40d0-90f4-c653eea5e454"
      },
      "execution_count": null,
      "outputs": [
        {
          "output_type": "stream",
          "name": "stdout",
          "text": [
            "Polynomial regression MSE: 88915310.01345773\n"
          ]
        }
      ]
    },
    {
      "cell_type": "code",
      "source": [
        "# definition of loss function\n",
        "def mean_squared_error(y_true, y_pred):\n",
        "    return K.mean(K.square(float(y_pred) - float(y_true)))\n",
        "\n",
        "# neural network with default hyperparameters and manual validation split\n",
        "number_of_features = 58\n",
        "\n",
        "# feed forward neural network\n",
        "nn = Sequential()\n",
        "# input layer and first hidden layer. \n",
        "# Note the input_dim = 58, used to specify the number of inputs\n",
        "nn.add(Dense(50, kernel_initializer = 'he_uniform', activation='relu', input_dim = number_of_features))\n",
        "# other hidden layers\n",
        "nn.add(Dense(25, kernel_initializer = 'he_uniform', activation='relu'))\n",
        "# no need for activation funs in output layer: we have a regression problem.\n",
        "# only 1 output node is needed\n",
        "nn.add(Dense(1, kernel_initializer = 'he_uniform'))\n",
        "\n",
        "nn.compile(loss=mean_squared_error, optimizer='Adamax')\n",
        "\n",
        "model_history = nn.fit(X_validation_train, y_validation_train)\n",
        "\n",
        "scores = nn.evaluate(X_validation, y_validation, verbose=0)\n",
        "print(scores)"
      ],
      "metadata": {
        "colab": {
          "base_uri": "https://localhost:8080/"
        },
        "id": "LAMu1E5qaZTA",
        "outputId": "ca483776-84d3-46cb-b008-7b4cdb22cc27"
      },
      "execution_count": null,
      "outputs": [
        {
          "output_type": "stream",
          "name": "stdout",
          "text": [
            "367/367 [==============================] - 1s 2ms/step - loss: 108470856.0000\n",
            "115485888.0\n"
          ]
        }
      ]
    },
    {
      "cell_type": "code",
      "source": [
        "# neural network with kfold = 10 and hyperparameter search\n",
        "def create_model():\n",
        "  nn = Sequential()\n",
        "  # input layer and first hidden layer\n",
        "  nn.add(Dense(50, kernel_initializer = 'he_uniform', activation='relu', input_dim = number_of_features))\n",
        "  # other hidden layers\n",
        "  nn.add(Dense(25, kernel_initializer = 'he_uniform', activation='relu'))\n",
        "  # no need for activation funs in output layer: we have a regression problem.\n",
        "  nn.add(Dense(1, kernel_initializer = 'he_uniform'))\n",
        "  nn.compile(loss=mean_squared_error, optimizer='Adamax')\n",
        "  return nn\n",
        "\n",
        "estimator = KerasRegressor(build_fn=create_model)\n",
        "hyper_parameters = { 'epochs': [10,20,30] }\n",
        "metrics = 'neg_mean_squared_error'\n",
        "get_best_hyperparameters(estimator, hyper_parameters, metrics, X_train, y_train)"
      ],
      "metadata": {
        "colab": {
          "base_uri": "https://localhost:8080/"
        },
        "id": "PuIHhVyzgOqE",
        "outputId": "c0933b1e-35f1-4a2c-acf8-9b537a3e771b"
      },
      "execution_count": null,
      "outputs": [
        {
          "output_type": "stream",
          "name": "stdout",
          "text": [
            "Epoch 1/10\n",
            "441/441 [==============================] - 1s 2ms/step - loss: 67604312.0000\n",
            "Epoch 2/10\n",
            "441/441 [==============================] - 1s 2ms/step - loss: 67466840.0000\n",
            "Epoch 3/10\n",
            "441/441 [==============================] - 1s 2ms/step - loss: 67399664.0000\n",
            "Epoch 4/10\n",
            "441/441 [==============================] - 1s 2ms/step - loss: 67274040.0000\n",
            "Epoch 5/10\n",
            "441/441 [==============================] - 1s 2ms/step - loss: 67073836.0000\n",
            "Epoch 6/10\n",
            "441/441 [==============================] - 1s 2ms/step - loss: 66803976.0000\n",
            "Epoch 7/10\n",
            "441/441 [==============================] - 1s 2ms/step - loss: 66341556.0000\n",
            "Epoch 8/10\n",
            "441/441 [==============================] - 1s 2ms/step - loss: 65862432.0000\n",
            "Epoch 9/10\n",
            "441/441 [==============================] - 1s 2ms/step - loss: 65297188.0000\n",
            "Epoch 10/10\n",
            "441/441 [==============================] - 1s 2ms/step - loss: 64707800.0000\n",
            "49/49 [==============================] - 0s 1ms/step\n",
            "Epoch 1/10\n",
            "441/441 [==============================] - 1s 2ms/step - loss: 116698992.0000\n",
            "Epoch 2/10\n",
            "441/441 [==============================] - 1s 2ms/step - loss: 116083552.0000\n",
            "Epoch 3/10\n",
            "441/441 [==============================] - 1s 2ms/step - loss: 116047400.0000\n",
            "Epoch 4/10\n",
            "441/441 [==============================] - 1s 2ms/step - loss: 115695680.0000\n",
            "Epoch 5/10\n",
            "441/441 [==============================] - 1s 2ms/step - loss: 115203392.0000\n",
            "Epoch 6/10\n",
            "441/441 [==============================] - 1s 2ms/step - loss: 114623016.0000\n",
            "Epoch 7/10\n",
            "441/441 [==============================] - 1s 2ms/step - loss: 113863024.0000\n",
            "Epoch 8/10\n",
            "441/441 [==============================] - 1s 2ms/step - loss: 113021752.0000\n",
            "Epoch 9/10\n",
            "441/441 [==============================] - 1s 2ms/step - loss: 112284312.0000\n",
            "Epoch 10/10\n",
            "441/441 [==============================] - 1s 2ms/step - loss: 111445376.0000\n",
            "49/49 [==============================] - 0s 1ms/step\n",
            "Epoch 1/10\n",
            "441/441 [==============================] - 1s 2ms/step - loss: 120407192.0000\n",
            "Epoch 2/10\n",
            "441/441 [==============================] - 1s 2ms/step - loss: 116196488.0000\n",
            "Epoch 3/10\n",
            "441/441 [==============================] - 1s 2ms/step - loss: 116094344.0000\n",
            "Epoch 4/10\n",
            "441/441 [==============================] - 1s 2ms/step - loss: 115819928.0000\n",
            "Epoch 5/10\n",
            "441/441 [==============================] - 1s 2ms/step - loss: 115392320.0000\n",
            "Epoch 6/10\n",
            "441/441 [==============================] - 1s 2ms/step - loss: 114847080.0000\n",
            "Epoch 7/10\n",
            "441/441 [==============================] - 1s 2ms/step - loss: 114222168.0000\n",
            "Epoch 8/10\n",
            "441/441 [==============================] - 1s 2ms/step - loss: 113431824.0000\n",
            "Epoch 9/10\n",
            "441/441 [==============================] - 1s 2ms/step - loss: 112522904.0000\n",
            "Epoch 10/10\n",
            "441/441 [==============================] - 1s 2ms/step - loss: 111777424.0000\n",
            "49/49 [==============================] - 0s 3ms/step\n",
            "Epoch 1/10\n",
            "441/441 [==============================] - 3s 5ms/step - loss: 156243760.0000\n",
            "Epoch 2/10\n",
            "441/441 [==============================] - 2s 4ms/step - loss: 118018944.0000\n",
            "Epoch 3/10\n",
            "441/441 [==============================] - 2s 4ms/step - loss: 117815544.0000\n",
            "Epoch 4/10\n",
            "441/441 [==============================] - 2s 3ms/step - loss: 117445664.0000\n",
            "Epoch 5/10\n",
            "441/441 [==============================] - 1s 2ms/step - loss: 116973888.0000\n",
            "Epoch 6/10\n",
            "441/441 [==============================] - 1s 2ms/step - loss: 116344704.0000\n",
            "Epoch 7/10\n",
            "441/441 [==============================] - 1s 2ms/step - loss: 115526264.0000\n",
            "Epoch 8/10\n",
            "441/441 [==============================] - 1s 2ms/step - loss: 114852512.0000\n",
            "Epoch 9/10\n",
            "441/441 [==============================] - 1s 2ms/step - loss: 113948208.0000\n",
            "Epoch 10/10\n",
            "441/441 [==============================] - 1s 2ms/step - loss: 113174664.0000\n",
            "49/49 [==============================] - 0s 1ms/step\n",
            "Epoch 1/10\n",
            "441/441 [==============================] - 1s 2ms/step - loss: 122529200.0000\n",
            "Epoch 2/10\n",
            "441/441 [==============================] - 1s 2ms/step - loss: 118262600.0000\n",
            "Epoch 3/10\n",
            "441/441 [==============================] - 1s 2ms/step - loss: 118204544.0000\n",
            "Epoch 4/10\n",
            "441/441 [==============================] - 1s 2ms/step - loss: 118087808.0000\n",
            "Epoch 5/10\n",
            "441/441 [==============================] - 1s 2ms/step - loss: 117942952.0000\n",
            "Epoch 6/10\n",
            "441/441 [==============================] - 1s 2ms/step - loss: 117696408.0000\n",
            "Epoch 7/10\n",
            "441/441 [==============================] - 1s 2ms/step - loss: 117421600.0000\n",
            "Epoch 8/10\n",
            "441/441 [==============================] - 1s 2ms/step - loss: 117040232.0000\n",
            "Epoch 9/10\n",
            "441/441 [==============================] - 1s 2ms/step - loss: 116604600.0000\n",
            "Epoch 10/10\n",
            "441/441 [==============================] - 1s 2ms/step - loss: 116111160.0000\n",
            "49/49 [==============================] - 0s 1ms/step\n",
            "Epoch 1/10\n",
            "441/441 [==============================] - 1s 2ms/step - loss: 96913216.0000\n",
            "Epoch 2/10\n",
            "441/441 [==============================] - 1s 2ms/step - loss: 96606864.0000\n",
            "Epoch 3/10\n",
            "441/441 [==============================] - 1s 2ms/step - loss: 96396768.0000\n",
            "Epoch 4/10\n",
            "441/441 [==============================] - 1s 2ms/step - loss: 96000664.0000\n",
            "Epoch 5/10\n",
            "441/441 [==============================] - 1s 2ms/step - loss: 95410136.0000\n",
            "Epoch 6/10\n",
            "441/441 [==============================] - 1s 2ms/step - loss: 94526008.0000\n",
            "Epoch 7/10\n",
            "441/441 [==============================] - 1s 2ms/step - loss: 93698096.0000\n",
            "Epoch 8/10\n",
            "441/441 [==============================] - 1s 2ms/step - loss: 92662088.0000\n",
            "Epoch 9/10\n",
            "441/441 [==============================] - 1s 2ms/step - loss: 91867432.0000\n",
            "Epoch 10/10\n",
            "441/441 [==============================] - 1s 2ms/step - loss: 91041104.0000\n",
            "49/49 [==============================] - 0s 1ms/step\n",
            "Epoch 1/10\n",
            "441/441 [==============================] - 1s 2ms/step - loss: 116028712.0000\n",
            "Epoch 2/10\n",
            "441/441 [==============================] - 1s 2ms/step - loss: 114689600.0000\n",
            "Epoch 3/10\n",
            "441/441 [==============================] - 1s 2ms/step - loss: 114575520.0000\n",
            "Epoch 4/10\n",
            "441/441 [==============================] - 1s 2ms/step - loss: 114332992.0000\n",
            "Epoch 5/10\n",
            "441/441 [==============================] - 1s 2ms/step - loss: 114000848.0000\n",
            "Epoch 6/10\n",
            "441/441 [==============================] - 1s 2ms/step - loss: 113566848.0000\n",
            "Epoch 7/10\n",
            "441/441 [==============================] - 1s 2ms/step - loss: 112981664.0000\n",
            "Epoch 8/10\n",
            "441/441 [==============================] - 1s 2ms/step - loss: 112281304.0000\n",
            "Epoch 9/10\n",
            "441/441 [==============================] - 1s 2ms/step - loss: 111566816.0000\n",
            "Epoch 10/10\n",
            "441/441 [==============================] - 1s 2ms/step - loss: 110801464.0000\n",
            "49/49 [==============================] - 0s 1ms/step\n",
            "Epoch 1/10\n",
            "441/441 [==============================] - 1s 2ms/step - loss: 118094960.0000\n",
            "Epoch 2/10\n",
            "441/441 [==============================] - 1s 2ms/step - loss: 117975904.0000\n",
            "Epoch 3/10\n",
            "441/441 [==============================] - 1s 2ms/step - loss: 117868096.0000\n",
            "Epoch 4/10\n",
            "441/441 [==============================] - 1s 2ms/step - loss: 117689176.0000\n",
            "Epoch 5/10\n",
            "441/441 [==============================] - 1s 2ms/step - loss: 117433864.0000\n",
            "Epoch 6/10\n",
            "441/441 [==============================] - 1s 2ms/step - loss: 116957704.0000\n",
            "Epoch 7/10\n",
            "441/441 [==============================] - 1s 2ms/step - loss: 116427512.0000\n",
            "Epoch 8/10\n",
            "441/441 [==============================] - 1s 2ms/step - loss: 115809264.0000\n",
            "Epoch 9/10\n",
            "441/441 [==============================] - 1s 2ms/step - loss: 115136224.0000\n",
            "Epoch 10/10\n",
            "441/441 [==============================] - 1s 2ms/step - loss: 114459760.0000\n",
            "49/49 [==============================] - 0s 1ms/step\n",
            "Epoch 1/10\n",
            "441/441 [==============================] - 1s 2ms/step - loss: 119616736.0000\n",
            "Epoch 2/10\n",
            "441/441 [==============================] - 1s 2ms/step - loss: 118827272.0000\n",
            "Epoch 3/10\n",
            "441/441 [==============================] - 1s 2ms/step - loss: 118645048.0000\n",
            "Epoch 4/10\n",
            "441/441 [==============================] - 1s 2ms/step - loss: 118484896.0000\n",
            "Epoch 5/10\n",
            "441/441 [==============================] - 1s 2ms/step - loss: 118098056.0000\n",
            "Epoch 6/10\n",
            "441/441 [==============================] - 1s 2ms/step - loss: 117631560.0000\n",
            "Epoch 7/10\n",
            "441/441 [==============================] - 1s 2ms/step - loss: 117024808.0000\n",
            "Epoch 8/10\n",
            "441/441 [==============================] - 1s 2ms/step - loss: 116173392.0000\n",
            "Epoch 9/10\n",
            "441/441 [==============================] - 1s 2ms/step - loss: 115386552.0000\n",
            "Epoch 10/10\n",
            "441/441 [==============================] - 1s 2ms/step - loss: 114610104.0000\n",
            "49/49 [==============================] - 0s 1ms/step\n",
            "Epoch 1/10\n",
            "441/441 [==============================] - 1s 2ms/step - loss: 118377096.0000\n",
            "Epoch 2/10\n",
            "441/441 [==============================] - 1s 2ms/step - loss: 117341616.0000\n",
            "Epoch 3/10\n",
            "441/441 [==============================] - 1s 2ms/step - loss: 117245088.0000\n",
            "Epoch 4/10\n",
            "441/441 [==============================] - 1s 2ms/step - loss: 117230384.0000\n",
            "Epoch 5/10\n",
            "441/441 [==============================] - 1s 2ms/step - loss: 116896984.0000\n",
            "Epoch 6/10\n",
            "441/441 [==============================] - 1s 2ms/step - loss: 116626648.0000\n",
            "Epoch 7/10\n",
            "441/441 [==============================] - 1s 2ms/step - loss: 116154704.0000\n",
            "Epoch 8/10\n",
            "441/441 [==============================] - 1s 2ms/step - loss: 115642536.0000\n",
            "Epoch 9/10\n",
            "441/441 [==============================] - 1s 2ms/step - loss: 115079752.0000\n",
            "Epoch 10/10\n",
            "441/441 [==============================] - 1s 2ms/step - loss: 114324960.0000\n",
            "49/49 [==============================] - 0s 1ms/step\n",
            "Epoch 1/20\n",
            "441/441 [==============================] - 1s 2ms/step - loss: 67522448.0000\n",
            "Epoch 2/20\n",
            "441/441 [==============================] - 1s 2ms/step - loss: 67424640.0000\n",
            "Epoch 3/20\n",
            "441/441 [==============================] - 1s 2ms/step - loss: 67349800.0000\n",
            "Epoch 4/20\n",
            "441/441 [==============================] - 1s 2ms/step - loss: 67148912.0000\n",
            "Epoch 5/20\n",
            "441/441 [==============================] - 1s 2ms/step - loss: 66895548.0000\n",
            "Epoch 6/20\n",
            "441/441 [==============================] - 1s 2ms/step - loss: 66579016.0000\n",
            "Epoch 7/20\n",
            "441/441 [==============================] - 1s 2ms/step - loss: 66155656.0000\n",
            "Epoch 8/20\n",
            "441/441 [==============================] - 1s 2ms/step - loss: 65678332.0000\n",
            "Epoch 9/20\n",
            "441/441 [==============================] - 1s 2ms/step - loss: 64924540.0000\n",
            "Epoch 10/20\n",
            "441/441 [==============================] - 1s 2ms/step - loss: 64192464.0000\n",
            "Epoch 11/20\n",
            "441/441 [==============================] - 1s 2ms/step - loss: 63434336.0000\n",
            "Epoch 12/20\n",
            "441/441 [==============================] - 1s 2ms/step - loss: 62734788.0000\n",
            "Epoch 13/20\n",
            "441/441 [==============================] - 1s 2ms/step - loss: 61990404.0000\n",
            "Epoch 14/20\n",
            "441/441 [==============================] - 1s 2ms/step - loss: 61293004.0000\n",
            "Epoch 15/20\n",
            "441/441 [==============================] - 1s 2ms/step - loss: 60699080.0000\n",
            "Epoch 16/20\n",
            "441/441 [==============================] - 1s 2ms/step - loss: 60232984.0000\n",
            "Epoch 17/20\n",
            "441/441 [==============================] - 1s 2ms/step - loss: 59977756.0000\n",
            "Epoch 18/20\n",
            "441/441 [==============================] - 1s 2ms/step - loss: 59634924.0000\n",
            "Epoch 19/20\n",
            "441/441 [==============================] - 1s 2ms/step - loss: 59440748.0000\n",
            "Epoch 20/20\n",
            "441/441 [==============================] - 1s 2ms/step - loss: 59291388.0000\n",
            "49/49 [==============================] - 0s 1ms/step\n",
            "Epoch 1/20\n",
            "441/441 [==============================] - 1s 2ms/step - loss: 117425144.0000\n",
            "Epoch 2/20\n",
            "441/441 [==============================] - 1s 2ms/step - loss: 116243192.0000\n",
            "Epoch 3/20\n",
            "441/441 [==============================] - 1s 2ms/step - loss: 116134008.0000\n",
            "Epoch 4/20\n",
            "441/441 [==============================] - 1s 2ms/step - loss: 115941112.0000\n",
            "Epoch 5/20\n",
            "441/441 [==============================] - 1s 2ms/step - loss: 115848088.0000\n",
            "Epoch 6/20\n",
            "441/441 [==============================] - 1s 2ms/step - loss: 115462432.0000\n",
            "Epoch 7/20\n",
            "441/441 [==============================] - 1s 2ms/step - loss: 115052168.0000\n",
            "Epoch 8/20\n",
            "441/441 [==============================] - 1s 2ms/step - loss: 114596928.0000\n",
            "Epoch 9/20\n",
            "441/441 [==============================] - 1s 2ms/step - loss: 114052576.0000\n",
            "Epoch 10/20\n",
            "441/441 [==============================] - 1s 2ms/step - loss: 113424632.0000\n",
            "Epoch 11/20\n",
            "441/441 [==============================] - 1s 2ms/step - loss: 112733040.0000\n",
            "Epoch 12/20\n",
            "441/441 [==============================] - 1s 2ms/step - loss: 112098440.0000\n",
            "Epoch 13/20\n",
            "441/441 [==============================] - 1s 2ms/step - loss: 111520848.0000\n",
            "Epoch 14/20\n",
            "441/441 [==============================] - 1s 2ms/step - loss: 110933112.0000\n",
            "Epoch 15/20\n",
            "441/441 [==============================] - 1s 2ms/step - loss: 110420280.0000\n",
            "Epoch 16/20\n",
            "441/441 [==============================] - 1s 2ms/step - loss: 109984376.0000\n",
            "Epoch 17/20\n",
            "441/441 [==============================] - 1s 2ms/step - loss: 109511208.0000\n",
            "Epoch 18/20\n",
            "441/441 [==============================] - 1s 2ms/step - loss: 109299808.0000\n",
            "Epoch 19/20\n",
            "441/441 [==============================] - 1s 2ms/step - loss: 108977064.0000\n",
            "Epoch 20/20\n",
            "441/441 [==============================] - 1s 2ms/step - loss: 108750512.0000\n",
            "49/49 [==============================] - 0s 1ms/step\n",
            "Epoch 1/20\n",
            "441/441 [==============================] - 1s 2ms/step - loss: 116499064.0000\n",
            "Epoch 2/20\n",
            "441/441 [==============================] - 1s 2ms/step - loss: 116230944.0000\n",
            "Epoch 3/20\n",
            "441/441 [==============================] - 1s 2ms/step - loss: 116003344.0000\n",
            "Epoch 4/20\n",
            "441/441 [==============================] - 1s 2ms/step - loss: 115716912.0000\n",
            "Epoch 5/20\n",
            "441/441 [==============================] - 1s 2ms/step - loss: 115249240.0000\n",
            "Epoch 6/20\n",
            "441/441 [==============================] - 1s 2ms/step - loss: 114647968.0000\n",
            "Epoch 7/20\n",
            "441/441 [==============================] - 1s 2ms/step - loss: 113920496.0000\n",
            "Epoch 8/20\n",
            "441/441 [==============================] - 1s 2ms/step - loss: 113233968.0000\n",
            "Epoch 9/20\n",
            "441/441 [==============================] - 1s 2ms/step - loss: 112526088.0000\n",
            "Epoch 10/20\n",
            "441/441 [==============================] - 1s 2ms/step - loss: 111889736.0000\n",
            "Epoch 11/20\n",
            "441/441 [==============================] - 1s 2ms/step - loss: 111257640.0000\n",
            "Epoch 12/20\n",
            "441/441 [==============================] - 1s 2ms/step - loss: 110676080.0000\n",
            "Epoch 13/20\n",
            "441/441 [==============================] - 1s 2ms/step - loss: 110177408.0000\n",
            "Epoch 14/20\n",
            "441/441 [==============================] - 1s 2ms/step - loss: 109683664.0000\n",
            "Epoch 15/20\n",
            "441/441 [==============================] - 1s 2ms/step - loss: 109277184.0000\n",
            "Epoch 16/20\n",
            "441/441 [==============================] - 1s 2ms/step - loss: 109061184.0000\n",
            "Epoch 17/20\n",
            "441/441 [==============================] - 1s 2ms/step - loss: 108725888.0000\n",
            "Epoch 18/20\n",
            "441/441 [==============================] - 1s 2ms/step - loss: 108799744.0000\n",
            "Epoch 19/20\n",
            "441/441 [==============================] - 1s 2ms/step - loss: 108486200.0000\n",
            "Epoch 20/20\n",
            "441/441 [==============================] - 1s 2ms/step - loss: 108442496.0000\n",
            "49/49 [==============================] - 0s 1ms/step\n",
            "Epoch 1/20\n",
            "441/441 [==============================] - 1s 2ms/step - loss: 118163000.0000\n",
            "Epoch 2/20\n",
            "441/441 [==============================] - 1s 2ms/step - loss: 118055704.0000\n",
            "Epoch 3/20\n",
            "441/441 [==============================] - 1s 2ms/step - loss: 117961144.0000\n",
            "Epoch 4/20\n",
            "441/441 [==============================] - 1s 2ms/step - loss: 117775920.0000\n",
            "Epoch 5/20\n",
            "441/441 [==============================] - 1s 2ms/step - loss: 117467816.0000\n",
            "Epoch 6/20\n",
            "441/441 [==============================] - 1s 2ms/step - loss: 117092712.0000\n",
            "Epoch 7/20\n",
            "441/441 [==============================] - 1s 2ms/step - loss: 116598072.0000\n",
            "Epoch 8/20\n",
            "441/441 [==============================] - 1s 2ms/step - loss: 116120944.0000\n",
            "Epoch 9/20\n",
            "441/441 [==============================] - 1s 2ms/step - loss: 115474104.0000\n",
            "Epoch 10/20\n",
            "441/441 [==============================] - 1s 2ms/step - loss: 114851368.0000\n",
            "Epoch 11/20\n",
            "441/441 [==============================] - 1s 2ms/step - loss: 114198664.0000\n",
            "Epoch 12/20\n",
            "441/441 [==============================] - 1s 2ms/step - loss: 113507232.0000\n",
            "Epoch 13/20\n",
            "441/441 [==============================] - 1s 2ms/step - loss: 112816264.0000\n",
            "Epoch 14/20\n",
            "441/441 [==============================] - 1s 2ms/step - loss: 112397816.0000\n",
            "Epoch 15/20\n",
            "441/441 [==============================] - 1s 2ms/step - loss: 111656304.0000\n",
            "Epoch 16/20\n",
            "441/441 [==============================] - 1s 2ms/step - loss: 111203128.0000\n",
            "Epoch 17/20\n",
            "441/441 [==============================] - 1s 2ms/step - loss: 110843256.0000\n",
            "Epoch 18/20\n",
            "441/441 [==============================] - 1s 2ms/step - loss: 110578568.0000\n",
            "Epoch 19/20\n",
            "441/441 [==============================] - 1s 2ms/step - loss: 110314624.0000\n",
            "Epoch 20/20\n",
            "441/441 [==============================] - 1s 2ms/step - loss: 110118136.0000\n",
            "49/49 [==============================] - 0s 1ms/step\n",
            "Epoch 1/20\n",
            "441/441 [==============================] - 1s 2ms/step - loss: 118596608.0000\n",
            "Epoch 2/20\n",
            "441/441 [==============================] - 1s 2ms/step - loss: 118177112.0000\n",
            "Epoch 3/20\n",
            "441/441 [==============================] - 1s 2ms/step - loss: 117875760.0000\n",
            "Epoch 4/20\n",
            "441/441 [==============================] - 1s 2ms/step - loss: 117481816.0000\n",
            "Epoch 5/20\n",
            "441/441 [==============================] - 1s 2ms/step - loss: 116978616.0000\n",
            "Epoch 6/20\n",
            "441/441 [==============================] - 1s 2ms/step - loss: 116364864.0000\n",
            "Epoch 7/20\n",
            "441/441 [==============================] - 1s 2ms/step - loss: 115695568.0000\n",
            "Epoch 8/20\n",
            "441/441 [==============================] - 1s 2ms/step - loss: 114917408.0000\n",
            "Epoch 9/20\n",
            "441/441 [==============================] - 1s 2ms/step - loss: 114122920.0000\n",
            "Epoch 10/20\n",
            "441/441 [==============================] - 1s 2ms/step - loss: 113262760.0000\n",
            "Epoch 11/20\n",
            "441/441 [==============================] - 1s 2ms/step - loss: 112582928.0000\n",
            "Epoch 12/20\n",
            "441/441 [==============================] - 1s 2ms/step - loss: 111895048.0000\n",
            "Epoch 13/20\n",
            "441/441 [==============================] - 1s 2ms/step - loss: 111388296.0000\n",
            "Epoch 14/20\n",
            "441/441 [==============================] - 1s 2ms/step - loss: 111021288.0000\n",
            "Epoch 15/20\n",
            "441/441 [==============================] - 1s 2ms/step - loss: 110692784.0000\n",
            "Epoch 16/20\n",
            "441/441 [==============================] - 1s 2ms/step - loss: 110417640.0000\n",
            "Epoch 17/20\n",
            "441/441 [==============================] - 1s 2ms/step - loss: 110225456.0000\n",
            "Epoch 18/20\n",
            "441/441 [==============================] - 1s 2ms/step - loss: 110065136.0000\n",
            "Epoch 19/20\n",
            "441/441 [==============================] - 1s 2ms/step - loss: 109935752.0000\n",
            "Epoch 20/20\n",
            "441/441 [==============================] - 1s 2ms/step - loss: 109877264.0000\n",
            "49/49 [==============================] - 0s 1ms/step\n",
            "Epoch 1/20\n",
            "441/441 [==============================] - 1s 2ms/step - loss: 96837064.0000\n",
            "Epoch 2/20\n",
            "441/441 [==============================] - 1s 2ms/step - loss: 96556288.0000\n",
            "Epoch 3/20\n",
            "441/441 [==============================] - 1s 2ms/step - loss: 96602816.0000\n",
            "Epoch 4/20\n",
            "441/441 [==============================] - 1s 2ms/step - loss: 96162624.0000\n",
            "Epoch 5/20\n",
            "441/441 [==============================] - 1s 2ms/step - loss: 95720896.0000\n",
            "Epoch 6/20\n",
            "441/441 [==============================] - 1s 2ms/step - loss: 95162672.0000\n",
            "Epoch 7/20\n",
            "441/441 [==============================] - 1s 2ms/step - loss: 94284744.0000\n",
            "Epoch 8/20\n",
            "441/441 [==============================] - 1s 2ms/step - loss: 93469296.0000\n",
            "Epoch 9/20\n",
            "441/441 [==============================] - 1s 2ms/step - loss: 92507880.0000\n",
            "Epoch 10/20\n",
            "441/441 [==============================] - 1s 2ms/step - loss: 91518808.0000\n",
            "Epoch 11/20\n",
            "441/441 [==============================] - 1s 2ms/step - loss: 91053264.0000\n",
            "Epoch 12/20\n",
            "441/441 [==============================] - 1s 2ms/step - loss: 90411664.0000\n",
            "Epoch 13/20\n",
            "441/441 [==============================] - 1s 2ms/step - loss: 89862152.0000\n",
            "Epoch 14/20\n",
            "441/441 [==============================] - 1s 2ms/step - loss: 89477368.0000\n",
            "Epoch 15/20\n",
            "441/441 [==============================] - 1s 2ms/step - loss: 89224824.0000\n",
            "Epoch 16/20\n",
            "441/441 [==============================] - 1s 2ms/step - loss: 89049416.0000\n",
            "Epoch 17/20\n",
            "441/441 [==============================] - 1s 2ms/step - loss: 88956976.0000\n",
            "Epoch 18/20\n",
            "441/441 [==============================] - 1s 2ms/step - loss: 88826424.0000\n",
            "Epoch 19/20\n",
            "441/441 [==============================] - 1s 2ms/step - loss: 88821840.0000\n",
            "Epoch 20/20\n",
            "441/441 [==============================] - 1s 2ms/step - loss: 88742136.0000\n",
            "49/49 [==============================] - 0s 1ms/step\n",
            "Epoch 1/20\n",
            "441/441 [==============================] - 1s 2ms/step - loss: 118035000.0000\n",
            "Epoch 2/20\n",
            "441/441 [==============================] - 1s 2ms/step - loss: 114679760.0000\n",
            "Epoch 3/20\n",
            "441/441 [==============================] - 1s 2ms/step - loss: 114579808.0000\n",
            "Epoch 4/20\n",
            "441/441 [==============================] - 1s 2ms/step - loss: 114443592.0000\n",
            "Epoch 5/20\n",
            "441/441 [==============================] - 1s 2ms/step - loss: 114174248.0000\n",
            "Epoch 6/20\n",
            "441/441 [==============================] - 1s 2ms/step - loss: 113713568.0000\n",
            "Epoch 7/20\n",
            "441/441 [==============================] - 1s 2ms/step - loss: 113191808.0000\n",
            "Epoch 8/20\n",
            "441/441 [==============================] - 1s 2ms/step - loss: 112631272.0000\n",
            "Epoch 9/20\n",
            "441/441 [==============================] - 1s 2ms/step - loss: 111978736.0000\n",
            "Epoch 10/20\n",
            "441/441 [==============================] - 1s 2ms/step - loss: 111280752.0000\n",
            "Epoch 11/20\n",
            "441/441 [==============================] - 1s 2ms/step - loss: 110729840.0000\n",
            "Epoch 12/20\n",
            "441/441 [==============================] - 1s 2ms/step - loss: 110040448.0000\n",
            "Epoch 13/20\n",
            "441/441 [==============================] - 1s 2ms/step - loss: 109399552.0000\n",
            "Epoch 14/20\n",
            "441/441 [==============================] - 1s 2ms/step - loss: 108863992.0000\n",
            "Epoch 15/20\n",
            "441/441 [==============================] - 1s 2ms/step - loss: 108376544.0000\n",
            "Epoch 16/20\n",
            "441/441 [==============================] - 1s 2ms/step - loss: 108085984.0000\n",
            "Epoch 17/20\n",
            "441/441 [==============================] - 1s 2ms/step - loss: 107776128.0000\n",
            "Epoch 18/20\n",
            "441/441 [==============================] - 1s 2ms/step - loss: 107447736.0000\n",
            "Epoch 19/20\n",
            "441/441 [==============================] - 1s 2ms/step - loss: 107352392.0000\n",
            "Epoch 20/20\n",
            "441/441 [==============================] - 1s 2ms/step - loss: 107081592.0000\n",
            "49/49 [==============================] - 0s 1ms/step\n",
            "Epoch 1/20\n",
            "441/441 [==============================] - 1s 2ms/step - loss: 118262560.0000\n",
            "Epoch 2/20\n",
            "441/441 [==============================] - 1s 2ms/step - loss: 117982600.0000\n",
            "Epoch 3/20\n",
            "441/441 [==============================] - 1s 2ms/step - loss: 117855352.0000\n",
            "Epoch 4/20\n",
            "441/441 [==============================] - 1s 2ms/step - loss: 117617032.0000\n",
            "Epoch 5/20\n",
            "441/441 [==============================] - 1s 2ms/step - loss: 117293528.0000\n",
            "Epoch 6/20\n",
            "441/441 [==============================] - 1s 2ms/step - loss: 116843568.0000\n",
            "Epoch 7/20\n",
            "441/441 [==============================] - 1s 2ms/step - loss: 116501504.0000\n",
            "Epoch 8/20\n",
            "441/441 [==============================] - 1s 2ms/step - loss: 116172912.0000\n",
            "Epoch 9/20\n",
            "441/441 [==============================] - 1s 2ms/step - loss: 115762368.0000\n",
            "Epoch 10/20\n",
            "441/441 [==============================] - 1s 2ms/step - loss: 115159368.0000\n",
            "Epoch 11/20\n",
            "441/441 [==============================] - 1s 2ms/step - loss: 114533440.0000\n",
            "Epoch 12/20\n",
            "441/441 [==============================] - 1s 2ms/step - loss: 113920560.0000\n",
            "Epoch 13/20\n",
            "441/441 [==============================] - 1s 2ms/step - loss: 113333632.0000\n",
            "Epoch 14/20\n",
            "441/441 [==============================] - 1s 2ms/step - loss: 112761064.0000\n",
            "Epoch 15/20\n",
            "441/441 [==============================] - 1s 2ms/step - loss: 112249528.0000\n",
            "Epoch 16/20\n",
            "441/441 [==============================] - 1s 2ms/step - loss: 111889376.0000\n",
            "Epoch 17/20\n",
            "441/441 [==============================] - 1s 2ms/step - loss: 111501672.0000\n",
            "Epoch 18/20\n",
            "441/441 [==============================] - 1s 2ms/step - loss: 111029400.0000\n",
            "Epoch 19/20\n",
            "441/441 [==============================] - 1s 2ms/step - loss: 110795920.0000\n",
            "Epoch 20/20\n",
            "441/441 [==============================] - 1s 2ms/step - loss: 110514288.0000\n",
            "49/49 [==============================] - 0s 1ms/step\n",
            "Epoch 1/20\n",
            "441/441 [==============================] - 1s 2ms/step - loss: 120025488.0000\n",
            "Epoch 2/20\n",
            "441/441 [==============================] - 1s 2ms/step - loss: 118884184.0000\n",
            "Epoch 3/20\n",
            "441/441 [==============================] - 1s 2ms/step - loss: 118803408.0000\n",
            "Epoch 4/20\n",
            "441/441 [==============================] - 1s 2ms/step - loss: 118687936.0000\n",
            "Epoch 5/20\n",
            "441/441 [==============================] - 1s 2ms/step - loss: 118417160.0000\n",
            "Epoch 6/20\n",
            "441/441 [==============================] - 1s 2ms/step - loss: 118083104.0000\n",
            "Epoch 7/20\n",
            "441/441 [==============================] - 1s 2ms/step - loss: 117681552.0000\n",
            "Epoch 8/20\n",
            "441/441 [==============================] - 1s 2ms/step - loss: 117160032.0000\n",
            "Epoch 9/20\n",
            "441/441 [==============================] - 1s 2ms/step - loss: 116530720.0000\n",
            "Epoch 10/20\n",
            "441/441 [==============================] - 1s 2ms/step - loss: 115819872.0000\n",
            "Epoch 11/20\n",
            "441/441 [==============================] - 1s 2ms/step - loss: 115212008.0000\n",
            "Epoch 12/20\n",
            "441/441 [==============================] - 1s 2ms/step - loss: 114617064.0000\n",
            "Epoch 13/20\n",
            "441/441 [==============================] - 1s 2ms/step - loss: 113980864.0000\n",
            "Epoch 14/20\n",
            "441/441 [==============================] - 1s 2ms/step - loss: 113261712.0000\n",
            "Epoch 15/20\n",
            "441/441 [==============================] - 1s 2ms/step - loss: 112633048.0000\n",
            "Epoch 16/20\n",
            "441/441 [==============================] - 1s 2ms/step - loss: 112132536.0000\n",
            "Epoch 17/20\n",
            "441/441 [==============================] - 1s 2ms/step - loss: 111652904.0000\n",
            "Epoch 18/20\n",
            "441/441 [==============================] - 1s 2ms/step - loss: 111454704.0000\n",
            "Epoch 19/20\n",
            "441/441 [==============================] - 1s 2ms/step - loss: 111140360.0000\n",
            "Epoch 20/20\n",
            "441/441 [==============================] - 1s 2ms/step - loss: 110911192.0000\n",
            "49/49 [==============================] - 0s 2ms/step\n",
            "Epoch 1/20\n",
            "441/441 [==============================] - 2s 4ms/step - loss: 117429072.0000\n",
            "Epoch 2/20\n",
            "441/441 [==============================] - 1s 3ms/step - loss: 117331088.0000\n",
            "Epoch 3/20\n",
            "441/441 [==============================] - 1s 3ms/step - loss: 117229528.0000\n",
            "Epoch 4/20\n",
            "441/441 [==============================] - 1s 2ms/step - loss: 117065120.0000\n",
            "Epoch 5/20\n",
            "441/441 [==============================] - 1s 2ms/step - loss: 116703368.0000\n",
            "Epoch 6/20\n",
            "441/441 [==============================] - 1s 2ms/step - loss: 116436760.0000\n",
            "Epoch 7/20\n",
            "441/441 [==============================] - 1s 2ms/step - loss: 115899480.0000\n",
            "Epoch 8/20\n",
            "441/441 [==============================] - 1s 2ms/step - loss: 115592912.0000\n",
            "Epoch 9/20\n",
            "441/441 [==============================] - 1s 2ms/step - loss: 114954808.0000\n",
            "Epoch 10/20\n",
            "441/441 [==============================] - 1s 2ms/step - loss: 114415856.0000\n",
            "Epoch 11/20\n",
            "441/441 [==============================] - 1s 2ms/step - loss: 113746728.0000\n",
            "Epoch 12/20\n",
            "441/441 [==============================] - 1s 2ms/step - loss: 113143984.0000\n",
            "Epoch 13/20\n",
            "441/441 [==============================] - 1s 2ms/step - loss: 112524816.0000\n",
            "Epoch 14/20\n",
            "441/441 [==============================] - 1s 2ms/step - loss: 111917424.0000\n",
            "Epoch 15/20\n",
            "441/441 [==============================] - 1s 2ms/step - loss: 111370216.0000\n",
            "Epoch 16/20\n",
            "441/441 [==============================] - 1s 2ms/step - loss: 110933888.0000\n",
            "Epoch 17/20\n",
            "441/441 [==============================] - 1s 2ms/step - loss: 110612496.0000\n",
            "Epoch 18/20\n",
            "441/441 [==============================] - 1s 2ms/step - loss: 110263128.0000\n",
            "Epoch 19/20\n",
            "441/441 [==============================] - 1s 2ms/step - loss: 109926584.0000\n",
            "Epoch 20/20\n",
            "441/441 [==============================] - 1s 2ms/step - loss: 109752000.0000\n",
            "49/49 [==============================] - 0s 1ms/step\n",
            "Epoch 1/30\n",
            "441/441 [==============================] - 1s 2ms/step - loss: 68031800.0000\n",
            "Epoch 2/30\n",
            "441/441 [==============================] - 1s 2ms/step - loss: 67377496.0000\n",
            "Epoch 3/30\n",
            "441/441 [==============================] - 1s 2ms/step - loss: 67241312.0000\n",
            "Epoch 4/30\n",
            "441/441 [==============================] - 1s 2ms/step - loss: 67004224.0000\n",
            "Epoch 5/30\n",
            "441/441 [==============================] - 1s 2ms/step - loss: 66679960.0000\n",
            "Epoch 6/30\n",
            "441/441 [==============================] - 1s 2ms/step - loss: 66184816.0000\n",
            "Epoch 7/30\n",
            "441/441 [==============================] - 1s 2ms/step - loss: 65546960.0000\n",
            "Epoch 8/30\n",
            "441/441 [==============================] - 1s 2ms/step - loss: 64845724.0000\n",
            "Epoch 9/30\n",
            "441/441 [==============================] - 1s 2ms/step - loss: 64021244.0000\n",
            "Epoch 10/30\n",
            "441/441 [==============================] - 1s 2ms/step - loss: 63274100.0000\n",
            "Epoch 11/30\n",
            "441/441 [==============================] - 1s 2ms/step - loss: 62502652.0000\n",
            "Epoch 12/30\n",
            "441/441 [==============================] - 1s 2ms/step - loss: 61853328.0000\n",
            "Epoch 13/30\n",
            "441/441 [==============================] - 1s 2ms/step - loss: 61135240.0000\n",
            "Epoch 14/30\n",
            "441/441 [==============================] - 1s 2ms/step - loss: 60634448.0000\n",
            "Epoch 15/30\n",
            "441/441 [==============================] - 1s 2ms/step - loss: 60160268.0000\n",
            "Epoch 16/30\n",
            "441/441 [==============================] - 1s 2ms/step - loss: 59822056.0000\n",
            "Epoch 17/30\n",
            "441/441 [==============================] - 1s 2ms/step - loss: 59577864.0000\n",
            "Epoch 18/30\n",
            "441/441 [==============================] - 1s 2ms/step - loss: 59371960.0000\n",
            "Epoch 19/30\n",
            "441/441 [==============================] - 1s 2ms/step - loss: 59222868.0000\n",
            "Epoch 20/30\n",
            "441/441 [==============================] - 1s 2ms/step - loss: 59133980.0000\n",
            "Epoch 21/30\n",
            "441/441 [==============================] - 1s 2ms/step - loss: 59005924.0000\n",
            "Epoch 22/30\n",
            "441/441 [==============================] - 1s 2ms/step - loss: 58988460.0000\n",
            "Epoch 23/30\n",
            "441/441 [==============================] - 1s 2ms/step - loss: 58900972.0000\n",
            "Epoch 24/30\n",
            "441/441 [==============================] - 1s 2ms/step - loss: 58893704.0000\n",
            "Epoch 25/30\n",
            "441/441 [==============================] - 1s 2ms/step - loss: 58837892.0000\n",
            "Epoch 26/30\n",
            "441/441 [==============================] - 1s 2ms/step - loss: 58826792.0000\n",
            "Epoch 27/30\n",
            "441/441 [==============================] - 1s 2ms/step - loss: 58765072.0000\n",
            "Epoch 28/30\n",
            "441/441 [==============================] - 1s 2ms/step - loss: 58764956.0000\n",
            "Epoch 29/30\n",
            "441/441 [==============================] - 1s 2ms/step - loss: 58768660.0000\n",
            "Epoch 30/30\n",
            "441/441 [==============================] - 1s 2ms/step - loss: 58717804.0000\n",
            "49/49 [==============================] - 0s 1ms/step\n",
            "Epoch 1/30\n",
            "441/441 [==============================] - 1s 2ms/step - loss: 117274984.0000\n",
            "Epoch 2/30\n",
            "441/441 [==============================] - 1s 2ms/step - loss: 116258536.0000\n",
            "Epoch 3/30\n",
            "441/441 [==============================] - 1s 2ms/step - loss: 116149960.0000\n",
            "Epoch 4/30\n",
            "441/441 [==============================] - 1s 2ms/step - loss: 116007992.0000\n",
            "Epoch 5/30\n",
            "441/441 [==============================] - 1s 2ms/step - loss: 115790920.0000\n",
            "Epoch 6/30\n",
            "441/441 [==============================] - 1s 2ms/step - loss: 115386400.0000\n",
            "Epoch 7/30\n",
            "441/441 [==============================] - 1s 2ms/step - loss: 115035288.0000\n",
            "Epoch 8/30\n",
            "441/441 [==============================] - 1s 2ms/step - loss: 114536584.0000\n",
            "Epoch 9/30\n",
            "441/441 [==============================] - 1s 2ms/step - loss: 114036760.0000\n",
            "Epoch 10/30\n",
            "441/441 [==============================] - 1s 2ms/step - loss: 113419488.0000\n",
            "Epoch 11/30\n",
            "441/441 [==============================] - 1s 2ms/step - loss: 112793344.0000\n",
            "Epoch 12/30\n",
            "441/441 [==============================] - 1s 2ms/step - loss: 112201920.0000\n",
            "Epoch 13/30\n",
            "441/441 [==============================] - 1s 2ms/step - loss: 111569024.0000\n",
            "Epoch 14/30\n",
            "441/441 [==============================] - 1s 2ms/step - loss: 111035016.0000\n",
            "Epoch 15/30\n",
            "441/441 [==============================] - 1s 2ms/step - loss: 110491960.0000\n",
            "Epoch 16/30\n",
            "441/441 [==============================] - 1s 2ms/step - loss: 110080232.0000\n",
            "Epoch 17/30\n",
            "441/441 [==============================] - 1s 2ms/step - loss: 109656048.0000\n",
            "Epoch 18/30\n",
            "441/441 [==============================] - 1s 2ms/step - loss: 109322576.0000\n",
            "Epoch 19/30\n",
            "441/441 [==============================] - 1s 2ms/step - loss: 109030192.0000\n",
            "Epoch 20/30\n",
            "441/441 [==============================] - 1s 2ms/step - loss: 108783168.0000\n",
            "Epoch 21/30\n",
            "441/441 [==============================] - 1s 2ms/step - loss: 108560928.0000\n",
            "Epoch 22/30\n",
            "441/441 [==============================] - 1s 2ms/step - loss: 108459360.0000\n",
            "Epoch 23/30\n",
            "441/441 [==============================] - 1s 2ms/step - loss: 108326080.0000\n",
            "Epoch 24/30\n",
            "441/441 [==============================] - 1s 2ms/step - loss: 108220288.0000\n",
            "Epoch 25/30\n",
            "441/441 [==============================] - 1s 2ms/step - loss: 108128808.0000\n",
            "Epoch 26/30\n",
            "441/441 [==============================] - 1s 2ms/step - loss: 108076000.0000\n",
            "Epoch 27/30\n",
            "441/441 [==============================] - 1s 2ms/step - loss: 108016360.0000\n",
            "Epoch 28/30\n",
            "441/441 [==============================] - 1s 2ms/step - loss: 107992992.0000\n",
            "Epoch 29/30\n",
            "441/441 [==============================] - 1s 2ms/step - loss: 107952208.0000\n",
            "Epoch 30/30\n",
            "441/441 [==============================] - 1s 2ms/step - loss: 107913688.0000\n",
            "49/49 [==============================] - 0s 1ms/step\n",
            "Epoch 1/30\n",
            "441/441 [==============================] - 1s 2ms/step - loss: 117737928.0000\n",
            "Epoch 2/30\n",
            "441/441 [==============================] - 1s 2ms/step - loss: 116187936.0000\n",
            "Epoch 3/30\n",
            "441/441 [==============================] - 1s 2ms/step - loss: 115974328.0000\n",
            "Epoch 4/30\n",
            "441/441 [==============================] - 1s 2ms/step - loss: 115496520.0000\n",
            "Epoch 5/30\n",
            "441/441 [==============================] - 1s 2ms/step - loss: 115115824.0000\n",
            "Epoch 6/30\n",
            "441/441 [==============================] - 1s 2ms/step - loss: 114709200.0000\n",
            "Epoch 7/30\n",
            "441/441 [==============================] - 1s 2ms/step - loss: 114035944.0000\n",
            "Epoch 8/30\n",
            "441/441 [==============================] - 1s 2ms/step - loss: 113275352.0000\n",
            "Epoch 9/30\n",
            "441/441 [==============================] - 1s 2ms/step - loss: 112399136.0000\n",
            "Epoch 10/30\n",
            "441/441 [==============================] - 1s 2ms/step - loss: 111595760.0000\n",
            "Epoch 11/30\n",
            "441/441 [==============================] - 1s 2ms/step - loss: 110897640.0000\n",
            "Epoch 12/30\n",
            "441/441 [==============================] - 1s 2ms/step - loss: 110289280.0000\n",
            "Epoch 13/30\n",
            "441/441 [==============================] - 1s 2ms/step - loss: 109822696.0000\n",
            "Epoch 14/30\n",
            "441/441 [==============================] - 1s 2ms/step - loss: 109329144.0000\n",
            "Epoch 15/30\n",
            "441/441 [==============================] - 1s 2ms/step - loss: 108992128.0000\n",
            "Epoch 16/30\n",
            "441/441 [==============================] - 1s 2ms/step - loss: 108698560.0000\n",
            "Epoch 17/30\n",
            "441/441 [==============================] - 1s 2ms/step - loss: 108581800.0000\n",
            "Epoch 18/30\n",
            "441/441 [==============================] - 1s 2ms/step - loss: 108435912.0000\n",
            "Epoch 19/30\n",
            "441/441 [==============================] - 1s 2ms/step - loss: 108339880.0000\n",
            "Epoch 20/30\n",
            "441/441 [==============================] - 1s 2ms/step - loss: 108235816.0000\n",
            "Epoch 21/30\n",
            "441/441 [==============================] - 1s 2ms/step - loss: 108178552.0000\n",
            "Epoch 22/30\n",
            "441/441 [==============================] - 1s 2ms/step - loss: 108072352.0000\n",
            "Epoch 23/30\n",
            "441/441 [==============================] - 1s 2ms/step - loss: 108050544.0000\n",
            "Epoch 24/30\n",
            "441/441 [==============================] - 1s 2ms/step - loss: 108050280.0000\n",
            "Epoch 25/30\n",
            "441/441 [==============================] - 1s 2ms/step - loss: 107995136.0000\n",
            "Epoch 26/30\n",
            "441/441 [==============================] - 1s 2ms/step - loss: 107956520.0000\n",
            "Epoch 27/30\n",
            "441/441 [==============================] - 1s 2ms/step - loss: 107947664.0000\n",
            "Epoch 28/30\n",
            "441/441 [==============================] - 1s 2ms/step - loss: 107948296.0000\n",
            "Epoch 29/30\n",
            "441/441 [==============================] - 1s 2ms/step - loss: 107886288.0000\n",
            "Epoch 30/30\n",
            "441/441 [==============================] - 1s 2ms/step - loss: 107877800.0000\n",
            "49/49 [==============================] - 0s 1ms/step\n",
            "Epoch 1/30\n",
            "441/441 [==============================] - 1s 2ms/step - loss: 118251264.0000\n",
            "Epoch 2/30\n",
            "441/441 [==============================] - 1s 2ms/step - loss: 117987120.0000\n",
            "Epoch 3/30\n",
            "441/441 [==============================] - 1s 2ms/step - loss: 117841664.0000\n",
            "Epoch 4/30\n",
            "441/441 [==============================] - 1s 2ms/step - loss: 117540048.0000\n",
            "Epoch 5/30\n",
            "441/441 [==============================] - 1s 2ms/step - loss: 117034280.0000\n",
            "Epoch 6/30\n",
            "441/441 [==============================] - 1s 2ms/step - loss: 116554448.0000\n",
            "Epoch 7/30\n",
            "441/441 [==============================] - 1s 2ms/step - loss: 115894400.0000\n",
            "Epoch 8/30\n",
            "441/441 [==============================] - 1s 2ms/step - loss: 115155432.0000\n",
            "Epoch 9/30\n",
            "441/441 [==============================] - 1s 2ms/step - loss: 114355752.0000\n",
            "Epoch 10/30\n",
            "441/441 [==============================] - 1s 2ms/step - loss: 113506856.0000\n",
            "Epoch 11/30\n",
            "441/441 [==============================] - 1s 2ms/step - loss: 112753416.0000\n",
            "Epoch 12/30\n",
            "441/441 [==============================] - 1s 2ms/step - loss: 112079536.0000\n",
            "Epoch 13/30\n",
            "441/441 [==============================] - 1s 2ms/step - loss: 111547136.0000\n",
            "Epoch 14/30\n",
            "441/441 [==============================] - 1s 2ms/step - loss: 111012920.0000\n",
            "Epoch 15/30\n",
            "441/441 [==============================] - 1s 2ms/step - loss: 110628616.0000\n",
            "Epoch 16/30\n",
            "441/441 [==============================] - 1s 2ms/step - loss: 110345832.0000\n",
            "Epoch 17/30\n",
            "441/441 [==============================] - 1s 2ms/step - loss: 110101736.0000\n",
            "Epoch 18/30\n",
            "441/441 [==============================] - 1s 2ms/step - loss: 109961648.0000\n",
            "Epoch 19/30\n",
            "441/441 [==============================] - 1s 2ms/step - loss: 109826544.0000\n",
            "Epoch 20/30\n",
            "441/441 [==============================] - 1s 2ms/step - loss: 109686968.0000\n",
            "Epoch 21/30\n",
            "441/441 [==============================] - 1s 2ms/step - loss: 109656824.0000\n",
            "Epoch 22/30\n",
            "441/441 [==============================] - 1s 2ms/step - loss: 109548496.0000\n",
            "Epoch 23/30\n",
            "441/441 [==============================] - 1s 2ms/step - loss: 109518016.0000\n",
            "Epoch 24/30\n",
            "441/441 [==============================] - 1s 2ms/step - loss: 109400976.0000\n",
            "Epoch 25/30\n",
            "441/441 [==============================] - 1s 2ms/step - loss: 109477768.0000\n",
            "Epoch 26/30\n",
            "441/441 [==============================] - 1s 2ms/step - loss: 109410416.0000\n",
            "Epoch 27/30\n",
            "441/441 [==============================] - 1s 2ms/step - loss: 109387000.0000\n",
            "Epoch 28/30\n",
            "441/441 [==============================] - 1s 2ms/step - loss: 109358264.0000\n",
            "Epoch 29/30\n",
            "441/441 [==============================] - 1s 2ms/step - loss: 109360208.0000\n",
            "Epoch 30/30\n",
            "441/441 [==============================] - 1s 2ms/step - loss: 109280952.0000\n",
            "49/49 [==============================] - 0s 1ms/step\n",
            "Epoch 1/30\n",
            "441/441 [==============================] - 1s 2ms/step - loss: 121252560.0000\n",
            "Epoch 2/30\n",
            "441/441 [==============================] - 1s 2ms/step - loss: 118214944.0000\n",
            "Epoch 3/30\n",
            "441/441 [==============================] - 1s 2ms/step - loss: 118045696.0000\n",
            "Epoch 4/30\n",
            "441/441 [==============================] - 1s 2ms/step - loss: 117962112.0000\n",
            "Epoch 5/30\n",
            "441/441 [==============================] - 1s 2ms/step - loss: 117622024.0000\n",
            "Epoch 6/30\n",
            "441/441 [==============================] - 1s 2ms/step - loss: 117212936.0000\n",
            "Epoch 7/30\n",
            "441/441 [==============================] - 1s 2ms/step - loss: 116625624.0000\n",
            "Epoch 8/30\n",
            "441/441 [==============================] - 1s 2ms/step - loss: 115950840.0000\n",
            "Epoch 9/30\n",
            "441/441 [==============================] - 1s 2ms/step - loss: 115343832.0000\n",
            "Epoch 10/30\n",
            "441/441 [==============================] - 1s 2ms/step - loss: 114510024.0000\n",
            "Epoch 11/30\n",
            "441/441 [==============================] - 1s 2ms/step - loss: 113807616.0000\n",
            "Epoch 12/30\n",
            "441/441 [==============================] - 1s 2ms/step - loss: 113071472.0000\n",
            "Epoch 13/30\n",
            "441/441 [==============================] - 1s 2ms/step - loss: 112414432.0000\n",
            "Epoch 14/30\n",
            "441/441 [==============================] - 1s 2ms/step - loss: 111927888.0000\n",
            "Epoch 15/30\n",
            "441/441 [==============================] - 1s 2ms/step - loss: 111497096.0000\n",
            "Epoch 16/30\n",
            "441/441 [==============================] - 1s 2ms/step - loss: 111015688.0000\n",
            "Epoch 17/30\n",
            "441/441 [==============================] - 1s 2ms/step - loss: 110714680.0000\n",
            "Epoch 18/30\n",
            "441/441 [==============================] - 1s 2ms/step - loss: 110470560.0000\n",
            "Epoch 19/30\n",
            "441/441 [==============================] - 1s 2ms/step - loss: 110286512.0000\n",
            "Epoch 20/30\n",
            "441/441 [==============================] - 1s 2ms/step - loss: 110103984.0000\n",
            "Epoch 21/30\n",
            "441/441 [==============================] - 1s 2ms/step - loss: 109983064.0000\n",
            "Epoch 22/30\n",
            "441/441 [==============================] - 1s 2ms/step - loss: 109908392.0000\n",
            "Epoch 23/30\n",
            "441/441 [==============================] - 1s 2ms/step - loss: 109832328.0000\n",
            "Epoch 24/30\n",
            "441/441 [==============================] - 1s 2ms/step - loss: 109742504.0000\n",
            "Epoch 25/30\n",
            "441/441 [==============================] - 1s 2ms/step - loss: 109681824.0000\n",
            "Epoch 26/30\n",
            "441/441 [==============================] - 1s 2ms/step - loss: 109664792.0000\n",
            "Epoch 27/30\n",
            "441/441 [==============================] - 1s 2ms/step - loss: 109585624.0000\n",
            "Epoch 28/30\n",
            "441/441 [==============================] - 1s 2ms/step - loss: 109612736.0000\n",
            "Epoch 29/30\n",
            "441/441 [==============================] - 1s 2ms/step - loss: 109543864.0000\n",
            "Epoch 30/30\n",
            "441/441 [==============================] - 1s 2ms/step - loss: 109505960.0000\n",
            "49/49 [==============================] - 0s 2ms/step\n",
            "Epoch 1/30\n",
            "441/441 [==============================] - 1s 2ms/step - loss: 97599456.0000\n",
            "Epoch 2/30\n",
            "441/441 [==============================] - 1s 2ms/step - loss: 96676280.0000\n",
            "Epoch 3/30\n",
            "441/441 [==============================] - 1s 2ms/step - loss: 96535968.0000\n",
            "Epoch 4/30\n",
            "441/441 [==============================] - 1s 2ms/step - loss: 96248568.0000\n",
            "Epoch 5/30\n",
            "441/441 [==============================] - 1s 2ms/step - loss: 95760432.0000\n",
            "Epoch 6/30\n",
            "441/441 [==============================] - 1s 2ms/step - loss: 95221976.0000\n",
            "Epoch 7/30\n",
            "441/441 [==============================] - 1s 2ms/step - loss: 94422400.0000\n",
            "Epoch 8/30\n",
            "441/441 [==============================] - 1s 2ms/step - loss: 93534336.0000\n",
            "Epoch 9/30\n",
            "441/441 [==============================] - 1s 2ms/step - loss: 92616176.0000\n",
            "Epoch 10/30\n",
            "441/441 [==============================] - 1s 2ms/step - loss: 91650616.0000\n",
            "Epoch 11/30\n",
            "441/441 [==============================] - 1s 2ms/step - loss: 90803352.0000\n",
            "Epoch 12/30\n",
            "441/441 [==============================] - 1s 2ms/step - loss: 90231024.0000\n",
            "Epoch 13/30\n",
            "441/441 [==============================] - 1s 2ms/step - loss: 89713656.0000\n",
            "Epoch 14/30\n",
            "441/441 [==============================] - 1s 2ms/step - loss: 89396512.0000\n",
            "Epoch 15/30\n",
            "441/441 [==============================] - 1s 2ms/step - loss: 89146312.0000\n",
            "Epoch 16/30\n",
            "441/441 [==============================] - 1s 2ms/step - loss: 88994232.0000\n",
            "Epoch 17/30\n",
            "441/441 [==============================] - 1s 2ms/step - loss: 88901944.0000\n",
            "Epoch 18/30\n",
            "441/441 [==============================] - 2s 5ms/step - loss: 88823584.0000\n",
            "Epoch 19/30\n",
            "441/441 [==============================] - 2s 5ms/step - loss: 88764072.0000\n",
            "Epoch 20/30\n",
            "441/441 [==============================] - 2s 5ms/step - loss: 88698416.0000\n",
            "Epoch 21/30\n",
            "441/441 [==============================] - 2s 5ms/step - loss: 88692912.0000\n",
            "Epoch 22/30\n",
            "441/441 [==============================] - 1s 3ms/step - loss: 88627424.0000\n",
            "Epoch 23/30\n",
            "441/441 [==============================] - 1s 2ms/step - loss: 88549656.0000\n",
            "Epoch 24/30\n",
            "441/441 [==============================] - 1s 2ms/step - loss: 88667000.0000\n",
            "Epoch 25/30\n",
            "441/441 [==============================] - 1s 2ms/step - loss: 88648208.0000\n",
            "Epoch 26/30\n",
            "441/441 [==============================] - 1s 2ms/step - loss: 88557552.0000\n",
            "Epoch 27/30\n",
            "441/441 [==============================] - 1s 2ms/step - loss: 88585880.0000\n",
            "Epoch 28/30\n",
            "441/441 [==============================] - 1s 2ms/step - loss: 88599056.0000\n",
            "Epoch 29/30\n",
            "441/441 [==============================] - 1s 2ms/step - loss: 88553544.0000\n",
            "Epoch 30/30\n",
            "441/441 [==============================] - 1s 2ms/step - loss: 88538296.0000\n",
            "49/49 [==============================] - 0s 2ms/step\n",
            "Epoch 1/30\n",
            "441/441 [==============================] - 2s 2ms/step - loss: 115674624.0000\n",
            "Epoch 2/30\n",
            "441/441 [==============================] - 1s 2ms/step - loss: 114606752.0000\n",
            "Epoch 3/30\n",
            "441/441 [==============================] - 1s 2ms/step - loss: 114453744.0000\n",
            "Epoch 4/30\n",
            "441/441 [==============================] - 1s 2ms/step - loss: 114190784.0000\n",
            "Epoch 5/30\n",
            "441/441 [==============================] - 1s 2ms/step - loss: 113818264.0000\n",
            "Epoch 6/30\n",
            "441/441 [==============================] - 1s 2ms/step - loss: 113339536.0000\n",
            "Epoch 7/30\n",
            "441/441 [==============================] - 1s 2ms/step - loss: 112708152.0000\n",
            "Epoch 8/30\n",
            "441/441 [==============================] - 1s 2ms/step - loss: 111965864.0000\n",
            "Epoch 9/30\n",
            "441/441 [==============================] - 1s 2ms/step - loss: 111254200.0000\n",
            "Epoch 10/30\n",
            "441/441 [==============================] - 1s 2ms/step - loss: 110522048.0000\n",
            "Epoch 11/30\n",
            "441/441 [==============================] - 1s 2ms/step - loss: 109813568.0000\n",
            "Epoch 12/30\n",
            "441/441 [==============================] - 1s 2ms/step - loss: 109102024.0000\n",
            "Epoch 13/30\n",
            "441/441 [==============================] - 1s 2ms/step - loss: 108529824.0000\n",
            "Epoch 14/30\n",
            "441/441 [==============================] - 1s 2ms/step - loss: 108096176.0000\n",
            "Epoch 15/30\n",
            "441/441 [==============================] - 1s 2ms/step - loss: 107723368.0000\n",
            "Epoch 16/30\n",
            "441/441 [==============================] - 1s 2ms/step - loss: 107397448.0000\n",
            "Epoch 17/30\n",
            "441/441 [==============================] - 1s 2ms/step - loss: 107159920.0000\n",
            "Epoch 18/30\n",
            "441/441 [==============================] - 1s 2ms/step - loss: 106953840.0000\n",
            "Epoch 19/30\n",
            "441/441 [==============================] - 1s 2ms/step - loss: 106836296.0000\n",
            "Epoch 20/30\n",
            "441/441 [==============================] - 1s 2ms/step - loss: 106635352.0000\n",
            "Epoch 21/30\n",
            "441/441 [==============================] - 1s 2ms/step - loss: 106656792.0000\n",
            "Epoch 22/30\n",
            "441/441 [==============================] - 1s 2ms/step - loss: 106582040.0000\n",
            "Epoch 23/30\n",
            "441/441 [==============================] - 1s 2ms/step - loss: 106551648.0000\n",
            "Epoch 24/30\n",
            "441/441 [==============================] - 1s 2ms/step - loss: 106473464.0000\n",
            "Epoch 25/30\n",
            "441/441 [==============================] - 1s 2ms/step - loss: 106463776.0000\n",
            "Epoch 26/30\n",
            "441/441 [==============================] - 1s 2ms/step - loss: 106419664.0000\n",
            "Epoch 27/30\n",
            "441/441 [==============================] - 1s 2ms/step - loss: 106410512.0000\n",
            "Epoch 28/30\n",
            "441/441 [==============================] - 1s 2ms/step - loss: 106383912.0000\n",
            "Epoch 29/30\n",
            "441/441 [==============================] - 1s 2ms/step - loss: 106348880.0000\n",
            "Epoch 30/30\n",
            "441/441 [==============================] - 1s 2ms/step - loss: 106313104.0000\n",
            "49/49 [==============================] - 0s 1ms/step\n",
            "Epoch 1/30\n",
            "441/441 [==============================] - 1s 2ms/step - loss: 118557288.0000\n",
            "Epoch 2/30\n",
            "441/441 [==============================] - 1s 2ms/step - loss: 118000128.0000\n",
            "Epoch 3/30\n",
            "441/441 [==============================] - 1s 2ms/step - loss: 117931592.0000\n",
            "Epoch 4/30\n",
            "441/441 [==============================] - 1s 2ms/step - loss: 117762960.0000\n",
            "Epoch 5/30\n",
            "441/441 [==============================] - 1s 2ms/step - loss: 117471080.0000\n",
            "Epoch 6/30\n",
            "441/441 [==============================] - 1s 2ms/step - loss: 117072344.0000\n",
            "Epoch 7/30\n",
            "441/441 [==============================] - 1s 2ms/step - loss: 116541304.0000\n",
            "Epoch 8/30\n",
            "441/441 [==============================] - 1s 2ms/step - loss: 115887392.0000\n",
            "Epoch 9/30\n",
            "441/441 [==============================] - 1s 2ms/step - loss: 115229680.0000\n",
            "Epoch 10/30\n",
            "441/441 [==============================] - 1s 2ms/step - loss: 114466448.0000\n",
            "Epoch 11/30\n",
            "441/441 [==============================] - 1s 2ms/step - loss: 113709640.0000\n",
            "Epoch 12/30\n",
            "441/441 [==============================] - 1s 2ms/step - loss: 112982464.0000\n",
            "Epoch 13/30\n",
            "441/441 [==============================] - 1s 2ms/step - loss: 112305120.0000\n",
            "Epoch 14/30\n",
            "441/441 [==============================] - 1s 2ms/step - loss: 111758480.0000\n",
            "Epoch 15/30\n",
            "441/441 [==============================] - 1s 2ms/step - loss: 111332888.0000\n",
            "Epoch 16/30\n",
            "441/441 [==============================] - 1s 2ms/step - loss: 110904504.0000\n",
            "Epoch 17/30\n",
            "441/441 [==============================] - 1s 2ms/step - loss: 110638784.0000\n",
            "Epoch 18/30\n",
            "441/441 [==============================] - 1s 2ms/step - loss: 110289072.0000\n",
            "Epoch 19/30\n",
            "441/441 [==============================] - 1s 2ms/step - loss: 110037728.0000\n",
            "Epoch 20/30\n",
            "441/441 [==============================] - 1s 2ms/step - loss: 109935088.0000\n",
            "Epoch 21/30\n",
            "441/441 [==============================] - 1s 2ms/step - loss: 109773128.0000\n",
            "Epoch 22/30\n",
            "441/441 [==============================] - 1s 2ms/step - loss: 109725024.0000\n",
            "Epoch 23/30\n",
            "441/441 [==============================] - 1s 2ms/step - loss: 109677496.0000\n",
            "Epoch 24/30\n",
            "441/441 [==============================] - 1s 2ms/step - loss: 109609160.0000\n",
            "Epoch 25/30\n",
            "441/441 [==============================] - 1s 2ms/step - loss: 109547000.0000\n",
            "Epoch 26/30\n",
            "441/441 [==============================] - 1s 2ms/step - loss: 109531848.0000\n",
            "Epoch 27/30\n",
            "441/441 [==============================] - 1s 2ms/step - loss: 109474808.0000\n",
            "Epoch 28/30\n",
            "441/441 [==============================] - 1s 2ms/step - loss: 109457472.0000\n",
            "Epoch 29/30\n",
            "441/441 [==============================] - 1s 2ms/step - loss: 109415704.0000\n",
            "Epoch 30/30\n",
            "441/441 [==============================] - 1s 2ms/step - loss: 109408400.0000\n",
            "49/49 [==============================] - 0s 2ms/step\n",
            "Epoch 1/30\n",
            "441/441 [==============================] - 1s 2ms/step - loss: 124571640.0000\n",
            "Epoch 2/30\n",
            "441/441 [==============================] - 1s 2ms/step - loss: 118894368.0000\n",
            "Epoch 3/30\n",
            "441/441 [==============================] - 1s 2ms/step - loss: 118867912.0000\n",
            "Epoch 4/30\n",
            "441/441 [==============================] - 1s 2ms/step - loss: 118752264.0000\n",
            "Epoch 5/30\n",
            "441/441 [==============================] - 1s 2ms/step - loss: 118592712.0000\n",
            "Epoch 6/30\n",
            "441/441 [==============================] - 1s 2ms/step - loss: 118340760.0000\n",
            "Epoch 7/30\n",
            "441/441 [==============================] - 1s 2ms/step - loss: 118050016.0000\n",
            "Epoch 8/30\n",
            "441/441 [==============================] - 1s 2ms/step - loss: 117756160.0000\n",
            "Epoch 9/30\n",
            "441/441 [==============================] - 1s 2ms/step - loss: 117352808.0000\n",
            "Epoch 10/30\n",
            "441/441 [==============================] - 1s 2ms/step - loss: 116899568.0000\n",
            "Epoch 11/30\n",
            "441/441 [==============================] - 1s 2ms/step - loss: 116410688.0000\n",
            "Epoch 12/30\n",
            "441/441 [==============================] - 1s 2ms/step - loss: 115852192.0000\n",
            "Epoch 13/30\n",
            "441/441 [==============================] - 1s 2ms/step - loss: 115240816.0000\n",
            "Epoch 14/30\n",
            "441/441 [==============================] - 1s 2ms/step - loss: 114682528.0000\n",
            "Epoch 15/30\n",
            "441/441 [==============================] - 1s 2ms/step - loss: 114133400.0000\n",
            "Epoch 16/30\n",
            "441/441 [==============================] - 1s 2ms/step - loss: 113516360.0000\n",
            "Epoch 17/30\n",
            "441/441 [==============================] - 1s 2ms/step - loss: 113106688.0000\n",
            "Epoch 18/30\n",
            "441/441 [==============================] - 1s 2ms/step - loss: 112605152.0000\n",
            "Epoch 19/30\n",
            "441/441 [==============================] - 1s 2ms/step - loss: 112185400.0000\n",
            "Epoch 20/30\n",
            "441/441 [==============================] - 1s 2ms/step - loss: 111859128.0000\n",
            "Epoch 21/30\n",
            "441/441 [==============================] - 1s 2ms/step - loss: 111515600.0000\n",
            "Epoch 22/30\n",
            "441/441 [==============================] - 1s 2ms/step - loss: 111294712.0000\n",
            "Epoch 23/30\n",
            "441/441 [==============================] - 1s 2ms/step - loss: 111039352.0000\n",
            "Epoch 24/30\n",
            "441/441 [==============================] - 2s 4ms/step - loss: 110894152.0000\n",
            "Epoch 25/30\n",
            "441/441 [==============================] - 1s 2ms/step - loss: 110777928.0000\n",
            "Epoch 26/30\n",
            "441/441 [==============================] - 1s 2ms/step - loss: 110659368.0000\n",
            "Epoch 27/30\n",
            "441/441 [==============================] - 1s 2ms/step - loss: 110553376.0000\n",
            "Epoch 28/30\n",
            "441/441 [==============================] - 1s 2ms/step - loss: 110473768.0000\n",
            "Epoch 29/30\n",
            "441/441 [==============================] - 1s 2ms/step - loss: 110430944.0000\n",
            "Epoch 30/30\n",
            "441/441 [==============================] - 1s 2ms/step - loss: 110300848.0000\n",
            "49/49 [==============================] - 0s 2ms/step\n",
            "Epoch 1/30\n",
            "441/441 [==============================] - 3s 5ms/step - loss: 117405144.0000\n",
            "Epoch 2/30\n",
            "441/441 [==============================] - 1s 2ms/step - loss: 117290288.0000\n",
            "Epoch 3/30\n",
            "441/441 [==============================] - 2s 4ms/step - loss: 117161112.0000\n",
            "Epoch 4/30\n",
            "441/441 [==============================] - 2s 4ms/step - loss: 116947184.0000\n",
            "Epoch 5/30\n",
            "441/441 [==============================] - 1s 2ms/step - loss: 116569616.0000\n",
            "Epoch 6/30\n",
            "441/441 [==============================] - 1s 2ms/step - loss: 116031888.0000\n",
            "Epoch 7/30\n",
            "441/441 [==============================] - 1s 2ms/step - loss: 115347696.0000\n",
            "Epoch 8/30\n",
            "441/441 [==============================] - 1s 2ms/step - loss: 114516592.0000\n",
            "Epoch 9/30\n",
            "441/441 [==============================] - 1s 2ms/step - loss: 113720632.0000\n",
            "Epoch 10/30\n",
            "441/441 [==============================] - 1s 2ms/step - loss: 112885104.0000\n",
            "Epoch 11/30\n",
            "441/441 [==============================] - 1s 2ms/step - loss: 112120056.0000\n",
            "Epoch 12/30\n",
            "441/441 [==============================] - 1s 2ms/step - loss: 111417664.0000\n",
            "Epoch 13/30\n",
            "441/441 [==============================] - 1s 2ms/step - loss: 110816104.0000\n",
            "Epoch 14/30\n",
            "441/441 [==============================] - 1s 2ms/step - loss: 110331976.0000\n",
            "Epoch 15/30\n",
            "441/441 [==============================] - 1s 2ms/step - loss: 109966800.0000\n",
            "Epoch 16/30\n",
            "441/441 [==============================] - 1s 2ms/step - loss: 109656952.0000\n",
            "Epoch 17/30\n",
            "441/441 [==============================] - 1s 2ms/step - loss: 109477528.0000\n",
            "Epoch 18/30\n",
            "441/441 [==============================] - 1s 2ms/step - loss: 109306664.0000\n",
            "Epoch 19/30\n",
            "441/441 [==============================] - 1s 2ms/step - loss: 109176208.0000\n",
            "Epoch 20/30\n",
            "441/441 [==============================] - 1s 2ms/step - loss: 109111352.0000\n",
            "Epoch 21/30\n",
            "441/441 [==============================] - 1s 2ms/step - loss: 109034200.0000\n",
            "Epoch 22/30\n",
            "441/441 [==============================] - 1s 2ms/step - loss: 108996664.0000\n",
            "Epoch 23/30\n",
            "441/441 [==============================] - 2s 3ms/step - loss: 108953000.0000\n",
            "Epoch 24/30\n",
            "441/441 [==============================] - 2s 4ms/step - loss: 108925600.0000\n",
            "Epoch 25/30\n",
            "441/441 [==============================] - 2s 4ms/step - loss: 108867792.0000\n",
            "Epoch 26/30\n",
            "441/441 [==============================] - 1s 2ms/step - loss: 108876552.0000\n",
            "Epoch 27/30\n",
            "441/441 [==============================] - 1s 2ms/step - loss: 108829224.0000\n",
            "Epoch 28/30\n",
            "441/441 [==============================] - 1s 2ms/step - loss: 108803672.0000\n",
            "Epoch 29/30\n",
            "441/441 [==============================] - 1s 2ms/step - loss: 108804416.0000\n",
            "Epoch 30/30\n",
            "441/441 [==============================] - 1s 2ms/step - loss: 108784864.0000\n",
            "49/49 [==============================] - 0s 3ms/step\n",
            "Epoch 1/30\n",
            "490/490 [==============================] - 1s 2ms/step - loss: 125670680.0000\n",
            "Epoch 2/30\n",
            "490/490 [==============================] - 1s 2ms/step - loss: 110137944.0000\n",
            "Epoch 3/30\n",
            "490/490 [==============================] - 1s 3ms/step - loss: 109922856.0000\n",
            "Epoch 4/30\n",
            "490/490 [==============================] - 2s 3ms/step - loss: 109620672.0000\n",
            "Epoch 5/30\n",
            "490/490 [==============================] - 2s 3ms/step - loss: 109134672.0000\n",
            "Epoch 6/30\n",
            "490/490 [==============================] - 2s 4ms/step - loss: 108546624.0000\n",
            "Epoch 7/30\n",
            "490/490 [==============================] - 1s 2ms/step - loss: 107813128.0000\n",
            "Epoch 8/30\n",
            "490/490 [==============================] - 1s 2ms/step - loss: 106953096.0000\n",
            "Epoch 9/30\n",
            "490/490 [==============================] - 1s 2ms/step - loss: 106171424.0000\n",
            "Epoch 10/30\n",
            "490/490 [==============================] - 1s 2ms/step - loss: 105314160.0000\n",
            "Epoch 11/30\n",
            "490/490 [==============================] - 1s 2ms/step - loss: 104603184.0000\n",
            "Epoch 12/30\n",
            "490/490 [==============================] - 1s 2ms/step - loss: 104035896.0000\n",
            "Epoch 13/30\n",
            "490/490 [==============================] - 1s 2ms/step - loss: 103587720.0000\n",
            "Epoch 14/30\n",
            "490/490 [==============================] - 1s 2ms/step - loss: 103112088.0000\n",
            "Epoch 15/30\n",
            "490/490 [==============================] - 1s 2ms/step - loss: 102727880.0000\n",
            "Epoch 16/30\n",
            "490/490 [==============================] - 1s 2ms/step - loss: 102445072.0000\n",
            "Epoch 17/30\n",
            "490/490 [==============================] - 1s 2ms/step - loss: 102257176.0000\n",
            "Epoch 18/30\n",
            "490/490 [==============================] - 1s 2ms/step - loss: 102114280.0000\n",
            "Epoch 19/30\n",
            "490/490 [==============================] - 1s 2ms/step - loss: 102000920.0000\n",
            "Epoch 20/30\n",
            "490/490 [==============================] - 1s 2ms/step - loss: 101903496.0000\n",
            "Epoch 21/30\n",
            "490/490 [==============================] - 1s 2ms/step - loss: 101791584.0000\n",
            "Epoch 22/30\n",
            "490/490 [==============================] - 1s 2ms/step - loss: 101811672.0000\n",
            "Epoch 23/30\n",
            "490/490 [==============================] - 1s 2ms/step - loss: 101731280.0000\n",
            "Epoch 24/30\n",
            "490/490 [==============================] - 1s 2ms/step - loss: 101653384.0000\n",
            "Epoch 25/30\n",
            "490/490 [==============================] - 1s 2ms/step - loss: 101732440.0000\n",
            "Epoch 26/30\n",
            "490/490 [==============================] - 1s 2ms/step - loss: 101683840.0000\n",
            "Epoch 27/30\n",
            "490/490 [==============================] - 1s 2ms/step - loss: 101523248.0000\n",
            "Epoch 28/30\n",
            "490/490 [==============================] - 1s 2ms/step - loss: 101704008.0000\n",
            "Epoch 29/30\n",
            "490/490 [==============================] - 1s 2ms/step - loss: 101619536.0000\n",
            "Epoch 30/30\n",
            "490/490 [==============================] - 1s 2ms/step - loss: 101614760.0000\n"
          ]
        },
        {
          "output_type": "execute_result",
          "data": {
            "text/plain": [
              "{'epochs': 30}"
            ]
          },
          "metadata": {},
          "execution_count": 27
        }
      ]
    },
    {
      "cell_type": "code",
      "source": [
        "# final neural network on train/test\n",
        "nn = Sequential()\n",
        "# input layer and first hidden layer\n",
        "nn.add(Dense(50, kernel_initializer = 'he_uniform', activation='relu', input_dim = number_of_features))\n",
        "# other hidden layers\n",
        "nn.add(Dense(25, kernel_initializer = 'he_uniform', activation='relu'))\n",
        "# no need for activation funs in output layer: we have a regression problem.\n",
        "nn.add(Dense(1, kernel_initializer = 'he_uniform'))\n",
        "\n",
        "nn.compile(loss=mean_squared_error, optimizer='Adamax')\n",
        "model_history = nn.fit(X_train, y_train, epochs=20)\n",
        "scores = nn.evaluate(X_test, y_test, verbose=0)\n",
        "print(scores)"
      ],
      "metadata": {
        "id": "Cx_xp_nWpor0",
        "colab": {
          "base_uri": "https://localhost:8080/"
        },
        "outputId": "9586be9f-e9f9-49cc-fa91-371608cc1e09"
      },
      "execution_count": null,
      "outputs": [
        {
          "output_type": "stream",
          "name": "stdout",
          "text": [
            "Epoch 1/20\n",
            "490/490 [==============================] - 1s 2ms/step - loss: 115982560.0000\n",
            "Epoch 2/20\n",
            "490/490 [==============================] - 1s 2ms/step - loss: 110126568.0000\n",
            "Epoch 3/20\n",
            "490/490 [==============================] - 1s 2ms/step - loss: 109933656.0000\n",
            "Epoch 4/20\n",
            "490/490 [==============================] - 1s 2ms/step - loss: 109553808.0000\n",
            "Epoch 5/20\n",
            "490/490 [==============================] - 1s 2ms/step - loss: 109147352.0000\n",
            "Epoch 6/20\n",
            "490/490 [==============================] - 1s 2ms/step - loss: 108628776.0000\n",
            "Epoch 7/20\n",
            "490/490 [==============================] - 1s 2ms/step - loss: 107935496.0000\n",
            "Epoch 8/20\n",
            "490/490 [==============================] - 1s 2ms/step - loss: 107065040.0000\n",
            "Epoch 9/20\n",
            "490/490 [==============================] - 1s 2ms/step - loss: 106186032.0000\n",
            "Epoch 10/20\n",
            "490/490 [==============================] - 1s 2ms/step - loss: 105392024.0000\n",
            "Epoch 11/20\n",
            "490/490 [==============================] - 1s 2ms/step - loss: 104661368.0000\n",
            "Epoch 12/20\n",
            "490/490 [==============================] - 1s 2ms/step - loss: 103965848.0000\n",
            "Epoch 13/20\n",
            "490/490 [==============================] - 1s 2ms/step - loss: 103435888.0000\n",
            "Epoch 14/20\n",
            "490/490 [==============================] - 1s 2ms/step - loss: 102923072.0000\n",
            "Epoch 15/20\n",
            "490/490 [==============================] - 1s 2ms/step - loss: 102701312.0000\n",
            "Epoch 16/20\n",
            "490/490 [==============================] - 1s 2ms/step - loss: 102426480.0000\n",
            "Epoch 17/20\n",
            "490/490 [==============================] - 1s 2ms/step - loss: 102246528.0000\n",
            "Epoch 18/20\n",
            "490/490 [==============================] - 1s 2ms/step - loss: 102118264.0000\n",
            "Epoch 19/20\n",
            "490/490 [==============================] - 1s 2ms/step - loss: 102038896.0000\n",
            "Epoch 20/20\n",
            "490/490 [==============================] - 1s 2ms/step - loss: 101961728.0000\n",
            "52145520.0\n"
          ]
        }
      ]
    },
    {
      "cell_type": "markdown",
      "source": [
        "# Final Model Performance"
      ],
      "metadata": {
        "id": "oXhkKAA5kL_e"
      }
    },
    {
      "cell_type": "markdown",
      "source": [
        "After checking the results of our models we create a subset of the 20 most relevant attributes to train again our model and check again the performance.\n",
        "Ultimately we generated a scatterplot using the most relevant feature named 'kw_avg_avg' and comparing the shares expected with the shares predicted."
      ],
      "metadata": {
        "id": "mXdy4uwKe0Rt"
      }
    },
    {
      "cell_type": "code",
      "source": [
        "# Mean-Squared-Error (MSE) on test set with random_state=42:\n",
        "# - Linear Regression model: 52184659.45909838\n",
        "# - Polynomial regression model: 88915310.01345773\n",
        "# - Feed-Forward Neural Network model: 52145520.0\n",
        "#\n",
        "# Therefore the models with lower MSE are Linear Regression and Feed-Forward Neural Network"
      ],
      "metadata": {
        "id": "wcZiGmsKqBvZ"
      },
      "execution_count": null,
      "outputs": []
    },
    {
      "cell_type": "code",
      "source": [
        "# select a subset of the attributes retaining only the most relevant. \n",
        "# Train again your best model and compare the performances.\n",
        "\n",
        "\n",
        "from sklearn.feature_selection import f_regression\n",
        "\n",
        "X = df_cleaned.iloc[:, :-1]  # tutte le colonne tranne l'ultima\n",
        "# Seleziona la colonna da utilizzare come output\n",
        "y = df_cleaned.iloc[:, -1]  # ultima colonna\n",
        "\n",
        "X_train, X_test, y_train, y_test = train_test_split(X, y, test_size=0.25)\n",
        "\n",
        "# assigning f and p values to 2 separate arrays\n",
        "f_val, p_val = f_regression(X_train,y_train)\n",
        "\n",
        "# creating a dictionary from the arrays\n",
        "feature_dict={'features':X_train.columns.tolist(),\n",
        "              'f_scores':f_val.tolist()}\n",
        "\n",
        "# creating a sorted dataframe from the dictionary\n",
        "feature_df = pd.DataFrame(feature_dict).sort_values(by='f_scores', ascending=False).reset_index(drop=True)\n",
        "\n",
        "# printing 20 features with the highest scores\n",
        "most_significant_features = feature_df.iloc[:20,:]['features'].tolist() + ['shares']\n",
        "print(most_significant_features)"
      ],
      "metadata": {
        "id": "Rj3A5X05qEIy"
      },
      "execution_count": null,
      "outputs": []
    },
    {
      "cell_type": "code",
      "source": [
        "# Train again your model and check performance\n",
        "new_df = df_cleaned[most_significant_features]\n",
        "X = new_df.iloc[:, :-1]  # tutte le colonne tranne l'ultima\n",
        "y = new_df.iloc[:, -1]  # ultima colonna\n",
        "\n",
        "X_train, X_test, y_train, y_test = train_test_split(X, y, test_size=0.25)\n",
        "print(\"X_train:\", X_train.shape)\n",
        "print(\"X_test:\", X_test.shape)\n",
        "print(\"y_train:\", y_train.shape)\n",
        "print(\"y_test:\", y_test.shape)\n",
        "\n",
        "linear_regressor = LinearRegression(fit_intercept=params['fit_intercept'], positive=params['positive'])\n",
        "linear_regressor.fit(X_train, y_train)\n",
        "results = evaluate_model(linear_regressor, X_test, y_test)\n",
        "print(f\"Linear Regression MSE with top 20 feature: {results}\")"
      ],
      "metadata": {
        "colab": {
          "base_uri": "https://localhost:8080/"
        },
        "id": "OChc_pYtwaS-",
        "outputId": "10e4490e-dad1-43ac-c0e8-8137d675b4b2"
      },
      "execution_count": null,
      "outputs": [
        {
          "output_type": "stream",
          "name": "stdout",
          "text": [
            "X_train: (15656, 20)\n",
            "X_test: (5219, 20)\n",
            "y_train: (15656,)\n",
            "y_test: (5219,)\n",
            "Linear Regression MSE with top 20 feature: 222559148.98206106\n"
          ]
        }
      ]
    },
    {
      "cell_type": "code",
      "source": [
        "# visualizing single feature effect on prediction of shares\n",
        "X_train, X_test, y_train, y_test = train_test_split(X, y, test_size=0.25)\n",
        "print(\"X_train:\", X_train.shape)\n",
        "print(\"X_test:\", X_test.shape)\n",
        "print(\"y_train:\", y_train.shape)\n",
        "print(\"y_test:\", y_test.shape)\n",
        "\n",
        "linear_regressor = LinearRegression(fit_intercept='false', positive='false')\n",
        "linear_regressor.fit(X_train, y_train)\n",
        "\n",
        "feature = 'kw_avg_avg'\n",
        "\n",
        "feature_values = list(X_test[feature])\n",
        "shares_expected = list(y_test)\n",
        "shares_predicted = list(linear_regressor.predict(X_test))\n",
        "\n",
        "print(len(feature_values))\n",
        "print(len(shares_predicted))\n",
        "\n",
        "plt.scatter(feature_values, shares_expected, color = 'red')\n",
        "plt.plot(feature_values, shares_predicted, color = 'blue')\n",
        "plt.show()"
      ],
      "metadata": {
        "colab": {
          "base_uri": "https://localhost:8080/",
          "height": 369
        },
        "id": "4RjavUCZ8Q6-",
        "outputId": "f7f8c34a-7151-48c9-932e-9f7c65eacc2a"
      },
      "execution_count": null,
      "outputs": [
        {
          "output_type": "stream",
          "name": "stdout",
          "text": [
            "X_train: (15656, 20)\n",
            "X_test: (5219, 20)\n",
            "y_train: (15656,)\n",
            "y_test: (5219,)\n",
            "5219\n",
            "5219\n"
          ]
        },
        {
          "output_type": "display_data",
          "data": {
            "text/plain": [
              "<Figure size 432x288 with 1 Axes>"
            ],
            "image/png": "[encoded data removed]"
          },
          "metadata": {
            "needs_background": "light"
          }
        }
      ]
    }
  ]
}